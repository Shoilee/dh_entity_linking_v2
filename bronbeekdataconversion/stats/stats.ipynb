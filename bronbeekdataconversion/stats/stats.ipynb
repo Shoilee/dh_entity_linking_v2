{
 "cells": [
  {
   "cell_type": "markdown",
   "metadata": {},
   "source": [
    "## NMVW"
   ]
  },
  {
   "cell_type": "markdown",
   "metadata": {},
   "source": [
    "#### Generate [object_per_actor_nmvw.csv](object_per_actor_nmvw.csv)\n",
    "\n",
    "```\n",
    "PREFIX owl: <http://www.w3.org/2002/07/owl#>\n",
    "PREFIX crm: <http://www.cidoc-crm.org/cidoc-crm/>\n",
    "PREFIX skos: <http://www.w3.org/2004/02/skos/core#>\n",
    "\n",
    "SELECT (COUNT(DISTINCT ?nmvw_object) AS ?no_object) ?nmvw_actor\n",
    "WHERE{\n",
    "  GRAPH <https://pressingmatter.nl/NMVW/ccrdfobj.ttl>{\n",
    "  {?nmvw_acq crm:P24_transferred_title_of ?nmvw_object .\n",
    "   ?nmvw_acq crm:P23_transferred_title_from ?nmvw_actor .}\n",
    "  UNION\n",
    "  {\n",
    "    ?nmvw_prod crm:P14_carried_out_by ?nmvw_actor .\n",
    "    ?nmvw_object crm:P108i_was_produced_by ?nmvw_prod .\n",
    "  }\n",
    "  ?nmvw_object a crm:E22_Human-Made_Object .\n",
    "  }\n",
    "}GROUP BY ?nmvw_actor\n",
    "```"
   ]
  },
  {
   "cell_type": "code",
   "execution_count": null,
   "metadata": {},
   "outputs": [],
   "source": [
    "def cleanup(x: str):\n",
    "    return int(str(x).replace('\"', '').strip())\n",
    "\n",
    "import pandas as pd\n",
    "import math\n",
    "\n",
    "df_nmvw = pd.read_csv(\"object_per_actor_nmvw.csv\")\n",
    "df_nmvw = df_nmvw.iloc[: , :-1]\n",
    "df_nmvw.columns = ['no_object', 'nmvw_actor']\n",
    "df_nmvw = df_nmvw.map(lambda x: x.replace('\"', '').strip() if isinstance(x, str) else x)\n",
    "df_nmvw['no_object'] = df_nmvw['no_object'].apply(cleanup)\n",
    "\n",
    "# take out unkonw or onbekend\n",
    "df_nmvw = df_nmvw[df_nmvw['nmvw_actor']!=\"https://hdl.handle.net/20.500.11840/pi4332\"]\n",
    "\n",
    "df_nmvw = df_nmvw.sort_values(['no_object'], ascending=False).reset_index()\n",
    "df_nmvw = df_nmvw.drop('index', axis=1)"
   ]
  },
  {
   "cell_type": "markdown",
   "metadata": {},
   "source": [
    "#### Description\n",
    "- 4487 has exactly 1 object\n",
    "- 4141 actor have object in between 2 to 10\n",
    "- 2556 actor have object in between 11 to 100\n",
    "- 682 actor have object in between 101 to 1000\n",
    "- 88 actor has object more than a 1000"
   ]
  },
  {
   "cell_type": "code",
   "execution_count": null,
   "metadata": {},
   "outputs": [],
   "source": [
    "print(df_nmvw['no_object'].describe())"
   ]
  },
  {
   "cell_type": "code",
   "execution_count": null,
   "metadata": {},
   "outputs": [],
   "source": [
    "# take out the actors above 1000 objects\n",
    "dfdf_nmvw =df_nmvw[89:]\n",
    "\n",
    "print(dfdf_nmvw['no_object'].describe())"
   ]
  },
  {
   "cell_type": "markdown",
   "metadata": {},
   "source": [
    "#### Plot the object distribution per actor"
   ]
  },
  {
   "cell_type": "code",
   "execution_count": null,
   "metadata": {},
   "outputs": [],
   "source": [
    "import seaborn as sns\n",
    "import matplotlib.pyplot as plt\n",
    "\n",
    "import pandas as pd\n",
    "import math\n",
    "\n",
    "# Calculate the number of samples to extract\n",
    "num_samples = math.ceil(len(df_nmvw)/10.0)\n",
    "\n",
    "# Calculate the interval size\n",
    "interval_size = len(df_nmvw) // num_samples\n",
    "\n",
    "# Extract samples\n",
    "samples = df_nmvw.iloc[::interval_size]\n",
    "\n",
    "# Assuming df_nmvw is your DataFrame with columns 'nmvw_actor' and 'count'\n",
    "\n",
    "# Sort the DataFrame by count in descending order\n",
    "samples_sorted = samples.sort_values(by='no_object', ascending=False)\n",
    "\n",
    "# Create bar plot\n",
    "plt.figure(figsize=(12, 6))\n",
    "sns.lineplot(data=samples_sorted, x=samples_sorted.index, y='no_object')\n",
    "\n",
    "# Rotate x-axis labels for better visibility\n",
    "plt.xticks(rotation=90)\n",
    "\n",
    "# Set labels and title\n",
    "plt.xlabel('Actor')\n",
    "plt.ylabel('Object Count')\n",
    "plt.title('Count objects per NMVW acotr')\n",
    "\n",
    "# Show plot\n",
    "plt.tight_layout()\n",
    "plt.show()"
   ]
  },
  {
   "cell_type": "markdown",
   "metadata": {},
   "source": [
    "## Bronbeek"
   ]
  },
  {
   "cell_type": "markdown",
   "metadata": {},
   "source": [
    "### Generate [object_per_actor_bb.csv](object_per_actor_bb.csv)\n",
    "```\n",
    "PREFIX owl: <http://www.w3.org/2002/07/owl#>\n",
    "PREFIX crm: <http://www.cidoc-crm.org/cidoc-crm/>\n",
    "PREFIX skos: <http://www.w3.org/2004/02/skos/core#>\n",
    "PREFIX rdf: <http://www.w3.org/1999/02/22-rdf-syntax-ns#>\n",
    "\n",
    "SELECT (COUNT(DISTINCT ?bb_obj) AS ?no_object) ?bb_actor\n",
    "WHERE{\n",
    "    {?bb_acq crm:P23_transferred_title_from ?bb_actor .\t\n",
    "    ?bb_acq crm:P24_transferred_title_of ?bb_obj .}\n",
    "    UNION\n",
    "    {\n",
    "          ?bb_obj crm:P51_has_former_or_current_owner ?bb_actor .\n",
    "    }\n",
    "\n",
    "GRAPH <https://pressingmatter.nl/Bronbeek/Objects/Objects/assertion/bad21d24/2024-03-01T12:54>{\n",
    "    ?bb_obj a crm:E22_Human-Made_Object. }\n",
    "}GROUP BY ?bb_actor\n",
    "```"
   ]
  },
  {
   "cell_type": "code",
   "execution_count": null,
   "metadata": {},
   "outputs": [],
   "source": [
    "def cleanup(x: str):\n",
    "    return int(str(x).replace('\"', '').strip())\n",
    "\n",
    "import pandas as pd\n",
    "\n",
    "df_bb = pd.read_csv(\"object_per_actor_bb.csv\")\n",
    "df_bb = df_bb.iloc[: , :-1]\n",
    "df_bb.columns = ['no_object', 'bb_actor']\n",
    "df_bb['no_object'] = df_bb['no_object'].apply(cleanup)\n",
    "\n",
    "df_bb = df_bb.sort_values(by=['no_object'], ascending=False).reset_index()\n",
    "df_bb = df_bb.drop('index', axis=1)"
   ]
  },
  {
   "cell_type": "markdown",
   "metadata": {},
   "source": [
    "### Description\n",
    "- Note: https://pressingmatter.nl/Bronbeek/Constituents/1896\" --> \"Koninklijk Tehuis voor Oud-Militairen en Museum Bronbeek\"^^xsd:string\n",
    "- https://pressingmatter.nl/Bronbeek/Constituents/9806 --> Nijmeegs Volkenkundig Museum\n",
    "- https://pressingmatter.nl/Bronbeek/Constituents/9804 --> \"Gemeente Nijmegen\"\n",
    "- https://pressingmatter.nl/Bronbeek/Constituents/9805 --> Jean Louis Henri Beijens"
   ]
  },
  {
   "cell_type": "code",
   "execution_count": null,
   "metadata": {},
   "outputs": [],
   "source": [
    "df_bb['no_object'].describe()"
   ]
  },
  {
   "cell_type": "code",
   "execution_count": null,
   "metadata": {},
   "outputs": [],
   "source": [
    "# Removing all the acotrs above 1000\n",
    "df_bb = df_bb[8:]"
   ]
  },
  {
   "cell_type": "code",
   "execution_count": null,
   "metadata": {},
   "outputs": [],
   "source": [
    "df_bb['no_object'].describe()"
   ]
  },
  {
   "cell_type": "markdown",
   "metadata": {},
   "source": [
    "### Plot the object distribution per actor"
   ]
  },
  {
   "cell_type": "code",
   "execution_count": null,
   "metadata": {},
   "outputs": [],
   "source": [
    "import seaborn as sns\n",
    "import matplotlib.pyplot as plt\n",
    "\n",
    "import pandas as pd\n",
    "import math\n",
    "\n",
    "# Calculate the number of samples to extract\n",
    "num_samples = math.ceil(len(df_bb)/10.0)\n",
    "\n",
    "# Calculate the interval size\n",
    "interval_size = len(df_bb) // num_samples\n",
    "\n",
    "# Extract samples\n",
    "samples = df_bb.iloc[::interval_size]\n",
    "\n",
    "# Sort the DataFrame by count in descending order\n",
    "samples_sorted = samples.sort_values(by='no_object', ascending=False)\n",
    "\n",
    "# Create bar plot\n",
    "plt.figure(figsize=(12, 6))\n",
    "sns.lineplot(data=samples_sorted, x=samples_sorted.index, y='no_object')\n",
    "\n",
    "# Rotate x-axis labels for better visibility\n",
    "plt.xticks(rotation=90)\n",
    "\n",
    "# Set labels and title\n",
    "plt.xlabel('Actor')\n",
    "plt.ylabel('Object Count')\n",
    "plt.title('Count objects per Bronbeek actor')\n",
    "\n",
    "# Show plot\n",
    "plt.tight_layout()\n",
    "plt.show()"
   ]
  },
  {
   "cell_type": "markdown",
   "metadata": {},
   "source": [
    "# CQ-1a"
   ]
  },
  {
   "cell_type": "markdown",
   "metadata": {},
   "source": [
    "How many actor we have from NMVW side?\n",
    "\n",
    "```\n",
    "PREFIX owl: <http://www.w3.org/2002/07/owl#>\n",
    "PREFIX crm: <http://www.cidoc-crm.org/cidoc-crm/>\n",
    "PREFIX skos: <http://www.w3.org/2004/02/skos/core#>\n",
    "\n",
    "SELECT (COUNT(DISTINCT ?nmvw_actor) AS ?no_nmvw_actor) \n",
    "WHERE{\n",
    "  GRAPH <https://pressingmatter.nl/NMVW/ccrdfobj.ttl>{\n",
    "  {?nmvw_acq crm:P24_transferred_title_of ?nmvw_object .\n",
    "   ?nmvw_acq crm:P23_transferred_title_from ?nmvw_actor .}\n",
    "  UNION\n",
    "  {\n",
    "    ?nmvw_prod crm:P14_carried_out_by ?nmvw_actor .\n",
    "    ?nmvw_object crm:P108i_was_produced_by ?nmvw_prod .\n",
    "  }\n",
    "  ?nmvw_object a crm:E22_Human-Made_Object .\n",
    "  }\n",
    "}\n",
    "```\n",
    "> There is 11,955 actors from nmvw who has connection with object provenance"
   ]
  },
  {
   "cell_type": "markdown",
   "metadata": {},
   "source": [
    "How many actors we have with one more objects from Bronbeek side?\n",
    "\n",
    "SPARQL Query:\n",
    "```\n",
    "PREFIX owl: <http://www.w3.org/2002/07/owl#>\n",
    "PREFIX crm: <http://www.cidoc-crm.org/cidoc-crm/>\n",
    "PREFIX skos: <http://www.w3.org/2004/02/skos/core#>\n",
    "\n",
    "SELECT (COUNT(DISTINCT ?bb_actor) AS ?no_bb_actor) \n",
    "WHERE{\n",
    "    #acquisition event\n",
    "    {\n",
    "    \t?bb_acq crm:P23_transferred_title_from ?bb_actor .   \n",
    "    \t?bb_acq crm:P24_transferred_title_of ?bb_object .\n",
    "    }\n",
    "  UNION\n",
    "    {\n",
    "      \t?bb_object crm:P51_has_former_or_current_owner ?bb_actor .\n",
    "    }\n",
    "  GRAPH <https://pressingmatter.nl/Bronbeek/Objects/Objects/assertion/bad21d24/2024-03-01T12:54>{\n",
    "    ?bb_object a crm:E22_Human-Made_Object .\n",
    "    }\n",
    "}\n",
    "```\n",
    "> There is 7118 actors from Bronbeek who has connection with object provenance"
   ]
  },
  {
   "cell_type": "markdown",
   "metadata": {},
   "source": [
    "So, if nmvw and Bronbeek had 1-1 correspondance there could maximun 7118 correspondance. "
   ]
  },
  {
   "cell_type": "markdown",
   "metadata": {},
   "source": [
    "Generate [CQ1a_x.csv](CQ1a_x.csv):\n",
    "\n",
    "```\n",
    "PREFIX owl: <http://www.w3.org/2002/07/owl#>\n",
    "PREFIX crm: <http://www.cidoc-crm.org/cidoc-crm/>\n",
    "PREFIX skos: <http://www.w3.org/2004/02/skos/core#>\n",
    "\n",
    "SELECT DISTINCT ?nmvw_actor\n",
    "WHERE{\n",
    "  GRAPH <https://pressingmatter.nl/NMVW/ccrdfobj.ttl>{\n",
    "  {?nmvw_acq crm:P24_transferred_title_of ?nmvw_object .\n",
    "   ?nmvw_acq crm:P23_transferred_title_from ?nmvw_actor .}\n",
    "  UNION\n",
    "  {\n",
    "    ?nmvw_prod crm:P14_carried_out_by ?nmvw_actor .\n",
    "    ?nmvw_object crm:P108i_was_produced_by ?nmvw_prod .\n",
    "  }\n",
    "  ?nmvw_object a crm:E22_Human-Made_Object .\n",
    "  }\n",
    "  ?nmvw_actor owl:sameAs ?bb_actor .\n",
    "}\n",
    "```"
   ]
  },
  {
   "cell_type": "code",
   "execution_count": null,
   "metadata": {},
   "outputs": [],
   "source": [
    "import pandas as pd\n",
    "\n",
    "df_delta_deezy = pd.read_csv(\"CQ1a_deezy.csv\")\n",
    "df_delta_deezy.columns = ['nmvw_actor']\n",
    "df_delta_deezy = df_nmvw[df_nmvw['nmvw_actor'].isin(df_delta_deezy['nmvw_actor'])]\n",
    "\n",
    "df_delta_exact = pd.read_csv(\"CQ1a_exact.csv\")\n",
    "df_delta_exact.columns = ['nmvw_actor']\n",
    "df_delta_exact = df_nmvw[df_nmvw['nmvw_actor'].isin(df_delta_exact['nmvw_actor'])]\n",
    "\n",
    "df_delta_initial = pd.read_csv(\"CQ1a_initial.csv\")\n",
    "df_delta_initial.columns = ['nmvw_actor']\n",
    "df_delta_initial = df_nmvw[df_nmvw['nmvw_actor'].isin(df_delta_initial['nmvw_actor'])]\n",
    "\n",
    "df_delta_surname = pd.read_csv(\"CQ1a_surname.csv\")\n",
    "df_delta_surname.columns = ['nmvw_actor']\n",
    "df_delta_surname = df_nmvw[df_nmvw['nmvw_actor'].isin(df_delta_surname['nmvw_actor'])]\n",
    "\n",
    "df_delta_fuzzy = pd.read_csv(\"CQ1a_fuzzy.csv\")\n",
    "df_delta_fuzzy.columns = ['nmvw_actor']\n",
    "df_delta_fuzzy = df_nmvw[df_nmvw['nmvw_actor'].isin(df_delta_fuzzy['nmvw_actor'])]"
   ]
  },
  {
   "cell_type": "code",
   "execution_count": null,
   "metadata": {},
   "outputs": [],
   "source": [
    "df_delta_fuzzy['no_object'].describe()"
   ]
  },
  {
   "cell_type": "markdown",
   "metadata": {},
   "source": [
    "#### Plot distribution"
   ]
  },
  {
   "cell_type": "code",
   "execution_count": null,
   "metadata": {},
   "outputs": [],
   "source": [
    "import seaborn as sns\n",
    "import matplotlib.pyplot as plt\n",
    "\n",
    "import pandas as pd\n",
    "import math\n",
    "\n",
    "# Calculate the number of samples to extract\n",
    "num_samples = math.ceil(len(df_nmvw)/10.0)\n",
    "\n",
    "# Calculate the interval size\n",
    "interval_size = len(df_nmvw) // num_samples\n",
    "\n",
    "# Extract samples\n",
    "samples = df_nmvw.iloc[::interval_size]\n",
    "\n",
    "# Assuming df_nmvw is your DataFrame with columns 'nmvw_actor' and 'count'\n",
    "\n",
    "# Sort the DataFrame by count in descending order\n",
    "samples_sorted = samples.sort_values(by='no_object', ascending=False)\n",
    "\n",
    "\n",
    "# plt.figure(figsize=(12, 6))\n",
    "fig, ax1 = plt.subplots(figsize=(12,6))\n",
    "# Create line plot\n",
    "sns.lineplot(data=samples_sorted, x=samples_sorted.index, y='no_object', ax=ax1)\n",
    "ax2 = ax1.twinx()\n",
    "# Create bar plot\n",
    "sns.barplot(data = df_delta, x=df_delta.index, y='no_object', alpha=0.5, ax=ax2)\n",
    "\n",
    "# Rotate x-axis labels for better visibility\n",
    "plt.xticks(rotation=90)\n",
    "\n",
    "# Set labels and title\n",
    "plt.xlabel('Actor')\n",
    "plt.ylabel('Object Count')\n",
    "plt.title('Count objects per NMVW acotr')\n",
    "\n",
    "# Show plot\n",
    "plt.tight_layout()\n",
    "plt.show()"
   ]
  },
  {
   "cell_type": "markdown",
   "metadata": {},
   "source": [
    "#### Box plot"
   ]
  },
  {
   "cell_type": "code",
   "execution_count": null,
   "metadata": {},
   "outputs": [],
   "source": [
    "# converting object number to log\n",
    "df_nmvw['no_object'] = df_nmvw['no_object'].apply(lambda x: math.log(x))\n",
    "df_delta_deezy['no_object'] = df_delta_deezy['no_object'].apply(lambda x: math.log(x))\n",
    "df_delta_exact['no_object'] = df_delta_exact['no_object'].apply(lambda x: math.log(x))\n",
    "df_delta_initial['no_object'] = df_delta_initial['no_object'].apply(lambda x: math.log(x))\n",
    "df_delta_surname['no_object'] = df_delta_surname['no_object'].apply(lambda x: math.log(x))\n",
    "df_delta_fuzzy['no_object'] = df_delta_fuzzy['no_object'].apply(lambda x: math.log(x))"
   ]
  },
  {
   "cell_type": "code",
   "execution_count": null,
   "metadata": {},
   "outputs": [],
   "source": [
    "import pandas as pd\n",
    "import numpy as np\n",
    "import seaborn as sns\n",
    "import matplotlib.pyplot as plt\n",
    "\n",
    "\n",
    "# Sample data (replace with your actual data)\n",
    "data = {\n",
    "    'NMVW Actors': df_nmvw['no_object'],\n",
    "    'Deezy Match': df_delta_deezy['no_object'] ,\n",
    "    'Exact Match': df_delta_exact['no_object'],\n",
    "    'Initial+Surname Match': df_delta_initial['no_object'],\n",
    "    'Surname Match': df_delta_surname['no_object'],\n",
    "    'Fuzzy Match': df_delta_fuzzy['no_object'] \n",
    "}\n",
    "\n",
    "# Combine data into a single DataFrame\n",
    "df = pd.DataFrame({key: pd.Series(value) for key, value in data.items()})\n",
    "\n",
    "# Melt the DataFrame to have a single column for series identifiers\n",
    "df_melted = df.melt(var_name='Series')\n",
    "\n",
    "# Create box plot using Seaborn\n",
    "sns.set_style(\"whitegrid\")\n",
    "plt.figure(figsize=(10, 6))\n",
    "sns.boxplot(x='variable', y='value', data=pd.melt(df), widths=0.1)\n",
    "plt.title('Box Plot of Multiple Series')\n",
    "plt.xlabel('Actors')\n",
    "plt.ylabel('Logarithm of Object  Count')\n",
    "plt.show()"
   ]
  },
  {
   "cell_type": "markdown",
   "metadata": {},
   "source": [
    "#### Count Quartile"
   ]
  },
  {
   "cell_type": "code",
   "execution_count": null,
   "metadata": {},
   "outputs": [],
   "source": [
    "quartiles = df1['no_object'].quantile([0.25, 0.5, 0.75])\n",
    "\n",
    "# Function to determine quartile\n",
    "def get_quartile(value):\n",
    "    if value <= quartiles[0.25]:\n",
    "        return 'Q1'\n",
    "    elif value <= quartiles[0.5]:\n",
    "        return 'Q2'\n",
    "    elif value <= quartiles[0.75]:\n",
    "        return 'Q3'\n",
    "    else:\n",
    "        return 'Q4'\n",
    "\n",
    "# Apply the function to column2 from df2 to get quartile information\n",
    "df_delta['quartile'] = df_delta['no_object'].apply(get_quartile)\n",
    "\n",
    "df_delta['quartile'].value_counts()"
   ]
  },
  {
   "cell_type": "markdown",
   "metadata": {},
   "source": [
    "# CQ 1b"
   ]
  },
  {
   "cell_type": "markdown",
   "metadata": {},
   "source": [
    "Query to generate [CQ1b_nmvw_obj.csv](CQ1b_nmvw_obj.csv)\n",
    "```\n",
    "PREFIX owl: <http://www.w3.org/2002/07/owl#>\n",
    "PREFIX crm: <http://www.cidoc-crm.org/cidoc-crm/>\n",
    "PREFIX skos: <http://www.w3.org/2004/02/skos/core#>\n",
    "\n",
    "SELECT ?nmvw_object ?nmvw_actor\n",
    "WHERE{\n",
    "  GRAPH <https://pressingmatter.nl/NMVW/ccrdfobj.ttl>{\n",
    "  {?nmvw_acq crm:P24_transferred_title_of ?nmvw_object .\n",
    "   ?nmvw_acq crm:P23_transferred_title_from ?nmvw_actor .}\n",
    "  UNION\n",
    "  {\n",
    "    ?nmvw_prod crm:P14_carried_out_by ?nmvw_actor .\n",
    "    ?nmvw_object crm:P108i_was_produced_by ?nmvw_prod .\n",
    "  }\n",
    "  ?nmvw_object a crm:E22_Human-Made_Object .\n",
    "  }\n",
    "  # removing \"onbeked / unknown\"\n",
    "  FILTER (?nmvw_actor != <https://hdl.handle.net/20.500.11840/pi4332>)\n",
    "}\n",
    "```"
   ]
  },
  {
   "cell_type": "code",
   "execution_count": null,
   "metadata": {},
   "outputs": [],
   "source": [
    "def cleanup(x: str):\n",
    "    return int(str(x).replace('\"', '').strip())\n",
    "\n",
    "import pandas as pd\n",
    "\n",
    "df1 = pd.read_csv(\"CQ1b_nmvw_obj.csv\")\n",
    "df1 = df1.map(lambda x: x.replace('\"', '').strip() if isinstance(x, str) else x)\n",
    "df1 = df1.iloc[: , :-1]\n",
    "df1.columns = ['nmvw_object', 'nmvw_actor']"
   ]
  },
  {
   "cell_type": "markdown",
   "metadata": {},
   "source": [
    "Generate [CQ1b_bb_obj.csv](CQ1b_bb_obj.csv)\n",
    "\n",
    "```\n",
    "PREFIX owl: <http://www.w3.org/2002/07/owl#>\n",
    "PREFIX crm: <http://www.cidoc-crm.org/cidoc-crm/>\n",
    "PREFIX skos: <http://www.w3.org/2004/02/skos/core#>\n",
    "\n",
    "SELECT (COUNT(DISTINCT ?bb_object) AS ?n_bb_object) \n",
    "WHERE{\n",
    "    #acquisition event\n",
    "    {\n",
    "    \t?bb_acq crm:P23_transferred_title_from ?bb_actor .   \n",
    "    \t?bb_acq crm:P24_transferred_title_of ?bb_object .\n",
    "    }\n",
    "  UNION\n",
    "    {\n",
    "      \t?bb_object crm:P51_has_former_or_current_owner ?bb_actor .\n",
    "    }\n",
    "  GRAPH <https://pressingmatter.nl/Bronbeek/Objects/Objects/assertion/bad21d24/2024-03-01T12:54>{\n",
    "    ?bb_object a crm:E22_Human-Made_Object .\n",
    "    }\n",
    "}\n",
    "```\n",
    "> number of unique object from 7,118 actor is: 85,632. So, on verage everyone should have 12 objects. "
   ]
  },
  {
   "cell_type": "markdown",
   "metadata": {},
   "source": [
    "Generate [CQ1b_delta.csv](CQ1b_delta.csv):\n",
    "```\n",
    "PREFIX owl: <http://www.w3.org/2002/07/owl#>\n",
    "PREFIX crm: <http://www.cidoc-crm.org/cidoc-crm/>\n",
    "PREFIX skos: <http://www.w3.org/2004/02/skos/core#>\n",
    "\n",
    "SELECT ?nmvw_actor (COUNT(DISTINCT ?bb_object) AS ?n_bb_object) \n",
    "WHERE{\n",
    "    ?nmvw_actor owl:sameAs ?bb_actor .\n",
    "    #acquisition event\n",
    "    {\n",
    "    \t?bb_acq crm:P23_transferred_title_from ?bb_actor .   \n",
    "    \t?bb_acq crm:P24_transferred_title_of ?bb_object .\n",
    "    }\n",
    "  UNION\n",
    "    {\n",
    "      \t?bb_object crm:P51_has_former_or_current_owner ?bb_actor .\n",
    "    }\n",
    "  GRAPH <https://pressingmatter.nl/Bronbeek/Objects/Objects/assertion/bad21d24/2024-03-01T12:54>{\n",
    "    ?bb_object a crm:E22_Human-Made_Object .\n",
    "    }\n",
    "} GROUP BY ?nmvw_actor\n",
    "```"
   ]
  },
  {
   "cell_type": "code",
   "execution_count": null,
   "metadata": {},
   "outputs": [],
   "source": [
    "def cleanup(x: str):\n",
    "    return int(str(x).replace('\"', '').strip())\n",
    "\n",
    "import pandas as pd\n",
    "\n",
    "df2 = pd.read_csv(\"CQ1b_delta.csv\")\n",
    "df2 = df2.map(lambda x: x.replace('\"', '').strip() if isinstance(x, str) else x)\n",
    "# df2 = df2.iloc[: , :-1]\n",
    "df2.columns = [\"nmvw_actor\", \"bb_object\" ]\n",
    "df2['bb_object'] = df2['bb_object'].apply(cleanup)\n",
    "\n",
    "df2 = df2[df2['nmvw_actor'].isin(df1['nmvw_actor'])]"
   ]
  },
  {
   "cell_type": "code",
   "execution_count": null,
   "metadata": {},
   "outputs": [],
   "source": [
    "filtered_df1 = df1[df1['nmvw_actor'].isin(df2['nmvw_actor'])]\n",
    "exact = filtered_df1.groupby(['nmvw_actor'])['nmvw_object'].nunique()"
   ]
  },
  {
   "cell_type": "code",
   "execution_count": null,
   "metadata": {},
   "outputs": [],
   "source": [
    "exact.sort_values(ascending=False).describe()"
   ]
  },
  {
   "cell_type": "code",
   "execution_count": null,
   "metadata": {},
   "outputs": [],
   "source": [
    "import pandas as pd\n",
    "import numpy as np\n",
    "\n",
    "# Define two sample series of different lengths\n",
    "series1 = all_actors\n",
    "series2 = exact\n",
    "\n",
    "# Determine the length of the longest series\n",
    "max_length = max(len(series1), len(series2))\n",
    "\n",
    "# Pad the shorter series with NaN values to match the length of the longest series\n",
    "if len(series1) < max_length:\n",
    "    series1 = series1.reindex(range(max_length))\n",
    "if len(series2) < max_length:\n",
    "    series2 = series2.reindex(range(max_length))\n",
    "\n",
    "# Create a DataFrame with the two series as columns\n",
    "df = pd.DataFrame({'NMVW Actors': series1, 'Exact Match': series2})\n",
    "\n",
    "print(df)"
   ]
  },
  {
   "cell_type": "code",
   "execution_count": null,
   "metadata": {},
   "outputs": [],
   "source": [
    "df.reset_index"
   ]
  },
  {
   "cell_type": "code",
   "execution_count": null,
   "metadata": {},
   "outputs": [],
   "source": [
    "import pandas as pd\n",
    "import numpy as np\n",
    "import seaborn as sns\n",
    "import matplotlib.pyplot as plt\n",
    "\n",
    "# Sample data (replace with your actual data)\n",
    "data = {\n",
    "    'NMVW Actors': all_actors,\n",
    "    'Exact Match': exact\n",
    "}\n",
    "\n",
    "# Combine data into a single DataFrame\n",
    "df = pd.DataFrame({key: pd.Series(value) for key, value in data.items()})\n",
    "\n",
    "# Melt the DataFrame to have a single column for series identifiers\n",
    "df_melted = df.melt(var_name='Series')\n",
    "\n",
    "\n",
    "df_melted"
   ]
  },
  {
   "cell_type": "code",
   "execution_count": null,
   "metadata": {},
   "outputs": [],
   "source": [
    "# Create box plot using Seaborn\n",
    "plt.figure(figsize=(10, 6))\n",
    "sns.boxplot(x='variable', y='value', data=pd.melt(df))\n",
    "plt.title('Box Plot of Multiple Series')\n",
    "plt.xlabel('Series')\n",
    "plt.ylabel('Values')\n",
    "plt.show()\n"
   ]
  },
  {
   "cell_type": "markdown",
   "metadata": {},
   "source": [
    "# CQ 2"
   ]
  },
  {
   "cell_type": "markdown",
   "metadata": {},
   "source": [
    "SPARQL Query:\n",
    "```\n",
    "PREFIX owl: <http://www.w3.org/2002/07/owl#>\n",
    "PREFIX crm: <http://www.cidoc-crm.org/cidoc-crm/>\n",
    "PREFIX skos: <http://www.w3.org/2004/02/skos/core#>\n",
    "PREFIX rdfs: <http://www.w3.org/2000/01/rdf-schema#>\n",
    "\n",
    "SELECT (COUNT(DISTINCT ?nmvw_object) AS ?n)\n",
    "WHERE{\n",
    "  Graph <https://pressingmatter.nl/NMVW/ccrdfobj.ttl>{\n",
    "    {\n",
    "     ?nmvw_acq crm:P23_transferred_title_from ?nmvw_actor .\n",
    "     ?nmvw_acq crm:P24_transferred_title_of ?nmvw_object .\n",
    "    }\n",
    "    UNION\n",
    "    {\n",
    "      ?nmvw_object crm:P108i_was_produced_by ?nmvw_prod .\n",
    "      ?nmvw_prod crm:P14_carried_out_by ?nmvw_actor .\n",
    "    }\n",
    "    ?nmvw_object  a crm:E22_Human-Made_Object .\n",
    "  }\n",
    "}\n",
    "```\n",
    "> The number of total object from NMVW with actor is: 484,761\n",
    "> The number of total actor is: 11955\n",
    "> The number of average object per actor: 40.5"
   ]
  },
  {
   "cell_type": "markdown",
   "metadata": {},
   "source": [
    "# CQ 3"
   ]
  },
  {
   "cell_type": "markdown",
   "metadata": {},
   "source": [
    "Generate [CQ3_nmvw_obj.csv](CQ3_nmvw_obj.csv)\n",
    "```\n",
    "PREFIX owl: <http://www.w3.org/2002/07/owl#>\n",
    "PREFIX crm: <http://www.cidoc-crm.org/cidoc-crm/>\n",
    "PREFIX skos: <http://www.w3.org/2004/02/skos/core#>\n",
    "\n",
    "SELECT *\n",
    "WHERE{\n",
    "  Graph <https://pressingmatter.nl/NMVW/ccrdfobj.ttl>{\n",
    "     ?nmvw_acq1 crm:P23_transferred_title_from ?nmvw_actor1 .\n",
    "     ?nmvw_acq1 crm:P24_transferred_title_of ?nmvw_object .\n",
    "    \n",
    "    ?nmvw_acq2 crm:P24_transferred_title_of ?nmvw_object .\n",
    "    ?nmvw_acq2 crm:P23_transferred_title_from ?nmvw_actor2 .\n",
    "    \n",
    "    Filter (?nmvw_actor1!= ?nmvw_actor2)\n",
    "   }\n",
    "}\n",
    "```"
   ]
  },
  {
   "cell_type": "code",
   "execution_count": null,
   "metadata": {},
   "outputs": [],
   "source": [
    "import pandas as pd\n",
    "\n",
    "df1 = pd.read_csv(\"CQ3_nmvw_obj.csv\")\n",
    "df1 = df1.map(lambda x: x.replace('\"', '').strip() if isinstance(x, str) else x)\n",
    "df1 = df1.iloc[: , :-1]\n",
    "df1.columns = [\"nmvw_acq1\" , \"nmvw_actor1\" , \"nmvw_object\" , \"nmvw_acq2\" , \"nmvw_actor2\"]\n",
    "\n",
    "pairs = set(frozenset(pair) for pair in zip(df1['nmvw_actor1'], df1['nmvw_actor2']))\n",
    "df1 = pd.DataFrame(pairs, columns=['nmvw_actor1', 'nmvw_actor2'])\n",
    "\n",
    "print(f\"Unique two person's pair in nmvw dataset is: {len(df1)}\")"
   ]
  },
  {
   "cell_type": "markdown",
   "metadata": {},
   "source": [
    "generate [CQ3_bb_obj.csv](CQ3_bb_obj.csv)\n",
    "\n",
    "```\n",
    "SELECT * WHERE{\n",
    "     ?bb_acq1 crm:P23_transferred_title_from ?bb_actor1 .\n",
    "     ?bb_acq1 crm:P24_transferred_title_of ?bb_object .\n",
    "    \n",
    "    ?bb_acq2 crm:P24_transferred_title_of ?bb_object .\n",
    "    ?bb_acq2 crm:P23_transferred_title_from ?bb_actor2 .\n",
    "\n",
    "    Filter (?bb_actor1!= ?bb_actor2)\n",
    "Graph <https://pressingmatter.nl/Bronbeek/Objects/Objects/assertion/bad21d24/2024-03-01T12:54>{\n",
    "        ?bb_object a crm:E22_Human-Made_Object.\n",
    "   }\n",
    "}\n",
    "```"
   ]
  },
  {
   "cell_type": "code",
   "execution_count": null,
   "metadata": {},
   "outputs": [],
   "source": [
    "import pandas as pd\n",
    "\n",
    "df2 = pd.read_csv(\"CQ3_bb_obj.csv\")\n",
    "# df2 = df2.iloc[: , :-1]\n",
    "df2.columns = [  \"bb_acq1\" , \"bb_actor1\" , \"bb_object\" , \"bb_acq2\" , \"bb_actor2\"]\n",
    "\n",
    "pairs = set(frozenset(pair) for pair in zip(df2['bb_actor1'], df2['bb_actor2']))\n",
    "df2 = pd.DataFrame(pairs, columns=['bb_actor1', 'bb_actor2'])\n",
    "\n",
    "print(f\"Unique two person's pair in bronbeek dataset is: {len(df2)}\")\n"
   ]
  },
  {
   "cell_type": "markdown",
   "metadata": {},
   "source": [
    "Download the match results in [sameAs.csv](sameAs.csv)\n",
    "\n",
    "SPARQL QUERY:\n",
    "```\n",
    "PREFIX owl: <http://www.w3.org/2002/07/owl#>\n",
    "SELECT * WHERE{\n",
    "  ?nmwv_actor owl:sameAs ?bb_actor .\n",
    "}\n",
    "```"
   ]
  },
  {
   "cell_type": "code",
   "execution_count": null,
   "metadata": {},
   "outputs": [],
   "source": [
    "match_df = pd.read_csv(\"sameAs.csv\")\n",
    "# match_df = match_df.iloc[:, :-1]\n",
    "match_df.columns = [ \"nmvw_actor\" , \"bb_actor\"]\n",
    "\n",
    "merged_df1 = df1.merge(match_df, left_on='nmvw_actor1', right_on='nmvw_actor', how='inner')\n",
    "merged_df2 = df1.merge(match_df, left_on='nmvw_actor2', right_on='nmvw_actor', how='inner')\n",
    "final_df = pd.concat([merged_df1, merged_df2])\n",
    "final_df = final_df.drop_duplicates()\n",
    "\n",
    "result_df1 = final_df.merge(df2, left_on='bb_actor', right_on='bb_actor1', how='inner')\n",
    "result_df2 = final_df.merge(df2, left_on='bb_actor', right_on='bb_actor2', how='inner')\n",
    "result_df = pd.concat([result_df2,result_df1])"
   ]
  },
  {
   "cell_type": "code",
   "execution_count": null,
   "metadata": {},
   "outputs": [],
   "source": [
    "pair_list = list()\n",
    "\n",
    "for _, row in result_df.iterrows():\n",
    "    if row['nmvw_actor1'] == row['nmvw_actor']:\n",
    "        x1 = row['nmvw_actor1']\n",
    "        x = row['nmvw_actor2']\n",
    "    else:\n",
    "        x = row['nmvw_actor1']\n",
    "\n",
    "    if row['bb_actor1'] == row['bb_actor']:\n",
    "        y =  row['bb_actor2']\n",
    "    else:\n",
    "        y =  row['bb_actor1']\n",
    "    \n",
    "    pair_list.append(frozenset((x,y)))\n",
    "    try:\n",
    "        pair_list.append(frozenset((x1,y)))\n",
    "    except NameError:\n",
    "        print(f\"{row['nmvw_actor1']} never apprears in sameAs\")\n",
    "\n",
    "pair_set = set(pair_list)\n",
    "pair_df = pd.DataFrame(pair_set, columns=['actor1', 'actor2'])\n",
    "\n",
    "print(f\"The number of new pairs of actor-to-actor connection added is: {len(pair_df)}\")"
   ]
  },
  {
   "cell_type": "markdown",
   "metadata": {},
   "source": [
    "# CQ 4"
   ]
  },
  {
   "cell_type": "markdown",
   "metadata": {},
   "source": [
    "##### These are the objects, where we do not know it's production place, but do know the acqusuiton actor.\n",
    "> For 49152 object we did not know the production location\n",
    "\n",
    "```PREFIX owl: <http://www.w3.org/2002/07/owl#>\n",
    "PREFIX crm: <http://www.cidoc-crm.org/cidoc-crm/>\n",
    "PREFIX skos: <http://www.w3.org/2004/02/skos/core#>\n",
    "PREFIX rdf: <http://www.w3.org/1999/02/22-rdf-syntax-ns#>\n",
    "\n",
    "SELECT (COUNT(DISTINCT ?nmvw_obj) AS ?no_object) ?nmvw_actor\n",
    "WHERE{\n",
    " GRAPH <https://pressingmatter.nl/NMVW/ccrdfobj.ttl>{\n",
    "    ?nmvw_acq crm:P23_transferred_title_from ?nmvw_actor.\n",
    "    ?nmvw_acq crm:P24_transferred_title_of ?nmvw_obj .\n",
    "    ?nmvw_obj crm:P108i_was_produced_by ?nmvw_prod .\n",
    "    FILTER NOT EXISTS {\n",
    "      ?nmvw_prod crm:P7_took_place_at ?nmvw_prod_place.}\n",
    "    }\n",
    "} GROUP BY ?nmvw_actor ```"
   ]
  },
  {
   "cell_type": "markdown",
   "metadata": {},
   "source": [
    "##### These are the objects, where we DO KNOW it's production place, and acqusuiton actor.\n",
    "> For 457722 object, we did not know the production location\n",
    "```\n",
    "PREFIX owl: <http://www.w3.org/2002/07/owl#>\n",
    "PREFIX crm: <http://www.cidoc-crm.org/cidoc-crm/>\n",
    "PREFIX skos: <http://www.w3.org/2004/02/skos/core#>\n",
    "PREFIX rdf: <http://www.w3.org/1999/02/22-rdf-syntax-ns#>\n",
    "\n",
    "SELECT (COUNT(DISTINCT ?nmvw_obj) AS ?no_object) (COUNT(DISTINCT ?nmvw_prod_place) AS ?no_place) ?nmvw_actor\n",
    "WHERE{\n",
    " GRAPH <https://pressingmatter.nl/NMVW/ccrdfobj.ttl>{\n",
    "     ?nmvw_acq crm:P23_transferred_title_from ?nmvw_actor.\n",
    "      ?nmvw_acq crm:P24_transferred_title_of ?nmvw_obj .\n",
    "      ?nmvw_obj crm:P108i_was_produced_by ?nmvw_prod .\n",
    "     ?nmvw_prod crm:P7_took_place_at ?nmvw_prod_place.\n",
    "    }\n",
    "} GROUP BY ?nmvw_actor \n",
    "```\n",
    "\n",
    "> If we connect them with acqusistion_actor, for 45756 objects we can prioritise possible location ."
   ]
  },
  {
   "cell_type": "markdown",
   "metadata": {},
   "source": [
    "> 85632 object\n",
    "> 7118 acotr\n",
    "> object on average: 12"
   ]
  },
  {
   "cell_type": "code",
   "execution_count": null,
   "metadata": {},
   "outputs": [],
   "source": [
    "import pandas as pd\n",
    "\n",
    "df1 = pd.read_csv(\"CQ4_nmvw_object_place_unknown.csv\")\n",
    "df1 = df1.map(lambda x: x.replace('\"', '').strip() if isinstance(x, str) else x)\n",
    "df2 = pd.read_csv(\"CQ4_nmvw_object_place_known.csv\")\n",
    "df2 = df2.map(lambda x: x.replace('\"', '').strip() if isinstance(x, str) else x)"
   ]
  },
  {
   "cell_type": "code",
   "execution_count": null,
   "metadata": {},
   "outputs": [],
   "source": [
    "merged_df_nmvw = pd.merge(df1, df2, on='nmvw_actor', how='inner')\n",
    "print(f\"From nmvw dataset, we have {merged_df_nmvw['no_object_x'].sum()} objects where they are connected to actor whose at least one object has known production location.\")"
   ]
  },
  {
   "cell_type": "markdown",
   "metadata": {},
   "source": [
    "##### Object connected to Bronbeek actors that as sameAs Links with NMVW\n",
    "\n",
    "Query to generate [CQ4_bb_object.csv](CQ4_bb_object.csv):\n",
    "\n",
    "```\n",
    "PREFIX owl: <http://www.w3.org/2002/07/owl#>\n",
    "PREFIX crm: <http://www.cidoc-crm.org/cidoc-crm/>\n",
    "PREFIX skos: <http://www.w3.org/2004/02/skos/core#>\n",
    "PREFIX rdf: <http://www.w3.org/1999/02/22-rdf-syntax-ns#>\n",
    "\n",
    "SELECT (COUNT(DISTINCT ?bb_obj) AS ?no_object) ?bb_actor\n",
    "WHERE{\n",
    "    ?nmvw_actor owl:sameAs ?bb_actor .\n",
    "    {?bb_acq crm:P23_transferred_title_from ?bb_actor .\t\n",
    "    ?bb_acq crm:P24_transferred_title_of ?bb_obj .}\n",
    "    UNION{\n",
    "          ?bb_obj crm:P51_has_former_or_current_owner ?bb_actor .\n",
    "}\n",
    "\n",
    " GRAPH <https://pressingmatter.nl/Bronbeek/Objects/Objects/assertion/bad21d24/2024-03-01T12:54>{\n",
    "    ?bb_obj a crm:E22_Human-Made_Object. }\n",
    "} GROUP BY ?bb_actor \n",
    "```"
   ]
  },
  {
   "cell_type": "code",
   "execution_count": null,
   "metadata": {},
   "outputs": [],
   "source": [
    "def cleanup(x: str):\n",
    "    return int(str(x).replace('\"', '').strip())\n",
    "\n",
    "df3 = pd.read_csv(\"CQ4_bb_object.csv\")\n",
    "df3 = df3.map(lambda x: x.replace('\"', '').strip() if isinstance(x, str) else x)\n",
    "# df3 = df3.iloc[: , :-1]\n",
    "df3.columns = [\"no_object\" , \"bb_actor\"]\n",
    "df3['no_object'] = df3['no_object'].apply(cleanup)\n",
    "print(f\"From bronbeek dataset, we have {df3['no_object'].sum()} objects that are connected with an actor who have owl:sameAs link to nmvw dataset\")"
   ]
  },
  {
   "cell_type": "markdown",
   "metadata": {},
   "source": [
    "Query Generate [sameAs.csv](sameAs.csv):\n",
    "```\n",
    "SELECT * WHERE{\n",
    "    ?nmvw_actor owl:sameAs ?bb_actor .\n",
    "}\n",
    "```"
   ]
  },
  {
   "cell_type": "code",
   "execution_count": null,
   "metadata": {},
   "outputs": [],
   "source": [
    "df4 = pd.read_csv(\"sameAs.csv\")\n",
    "df4 = df4.map(lambda x: x.replace('\"', '').strip() if isinstance(x, str) else x)\n",
    "# df4 = df4.iloc[: , :-1]\n",
    "df4.columns = ['nmvw_actor' , 'bb_actor']"
   ]
  },
  {
   "cell_type": "code",
   "execution_count": null,
   "metadata": {},
   "outputs": [],
   "source": [
    "merged_df = pd.merge(df3, df4, on='bb_actor', how='inner')\n",
    "# when there is multiple match on the bb actor, only kept the first match\n",
    "merged_df = merged_df.drop_duplicates(subset='bb_actor')\n",
    "merged_df = pd.merge(merged_df, df2, on='nmvw_actor', how='inner')\n",
    "merged_df['no_object_x'].sum()"
   ]
  },
  {
   "cell_type": "code",
   "execution_count": null,
   "metadata": {},
   "outputs": [],
   "source": [
    "merged_df.to_csv('CQ4_surname.csv', index=False)"
   ]
  },
  {
   "cell_type": "markdown",
   "metadata": {},
   "source": [
    "- **Exact String match:** Now for 0 bronbeek object, we can potentially project possible location.\n",
    "- **Initial+surname match:** Now for 1841 bronbeek objects, we can potentially project possible location.\n",
    "- **Surname match:** Now for 12776 bronbeek objects, we can potentially project possible location.\n",
    "- **Fuzzy String match:** Now for 16503 bronbeek objects, we can potentially project possible location."
   ]
  },
  {
   "cell_type": "markdown",
   "metadata": {},
   "source": [
    "### Plot distribution"
   ]
  },
  {
   "cell_type": "code",
   "execution_count": null,
   "metadata": {},
   "outputs": [],
   "source": [
    "def cleanup(x: str):\n",
    "    return int(str(x).replace('\"', '').strip())\n",
    "\n",
    "import pandas as pd\n",
    "import math\n",
    "\n",
    "df_nmvw = pd.read_csv(\"object_per_actor_nmvw.csv\")\n",
    "df_nmvw = df_nmvw.iloc[: , :-1]\n",
    "df_nmvw.columns = ['no_object', 'nmvw_actor']\n",
    "df_nmvw = df_nmvw.map(lambda x: x.replace('\"', '').strip() if isinstance(x, str) else x)\n",
    "df_nmvw['no_object'] = df_nmvw['no_object'].apply(cleanup)\n",
    "\n",
    "# take out unkonw or onbekend\n",
    "df_nmvw = df_nmvw[df_nmvw['nmvw_actor']!=\"https://hdl.handle.net/20.500.11840/pi4332\"]\n",
    "\n",
    "df_nmvw = df_nmvw.sort_values(['no_object'], ascending=False).reset_index()\n",
    "df_nmvw = df_nmvw.drop('index', axis=1)"
   ]
  },
  {
   "cell_type": "code",
   "execution_count": null,
   "metadata": {},
   "outputs": [],
   "source": [
    "df_CQ4_nmvw = df1[df1['nmvw_actor'].isin(merged_df_nmvw['nmvw_actor'])]"
   ]
  },
  {
   "cell_type": "code",
   "execution_count": null,
   "metadata": {},
   "outputs": [],
   "source": [
    "import pandas as pd\n",
    "\n",
    "df_delta_deezy = pd.read_csv(\"CQ4_deezy.csv\")\n",
    "# df_delta_deezy.columns = ['nmvw_actor']\n",
    "df_delta_deezy = df_nmvw[df_nmvw['nmvw_actor'].isin(df_delta_deezy['nmvw_actor'])]\n",
    "\n",
    "df_delta_exact = pd.read_csv(\"CQ4_exact.csv\")\n",
    "# df_delta_exact.columns = ['nmvw_actor']\n",
    "df_delta_exact = df_nmvw[df_nmvw['nmvw_actor'].isin(df_delta_exact['nmvw_actor'])]\n",
    "\n",
    "df_delta_initial = pd.read_csv(\"CQ4_initial.csv\")\n",
    "# df_delta_initial.columns = ['nmvw_actor']\n",
    "df_delta_initial = df_nmvw[df_nmvw['nmvw_actor'].isin(df_delta_initial['nmvw_actor'])]\n",
    "\n",
    "df_delta_surname = pd.read_csv(\"CQ4_surname.csv\")\n",
    "# df_delta_surname.columns = ['nmvw_actor']\n",
    "df_delta_surname = df_nmvw[df_nmvw['nmvw_actor'].isin(df_delta_surname['nmvw_actor'])]\n",
    "\n",
    "df_delta_fuzzy = pd.read_csv(\"CQ4_fuzzy.csv\")\n",
    "# df_delta_fuzzy.columns = ['nmvw_actor']\n",
    "df_delta_fuzzy = df_nmvw[df_nmvw['nmvw_actor'].isin(df_delta_fuzzy['nmvw_actor'])]"
   ]
  },
  {
   "cell_type": "code",
   "execution_count": null,
   "metadata": {},
   "outputs": [],
   "source": [
    "df_CQ4_nmvw['no_object'].describe()"
   ]
  },
  {
   "cell_type": "code",
   "execution_count": null,
   "metadata": {},
   "outputs": [],
   "source": [
    "# converting object number to log\n",
    "df_nmvw['no_object'] = df_nmvw['no_object'].apply(lambda x: math.log(x))\n",
    "df_CQ4_nmvw['no_object'] = df_CQ4_nmvw['no_object'].apply(lambda x: math.log(x))\n",
    "df_delta_deezy['no_object'] = df_delta_deezy['no_object'].apply(lambda x: math.log(x))\n",
    "df_delta_exact['no_object'] = df_delta_exact['no_object'].apply(lambda x: math.log(x))\n",
    "df_delta_initial['no_object'] = df_delta_initial['no_object'].apply(lambda x: math.log(x))\n",
    "df_delta_surname['no_object'] = df_delta_surname['no_object'].apply(lambda x: math.log(x))\n",
    "df_delta_fuzzy['no_object'] = df_delta_fuzzy['no_object'].apply(lambda x: math.log(x))"
   ]
  },
  {
   "cell_type": "code",
   "execution_count": null,
   "metadata": {},
   "outputs": [],
   "source": [
    "import pandas as pd\n",
    "import numpy as np\n",
    "import seaborn as sns\n",
    "import matplotlib.pyplot as plt\n",
    "\n",
    "\n",
    "# Sample data (replace with your actual data)\n",
    "data = {\n",
    "    'NMVW Actors': df_nmvw['no_object'],\n",
    "    'Actor-related to Place': df_CQ4_nmvw['no_object'],\n",
    "    'Deezy Match': df_delta_deezy['no_object'] ,\n",
    "    'Exact Match': df_delta_exact['no_object'],\n",
    "    'Initial+Surname Match': df_delta_initial['no_object'],\n",
    "    'Surname Match': df_delta_surname['no_object'],\n",
    "    'Fuzzy Match': df_delta_fuzzy['no_object'] \n",
    "}\n",
    "\n",
    "# Combine data into a single DataFrame\n",
    "df = pd.DataFrame({key: pd.Series(value) for key, value in data.items()})\n",
    "\n",
    "# Melt the DataFrame to have a single column for series identifiers\n",
    "df_melted = df.melt(var_name='Series')\n",
    "\n",
    "# Create box plot using Seaborn\n",
    "sns.set_style(\"whitegrid\")\n",
    "plt.figure(figsize=(10, 6))\n",
    "sns.boxplot(x='variable', y='value', data=pd.melt(df), widths=0.1)\n",
    "plt.title('Box Plot of Multiple Series')\n",
    "plt.xlabel('Actors')\n",
    "plt.ylabel('Logarithm of Object  Count')\n",
    "plt.show()"
   ]
  },
  {
   "cell_type": "markdown",
   "metadata": {},
   "source": [
    "# CQ-5"
   ]
  },
  {
   "cell_type": "markdown",
   "metadata": {},
   "source": [
    "```\n",
    "PREFIX crm: <http://www.cidoc-crm.org/cidoc-crm/>\n",
    "\n",
    "SELECT (AVG(?n) AS ?avg) WHERE\n",
    "{\n",
    "  SELECT (COUNT(DISTINCT ?nmvw_obj) AS ?n) \n",
    "  WHERE{\n",
    "      GRAPH <https://pressingmatter.nl/NMVW/ccrdfhiseve.ttl>{\n",
    "      ?histevet a crm:E7_Activity .\n",
    "      ?histevet crm:P140i_was_attributed_by ?o .\n",
    "      ?histevet  crm:P1_is_identified_by ?title .\n",
    "      ?histevet crm:P4_has_time-span [crm:P82a_begin_of_the_begin ?histevet_btime;\n",
    "                                       crm:P82b_end_of_the_end ?histevet_etime] .\n",
    "      ?title crm:P190_has_symbolic_content ?histevet_name .\n",
    "      ?o a crm:E13_Attribute_Assignment .\n",
    "      ?o crm:P141_assigned ?nmvw_obj .\n",
    "    } \n",
    "    ?nmvw_obj a crm:E22_Human-Made_Object .\n",
    "}GROUP BY ?histevet\n",
    "}\n",
    "```\n",
    "> Average object per event: 261.941 with 51 event"
   ]
  },
  {
   "cell_type": "markdown",
   "metadata": {},
   "source": [
    "Query to download ([CQ5_nmvw.csv](CQ5_nmvw.csv))\n",
    "\n",
    "```\n",
    "PREFIX crm: <http://www.cidoc-crm.org/cidoc-crm/>\n",
    "PREFIX owl: <http://www.w3.org/2002/07/owl#>\n",
    "\n",
    "SELECT ?histevet ?histevet_btime ?histevet_etime ?nmvw_obj ?nmvw_actor \n",
    "  WHERE{\n",
    "      GRAPH <https://pressingmatter.nl/NMVW/ccrdfhiseve.ttl>{\n",
    "      ?histevet a crm:E7_Activity .\n",
    "      ?histevet crm:P140i_was_attributed_by ?o .\n",
    "      ?histevet  crm:P1_is_identified_by ?title .\n",
    "      ?histevet crm:P4_has_time-span [crm:P82a_begin_of_the_begin ?histevet_btime;\n",
    "                                       crm:P82b_end_of_the_end ?histevet_etime] .\n",
    "      ?title crm:P190_has_symbolic_content ?histevet_name .\n",
    "      ?o a crm:E13_Attribute_Assignment .\n",
    "      ?o crm:P141_assigned ?nmvw_obj .\n",
    "    } \n",
    "    ?nmvw_obj a crm:E22_Human-Made_Object .\n",
    "    ?nmvw_acq crm:P24_transferred_title_of ?nmvw_obj .\n",
    "    ?nmvw_acq crm:P23_transferred_title_from ?nmvw_actor .\t\n",
    "  \t?nmvw_actor owl:sameAs ?bb_actor .\n",
    "}\n",
    "```"
   ]
  },
  {
   "cell_type": "code",
   "execution_count": null,
   "metadata": {},
   "outputs": [],
   "source": [
    "import pandas as pd\n",
    "\n",
    "def cleanup_time(x: str):\n",
    "    # print(type(x))\n",
    "    return int(str(x).replace('\"', '').strip()[:4])\n",
    "\n",
    "df1 = pd.read_csv(\"CQ5_nmvw.csv\")\n",
    "df1 = df1.map(lambda x: x.replace('\"', '').strip() if isinstance(x, str) else x)\n",
    "df1 = df1.iloc[: , :-1]\n",
    "df1.columns = [ \"histevet\" , \"histevet_btime\" , \"histevet_etime\" , \"nmvw_obj\" , \"nmvw_actor\"]\n",
    "df1['histevet_btime'] = df1['histevet_btime'].apply(cleanup_time)\n",
    "df1['histevet_etime'] = df1['histevet_etime'].apply(cleanup_time)\n",
    "\n",
    "# drop the nmvw_obj\n",
    "df1 = df1.drop(['nmvw_obj'], axis=1)\n",
    "# Remove duplicate actor to event connections\n",
    "df1 = df1.drop_duplicates()\n",
    "df1"
   ]
  },
  {
   "cell_type": "markdown",
   "metadata": {},
   "source": [
    "Query to generate [CQ5_bb.csv](CQ5_bb.csv)\n",
    "\n",
    "```\n",
    "PREFIX owl: <http://www.w3.org/2002/07/owl#>\n",
    "PREFIX crm: <http://www.cidoc-crm.org/cidoc-crm/>\n",
    "PREFIX skos: <http://www.w3.org/2004/02/skos/core#>\n",
    "PREFIX rdf: <http://www.w3.org/1999/02/22-rdf-syntax-ns#>\n",
    "PREFIX aat: <http://vocab.getty.edu/aat/>\n",
    "\n",
    "SELECT ?bb_obj ?bb_actor ?nmvw_actor ?b_time ?e_time\n",
    "WHERE{\n",
    "  \t?nmvw_actor owl:sameAs ?bb_actor .\n",
    "  \t?bb_acq2 crm:P23_transferred_title_from ?bb_actor . \n",
    "  \t?bb_acq2 crm:P24_transferred_title_of ?bb_obj .\n",
    "    ?prov_activity  crm:P9_consists_of ?bb_acq2 .\n",
    "    ?prov_activity crm:P2_has_type aat:300055863 .\n",
    "  \t\n",
    "    ?prov_activity crm:P9_consists_of ?bb_acq .\n",
    "  \t?bb_acq crm:P24_transferred_title_of ?bb_obj .\n",
    "\t  ?bb_acq crm:P4_has_time-span ?time .\n",
    "  \t?time crm:P82a_begin_of_the_begin ?b_time .\n",
    "    ?time crm:P82b_end_of_the_end ?e_time.\n",
    "  FILTER (?bb_acq != ?bb_acq2) .\n",
    "\n",
    "GRAPH <https://pressingmatter.nl/Bronbeek/Objects/Objects/assertion/bad21d24/2024-03-01T12:54>{\n",
    "    ?bb_obj a crm:E22_Human-Made_Object. }\n",
    "}\n",
    "```"
   ]
  },
  {
   "cell_type": "code",
   "execution_count": null,
   "metadata": {},
   "outputs": [],
   "source": [
    "def cleanup_time(x: str):\n",
    "    # Check if x is not None and not an empty string\n",
    "    try:\n",
    "        if x == \"None\" :\n",
    "            return 0\n",
    "        if x and str(x).strip():\n",
    "            # Convert the cleaned string to an integer\n",
    "            return int(str(x).replace('\"', '').strip()[:4])\n",
    "    except ValueError:\n",
    "        return 0\n",
    "\n",
    "# Read the second CSV file into DataFrame df2\n",
    "df2 = pd.read_csv(\"CQ5_bb.csv\")\n",
    "df2 = df2.map(lambda x: x.replace('\"', '').strip() if isinstance(x, str) else x)\n",
    "\n",
    "# df2 = df2.iloc[: , :-1]\n",
    "df2.columns = [\"bb_obj\" , \"bb_actor\" , \"nmvw_actor\" , \"b_time\" , \"e_time\"]\n",
    "df2['b_time'] = df2['b_time'].apply(cleanup_time)\n",
    "df2['e_time'] = df2['e_time'].apply(cleanup_time)\n",
    "\n",
    "# Remove duplicate rows in df2\n",
    "df2 = df2.drop_duplicates() \n",
    "\n",
    "# remove bb_actor matched to multiple nmvw_actor\n",
    "# df2 = df2.drop_duplicates(subset=['bb_obj'])\n",
    "\n",
    "# Extract unique 'nmvw_actor' values from df2\n",
    "unique_nmvw_actor = df1['nmvw_actor'].unique()\n",
    "\n",
    "# Filter df2 to keep only rows where 'nmvw_actor' exists in df2\n",
    "df2= df2[df2['nmvw_actor'].isin(unique_nmvw_actor)]\n",
    "\n",
    "df2 = df2.sort_values('bb_actor')"
   ]
  },
  {
   "cell_type": "markdown",
   "metadata": {},
   "source": [
    "### Plot distribution"
   ]
  },
  {
   "cell_type": "code",
   "execution_count": null,
   "metadata": {},
   "outputs": [],
   "source": [
    "def cleanup(x: str):\n",
    "    return int(str(x).replace('\"', '').strip())\n",
    "\n",
    "import pandas as pd\n",
    "import math\n",
    "\n",
    "df_nmvw = pd.read_csv(\"object_per_actor_nmvw.csv\")\n",
    "df_nmvw = df_nmvw.iloc[: , :-1]\n",
    "df_nmvw.columns = ['no_object', 'nmvw_actor']\n",
    "df_nmvw = df_nmvw.map(lambda x: x.replace('\"', '').strip() if isinstance(x, str) else x)\n",
    "df_nmvw['no_object'] = df_nmvw['no_object'].apply(cleanup)\n",
    "\n",
    "# take out unkonw or onbekend\n",
    "df_nmvw = df_nmvw[df_nmvw['nmvw_actor']!=\"https://hdl.handle.net/20.500.11840/pi4332\"]\n",
    "\n",
    "df_nmvw = df_nmvw.sort_values(['no_object'], ascending=False).reset_index()\n",
    "df_nmvw = df_nmvw.drop('index', axis=1)"
   ]
  },
  {
   "cell_type": "code",
   "execution_count": null,
   "metadata": {},
   "outputs": [],
   "source": [
    "df_CQ5_nmvw = df_nmvw[df_nmvw['nmvw_actor'].isin(df1['nmvw_actor'])]"
   ]
  },
  {
   "cell_type": "code",
   "execution_count": null,
   "metadata": {},
   "outputs": [],
   "source": [
    "import pandas as pd\n",
    "\n",
    "df_delta_deezy = pd.read_csv(\"CQ5_deezy.csv\")\n",
    "# df_delta_deezy.columns = ['nmvw_actor']\n",
    "df_delta_deezy = df_nmvw[df_nmvw['nmvw_actor'].isin(df_delta_deezy['nmvw_actor'])]\n",
    "\n",
    "df_delta_exact = pd.read_csv(\"CQ5_exact.csv\")\n",
    "# df_delta_exact.columns = ['nmvw_actor']\n",
    "df_delta_exact = df_nmvw[df_nmvw['nmvw_actor'].isin(df_delta_exact['nmvw_actor'])]\n",
    "\n",
    "df_delta_initial = pd.read_csv(\"CQ5_initial.csv\")\n",
    "# df_delta_initial.columns = ['nmvw_actor']\n",
    "df_delta_initial = df_nmvw[df_nmvw['nmvw_actor'].isin(df_delta_initial['nmvw_actor'])]\n",
    "\n",
    "df_delta_surname = pd.read_csv(\"CQ5_surname.csv\")\n",
    "# df_delta_surname.columns = ['nmvw_actor']\n",
    "df_delta_surname = df_nmvw[df_nmvw['nmvw_actor'].isin(df_delta_surname['nmvw_actor'])]\n",
    "\n",
    "df_delta_fuzzy = pd.read_csv(\"CQ5_fuzzy.csv\")\n",
    "# df_delta_fuzzy.columns = ['nmvw_actor']\n",
    "df_delta_fuzzy = df_nmvw[df_nmvw['nmvw_actor'].isin(df_delta_fuzzy['nmvw_actor'])]"
   ]
  },
  {
   "cell_type": "code",
   "execution_count": null,
   "metadata": {},
   "outputs": [],
   "source": [
    "df_delta_fuzzy['no_object'].describe()"
   ]
  },
  {
   "cell_type": "code",
   "execution_count": null,
   "metadata": {},
   "outputs": [],
   "source": [
    "# converting object number to log\n",
    "df_nmvw['no_object'] = df_nmvw['no_object'].apply(lambda x: math.log(x))\n",
    "df_CQ5_nmvw['no_object'] = df_CQ5_nmvw['no_object'].apply(lambda x: math.log(x))\n",
    "df_delta_deezy['no_object'] = df_delta_deezy['no_object'].apply(lambda x: math.log(x))\n",
    "df_delta_exact['no_object'] = df_delta_exact['no_object'].apply(lambda x: math.log(x))\n",
    "df_delta_initial['no_object'] = df_delta_initial['no_object'].apply(lambda x: math.log(x))\n",
    "df_delta_surname['no_object'] = df_delta_surname['no_object'].apply(lambda x: math.log(x))\n",
    "df_delta_fuzzy['no_object'] = df_delta_fuzzy['no_object'].apply(lambda x: math.log(x))"
   ]
  },
  {
   "cell_type": "code",
   "execution_count": null,
   "metadata": {},
   "outputs": [],
   "source": [
    "import pandas as pd\n",
    "import numpy as np\n",
    "import seaborn as sns\n",
    "import matplotlib.pyplot as plt\n",
    "\n",
    "\n",
    "# Sample data (replace with your actual data)\n",
    "data = {\n",
    "    'NMVW Actors': df_nmvw['no_object'],\n",
    "    'Actor-related to Historical Event': df_CQ5_nmvw['no_object'],\n",
    "    'Deezy Match': df_delta_deezy['no_object'] ,\n",
    "    'Exact Match': df_delta_exact['no_object'],\n",
    "    'Initial+Surname Match': df_delta_initial['no_object'],\n",
    "    'Surname Match': df_delta_surname['no_object'],\n",
    "    'Fuzzy Match': df_delta_fuzzy['no_object'] \n",
    "}\n",
    "\n",
    "# Combine data into a single DataFrame\n",
    "df = pd.DataFrame({key: pd.Series(value) for key, value in data.items()})\n",
    "\n",
    "# Melt the DataFrame to have a single column for series identifiers\n",
    "df_melted = df.melt(var_name='Series')\n",
    "\n",
    "# Create box plot using Seaborn\n",
    "sns.set_style(\"whitegrid\")\n",
    "plt.figure(figsize=(10, 6))\n",
    "ax = sns.boxplot(x='variable', y='value', data=pd.melt(df), widths=0.1)\n",
    "plt.setp(ax.get_xticklabels(), rotation=45)\n",
    "plt.title('Box Plot of Multiple Series')\n",
    "plt.xlabel('Actors')\n",
    "plt.ylabel('Logarithm of Object  Count')\n",
    "plt.show()"
   ]
  },
  {
   "cell_type": "markdown",
   "metadata": {},
   "source": [
    "# CQ-6a"
   ]
  },
  {
   "cell_type": "markdown",
   "metadata": {},
   "source": [
    "Query to generate [CQ6a_nmvw.csv](CQ6a_nmvw.csv): \n",
    "\n",
    "```\n",
    "PREFIX owl: <http://www.w3.org/2002/07/owl#>\n",
    "PREFIX crm: <http://www.cidoc-crm.org/cidoc-crm/>\n",
    "PREFIX skos: <http://www.w3.org/2004/02/skos/core#>\n",
    "PREFIX rdf: <http://www.w3.org/1999/02/22-rdf-syntax-ns#>\n",
    "PREFIX aat: <http://vocab.getty.edu/aat/>\n",
    "\n",
    "SELECT ?nmvw_obj ?nmvw_actor ?b_time ?e_time\n",
    "WHERE{\n",
    " GRAPH <https://pressingmatter.nl/NMVW/ccrdfobj.ttl>{\n",
    "     ?nmvw_acq crm:P23_transferred_title_from ?nmvw_actor.\n",
    "     ?nmvw_acq crm:P24_transferred_title_of ?nmvw_obj .\n",
    "     ?prov_activity ?p ?nmvw_acq.\n",
    "     ?prov_activity crm:P2_has_type aat:300055863 .\n",
    "     ?prov_activity crm:P4_has_time-span ?time .\n",
    "     ?time crm:P82a_begin_of_the_begin ?b_time .\n",
    "     ?time crm:P82b_end_of_the_end ?e_time.\n",
    "    }\n",
    "}\n",
    "```"
   ]
  },
  {
   "cell_type": "code",
   "execution_count": 1,
   "metadata": {},
   "outputs": [
    {
     "data": {
      "text/html": [
       "<div>\n",
       "<style scoped>\n",
       "    .dataframe tbody tr th:only-of-type {\n",
       "        vertical-align: middle;\n",
       "    }\n",
       "\n",
       "    .dataframe tbody tr th {\n",
       "        vertical-align: top;\n",
       "    }\n",
       "\n",
       "    .dataframe thead th {\n",
       "        text-align: right;\n",
       "    }\n",
       "</style>\n",
       "<table border=\"1\" class=\"dataframe\">\n",
       "  <thead>\n",
       "    <tr style=\"text-align: right;\">\n",
       "      <th></th>\n",
       "      <th>nmvw_obj</th>\n",
       "      <th>nmvw_actor</th>\n",
       "      <th>b_time</th>\n",
       "      <th>e_time</th>\n",
       "    </tr>\n",
       "  </thead>\n",
       "  <tbody>\n",
       "    <tr>\n",
       "      <th>0</th>\n",
       "      <td>https://hdl.handle.net/20.500.11840/128787</td>\n",
       "      <td>https://hdl.handle.net/20.500.11840/pi2338</td>\n",
       "      <td>1972</td>\n",
       "      <td>1972</td>\n",
       "    </tr>\n",
       "    <tr>\n",
       "      <th>1</th>\n",
       "      <td>https://hdl.handle.net/20.500.11840/283554</td>\n",
       "      <td>https://hdl.handle.net/20.500.11840/pi3989</td>\n",
       "      <td>1969</td>\n",
       "      <td>1969</td>\n",
       "    </tr>\n",
       "    <tr>\n",
       "      <th>2</th>\n",
       "      <td>https://hdl.handle.net/20.500.11840/300252</td>\n",
       "      <td>https://hdl.handle.net/20.500.11840/pi40581</td>\n",
       "      <td>1922</td>\n",
       "      <td>1922</td>\n",
       "    </tr>\n",
       "    <tr>\n",
       "      <th>3</th>\n",
       "      <td>https://hdl.handle.net/20.500.11840/143099</td>\n",
       "      <td>https://hdl.handle.net/20.500.11840/pi3683</td>\n",
       "      <td>1978</td>\n",
       "      <td>1978</td>\n",
       "    </tr>\n",
       "    <tr>\n",
       "      <th>4</th>\n",
       "      <td>https://hdl.handle.net/20.500.11840/302925</td>\n",
       "      <td>https://hdl.handle.net/20.500.11840/pi38456</td>\n",
       "      <td>2003</td>\n",
       "      <td>2008</td>\n",
       "    </tr>\n",
       "    <tr>\n",
       "      <th>...</th>\n",
       "      <td>...</td>\n",
       "      <td>...</td>\n",
       "      <td>...</td>\n",
       "      <td>...</td>\n",
       "    </tr>\n",
       "    <tr>\n",
       "      <th>3596</th>\n",
       "      <td>https://hdl.handle.net/20.500.11840/235554</td>\n",
       "      <td>https://hdl.handle.net/20.500.11840/pi38479</td>\n",
       "      <td>2003</td>\n",
       "      <td>2003</td>\n",
       "    </tr>\n",
       "    <tr>\n",
       "      <th>3597</th>\n",
       "      <td>https://hdl.handle.net/20.500.11840/235555</td>\n",
       "      <td>https://hdl.handle.net/20.500.11840/pi38479</td>\n",
       "      <td>2003</td>\n",
       "      <td>2003</td>\n",
       "    </tr>\n",
       "    <tr>\n",
       "      <th>3598</th>\n",
       "      <td>https://hdl.handle.net/20.500.11840/235556</td>\n",
       "      <td>https://hdl.handle.net/20.500.11840/pi38479</td>\n",
       "      <td>2003</td>\n",
       "      <td>2003</td>\n",
       "    </tr>\n",
       "    <tr>\n",
       "      <th>3599</th>\n",
       "      <td>https://hdl.handle.net/20.500.11840/235557</td>\n",
       "      <td>https://hdl.handle.net/20.500.11840/pi38479</td>\n",
       "      <td>2003</td>\n",
       "      <td>2003</td>\n",
       "    </tr>\n",
       "    <tr>\n",
       "      <th>3600</th>\n",
       "      <td>https://hdl.handle.net/20.500.11840/235558</td>\n",
       "      <td>https://hdl.handle.net/20.500.11840/pi38479</td>\n",
       "      <td>2003</td>\n",
       "      <td>2003</td>\n",
       "    </tr>\n",
       "  </tbody>\n",
       "</table>\n",
       "<p>3601 rows × 4 columns</p>\n",
       "</div>"
      ],
      "text/plain": [
       "                                        nmvw_obj  \\\n",
       "0     https://hdl.handle.net/20.500.11840/128787   \n",
       "1     https://hdl.handle.net/20.500.11840/283554   \n",
       "2     https://hdl.handle.net/20.500.11840/300252   \n",
       "3     https://hdl.handle.net/20.500.11840/143099   \n",
       "4     https://hdl.handle.net/20.500.11840/302925   \n",
       "...                                          ...   \n",
       "3596  https://hdl.handle.net/20.500.11840/235554   \n",
       "3597  https://hdl.handle.net/20.500.11840/235555   \n",
       "3598  https://hdl.handle.net/20.500.11840/235556   \n",
       "3599  https://hdl.handle.net/20.500.11840/235557   \n",
       "3600  https://hdl.handle.net/20.500.11840/235558   \n",
       "\n",
       "                                       nmvw_actor  b_time  e_time  \n",
       "0      https://hdl.handle.net/20.500.11840/pi2338    1972    1972  \n",
       "1      https://hdl.handle.net/20.500.11840/pi3989    1969    1969  \n",
       "2     https://hdl.handle.net/20.500.11840/pi40581    1922    1922  \n",
       "3      https://hdl.handle.net/20.500.11840/pi3683    1978    1978  \n",
       "4     https://hdl.handle.net/20.500.11840/pi38456    2003    2008  \n",
       "...                                           ...     ...     ...  \n",
       "3596  https://hdl.handle.net/20.500.11840/pi38479    2003    2003  \n",
       "3597  https://hdl.handle.net/20.500.11840/pi38479    2003    2003  \n",
       "3598  https://hdl.handle.net/20.500.11840/pi38479    2003    2003  \n",
       "3599  https://hdl.handle.net/20.500.11840/pi38479    2003    2003  \n",
       "3600  https://hdl.handle.net/20.500.11840/pi38479    2003    2003  \n",
       "\n",
       "[3601 rows x 4 columns]"
      ]
     },
     "execution_count": 1,
     "metadata": {},
     "output_type": "execute_result"
    }
   ],
   "source": [
    "def cleanup_time(x: str):\n",
    "    return int(str(x).replace('\"', '').strip()[-4:])\n",
    "\n",
    "import pandas as pd\n",
    "\n",
    "df1 = pd.read_csv(\"CQ6a_nmvw.csv\")\n",
    "df1 = df1.map(lambda x: x.replace('\"', '').strip() if isinstance(x, str) else x)\n",
    "df1 = df1.iloc[: , :-1]\n",
    "\n",
    "df1.columns = ['nmvw_obj', 'nmvw_actor', 'b_time', 'e_time']\n",
    "df1['b_time'] = df1['b_time'].apply(cleanup_time)\n",
    "df1['e_time'] = df1['e_time'].apply(cleanup_time)\n",
    "df1"
   ]
  },
  {
   "cell_type": "code",
   "execution_count": null,
   "metadata": {},
   "outputs": [],
   "source": [
    "grouped_df = df1.groupby(['nmvw_actor', 'b_time', 'e_time'])['nmvw_obj'].nunique().reset_index()\n",
    "grouped_df = grouped_df.sort_values(by='nmvw_obj', ascending=False)\n",
    "grouped_df = grouped_df[grouped_df['nmvw_obj'] != 1]\n",
    "print(f\"Number of objects that can be connected with at least one other object \\nbased on they are connected by same actor during similar time is: {grouped_df['nmvw_obj'].sum()}\")"
   ]
  },
  {
   "cell_type": "markdown",
   "metadata": {},
   "source": [
    "Query to generate: [CQ6a_bb.csv](CQ6a_bb.csv)\n",
    "\n",
    "```\n",
    "PREFIX owl: <http://www.w3.org/2002/07/owl#>\n",
    "PREFIX crm: <http://www.cidoc-crm.org/cidoc-crm/>\n",
    "PREFIX skos: <http://www.w3.org/2004/02/skos/core#>\n",
    "PREFIX rdf: <http://www.w3.org/1999/02/22-rdf-syntax-ns#>\n",
    "PREFIX aat: <http://vocab.getty.edu/aat/>\n",
    "\n",
    "SELECT ?bb_obj ?bb_actor ?nmvw_actor ?b_time ?e_time\n",
    "WHERE{\n",
    "  \t?nmvw_actor owl:sameAs ?bb_actor .\n",
    "  \t?bb_acq2 crm:P23_transferred_title_from ?bb_actor . \n",
    "  \t?bb_acq2 crm:P24_transferred_title_of ?bb_obj .\n",
    "    ?prov_activity  crm:P9_consists_of ?bb_acq2 .\n",
    "    ?prov_activity crm:P2_has_type aat:300055863 .\n",
    "  \t\n",
    "    ?prov_activity crm:P9_consists_of ?bb_acq .\n",
    "  \t?bb_acq crm:P24_transferred_title_of ?bb_obj .\n",
    "\t  ?bb_acq crm:P4_has_time-span ?time .\n",
    "  \t?time crm:P82a_begin_of_the_begin ?b_time .\n",
    "    ?time crm:P82b_end_of_the_end ?e_time.\n",
    "  FILTER (?bb_acq != ?bb_acq2) .\n",
    "\n",
    "GRAPH <https://pressingmatter.nl/Bronbeek/Objects/Objects/assertion/bad21d24/2024-03-01T12:54>{\n",
    "    ?bb_obj a crm:E22_Human-Made_Object. }\n",
    "}\n",
    "```"
   ]
  },
  {
   "cell_type": "code",
   "execution_count": null,
   "metadata": {},
   "outputs": [],
   "source": [
    "def cleanup_time(x: str):\n",
    "    # Check if x is not None and not an empty string\n",
    "    try:\n",
    "        if x == \"None\" :\n",
    "            return 0\n",
    "        if x and str(x).strip():\n",
    "            # Convert the cleaned string to an integer\n",
    "            return int(str(x).replace('\"', '').strip()[:4])\n",
    "    except ValueError:\n",
    "        return 0\n",
    "\n",
    "import pandas as pd\n",
    "\n",
    "df2 = pd.read_csv(\"CQ6a_bb.csv\")\n",
    "# df2 = df2.iloc[: , :-1]\n",
    "df2.columns = ['bb_obj', 'bb_actor', 'nmvw_actor', 'b_time', 'e_time']\n",
    "df2['b_time'] = df2['b_time'].apply(cleanup_time)\n",
    "df2['e_time'] = df2['e_time'].apply(cleanup_time)"
   ]
  },
  {
   "cell_type": "code",
   "execution_count": null,
   "metadata": {},
   "outputs": [],
   "source": [
    "def merge_with_condition(df1, df2):\n",
    "    merged_df = pd.merge(df1, df2, on='nmvw_actor', how='inner')\n",
    "    merged_df['time_diff_b'] = merged_df['b_time_y'] - merged_df['b_time_x']\n",
    "    merged_df['time_diff_e'] = merged_df['e_time_y'] - merged_df['e_time_x']\n",
    "    condition = (abs(merged_df['time_diff_b']) <= 20) & (abs(merged_df['time_diff_e']) <= 20)\n",
    "    return merged_df[condition]\n",
    "\n",
    "# Merge the dataframes based on the custom condition\n",
    "result_df = merge_with_condition(df1, df2)\n",
    "print(result_df.to_csv(index=False))\n",
    "print(\"Number of rows in result_df:\", len(result_df))"
   ]
  },
  {
   "cell_type": "code",
   "execution_count": null,
   "metadata": {},
   "outputs": [],
   "source": [
    "result_df.to_csv('CQ6a_surname.csv', index=False)"
   ]
  },
  {
   "cell_type": "markdown",
   "metadata": {},
   "source": [
    "### Plot distribution"
   ]
  },
  {
   "cell_type": "code",
   "execution_count": 3,
   "metadata": {},
   "outputs": [],
   "source": [
    "def cleanup(x: str):\n",
    "    return int(str(x).replace('\"', '').strip())\n",
    "\n",
    "import pandas as pd\n",
    "import math\n",
    "\n",
    "df_nmvw = pd.read_csv(\"object_per_actor_nmvw.csv\")\n",
    "df_nmvw = df_nmvw.iloc[: , :-1]\n",
    "df_nmvw.columns = ['no_object', 'nmvw_actor']\n",
    "df_nmvw = df_nmvw.map(lambda x: x.replace('\"', '').strip() if isinstance(x, str) else x)\n",
    "df_nmvw['no_object'] = df_nmvw['no_object'].apply(cleanup)\n",
    "\n",
    "# take out unkonw or onbekend\n",
    "df_nmvw = df_nmvw[df_nmvw['nmvw_actor']!=\"https://hdl.handle.net/20.500.11840/pi4332\"]\n",
    "\n",
    "df_nmvw = df_nmvw.sort_values(['no_object'], ascending=False).reset_index()\n",
    "df_nmvw = df_nmvw.drop('index', axis=1)"
   ]
  },
  {
   "cell_type": "code",
   "execution_count": 4,
   "metadata": {},
   "outputs": [],
   "source": [
    "df_CQ6a_nmvw = df_nmvw[df_nmvw['nmvw_actor'].isin(df1['nmvw_actor'])]"
   ]
  },
  {
   "cell_type": "code",
   "execution_count": 7,
   "metadata": {},
   "outputs": [],
   "source": [
    "import pandas as pd\n",
    "\n",
    "df_delta_deezy = pd.read_csv(\"CQ6a_deezy.csv\")\n",
    "# df_delta_deezy.columns = ['nmvw_actor']\n",
    "df_delta_deezy = df_nmvw[df_nmvw['nmvw_actor'].isin(df_delta_deezy['nmvw_actor'])]\n",
    "\n",
    "df_delta_exact = pd.read_csv(\"CQ6a_exact.csv\")\n",
    "# df_delta_exact.columns = ['nmvw_actor']\n",
    "df_delta_exact = df_nmvw[df_nmvw['nmvw_actor'].isin(df_delta_exact['nmvw_actor'])]\n",
    "\n",
    "df_delta_initial = pd.read_csv(\"CQ6a_initial.csv\")\n",
    "# df_delta_initial.columns = ['nmvw_actor']\n",
    "df_delta_initial = df_nmvw[df_nmvw['nmvw_actor'].isin(df_delta_initial['nmvw_actor'])]\n",
    "\n",
    "df_delta_surname = pd.read_csv(\"CQ6a_surname.csv\")\n",
    "# df_delta_surname.columns = ['nmvw_actor']\n",
    "df_delta_surname = df_nmvw[df_nmvw['nmvw_actor'].isin(df_delta_surname['nmvw_actor'])]\n",
    "\n",
    "df_delta_fuzzy = pd.read_csv(\"CQ6a_fuzzy.csv\")\n",
    "# df_delta_fuzzy.columns = ['nmvw_actor']\n",
    "df_delta_fuzzy = df_nmvw[df_nmvw['nmvw_actor'].isin(df_delta_fuzzy['nmvw_actor'])]"
   ]
  },
  {
   "cell_type": "code",
   "execution_count": 13,
   "metadata": {},
   "outputs": [
    {
     "data": {
      "text/plain": [
       "count      58.000000\n",
       "mean      375.758621\n",
       "std       937.892436\n",
       "min         1.000000\n",
       "25%        10.000000\n",
       "50%        42.000000\n",
       "75%       173.250000\n",
       "max      5996.000000\n",
       "Name: no_object, dtype: float64"
      ]
     },
     "execution_count": 13,
     "metadata": {},
     "output_type": "execute_result"
    }
   ],
   "source": [
    "df_delta_fuzzy['no_object'].describe()"
   ]
  },
  {
   "cell_type": "code",
   "execution_count": null,
   "metadata": {},
   "outputs": [],
   "source": [
    "# converting object number to log\n",
    "df_nmvw['no_object'] = df_nmvw['no_object'].apply(lambda x: math.log(x))\n",
    "df_CQ6a_nmvw['no_object'] = df_CQ6a_nmvw['no_object'].apply(lambda x: math.log(x))\n",
    "df_delta_deezy['no_object'] = df_delta_deezy['no_object'].apply(lambda x: math.log(x))\n",
    "df_delta_exact['no_object'] = df_delta_exact['no_object'].apply(lambda x: math.log(x))\n",
    "df_delta_initial['no_object'] = df_delta_initial['no_object'].apply(lambda x: math.log(x))\n",
    "df_delta_surname['no_object'] = df_delta_surname['no_object'].apply(lambda x: math.log(x))\n",
    "df_delta_fuzzy['no_object'] = df_delta_fuzzy['no_object'].apply(lambda x: math.log(x))"
   ]
  },
  {
   "cell_type": "code",
   "execution_count": null,
   "metadata": {},
   "outputs": [],
   "source": [
    "import pandas as pd\n",
    "import numpy as np\n",
    "import seaborn as sns\n",
    "import matplotlib.pyplot as plt\n",
    "\n",
    "\n",
    "# Sample data (replace with your actual data)\n",
    "data = {\n",
    "    'NMVW Actors': df_nmvw['no_object'],\n",
    "    'Actor-related to Time': df_CQ6a_nmvw['no_object'],\n",
    "    'Deezy Match': df_delta_deezy['no_object'] ,\n",
    "    'Exact Match': df_delta_exact['no_object'],\n",
    "    'Initial+Surname Match': df_delta_initial['no_object'],\n",
    "    'Surname Match': df_delta_surname['no_object'],\n",
    "    'Fuzzy Match': df_delta_fuzzy['no_object'] \n",
    "}\n",
    "\n",
    "# Combine data into a single DataFrame\n",
    "df = pd.DataFrame({key: pd.Series(value) for key, value in data.items()})\n",
    "\n",
    "# Melt the DataFrame to have a single column for series identifiers\n",
    "df_melted = df.melt(var_name='Series')\n",
    "\n",
    "# Create box plot using Seaborn\n",
    "sns.set_style(\"whitegrid\")\n",
    "plt.figure(figsize=(10, 6))\n",
    "ax = sns.boxplot(x='variable', y='value', data=pd.melt(df), widths=0.1)\n",
    "plt.setp(ax.get_xticklabels(), rotation=45)\n",
    "plt.title('Box Plot of Multiple Series')\n",
    "plt.xlabel('Actors')\n",
    "plt.ylabel('Logarithm of Object  Count')\n",
    "plt.show()"
   ]
  },
  {
   "cell_type": "markdown",
   "metadata": {},
   "source": [
    "# CQ-6b"
   ]
  },
  {
   "cell_type": "markdown",
   "metadata": {},
   "source": [
    "Query to generate [CQ6b_nmvw.csv](CQ6b_nmvw.csv): \n",
    "\n",
    "```\n",
    "PREFIX owl: <http://www.w3.org/2002/07/owl#>\n",
    "PREFIX crm: <http://www.cidoc-crm.org/cidoc-crm/>\n",
    "PREFIX skos: <http://www.w3.org/2004/02/skos/core#>\n",
    "PREFIX rdf: <http://www.w3.org/1999/02/22-rdf-syntax-ns#>\n",
    "PREFIX aat: <http://vocab.getty.edu/aat/>\n",
    "\n",
    "SELECT ?nmvw_obj ?nmvw_actor ?b_time ?e_time\n",
    "WHERE{\n",
    " GRAPH <https://pressingmatter.nl/NMVW/ccrdfobj.ttl>{\n",
    "     ?nmvw_acq crm:P23_transferred_title_from ?nmvw_actor.\n",
    "     ?nmvw_acq crm:P24_transferred_title_of ?nmvw_obj .\n",
    "     ?prov_activity ?p ?nmvw_acq.\n",
    "     ?prov_activity crm:P2_has_type aat:300055863 .\n",
    "     OPTIONAL{\n",
    "             ?prov_activity crm:P4_has_time-span ?time .\n",
    "             ?time crm:P82a_begin_of_the_begin ?b_time .\n",
    "             ?time crm:P82b_end_of_the_end ?e_time.\n",
    "     }\n",
    "    }\n",
    "}\n",
    "```"
   ]
  },
  {
   "cell_type": "code",
   "execution_count": null,
   "metadata": {},
   "outputs": [],
   "source": [
    "def cleanup_time(x: str):\n",
    "    try:\n",
    "        return int(str(x).replace('\"', '').strip()[-4:])\n",
    "    except ValueError:\n",
    "        return None\n",
    "\n",
    "\n",
    "import pandas as pd\n",
    "\n",
    "df1 = pd.read_csv(\"CQ6b_nmvw.csv\")\n",
    "df1 = df1.map(lambda x: x.replace('\"', '').strip() if isinstance(x, str) else x)\n",
    "df1 = df1.iloc[: , :-1]\n",
    "df1.columns = ['nmvw_obj', 'nmvw_actor', 'b_time', 'e_time']\n",
    "df1['b_time'] = df1['b_time'].apply(cleanup_time)\n",
    "df1['e_time'] = df1['e_time'].apply(cleanup_time)\n",
    "df1"
   ]
  },
  {
   "cell_type": "code",
   "execution_count": null,
   "metadata": {},
   "outputs": [],
   "source": [
    "df1_time_known = df1.dropna(subset=['b_time', 'e_time'])\n",
    "\n",
    "grouped_all_df1 = df1.groupby(['nmvw_actor'])['nmvw_obj'].nunique().reset_index()\n",
    "grouped_all_df1 = grouped_all_df1.sort_values(by='nmvw_obj', ascending=False)\n",
    "\n",
    "grouped_known_df1 = df1_time_known.groupby(['nmvw_actor'])['nmvw_obj'].nunique().reset_index()\n",
    "grouped_known_df1 = grouped_known_df1.sort_values(by='nmvw_obj', ascending=False)\n",
    "\n",
    "merged_df1 = pd.merge(grouped_known_df1, grouped_all_df1, on='nmvw_actor', how='inner')\n",
    "merged_df1['obj_time_unknown'] = merged_df1['nmvw_obj_y'] - merged_df1['nmvw_obj_x']\n",
    "print(f\"The number of objects we can possibly project the time of acquisition is: {merged_df1['obj_time_unknown'].sum()}\")\n"
   ]
  },
  {
   "cell_type": "markdown",
   "metadata": {},
   "source": [
    "Query to generate: [CQ6b_bb.csv](CQ6b_bb.csv)\n",
    "\n",
    "```\n",
    "PREFIX owl: <http://www.w3.org/2002/07/owl#>\n",
    "PREFIX crm: <http://www.cidoc-crm.org/cidoc-crm/>\n",
    "PREFIX skos: <http://www.w3.org/2004/02/skos/core#>\n",
    "PREFIX rdf: <http://www.w3.org/1999/02/22-rdf-syntax-ns#>\n",
    "PREFIX aat: <http://vocab.getty.edu/aat/>\n",
    "\n",
    "SELECT ?bb_obj ?bb_actor ?nmvw_actor ?b_time ?e_time\n",
    "WHERE{\n",
    "  \t?nmvw_actor owl:sameAs ?bb_actor .\n",
    "  \t?bb_acq2 crm:P23_transferred_title_from ?bb_actor . \n",
    "  \t?bb_acq2 crm:P24_transferred_title_of ?bb_obj .\n",
    "    ?prov_activity  crm:P9_consists_of ?bb_acq2 .\n",
    "    ?prov_activity crm:P2_has_type aat:300055863 .\n",
    "  \t\n",
    "    ?prov_activity crm:P9_consists_of ?bb_acq .\n",
    "  \t?bb_acq crm:P24_transferred_title_of ?bb_obj .\n",
    "\t  ?bb_acq crm:P4_has_time-span ?time .\n",
    "  \t?time crm:P82a_begin_of_the_begin ?b_time .\n",
    "    ?time crm:P82b_end_of_the_end ?e_time.\n",
    "  FILTER (?bb_acq != ?bb_acq2) .\n",
    "\n",
    "GRAPH <https://pressingmatter.nl/Bronbeek/Objects/Objects/assertion/bad21d24/2024-03-01T12:54>{\n",
    "    ?bb_obj a crm:E22_Human-Made_Object. }\n",
    "}\n",
    "```"
   ]
  },
  {
   "cell_type": "code",
   "execution_count": null,
   "metadata": {},
   "outputs": [],
   "source": [
    "def cleanup_time(x: str):\n",
    "    # Check if x is not None and not an empty string\n",
    "    try:\n",
    "        if x == \"None\" :\n",
    "            return 0\n",
    "        if x and str(x).strip():\n",
    "            # Convert the cleaned string to an integer\n",
    "            return int(str(x).replace('\"', '').strip()[:4])\n",
    "    except ValueError:\n",
    "        return 0\n",
    "\n",
    "import pandas as pd\n",
    "\n",
    "df2 = pd.read_csv(\"CQ6b_bb.csv\")\n",
    "# df2 = df2.iloc[: , :-1]\n",
    "df2.columns = ['bb_obj', 'bb_actor', 'nmvw_actor', 'b_time', 'e_time']\n",
    "df2['b_time'] = df2['b_time'].apply(cleanup_time)\n",
    "df2['e_time'] = df2['e_time'].apply(cleanup_time)"
   ]
  },
  {
   "cell_type": "code",
   "execution_count": null,
   "metadata": {},
   "outputs": [],
   "source": [
    "filtered_df2 = df2[(df2['b_time'] == 0) & (df2['e_time'] == 0)]\n",
    "\n",
    "# filtered_df2 = filtered_df2.drop_duplicates(subset=['bb_obj'])\n",
    "\n",
    "grouped_unknown_df2 = filtered_df2.groupby(['nmvw_actor'])['bb_obj'].nunique().reset_index()\n",
    "grouped_unknown_df2 = grouped_unknown_df2.sort_values(by='bb_obj', ascending=False)\n",
    "\n",
    "merged_df2 = pd.merge(grouped_known_df1, grouped_unknown_df2, on='nmvw_actor', how='inner')\n",
    "print(f\"There is {merged_df2['bb_obj'].sum()} objects from bronbeek dataset where don't know the acquisition date \\nand from the same collector, we know some acquisition date for nmvw object\")"
   ]
  },
  {
   "cell_type": "markdown",
   "metadata": {},
   "source": [
    "> same object can appear multiple times"
   ]
  },
  {
   "cell_type": "code",
   "execution_count": null,
   "metadata": {},
   "outputs": [],
   "source": [
    "merged_df2.to_csv('CQ6b_initial.csv', index=False)"
   ]
  },
  {
   "cell_type": "markdown",
   "metadata": {},
   "source": [
    "# CQ-6c"
   ]
  },
  {
   "cell_type": "markdown",
   "metadata": {},
   "source": [
    "Query to generate [CQ6c_nmvw.csv](CQ6c_nmvw.csv): \n",
    "```\n",
    "PREFIX owl: <http://www.w3.org/2002/07/owl#>\n",
    "PREFIX crm: <http://www.cidoc-crm.org/cidoc-crm/>\n",
    "PREFIX skos: <http://www.w3.org/2004/02/skos/core#>\n",
    "PREFIX rdf: <http://www.w3.org/1999/02/22-rdf-syntax-ns#>\n",
    "PREFIX aat: <http://vocab.getty.edu/aat/>\n",
    "\n",
    "SELECT ?nmvw_obj ?nmvw_prod_place ?nmvw_actor ?b_time ?e_time\n",
    "WHERE{\n",
    " GRAPH <https://pressingmatter.nl/NMVW/ccrdfobj.ttl>{\n",
    "     ?nmvw_acq crm:P23_transferred_title_from ?nmvw_actor.\n",
    "     ?nmvw_acq crm:P24_transferred_title_of ?nmvw_obj .\n",
    "     ?nmvw_obj crm:P108i_was_produced_by ?nmvw_prod .\n",
    "     ?nmvw_prod crm:P7_took_place_at ?nmvw_prod_place.\n",
    "     ?prov_activity ?p ?nmvw_acq.\n",
    "     ?prov_activity crm:P2_has_type aat:300055863 .\n",
    "     ?prov_activity crm:P4_has_time-span ?time .\n",
    "     ?time crm:P82a_begin_of_the_begin ?b_time .\n",
    "     ?time crm:P82b_end_of_the_end ?e_time.\n",
    "    }\n",
    "}\n",
    "```"
   ]
  },
  {
   "cell_type": "code",
   "execution_count": null,
   "metadata": {},
   "outputs": [],
   "source": [
    "def cleanup_time(x: str):\n",
    "    return int(str(x).replace('\"', '').strip()[-4:])\n",
    "\n",
    "import pandas as pd\n",
    "\n",
    "df1 = pd.read_csv(\"CQ6c_nmvw.csv\")\n",
    "df1 = df1.map(lambda x: x.replace('\"', '').strip() if isinstance(x, str) else x)\n",
    "df1 = df1.iloc[: , :-1]\n",
    "df1.columns = ['nmvw_obj', 'nmvw_prod_place', 'nmvw_actor', 'b_time', 'e_time']\n",
    "df1['b_time'] = df1['b_time'].apply(cleanup_time)\n",
    "df1['e_time'] = df1['e_time'].apply(cleanup_time)\n",
    "df1.head(15)"
   ]
  },
  {
   "cell_type": "code",
   "execution_count": null,
   "metadata": {},
   "outputs": [],
   "source": [
    "grouped_df1 = df1.groupby(['nmvw_actor', 'nmvw_prod_place', 'b_time', 'e_time'])['nmvw_obj'].nunique().reset_index()\n",
    "grouped_df1 = grouped_df1.sort_values(by='nmvw_obj', ascending=False)\n",
    "grouped_df1 = grouped_df1[grouped_df1['nmvw_obj'] != 1]\n",
    "\n",
    "print(f\"Number of objects that can be connected with at least one other object \\nbased on they are connected by same actor during similar time and similar location is: {grouped_df1['nmvw_obj'].sum()}\")"
   ]
  },
  {
   "cell_type": "markdown",
   "metadata": {},
   "source": [
    "Query to generate: [CQ6c_bb.csv](CQ6c_bb.csv)\n",
    "```\n",
    "PREFIX owl: <http://www.w3.org/2002/07/owl#>\n",
    "PREFIX crm: <http://www.cidoc-crm.org/cidoc-crm/>\n",
    "PREFIX skos: <http://www.w3.org/2004/02/skos/core#>\n",
    "PREFIX rdf: <http://www.w3.org/1999/02/22-rdf-syntax-ns#>\n",
    "PREFIX aat: <http://vocab.getty.edu/aat/>\n",
    "\n",
    "SELECT ?bb_obj ?bb_actor ?nmvw_actor ?b_time ?e_time\n",
    "WHERE{\n",
    "  \t?bb_acq2 crm:P23_transferred_title_from ?bb_actor . \n",
    "  \t?bb_acq2 crm:P24_transferred_title_of ?bb_obj .\n",
    "    ?prov_activity  crm:P9_consists_of ?bb_acq2 .\n",
    "    ?prov_activity crm:P2_has_type aat:300055863 .\n",
    "  \t\n",
    "    ?prov_activity crm:P9_consists_of ?bb_acq .\n",
    "  \t?bb_acq crm:P24_transferred_title_of ?bb_obj .\n",
    "\t  ?bb_acq crm:P4_has_time-span ?time .\n",
    "  \t?time crm:P82a_begin_of_the_begin ?b_time .\n",
    "    ?time crm:P82b_end_of_the_end ?e_time.\n",
    "  FILTER (?bb_acq != ?bb_acq2) .\n",
    "FILTER (?b_time != \"None\")\n",
    "\n",
    "GRAPH <https://pressingmatter.nl/Bronbeek/Objects/Objects/assertion/bad21d24/2024-03-01T12:54>{\n",
    "    ?bb_obj a crm:E22_Human-Made_Object. }\n",
    "}\n",
    "```"
   ]
  },
  {
   "cell_type": "code",
   "execution_count": null,
   "metadata": {},
   "outputs": [],
   "source": [
    "def cleanup_time(x: str):\n",
    "    # Check if x is not None and not an empty string\n",
    "    try:\n",
    "        if x == \"None\" :\n",
    "            return 0\n",
    "        if x and str(x).strip():\n",
    "            # Convert the cleaned string to an integer\n",
    "            return int(str(x).replace('\"', '').strip()[:4])\n",
    "    except ValueError:\n",
    "        return 0\n",
    "\n",
    "import pandas as pd\n",
    "\n",
    "df2 = pd.read_csv(\"CQ6c_bb.csv\")\n",
    "# df2 = df2.iloc[: , :-1]\n",
    "df2.columns = ['bb_obj', 'bb_actor', 'nmvw_actor', 'b_time', 'e_time']\n",
    "df2['b_time'] = df2['b_time'].apply(cleanup_time)\n",
    "df2['e_time'] = df2['e_time'].apply(cleanup_time)"
   ]
  },
  {
   "cell_type": "code",
   "execution_count": null,
   "metadata": {},
   "outputs": [],
   "source": [
    "print(f\"Total objects: {df2['bb_obj'].nunique()}\\nTotal objects: {df2['bb_actor'].nunique()}\\nAvg objects per actor: {df2['bb_obj'].nunique()/df2['bb_actor'].nunique()}\")"
   ]
  }
 ],
 "metadata": {
  "kernelspec": {
   "display_name": "pm_links",
   "language": "python",
   "name": "python3"
  },
  "language_info": {
   "codemirror_mode": {
    "name": "ipython",
    "version": 3
   },
   "file_extension": ".py",
   "mimetype": "text/x-python",
   "name": "python",
   "nbconvert_exporter": "python",
   "pygments_lexer": "ipython3",
   "version": "3.9.18"
  }
 },
 "nbformat": 4,
 "nbformat_minor": 2
}
