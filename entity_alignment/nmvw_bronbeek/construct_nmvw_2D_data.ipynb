{
 "cells": [
  {
   "cell_type": "code",
   "execution_count": 1,
   "id": "96d4a721",
   "metadata": {},
   "outputs": [],
   "source": [
    "import pandas\n",
    "import rdflib\n",
    "import glob, os, time\n",
    "from tqdm import tqdm"
   ]
  },
  {
   "cell_type": "code",
   "execution_count": null,
   "id": "e09d5776",
   "metadata": {},
   "outputs": [],
   "source": [
    "def construct_nmvw_2D_table(directory):\n",
    "    nmvw_2D_table = pandas.DataFrame(columns=[\"nmvw_uri\", \"pref_label\", \"birth_begin_time\", \"birth_end_time\", \"death_begin_time\", \"death_end_time\"])\n",
    "\n",
    "    try:\n",
    "        for subdir, dirs, files in os.walk(directory):\n",
    "            files = [f for f in files if f.endswith(\".ttl\")]\n",
    "            for file in tqdm(sorted(files, key=lambda s: int(s.split(\"-\")[-1].split(\".\")[-2]))):\n",
    "                if file is None:\n",
    "                    continue\n",
    "\n",
    "                g = rdflib.Graph().parse(os.path.join(directory, file))\n",
    "\n",
    "                if len(g) == 0:\n",
    "                    continue\n",
    "\n",
    "                q = \"\"\"\n",
    "                        prefix crm: <http://www.cidoc-crm.org/cidoc-crm/> \n",
    "\n",
    "                        SELECT ?s ?name ?birth_begin_time ?birth_end_time ?death_begin_time ?death_end_time WHERE{\n",
    "                            ?s a crm:E21_Person .\n",
    "                            ?s crm:P1_is_identified_by ?name_bnode .\n",
    "                            ?name_bnode crm:P2_has_type <http://vocab.getty.edu/aat/300404670> .\n",
    "                            ?name_bnode crm:P190_has_symbolic_content ?name .\n",
    "                        OPTIONAL{\n",
    "                            ?s crm:P98i_was_born ?birth_bNode .\n",
    "                            ?birth_bNode a crm:E67_Birth .\n",
    "                            ?birth_bNode crm:P4_has_time-span ?b_time.\n",
    "                            ?b_time a crm:E52_Time-Span .\n",
    "                            ?b_time crm:P82a_begin_of_the_begin ?birth_begin_time .\n",
    "                            ?b_time crm:P82b_end_of_the_end ?birth_end_time .\n",
    "                        }\n",
    "                        OPTIONAL{\n",
    "                            ?s crm:P100i_died_in ?death_bNode .\n",
    "                            ?death_bNode a crm:E69_Death .\n",
    "                            ?death_bNode crm:P4_has_time-span ?d_time.\n",
    "                            ?d_time a crm:E52_Time-Span .\n",
    "                            ?d_time crm:P82a_begin_of_the_begin ?death_begin_time .\n",
    "                            ?d_time crm:P82b_end_of_the_end ?death_end_time .\n",
    "                        }\n",
    "                        }\n",
    "                    \"\"\"\n",
    "\n",
    "                for row in g.query(q):\n",
    "                    temp_table = pandas.DataFrame([[row['s'], row['name'], row['birth_begin_time'], row['birth_end_time'], row['death_begin_time'], row['death_end_time'] ]],\n",
    "                                                  columns=[\"nmvw_uri\", \"pref_label\", \"birth_begin_time\", \"birth_end_time\", \"death_begin_time\", \"death_end_time\"])\n",
    "                    nmvw_2D_table = pandas.concat([nmvw_2D_table, temp_table], ignore_index=True)\n",
    "\n",
    "    finally:\n",
    "        print(nmvw_2D_table.shape)\n",
    "        nmvw_2D_table.to_csv('../nmvw_data/person_names.csv')\n",
    "        nmvw_2D_table.to_pickle('../nmvw_data/person_names.pkl')\n",
    "        "
   ]
  },
  {
   "cell_type": "code",
   "execution_count": null,
   "id": "fe3257ac",
   "metadata": {},
   "outputs": [],
   "source": [
    "def count_person(file):\n",
    "    df = pandas.read_csv(file)\n",
    "    print(f\"Total human instance found: {len(df.index)}\")"
   ]
  },
  {
   "cell_type": "code",
   "execution_count": null,
   "id": "affbd9d4",
   "metadata": {},
   "outputs": [],
   "source": [
    "construct_nmvw_2D_table(\"/Users/sarah_shoilee/PycharmProjects/entity_linking/nmvw_data/ccrdfconst\")"
   ]
  },
  {
   "cell_type": "code",
   "execution_count": 28,
   "id": "6e998424",
   "metadata": {},
   "outputs": [
    {
     "name": "stdout",
     "output_type": "stream",
     "text": [
      "Total human instance found: 39567\n"
     ]
    }
   ],
   "source": [
    "count_person(\"../nmvw_data/person_names.csv\")"
   ]
  },
  {
   "cell_type": "code",
   "execution_count": 29,
   "id": "0628c2d5",
   "metadata": {},
   "outputs": [],
   "source": [
    "df = pandas.read_pickle(\"../nmvw_data/person_names.pkl\")"
   ]
  },
  {
   "cell_type": "code",
   "execution_count": 30,
   "id": "e55678b8",
   "metadata": {},
   "outputs": [
    {
     "name": "stdout",
     "output_type": "stream",
     "text": [
      "Number of rows:39567 and number of unique person: 39567\n"
     ]
    }
   ],
   "source": [
    "\n",
    "print(f\"Number of rows:{len(df.index)} and number of unique person: {df['nmvw_uri'].nunique()}\")"
   ]
  },
  {
   "cell_type": "code",
   "execution_count": 31,
   "id": "d143365e",
   "metadata": {},
   "outputs": [],
   "source": [
    "df.dropna(subset=['birth_begin_time', 'birth_end_time',\t'death_begin_time',\t'death_end_time'], inplace=True)"
   ]
  },
  {
   "cell_type": "code",
   "execution_count": 32,
   "id": "1c9cf55f",
   "metadata": {},
   "outputs": [
    {
     "name": "stdout",
     "output_type": "stream",
     "text": [
      "Shape after dropiping none values: (3671, 6)\n"
     ]
    }
   ],
   "source": [
    "print(f\"Shape after dropiping none values: {df.shape}\")"
   ]
  }
 ],
 "metadata": {
  "kernelspec": {
   "display_name": "Python (py39deezy)",
   "language": "python",
   "name": "py39deezy"
  },
  "language_info": {
   "codemirror_mode": {
    "name": "ipython",
    "version": 3
   },
   "file_extension": ".py",
   "mimetype": "text/x-python",
   "name": "python",
   "nbconvert_exporter": "python",
   "pygments_lexer": "ipython3",
   "version": "3.9.12"
  }
 },
 "nbformat": 4,
 "nbformat_minor": 5
}
