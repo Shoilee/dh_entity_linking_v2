{
 "cells": [
  {
   "cell_type": "code",
   "execution_count": 3,
   "id": "b20d2d55",
   "metadata": {},
   "outputs": [],
   "source": [
    "import os"
   ]
  },
  {
   "cell_type": "code",
   "execution_count": 4,
   "id": "742c0b51",
   "metadata": {},
   "outputs": [
    {
     "name": "stdout",
     "output_type": "stream",
     "text": [
      "\u001b[92m2023-06-23 10:25:00\u001b[0m \u001b[95mSarahs-MacBook-Pro\u001b[0m \u001b[1m\u001b[90m[INFO]\u001b[0m \u001b[2;32mread input file: inputs/input_dfm.yaml\u001b[0m\n",
      "\u001b[92m2023-06-23 10:25:00\u001b[0m \u001b[95mSarahs-MacBook-Pro\u001b[0m \u001b[1m\u001b[90m[INFO]\u001b[0m \u001b[1;31mGPU was requested but not available.\u001b[0m\n",
      "\u001b[92m2023-06-23 10:25:00\u001b[0m \u001b[95mSarahs-MacBook-Pro\u001b[0m \u001b[1m\u001b[90m[INFO]\u001b[0m \u001b[1;32mpytorch will use: cpu\u001b[0m\n",
      "\u001b[92m2023-06-23 10:25:00\u001b[0m \u001b[95mSarahs-MacBook-Pro\u001b[0m \u001b[1m\u001b[90m[INFO]\u001b[0m \u001b[2;32mread CSV file: data/dataset-string-matching_train.txt\u001b[0m\n",
      "\u001b[92m2023-06-23 10:25:01\u001b[0m \u001b[95mSarahs-MacBook-Pro\u001b[0m \u001b[1m\u001b[90m[INFO]\u001b[0m \u001b[1;32mnumber of labels, True: 30190 and False: 30190\u001b[0m\n",
      "\u001b[92m2023-06-23 10:25:01\u001b[0m \u001b[95mSarahs-MacBook-Pro\u001b[0m \u001b[1m\u001b[90m[INFO]\u001b[0m \u001b[2;32mSplitting the Dataset\u001b[0m\n",
      "\u001b[92m2023-06-23 10:25:01\u001b[0m \u001b[95mSarahs-MacBook-Pro\u001b[0m \u001b[1m\u001b[90m[INFO]\u001b[0m \u001b[2;32mfinish splitting the Dataset. User time: 0.033341169357299805\u001b[0m\n",
      "\u001b[92m2023-06-23 10:25:01\u001b[0m \u001b[95mSarahs-MacBook-Pro\u001b[0m \u001b[1m\u001b[90m[INFO]\u001b[0m \u001b[1;32msplits are as follow:\n",
      "train    42266\n",
      "test      9058\n",
      "val       9056\n",
      "Name: split, dtype: int64\u001b[0m\n",
      "\u001b[92m2023-06-23 10:25:01\u001b[0m \u001b[95mSarahs-MacBook-Pro\u001b[0m \u001b[1m\u001b[90m[INFO]\u001b[0m \u001b[2;32mstart creating a lookup table and convert characters to indices\u001b[0m\n",
      "\u001b[92m2023-06-23 10:25:01\u001b[0m \u001b[95mSarahs-MacBook-Pro\u001b[0m \u001b[1m\u001b[90m[INFO]\u001b[0m \u001b[2;32m-- create vocabulary\u001b[0m\n",
      "\u001b[92m2023-06-23 10:25:04\u001b[0m \u001b[95mSarahs-MacBook-Pro\u001b[0m \u001b[1m\u001b[90m[INFO]\u001b[0m \u001b[2;32m-- convert tokens to indices\u001b[0m\n",
      "\u001b[92m2023-06-23 10:25:04\u001b[0m \u001b[95mSarahs-MacBook-Pro\u001b[0m \u001b[1m\u001b[90m[INFO]\u001b[0m \u001b[2;32m-- create a lookup table for tokens\u001b[0m\n",
      "\u001b[92m2023-06-23 10:25:04\u001b[0m \u001b[95mSarahs-MacBook-Pro\u001b[0m \u001b[1m\u001b[90m[INFO]\u001b[0m \u001b[2;32m-- read list of characters from ./inputs/characters_v001.vocab\u001b[0m\n",
      "\u001b[92m2023-06-23 10:25:05\u001b[0m \u001b[95mSarahs-MacBook-Pro\u001b[0m \u001b[1m\u001b[90m[INFO]\u001b[0m \u001b[2;32m-- Length of vocabulary: 53004\u001b[0m\n"
     ]
    },
    {
     "name": "stderr",
     "output_type": "stream",
     "text": [
      "                                                                                \r"
     ]
    },
    {
     "name": "stdout",
     "output_type": "stream",
     "text": [
      "\n",
      "\n",
      "\n",
      "\u001b[92m2023-06-23 10:25:07\u001b[0m \u001b[95mSarahs-MacBook-Pro\u001b[0m \u001b[1m\u001b[90m[INFO]\u001b[0m \u001b[95m******************************\u001b[0m\n",
      "\u001b[92m2023-06-23 10:25:07\u001b[0m \u001b[95mSarahs-MacBook-Pro\u001b[0m \u001b[1m\u001b[90m[INFO]\u001b[0m \u001b[95m**** (Bi-directional) GRU ****\u001b[0m\n",
      "\u001b[92m2023-06-23 10:25:07\u001b[0m \u001b[95mSarahs-MacBook-Pro\u001b[0m \u001b[1m\u001b[90m[INFO]\u001b[0m \u001b[95m******************************\u001b[0m\n",
      "\u001b[92m2023-06-23 10:25:07\u001b[0m \u001b[95mSarahs-MacBook-Pro\u001b[0m \u001b[1m\u001b[90m[INFO]\u001b[0m \u001b[2;32mread inputs\u001b[0m\n",
      "\u001b[92m2023-06-23 10:25:07\u001b[0m \u001b[95mSarahs-MacBook-Pro\u001b[0m \u001b[1m\u001b[90m[INFO]\u001b[0m \u001b[2;32mcreate a two_parallel_rnns model\u001b[0m\n",
      "\u001b[92m2023-06-23 10:25:07\u001b[0m \u001b[95mSarahs-MacBook-Pro\u001b[0m \u001b[1m\u001b[90m[INFO]\u001b[0m \u001b[1;32mstart fitting parameters\u001b[0m\n",
      "\u001b[92m2023-06-23 10:25:07\u001b[0m \u001b[95mSarahs-MacBook-Pro\u001b[0m \u001b[1m\u001b[90m[INFO]\u001b[0m \u001b[2;32mNumber of batches: 4227\u001b[0m\n",
      "\u001b[92m2023-06-23 10:25:07\u001b[0m \u001b[95mSarahs-MacBook-Pro\u001b[0m \u001b[1m\u001b[90m[INFO]\u001b[0m \u001b[2;32mNumber of epochs: 5\u001b[0m\n"
     ]
    },
    {
     "data": {
      "application/vnd.jupyter.widget-view+json": {
       "model_id": "6f6661e993b64ca8a58c0ab688cc769b",
       "version_major": 2,
       "version_minor": 0
      },
      "text/plain": [
       "  0%|          | 0/5 [00:00<?, ?it/s]"
      ]
     },
     "metadata": {},
     "output_type": "display_data"
    },
    {
     "data": {
      "application/vnd.jupyter.widget-view+json": {
       "model_id": "",
       "version_major": 2,
       "version_minor": 0
      },
      "text/plain": [
       "  0%|          | 0/4227 [00:00<?, ?it/s]"
      ]
     },
     "metadata": {},
     "output_type": "display_data"
    },
    {
     "name": "stdout",
     "output_type": "stream",
     "text": [
      "\n",
      "\n",
      "\n",
      "====================\n",
      "Total number of params: 3354963\n",
      "\n",
      "two_parallel_rnns (\n",
      "  (emb): Embedding(53004, 60), weights=((53004, 60),), parameters=3180240\n",
      "  (rnn_1): GRU(60, 60, num_layers=2, dropout=0.01, bidirectional=True), weights=((180, 60), (180, 60), (180,), (180,), (180, 60), (180, 60), (180,), (180,), (180, 120), (180, 60), (180,), (180,), (180, 120), (180, 60), (180,), (180,)), parameters=109440\n",
      "  (attn_step1): Linear(in_features=120, out_features=60, bias=True), weights=((60, 120), (60,)), parameters=7260\n",
      "  (attn_step2): Linear(in_features=60, out_features=1, bias=True), weights=((1, 60), (1,)), parameters=61\n",
      "  (fc1): Linear(in_features=480, out_features=120, bias=True), weights=((120, 480), (120,)), parameters=57720\n",
      "  (fc2): Linear(in_features=120, out_features=2, bias=True), weights=((2, 120), (2,)), parameters=242\n",
      ")\n",
      "====================\n",
      "\n",
      "\n",
      "\u001b[92m2023-06-23 10:38:32\u001b[0m \u001b[95mSarahs-MacBook-Pro\u001b[0m \u001b[1m\u001b[90m[INFO]\u001b[0m \u001b[0;33m06/23/2023_10:38:32 -- Epoch: 1/5; Train; loss: 0.196; acc: 0.916; precision: 0.904, recall: 0.931, macrof1: 0.916, weightedf1: 0.916\u001b[0m\n"
     ]
    },
    {
     "data": {
      "application/vnd.jupyter.widget-view+json": {
       "model_id": "",
       "version_major": 2,
       "version_minor": 0
      },
      "text/plain": [
       "  0%|          | 0/906 [00:00<?, ?it/s]"
      ]
     },
     "metadata": {},
     "output_type": "display_data"
    },
    {
     "name": "stdout",
     "output_type": "stream",
     "text": [
      "\u001b[92m2023-06-23 10:38:50\u001b[0m \u001b[95mSarahs-MacBook-Pro\u001b[0m \u001b[1m\u001b[90m[INFO]\u001b[0m \u001b[1;31m06/23/2023_10:38:50 -- Epoch: 1/5; Valid; loss: 0.095; acc: 0.965; precision: 0.963, recall: 0.967, macrof1: 0.965, weightedf1: 0.965\u001b[0m\n",
      "\u001b[92m2023-06-23 10:38:50\u001b[0m \u001b[95mSarahs-MacBook-Pro\u001b[0m \u001b[1m\u001b[90m[INFO]\u001b[0m \u001b[1;32msaving the model\u001b[0m\n"
     ]
    },
    {
     "data": {
      "application/vnd.jupyter.widget-view+json": {
       "model_id": "",
       "version_major": 2,
       "version_minor": 0
      },
      "text/plain": [
       "  0%|          | 0/4227 [00:00<?, ?it/s]"
      ]
     },
     "metadata": {},
     "output_type": "display_data"
    },
    {
     "name": "stdout",
     "output_type": "stream",
     "text": [
      "\u001b[92m2023-06-23 10:51:50\u001b[0m \u001b[95mSarahs-MacBook-Pro\u001b[0m \u001b[1m\u001b[90m[INFO]\u001b[0m \u001b[0;33m06/23/2023_10:51:50 -- Epoch: 2/5; Train; loss: 0.065; acc: 0.977; precision: 0.974, recall: 0.980, macrof1: 0.977, weightedf1: 0.977\u001b[0m\n"
     ]
    },
    {
     "data": {
      "application/vnd.jupyter.widget-view+json": {
       "model_id": "",
       "version_major": 2,
       "version_minor": 0
      },
      "text/plain": [
       "  0%|          | 0/906 [00:00<?, ?it/s]"
      ]
     },
     "metadata": {},
     "output_type": "display_data"
    },
    {
     "name": "stdout",
     "output_type": "stream",
     "text": [
      "\u001b[92m2023-06-23 10:52:09\u001b[0m \u001b[95mSarahs-MacBook-Pro\u001b[0m \u001b[1m\u001b[90m[INFO]\u001b[0m \u001b[1;31m06/23/2023_10:52:09 -- Epoch: 2/5; Valid; loss: 0.104; acc: 0.963; precision: 0.958, recall: 0.969, macrof1: 0.963, weightedf1: 0.963\u001b[0m\n",
      "\u001b[92m2023-06-23 10:52:09\u001b[0m \u001b[95mSarahs-MacBook-Pro\u001b[0m \u001b[1m\u001b[90m[INFO]\u001b[0m \u001b[1;32msaving the model\u001b[0m\n"
     ]
    },
    {
     "data": {
      "application/vnd.jupyter.widget-view+json": {
       "model_id": "",
       "version_major": 2,
       "version_minor": 0
      },
      "text/plain": [
       "  0%|          | 0/4227 [00:00<?, ?it/s]"
      ]
     },
     "metadata": {},
     "output_type": "display_data"
    },
    {
     "name": "stdout",
     "output_type": "stream",
     "text": [
      "\u001b[92m2023-06-23 11:05:12\u001b[0m \u001b[95mSarahs-MacBook-Pro\u001b[0m \u001b[1m\u001b[90m[INFO]\u001b[0m \u001b[0;33m06/23/2023_11:05:12 -- Epoch: 3/5; Train; loss: 0.034; acc: 0.988; precision: 0.987, recall: 0.990, macrof1: 0.988, weightedf1: 0.988\u001b[0m\n"
     ]
    },
    {
     "data": {
      "application/vnd.jupyter.widget-view+json": {
       "model_id": "",
       "version_major": 2,
       "version_minor": 0
      },
      "text/plain": [
       "  0%|          | 0/906 [00:00<?, ?it/s]"
      ]
     },
     "metadata": {},
     "output_type": "display_data"
    },
    {
     "name": "stdout",
     "output_type": "stream",
     "text": [
      "\u001b[92m2023-06-23 11:05:32\u001b[0m \u001b[95mSarahs-MacBook-Pro\u001b[0m \u001b[1m\u001b[90m[INFO]\u001b[0m \u001b[1;31m06/23/2023_11:05:32 -- Epoch: 3/5; Valid; loss: 0.082; acc: 0.974; precision: 0.975, recall: 0.973, macrof1: 0.974, weightedf1: 0.974\u001b[0m\n",
      "\u001b[92m2023-06-23 11:05:32\u001b[0m \u001b[95mSarahs-MacBook-Pro\u001b[0m \u001b[1m\u001b[90m[INFO]\u001b[0m \u001b[1;32msaving the model\u001b[0m\n"
     ]
    },
    {
     "data": {
      "application/vnd.jupyter.widget-view+json": {
       "model_id": "",
       "version_major": 2,
       "version_minor": 0
      },
      "text/plain": [
       "  0%|          | 0/4227 [00:00<?, ?it/s]"
      ]
     },
     "metadata": {},
     "output_type": "display_data"
    },
    {
     "name": "stdout",
     "output_type": "stream",
     "text": [
      "\u001b[92m2023-06-23 11:18:30\u001b[0m \u001b[95mSarahs-MacBook-Pro\u001b[0m \u001b[1m\u001b[90m[INFO]\u001b[0m \u001b[0;33m06/23/2023_11:18:30 -- Epoch: 4/5; Train; loss: 0.025; acc: 0.992; precision: 0.991, recall: 0.993, macrof1: 0.992, weightedf1: 0.992\u001b[0m\n"
     ]
    },
    {
     "data": {
      "application/vnd.jupyter.widget-view+json": {
       "model_id": "",
       "version_major": 2,
       "version_minor": 0
      },
      "text/plain": [
       "  0%|          | 0/906 [00:00<?, ?it/s]"
      ]
     },
     "metadata": {},
     "output_type": "display_data"
    },
    {
     "name": "stdout",
     "output_type": "stream",
     "text": [
      "\u001b[92m2023-06-23 11:18:49\u001b[0m \u001b[95mSarahs-MacBook-Pro\u001b[0m \u001b[1m\u001b[90m[INFO]\u001b[0m \u001b[1;31m06/23/2023_11:18:49 -- Epoch: 4/5; Valid; loss: 0.070; acc: 0.978; precision: 0.975, recall: 0.982, macrof1: 0.978, weightedf1: 0.978\u001b[0m\n",
      "\u001b[92m2023-06-23 11:18:49\u001b[0m \u001b[95mSarahs-MacBook-Pro\u001b[0m \u001b[1m\u001b[90m[INFO]\u001b[0m \u001b[1;32msaving the model\u001b[0m\n"
     ]
    },
    {
     "data": {
      "application/vnd.jupyter.widget-view+json": {
       "model_id": "",
       "version_major": 2,
       "version_minor": 0
      },
      "text/plain": [
       "  0%|          | 0/4227 [00:00<?, ?it/s]"
      ]
     },
     "metadata": {},
     "output_type": "display_data"
    },
    {
     "name": "stdout",
     "output_type": "stream",
     "text": [
      "\u001b[92m2023-06-23 11:31:54\u001b[0m \u001b[95mSarahs-MacBook-Pro\u001b[0m \u001b[1m\u001b[90m[INFO]\u001b[0m \u001b[0;33m06/23/2023_11:31:54 -- Epoch: 5/5; Train; loss: 0.017; acc: 0.994; precision: 0.993, recall: 0.995, macrof1: 0.994, weightedf1: 0.994\u001b[0m\n"
     ]
    },
    {
     "data": {
      "application/vnd.jupyter.widget-view+json": {
       "model_id": "",
       "version_major": 2,
       "version_minor": 0
      },
      "text/plain": [
       "  0%|          | 0/906 [00:00<?, ?it/s]"
      ]
     },
     "metadata": {},
     "output_type": "display_data"
    },
    {
     "name": "stdout",
     "output_type": "stream",
     "text": [
      "\u001b[92m2023-06-23 11:32:12\u001b[0m \u001b[95mSarahs-MacBook-Pro\u001b[0m \u001b[1m\u001b[90m[INFO]\u001b[0m \u001b[1;31m06/23/2023_11:32:12 -- Epoch: 5/5; Valid; loss: 0.079; acc: 0.978; precision: 0.975, recall: 0.981, macrof1: 0.978, weightedf1: 0.978\u001b[0m\n",
      "\u001b[92m2023-06-23 11:32:12\u001b[0m \u001b[95mSarahs-MacBook-Pro\u001b[0m \u001b[1m\u001b[90m[INFO]\u001b[0m \u001b[1;32msaving the model\u001b[0m\n",
      "\u001b[92m2023-06-23 11:32:13\u001b[0m \u001b[95mSarahs-MacBook-Pro\u001b[0m \u001b[1m\u001b[90m[INFO]\u001b[0m \u001b[1;32msaving the model with least valid loss (checkpoint: 4) at ./models/test001/test001.model\u001b[0m\n",
      "\n",
      "\n",
      "\n",
      "====================\n",
      "User time: 4025.8948\n",
      "====================\n"
     ]
    }
   ],
   "source": [
    "from DeezyMatch import train as dm_train\n",
    "\n",
    "# train a new model\n",
    "dm_train(input_file_path=os.path.join(\"inputs\", \"input_dfm.yaml\"), \n",
    "         dataset_path=os.path.join(\"data\", \"dataset-string-matching_train.txt\"), \n",
    "         model_name=\"test001\")"
   ]
  },
  {
   "cell_type": "markdown",
   "id": "d9762f35",
   "metadata": {},
   "source": [
    "## Model inference"
   ]
  },
  {
   "cell_type": "code",
   "execution_count": 6,
   "id": "e67de449",
   "metadata": {},
   "outputs": [
    {
     "name": "stdout",
     "output_type": "stream",
     "text": [
      "\u001b[92m2023-06-23 11:43:51\u001b[0m \u001b[95mSarahs-MacBook-Pro\u001b[0m \u001b[1m\u001b[90m[INFO]\u001b[0m \u001b[2;32mread input file: inputs/input_dfm.yaml\u001b[0m\n",
      "\u001b[92m2023-06-23 11:43:51\u001b[0m \u001b[95mSarahs-MacBook-Pro\u001b[0m \u001b[1m\u001b[90m[INFO]\u001b[0m \u001b[1;31mGPU was requested but not available.\u001b[0m\n",
      "\u001b[92m2023-06-23 11:43:51\u001b[0m \u001b[95mSarahs-MacBook-Pro\u001b[0m \u001b[1m\u001b[90m[INFO]\u001b[0m \u001b[1;32mpytorch will use: cpu\u001b[0m\n",
      "\u001b[92m2023-06-23 11:43:51\u001b[0m \u001b[95mSarahs-MacBook-Pro\u001b[0m \u001b[1m\u001b[90m[INFO]\u001b[0m \u001b[2;32mread CSV file: data/dataset-string-matching_train.txt\u001b[0m\n",
      "\u001b[92m2023-06-23 11:43:52\u001b[0m \u001b[95mSarahs-MacBook-Pro\u001b[0m \u001b[1m\u001b[90m[INFO]\u001b[0m \u001b[1;32mnumber of labels, True: 30190 and False: 30190\u001b[0m\n",
      "\u001b[92m2023-06-23 11:43:55\u001b[0m \u001b[95mSarahs-MacBook-Pro\u001b[0m \u001b[1m\u001b[90m[INFO]\u001b[0m \u001b[2;32mskipping 0 lines\u001b[0m\n"
     ]
    },
    {
     "name": "stderr",
     "output_type": "stream",
     "text": [
      "                                                                                \r"
     ]
    },
    {
     "data": {
      "application/vnd.jupyter.widget-view+json": {
       "model_id": "",
       "version_major": 2,
       "version_minor": 0
      },
      "text/plain": [
       "  0%|          | 0/6038 [00:00<?, ?it/s]"
      ]
     },
     "metadata": {},
     "output_type": "display_data"
    },
    {
     "name": "stdout",
     "output_type": "stream",
     "text": [
      "\u001b[92m2023-06-23 11:46:00\u001b[0m \u001b[95mSarahs-MacBook-Pro\u001b[0m \u001b[1m\u001b[90m[INFO]\u001b[0m \u001b[1;31m06/23/2023_11:46:00 -- Epoch: 0/0; Test; loss: 0.031; acc: 0.990; precision: 0.990, recall: 0.991, macrof1: 0.990, weightedf1: 0.990\u001b[0m\n",
      "--- 128.67285299301147 seconds ---\n"
     ]
    }
   ],
   "source": [
    "from DeezyMatch import inference as dm_inference\n",
    "\n",
    "# TODO change the file names to correct ones\n",
    "# model inference using a model stored at pretrained_model_path and pretrained_vocab_path \n",
    "dm_inference(input_file_path=os.path.join(\"inputs\", \"input_dfm.yaml\"),\n",
    "             dataset_path=os.path.join(\"data\", \"dataset-string-matching_train.txt\"), \n",
    "             pretrained_model_path=os.path.join(\"models\", \"test001\", \"test001.model\"), \n",
    "             pretrained_vocab_path=os.path.join(\"models\", \"test001\", \"test001.vocab\"))"
   ]
  },
  {
   "cell_type": "markdown",
   "id": "39540b11",
   "metadata": {},
   "source": [
    "## Generate query vectors"
   ]
  },
  {
   "cell_type": "code",
   "execution_count": 7,
   "id": "39e27275",
   "metadata": {},
   "outputs": [
    {
     "name": "stdout",
     "output_type": "stream",
     "text": [
      "\u001b[92m2023-06-23 11:46:06\u001b[0m \u001b[95mSarahs-MacBook-Pro\u001b[0m \u001b[1m\u001b[90m[INFO]\u001b[0m \u001b[2;32mread input file: inputs/input_dfm.yaml\u001b[0m\n",
      "\u001b[92m2023-06-23 11:46:06\u001b[0m \u001b[95mSarahs-MacBook-Pro\u001b[0m \u001b[1m\u001b[90m[INFO]\u001b[0m \u001b[1;31mGPU was requested but not available.\u001b[0m\n",
      "\u001b[92m2023-06-23 11:46:06\u001b[0m \u001b[95mSarahs-MacBook-Pro\u001b[0m \u001b[1m\u001b[90m[INFO]\u001b[0m \u001b[1;32mpytorch will use: cpu\u001b[0m\n",
      "\u001b[92m2023-06-23 11:46:06\u001b[0m \u001b[95mSarahs-MacBook-Pro\u001b[0m \u001b[1m\u001b[90m[INFO]\u001b[0m \u001b[2;32mread CSV file: data/queries.txt\u001b[0m\n",
      "\u001b[92m2023-06-23 11:46:06\u001b[0m \u001b[95mSarahs-MacBook-Pro\u001b[0m \u001b[1m\u001b[90m[INFO]\u001b[0m \u001b[1;32mnumber of labels, True: 6178 and False: 0\u001b[0m\n",
      "\u001b[92m2023-06-23 11:46:06\u001b[0m \u001b[95mSarahs-MacBook-Pro\u001b[0m \u001b[1m\u001b[90m[INFO]\u001b[0m \u001b[2;32mskipping 0 lines\u001b[0m\n"
     ]
    },
    {
     "name": "stderr",
     "output_type": "stream",
     "text": [
      "                                                                                "
     ]
    },
    {
     "name": "stdout",
     "output_type": "stream",
     "text": [
      "\u001b[92m2023-06-23 11:46:06\u001b[0m \u001b[95mSarahs-MacBook-Pro\u001b[0m \u001b[1m\u001b[90m[INFO]\u001b[0m \u001b[2;32msave test-data-class: /Users/sarah_shoilee/PycharmProjects/entity_linking/deezymatch/queries/test/dataframe.df\u001b[0m\n"
     ]
    },
    {
     "name": "stderr",
     "output_type": "stream",
     "text": [
      "\r"
     ]
    },
    {
     "data": {
      "application/vnd.jupyter.widget-view+json": {
       "model_id": "",
       "version_major": 2,
       "version_minor": 0
      },
      "text/plain": [
       "  0%|          | 0/618 [00:00<?, ?it/s]"
      ]
     },
     "metadata": {},
     "output_type": "display_data"
    },
    {
     "name": "stdout",
     "output_type": "stream",
     "text": [
      "--- 7.845293998718262 seconds ---\n"
     ]
    }
   ],
   "source": [
    "from DeezyMatch import inference as dm_inference\n",
    "\n",
    "# generate vectors for queries (specified in dataset_path) \n",
    "# using a model stored at pretrained_model_path and pretrained_vocab_path \n",
    "dm_inference(os.path.join(\"inputs\", \"input_dfm.yaml\"),\n",
    "             dataset_path=os.path.join(\"data\", \"queries.txt\"), \n",
    "             pretrained_model_path=os.path.join(\"models\", \"test001\", \"test001.model\"), \n",
    "             pretrained_vocab_path=os.path.join(\"models\", \"test001\", \"test001.vocab\"),\n",
    "             inference_mode=\"vect\",\n",
    "             scenario=\"queries/test\")"
   ]
  },
  {
   "cell_type": "code",
   "execution_count": 8,
   "id": "fd5fe211",
   "metadata": {},
   "outputs": [
    {
     "name": "stdout",
     "output_type": "stream",
     "text": [
      "\u001b[92m2023-06-23 11:46:15\u001b[0m \u001b[95mSarahs-MacBook-Pro\u001b[0m \u001b[1m\u001b[90m[INFO]\u001b[0m \u001b[2;32mread input file: queries/test/input_dfm.yaml\u001b[0m\n",
      "\u001b[92m2023-06-23 11:46:15\u001b[0m \u001b[95mSarahs-MacBook-Pro\u001b[0m \u001b[1m\u001b[90m[INFO]\u001b[0m \u001b[1;31mGPU was requested but not available.\u001b[0m\n",
      "\u001b[92m2023-06-23 11:46:15\u001b[0m \u001b[95mSarahs-MacBook-Pro\u001b[0m \u001b[1m\u001b[90m[INFO]\u001b[0m \u001b[1;32mpytorch will use: cpu\u001b[0m\n",
      "\n",
      "\n",
      "-- Combine vectors\n",
      "Reading vectors from queries/test/embeddings/rnn_fwd*\n",
      "0000000 queries/test/embeddings/rnn_fwd_0\n",
      "0000010 queries/test/embeddings/rnn_fwd_10\n",
      "0000020 queries/test/embeddings/rnn_fwd_20\n",
      "0000030 queries/test/embeddings/rnn_fwd_30\n",
      "0000040 queries/test/embeddings/rnn_fwd_40\n",
      "0000050 queries/test/embeddings/rnn_fwd_50\n",
      "0000060 queries/test/embeddings/rnn_fwd_60\n",
      "0000070 queries/test/embeddings/rnn_fwd_70\n",
      "0000080 queries/test/embeddings/rnn_fwd_80\n",
      "0000090 queries/test/embeddings/rnn_fwd_90\n",
      "0000100 queries/test/embeddings/rnn_fwd_100\n",
      "0000110 queries/test/embeddings/rnn_fwd_110\n",
      "0000120 queries/test/embeddings/rnn_fwd_120\n",
      "0000130 queries/test/embeddings/rnn_fwd_130\n",
      "0000140 queries/test/embeddings/rnn_fwd_140\n",
      "0000150 queries/test/embeddings/rnn_fwd_150\n",
      "0000160 queries/test/embeddings/rnn_fwd_160\n",
      "0000170 queries/test/embeddings/rnn_fwd_170\n",
      "0000180 queries/test/embeddings/rnn_fwd_180\n",
      "0000190 queries/test/embeddings/rnn_fwd_190\n",
      "0000200 queries/test/embeddings/rnn_fwd_200\n",
      "0000210 queries/test/embeddings/rnn_fwd_210\n",
      "0000220 queries/test/embeddings/rnn_fwd_220\n",
      "0000230 queries/test/embeddings/rnn_fwd_230\n",
      "0000240 queries/test/embeddings/rnn_fwd_240\n",
      "0000250 queries/test/embeddings/rnn_fwd_250\n",
      "0000260 queries/test/embeddings/rnn_fwd_260\n",
      "0000270 queries/test/embeddings/rnn_fwd_270\n",
      "0000280 queries/test/embeddings/rnn_fwd_280\n",
      "0000290 queries/test/embeddings/rnn_fwd_290\n",
      "0000300 queries/test/embeddings/rnn_fwd_300\n",
      "0000310 queries/test/embeddings/rnn_fwd_310\n",
      "0000320 queries/test/embeddings/rnn_fwd_320\n",
      "0000330 queries/test/embeddings/rnn_fwd_330\n",
      "0000340 queries/test/embeddings/rnn_fwd_340\n",
      "0000350 queries/test/embeddings/rnn_fwd_350\n",
      "0000360 queries/test/embeddings/rnn_fwd_360\n",
      "0000370 queries/test/embeddings/rnn_fwd_370\n",
      "0000380 queries/test/embeddings/rnn_fwd_380\n",
      "0000390 queries/test/embeddings/rnn_fwd_390\n",
      "0000400 queries/test/embeddings/rnn_fwd_400\n",
      "0000410 queries/test/embeddings/rnn_fwd_410\n",
      "0000420 queries/test/embeddings/rnn_fwd_420\n",
      "0000430 queries/test/embeddings/rnn_fwd_430\n",
      "0000440 queries/test/embeddings/rnn_fwd_440\n",
      "0000450 queries/test/embeddings/rnn_fwd_450\n",
      "0000460 queries/test/embeddings/rnn_fwd_460\n",
      "0000470 queries/test/embeddings/rnn_fwd_470\n",
      "0000480 queries/test/embeddings/rnn_fwd_480\n",
      "0000490 queries/test/embeddings/rnn_fwd_490\n",
      "0000500 queries/test/embeddings/rnn_fwd_500\n",
      "0000510 queries/test/embeddings/rnn_fwd_510\n",
      "0000520 queries/test/embeddings/rnn_fwd_520\n",
      "0000530 queries/test/embeddings/rnn_fwd_530\n",
      "0000540 queries/test/embeddings/rnn_fwd_540\n",
      "0000550 queries/test/embeddings/rnn_fwd_550\n",
      "0000560 queries/test/embeddings/rnn_fwd_560\n",
      "0000570 queries/test/embeddings/rnn_fwd_570\n",
      "0000580 queries/test/embeddings/rnn_fwd_580\n",
      "0000590 queries/test/embeddings/rnn_fwd_590\n",
      "0000600 queries/test/embeddings/rnn_fwd_600\n",
      "0000610 queries/test/embeddings/rnn_fwd_610\n",
      "\n",
      "\n",
      "-- Combine IDs\n",
      "\n",
      "0000000 queries/test/embeddings/rnn_indxs_0\n",
      "0000010 queries/test/embeddings/rnn_indxs_10\n",
      "0000020 queries/test/embeddings/rnn_indxs_20\n",
      "0000030 queries/test/embeddings/rnn_indxs_30\n",
      "0000040 queries/test/embeddings/rnn_indxs_40\n",
      "0000050 queries/test/embeddings/rnn_indxs_50\n",
      "0000060 queries/test/embeddings/rnn_indxs_60\n",
      "0000070 queries/test/embeddings/rnn_indxs_70\n",
      "0000080 queries/test/embeddings/rnn_indxs_80\n",
      "0000090 queries/test/embeddings/rnn_indxs_90\n",
      "0000100 queries/test/embeddings/rnn_indxs_100\n",
      "0000110 queries/test/embeddings/rnn_indxs_110\n",
      "0000120 queries/test/embeddings/rnn_indxs_120\n",
      "0000130 queries/test/embeddings/rnn_indxs_130\n",
      "0000140 queries/test/embeddings/rnn_indxs_140\n",
      "0000150 queries/test/embeddings/rnn_indxs_150\n",
      "0000160 queries/test/embeddings/rnn_indxs_160\n",
      "0000170 queries/test/embeddings/rnn_indxs_170\n",
      "0000180 queries/test/embeddings/rnn_indxs_180\n",
      "0000190 queries/test/embeddings/rnn_indxs_190\n",
      "0000200 queries/test/embeddings/rnn_indxs_200\n",
      "0000210 queries/test/embeddings/rnn_indxs_210\n",
      "0000220 queries/test/embeddings/rnn_indxs_220\n",
      "0000230 queries/test/embeddings/rnn_indxs_230\n",
      "0000240 queries/test/embeddings/rnn_indxs_240\n",
      "0000250 queries/test/embeddings/rnn_indxs_250\n",
      "0000260 queries/test/embeddings/rnn_indxs_260\n",
      "0000270 queries/test/embeddings/rnn_indxs_270\n",
      "0000280 queries/test/embeddings/rnn_indxs_280\n",
      "0000290 queries/test/embeddings/rnn_indxs_290\n",
      "0000300 queries/test/embeddings/rnn_indxs_300\n",
      "0000310 queries/test/embeddings/rnn_indxs_310\n",
      "0000320 queries/test/embeddings/rnn_indxs_320\n",
      "0000330 queries/test/embeddings/rnn_indxs_330\n",
      "0000340 queries/test/embeddings/rnn_indxs_340\n",
      "0000350 queries/test/embeddings/rnn_indxs_350\n",
      "0000360 queries/test/embeddings/rnn_indxs_360\n",
      "0000370 queries/test/embeddings/rnn_indxs_370\n",
      "0000380 queries/test/embeddings/rnn_indxs_380\n",
      "0000390 queries/test/embeddings/rnn_indxs_390\n",
      "0000400 queries/test/embeddings/rnn_indxs_400\n",
      "0000410 queries/test/embeddings/rnn_indxs_410\n",
      "0000420 queries/test/embeddings/rnn_indxs_420\n",
      "0000430 queries/test/embeddings/rnn_indxs_430\n",
      "0000440 queries/test/embeddings/rnn_indxs_440\n",
      "0000450 queries/test/embeddings/rnn_indxs_450\n",
      "0000460 queries/test/embeddings/rnn_indxs_460\n",
      "0000470 queries/test/embeddings/rnn_indxs_470\n",
      "0000480 queries/test/embeddings/rnn_indxs_480\n",
      "0000490 queries/test/embeddings/rnn_indxs_490\n",
      "0000500 queries/test/embeddings/rnn_indxs_500\n",
      "0000510 queries/test/embeddings/rnn_indxs_510\n",
      "0000520 queries/test/embeddings/rnn_indxs_520\n",
      "0000530 queries/test/embeddings/rnn_indxs_530\n",
      "0000540 queries/test/embeddings/rnn_indxs_540\n",
      "0000550 queries/test/embeddings/rnn_indxs_550\n",
      "0000560 queries/test/embeddings/rnn_indxs_560\n",
      "0000570 queries/test/embeddings/rnn_indxs_570\n",
      "0000580 queries/test/embeddings/rnn_indxs_580\n",
      "0000590 queries/test/embeddings/rnn_indxs_590\n",
      "0000600 queries/test/embeddings/rnn_indxs_600\n",
      "0000610 queries/test/embeddings/rnn_indxs_610\n",
      "\n",
      "\n",
      "-- Combine vectors\n",
      "Reading vectors from queries/test/embeddings/rnn_bwd*\n",
      "0000000 queries/test/embeddings/rnn_bwd_0\n",
      "0000010 queries/test/embeddings/rnn_bwd_10\n",
      "0000020 queries/test/embeddings/rnn_bwd_20\n",
      "0000030 queries/test/embeddings/rnn_bwd_30\n",
      "0000040 queries/test/embeddings/rnn_bwd_40\n",
      "0000050 queries/test/embeddings/rnn_bwd_50\n",
      "0000060 queries/test/embeddings/rnn_bwd_60\n",
      "0000070 queries/test/embeddings/rnn_bwd_70\n",
      "0000080 queries/test/embeddings/rnn_bwd_80\n",
      "0000090 queries/test/embeddings/rnn_bwd_90\n",
      "0000100 queries/test/embeddings/rnn_bwd_100\n",
      "0000110 queries/test/embeddings/rnn_bwd_110\n",
      "0000120 queries/test/embeddings/rnn_bwd_120\n",
      "0000130 queries/test/embeddings/rnn_bwd_130\n",
      "0000140 queries/test/embeddings/rnn_bwd_140\n",
      "0000150 queries/test/embeddings/rnn_bwd_150\n",
      "0000160 queries/test/embeddings/rnn_bwd_160\n",
      "0000170 queries/test/embeddings/rnn_bwd_170\n",
      "0000180 queries/test/embeddings/rnn_bwd_180\n",
      "0000190 queries/test/embeddings/rnn_bwd_190\n",
      "0000200 queries/test/embeddings/rnn_bwd_200\n",
      "0000210 queries/test/embeddings/rnn_bwd_210\n",
      "0000220 queries/test/embeddings/rnn_bwd_220\n",
      "0000230 queries/test/embeddings/rnn_bwd_230\n",
      "0000240 queries/test/embeddings/rnn_bwd_240\n",
      "0000250 queries/test/embeddings/rnn_bwd_250\n",
      "0000260 queries/test/embeddings/rnn_bwd_260\n",
      "0000270 queries/test/embeddings/rnn_bwd_270\n",
      "0000280 queries/test/embeddings/rnn_bwd_280\n",
      "0000290 queries/test/embeddings/rnn_bwd_290\n",
      "0000300 queries/test/embeddings/rnn_bwd_300\n",
      "0000310 queries/test/embeddings/rnn_bwd_310\n",
      "0000320 queries/test/embeddings/rnn_bwd_320\n",
      "0000330 queries/test/embeddings/rnn_bwd_330\n",
      "0000340 queries/test/embeddings/rnn_bwd_340\n",
      "0000350 queries/test/embeddings/rnn_bwd_350\n",
      "0000360 queries/test/embeddings/rnn_bwd_360\n",
      "0000370 queries/test/embeddings/rnn_bwd_370\n",
      "0000380 queries/test/embeddings/rnn_bwd_380\n",
      "0000390 queries/test/embeddings/rnn_bwd_390\n",
      "0000400 queries/test/embeddings/rnn_bwd_400\n",
      "0000410 queries/test/embeddings/rnn_bwd_410\n",
      "0000420 queries/test/embeddings/rnn_bwd_420\n",
      "0000430 queries/test/embeddings/rnn_bwd_430\n",
      "0000440 queries/test/embeddings/rnn_bwd_440\n",
      "0000450 queries/test/embeddings/rnn_bwd_450\n",
      "0000460 queries/test/embeddings/rnn_bwd_460\n",
      "0000470 queries/test/embeddings/rnn_bwd_470\n",
      "0000480 queries/test/embeddings/rnn_bwd_480\n",
      "0000490 queries/test/embeddings/rnn_bwd_490\n",
      "0000500 queries/test/embeddings/rnn_bwd_500\n",
      "0000510 queries/test/embeddings/rnn_bwd_510\n",
      "0000520 queries/test/embeddings/rnn_bwd_520\n",
      "0000530 queries/test/embeddings/rnn_bwd_530\n",
      "0000540 queries/test/embeddings/rnn_bwd_540\n"
     ]
    },
    {
     "name": "stdout",
     "output_type": "stream",
     "text": [
      "0000550 queries/test/embeddings/rnn_bwd_550\n",
      "0000560 queries/test/embeddings/rnn_bwd_560\n",
      "0000570 queries/test/embeddings/rnn_bwd_570\n",
      "0000580 queries/test/embeddings/rnn_bwd_580\n",
      "0000590 queries/test/embeddings/rnn_bwd_590\n",
      "0000600 queries/test/embeddings/rnn_bwd_600\n",
      "0000610 queries/test/embeddings/rnn_bwd_610\n",
      "\n",
      "\n",
      "-- Combine IDs\n",
      "\n",
      "0000000 queries/test/embeddings/rnn_indxs_0\n",
      "0000010 queries/test/embeddings/rnn_indxs_10\n",
      "0000020 queries/test/embeddings/rnn_indxs_20\n",
      "0000030 queries/test/embeddings/rnn_indxs_30\n",
      "0000040 queries/test/embeddings/rnn_indxs_40\n",
      "0000050 queries/test/embeddings/rnn_indxs_50\n",
      "0000060 queries/test/embeddings/rnn_indxs_60\n",
      "0000070 queries/test/embeddings/rnn_indxs_70\n",
      "0000080 queries/test/embeddings/rnn_indxs_80\n",
      "0000090 queries/test/embeddings/rnn_indxs_90\n",
      "0000100 queries/test/embeddings/rnn_indxs_100\n",
      "0000110 queries/test/embeddings/rnn_indxs_110\n",
      "0000120 queries/test/embeddings/rnn_indxs_120\n",
      "0000130 queries/test/embeddings/rnn_indxs_130\n",
      "0000140 queries/test/embeddings/rnn_indxs_140\n",
      "0000150 queries/test/embeddings/rnn_indxs_150\n",
      "0000160 queries/test/embeddings/rnn_indxs_160\n",
      "0000170 queries/test/embeddings/rnn_indxs_170\n",
      "0000180 queries/test/embeddings/rnn_indxs_180\n",
      "0000190 queries/test/embeddings/rnn_indxs_190\n",
      "0000200 queries/test/embeddings/rnn_indxs_200\n",
      "0000210 queries/test/embeddings/rnn_indxs_210\n",
      "0000220 queries/test/embeddings/rnn_indxs_220\n",
      "0000230 queries/test/embeddings/rnn_indxs_230\n",
      "0000240 queries/test/embeddings/rnn_indxs_240\n",
      "0000250 queries/test/embeddings/rnn_indxs_250\n",
      "0000260 queries/test/embeddings/rnn_indxs_260\n",
      "0000270 queries/test/embeddings/rnn_indxs_270\n",
      "0000280 queries/test/embeddings/rnn_indxs_280\n",
      "0000290 queries/test/embeddings/rnn_indxs_290\n",
      "0000300 queries/test/embeddings/rnn_indxs_300\n",
      "0000310 queries/test/embeddings/rnn_indxs_310\n",
      "0000320 queries/test/embeddings/rnn_indxs_320\n",
      "0000330 queries/test/embeddings/rnn_indxs_330\n",
      "0000340 queries/test/embeddings/rnn_indxs_340\n",
      "0000350 queries/test/embeddings/rnn_indxs_350\n",
      "0000360 queries/test/embeddings/rnn_indxs_360\n",
      "0000370 queries/test/embeddings/rnn_indxs_370\n",
      "0000380 queries/test/embeddings/rnn_indxs_380\n",
      "0000390 queries/test/embeddings/rnn_indxs_390\n",
      "0000400 queries/test/embeddings/rnn_indxs_400\n",
      "0000410 queries/test/embeddings/rnn_indxs_410\n",
      "0000420 queries/test/embeddings/rnn_indxs_420\n",
      "0000430 queries/test/embeddings/rnn_indxs_430\n",
      "0000440 queries/test/embeddings/rnn_indxs_440\n",
      "0000450 queries/test/embeddings/rnn_indxs_450\n",
      "0000460 queries/test/embeddings/rnn_indxs_460\n",
      "0000470 queries/test/embeddings/rnn_indxs_470\n",
      "0000480 queries/test/embeddings/rnn_indxs_480\n",
      "0000490 queries/test/embeddings/rnn_indxs_490\n",
      "0000500 queries/test/embeddings/rnn_indxs_500\n",
      "0000510 queries/test/embeddings/rnn_indxs_510\n",
      "0000520 queries/test/embeddings/rnn_indxs_520\n",
      "0000530 queries/test/embeddings/rnn_indxs_530\n",
      "0000540 queries/test/embeddings/rnn_indxs_540\n",
      "0000550 queries/test/embeddings/rnn_indxs_550\n",
      "0000560 queries/test/embeddings/rnn_indxs_560\n",
      "0000570 queries/test/embeddings/rnn_indxs_570\n",
      "0000580 queries/test/embeddings/rnn_indxs_580\n",
      "0000590 queries/test/embeddings/rnn_indxs_590\n",
      "0000600 queries/test/embeddings/rnn_indxs_600\n",
      "0000610 queries/test/embeddings/rnn_indxs_610\n",
      "--- 4893.225878000259 seconds ---\n"
     ]
    }
   ],
   "source": [
    "from DeezyMatch import combine_vecs\n",
    "\n",
    "# combine vectors stored in queries/test and save them in combined/queries_test\n",
    "combine_vecs(rnn_passes=['fwd', 'bwd'], \n",
    "             input_scenario=os.path.join('queries', 'test'), \n",
    "             output_scenario=os.path.join('combined', 'queries_test'), \n",
    "             print_every=10)"
   ]
  },
  {
   "cell_type": "markdown",
   "id": "0a4555b3",
   "metadata": {},
   "source": [
    "## Generate candidate vectors"
   ]
  },
  {
   "cell_type": "code",
   "execution_count": 9,
   "id": "816aa77d",
   "metadata": {},
   "outputs": [
    {
     "name": "stdout",
     "output_type": "stream",
     "text": [
      "\u001b[92m2023-06-23 11:46:24\u001b[0m \u001b[95mSarahs-MacBook-Pro\u001b[0m \u001b[1m\u001b[90m[INFO]\u001b[0m \u001b[2;32mread input file: inputs/input_dfm.yaml\u001b[0m\n",
      "\u001b[92m2023-06-23 11:46:25\u001b[0m \u001b[95mSarahs-MacBook-Pro\u001b[0m \u001b[1m\u001b[90m[INFO]\u001b[0m \u001b[1;31mGPU was requested but not available.\u001b[0m\n",
      "\u001b[92m2023-06-23 11:46:25\u001b[0m \u001b[95mSarahs-MacBook-Pro\u001b[0m \u001b[1m\u001b[90m[INFO]\u001b[0m \u001b[1;32mpytorch will use: cpu\u001b[0m\n",
      "\u001b[92m2023-06-23 11:46:25\u001b[0m \u001b[95mSarahs-MacBook-Pro\u001b[0m \u001b[1m\u001b[90m[INFO]\u001b[0m \u001b[2;32mread CSV file: data/candidates.txt\u001b[0m\n",
      "\u001b[92m2023-06-23 11:46:25\u001b[0m \u001b[95mSarahs-MacBook-Pro\u001b[0m \u001b[1m\u001b[90m[INFO]\u001b[0m \u001b[1;32mnumber of labels, True: 14222 and False: 0\u001b[0m\n",
      "\u001b[92m2023-06-23 11:46:25\u001b[0m \u001b[95mSarahs-MacBook-Pro\u001b[0m \u001b[1m\u001b[90m[INFO]\u001b[0m \u001b[2;32mskipping 0 lines\u001b[0m\n"
     ]
    },
    {
     "name": "stderr",
     "output_type": "stream",
     "text": [
      "                                                                                "
     ]
    },
    {
     "name": "stdout",
     "output_type": "stream",
     "text": [
      "\u001b[92m2023-06-23 11:46:25\u001b[0m \u001b[95mSarahs-MacBook-Pro\u001b[0m \u001b[1m\u001b[90m[INFO]\u001b[0m \u001b[2;32msave test-data-class: /Users/sarah_shoilee/PycharmProjects/entity_linking/deezymatch/candidates/test/dataframe.df\u001b[0m\n"
     ]
    },
    {
     "name": "stderr",
     "output_type": "stream",
     "text": [
      "\r"
     ]
    },
    {
     "data": {
      "application/vnd.jupyter.widget-view+json": {
       "model_id": "",
       "version_major": 2,
       "version_minor": 0
      },
      "text/plain": [
       "  0%|          | 0/1423 [00:00<?, ?it/s]"
      ]
     },
     "metadata": {},
     "output_type": "display_data"
    },
    {
     "name": "stdout",
     "output_type": "stream",
     "text": [
      "--- 17.521093130111694 seconds ---\n"
     ]
    }
   ],
   "source": [
    "from DeezyMatch import inference as dm_inference\n",
    "\n",
    "# generate vectors for candidates (specified in dataset_path) \n",
    "# using a model stored at pretrained_model_path and pretrained_vocab_path \n",
    "dm_inference(os.path.join(\"inputs\", \"input_dfm.yaml\"),\n",
    "             dataset_path=os.path.join(\"data\", \"candidates.txt\"), \n",
    "             pretrained_model_path=os.path.join(\"models\", \"test001\", \"test001.model\"), \n",
    "             pretrained_vocab_path=os.path.join(\"models\", \"test001\", \"test001.vocab\"),\n",
    "             inference_mode=\"vect\",\n",
    "             scenario=\"candidates/test\")"
   ]
  },
  {
   "cell_type": "code",
   "execution_count": 10,
   "id": "bb6a8268",
   "metadata": {},
   "outputs": [
    {
     "name": "stdout",
     "output_type": "stream",
     "text": [
      "\u001b[92m2023-06-23 11:46:45\u001b[0m \u001b[95mSarahs-MacBook-Pro\u001b[0m \u001b[1m\u001b[90m[INFO]\u001b[0m \u001b[2;32mread input file: candidates/test/input_dfm.yaml\u001b[0m\n",
      "\u001b[92m2023-06-23 11:46:45\u001b[0m \u001b[95mSarahs-MacBook-Pro\u001b[0m \u001b[1m\u001b[90m[INFO]\u001b[0m \u001b[1;31mGPU was requested but not available.\u001b[0m\n",
      "\u001b[92m2023-06-23 11:46:45\u001b[0m \u001b[95mSarahs-MacBook-Pro\u001b[0m \u001b[1m\u001b[90m[INFO]\u001b[0m \u001b[1;32mpytorch will use: cpu\u001b[0m\n",
      "\n",
      "\n",
      "-- Combine vectors\n",
      "Reading vectors from candidates/test/embeddings/rnn_fwd*\n",
      "0000000 candidates/test/embeddings/rnn_fwd_0\n",
      "0000010 candidates/test/embeddings/rnn_fwd_10\n",
      "0000020 candidates/test/embeddings/rnn_fwd_20\n",
      "0000030 candidates/test/embeddings/rnn_fwd_30\n",
      "0000040 candidates/test/embeddings/rnn_fwd_40\n",
      "0000050 candidates/test/embeddings/rnn_fwd_50\n",
      "0000060 candidates/test/embeddings/rnn_fwd_60\n",
      "0000070 candidates/test/embeddings/rnn_fwd_70\n",
      "0000080 candidates/test/embeddings/rnn_fwd_80\n",
      "0000090 candidates/test/embeddings/rnn_fwd_90\n",
      "0000100 candidates/test/embeddings/rnn_fwd_100\n",
      "0000110 candidates/test/embeddings/rnn_fwd_110\n",
      "0000120 candidates/test/embeddings/rnn_fwd_120\n",
      "0000130 candidates/test/embeddings/rnn_fwd_130\n",
      "0000140 candidates/test/embeddings/rnn_fwd_140\n",
      "0000150 candidates/test/embeddings/rnn_fwd_150\n",
      "0000160 candidates/test/embeddings/rnn_fwd_160\n",
      "0000170 candidates/test/embeddings/rnn_fwd_170\n",
      "0000180 candidates/test/embeddings/rnn_fwd_180\n",
      "0000190 candidates/test/embeddings/rnn_fwd_190\n",
      "0000200 candidates/test/embeddings/rnn_fwd_200\n",
      "0000210 candidates/test/embeddings/rnn_fwd_210\n",
      "0000220 candidates/test/embeddings/rnn_fwd_220\n",
      "0000230 candidates/test/embeddings/rnn_fwd_230\n",
      "0000240 candidates/test/embeddings/rnn_fwd_240\n",
      "0000250 candidates/test/embeddings/rnn_fwd_250\n",
      "0000260 candidates/test/embeddings/rnn_fwd_260\n",
      "0000270 candidates/test/embeddings/rnn_fwd_270\n",
      "0000280 candidates/test/embeddings/rnn_fwd_280\n",
      "0000290 candidates/test/embeddings/rnn_fwd_290\n",
      "0000300 candidates/test/embeddings/rnn_fwd_300\n",
      "0000310 candidates/test/embeddings/rnn_fwd_310\n",
      "0000320 candidates/test/embeddings/rnn_fwd_320\n",
      "0000330 candidates/test/embeddings/rnn_fwd_330\n",
      "0000340 candidates/test/embeddings/rnn_fwd_340\n",
      "0000350 candidates/test/embeddings/rnn_fwd_350\n",
      "0000360 candidates/test/embeddings/rnn_fwd_360\n",
      "0000370 candidates/test/embeddings/rnn_fwd_370\n",
      "0000380 candidates/test/embeddings/rnn_fwd_380\n",
      "0000390 candidates/test/embeddings/rnn_fwd_390\n",
      "0000400 candidates/test/embeddings/rnn_fwd_400\n",
      "0000410 candidates/test/embeddings/rnn_fwd_410\n",
      "0000420 candidates/test/embeddings/rnn_fwd_420\n",
      "0000430 candidates/test/embeddings/rnn_fwd_430\n",
      "0000440 candidates/test/embeddings/rnn_fwd_440\n",
      "0000450 candidates/test/embeddings/rnn_fwd_450\n",
      "0000460 candidates/test/embeddings/rnn_fwd_460\n",
      "0000470 candidates/test/embeddings/rnn_fwd_470\n",
      "0000480 candidates/test/embeddings/rnn_fwd_480\n",
      "0000490 candidates/test/embeddings/rnn_fwd_490\n",
      "0000500 candidates/test/embeddings/rnn_fwd_500\n",
      "0000510 candidates/test/embeddings/rnn_fwd_510\n",
      "0000520 candidates/test/embeddings/rnn_fwd_520\n",
      "0000530 candidates/test/embeddings/rnn_fwd_530\n",
      "0000540 candidates/test/embeddings/rnn_fwd_540\n",
      "0000550 candidates/test/embeddings/rnn_fwd_550\n",
      "0000560 candidates/test/embeddings/rnn_fwd_560\n",
      "0000570 candidates/test/embeddings/rnn_fwd_570\n",
      "0000580 candidates/test/embeddings/rnn_fwd_580\n",
      "0000590 candidates/test/embeddings/rnn_fwd_590\n",
      "0000600 candidates/test/embeddings/rnn_fwd_600\n",
      "0000610 candidates/test/embeddings/rnn_fwd_610\n",
      "0000620 candidates/test/embeddings/rnn_fwd_620\n",
      "0000630 candidates/test/embeddings/rnn_fwd_630\n",
      "0000640 candidates/test/embeddings/rnn_fwd_640\n",
      "0000650 candidates/test/embeddings/rnn_fwd_650\n",
      "0000660 candidates/test/embeddings/rnn_fwd_660\n",
      "0000670 candidates/test/embeddings/rnn_fwd_670\n",
      "0000680 candidates/test/embeddings/rnn_fwd_680\n",
      "0000690 candidates/test/embeddings/rnn_fwd_690\n",
      "0000700 candidates/test/embeddings/rnn_fwd_700\n",
      "0000710 candidates/test/embeddings/rnn_fwd_710\n",
      "0000720 candidates/test/embeddings/rnn_fwd_720\n",
      "0000730 candidates/test/embeddings/rnn_fwd_730\n",
      "0000740 candidates/test/embeddings/rnn_fwd_740\n",
      "0000750 candidates/test/embeddings/rnn_fwd_750\n",
      "0000760 candidates/test/embeddings/rnn_fwd_760\n",
      "0000770 candidates/test/embeddings/rnn_fwd_770\n",
      "0000780 candidates/test/embeddings/rnn_fwd_780\n",
      "0000790 candidates/test/embeddings/rnn_fwd_790\n",
      "0000800 candidates/test/embeddings/rnn_fwd_800\n",
      "0000810 candidates/test/embeddings/rnn_fwd_810\n",
      "0000820 candidates/test/embeddings/rnn_fwd_820\n",
      "0000830 candidates/test/embeddings/rnn_fwd_830\n",
      "0000840 candidates/test/embeddings/rnn_fwd_840\n",
      "0000850 candidates/test/embeddings/rnn_fwd_850\n",
      "0000860 candidates/test/embeddings/rnn_fwd_860\n",
      "0000870 candidates/test/embeddings/rnn_fwd_870\n",
      "0000880 candidates/test/embeddings/rnn_fwd_880\n",
      "0000890 candidates/test/embeddings/rnn_fwd_890\n",
      "0000900 candidates/test/embeddings/rnn_fwd_900\n",
      "0000910 candidates/test/embeddings/rnn_fwd_910\n",
      "0000920 candidates/test/embeddings/rnn_fwd_920\n",
      "0000930 candidates/test/embeddings/rnn_fwd_930\n",
      "0000940 candidates/test/embeddings/rnn_fwd_940\n",
      "0000950 candidates/test/embeddings/rnn_fwd_950\n",
      "0000960 candidates/test/embeddings/rnn_fwd_960\n",
      "0000970 candidates/test/embeddings/rnn_fwd_970\n",
      "0000980 candidates/test/embeddings/rnn_fwd_980\n",
      "0000990 candidates/test/embeddings/rnn_fwd_990\n",
      "0001000 candidates/test/embeddings/rnn_fwd_1000\n",
      "0001010 candidates/test/embeddings/rnn_fwd_1010\n",
      "0001020 candidates/test/embeddings/rnn_fwd_1020\n",
      "0001030 candidates/test/embeddings/rnn_fwd_1030\n",
      "0001040 candidates/test/embeddings/rnn_fwd_1040\n",
      "0001050 candidates/test/embeddings/rnn_fwd_1050\n",
      "0001060 candidates/test/embeddings/rnn_fwd_1060\n",
      "0001070 candidates/test/embeddings/rnn_fwd_1070\n",
      "0001080 candidates/test/embeddings/rnn_fwd_1080\n",
      "0001090 candidates/test/embeddings/rnn_fwd_1090\n",
      "0001100 candidates/test/embeddings/rnn_fwd_1100\n",
      "0001110 candidates/test/embeddings/rnn_fwd_1110\n",
      "0001120 candidates/test/embeddings/rnn_fwd_1120\n",
      "0001130 candidates/test/embeddings/rnn_fwd_1130\n",
      "0001140 candidates/test/embeddings/rnn_fwd_1140\n",
      "0001150 candidates/test/embeddings/rnn_fwd_1150\n",
      "0001160 candidates/test/embeddings/rnn_fwd_1160\n",
      "0001170 candidates/test/embeddings/rnn_fwd_1170\n",
      "0001180 candidates/test/embeddings/rnn_fwd_1180\n",
      "0001190 candidates/test/embeddings/rnn_fwd_1190\n",
      "0001200 candidates/test/embeddings/rnn_fwd_1200\n",
      "0001210 candidates/test/embeddings/rnn_fwd_1210\n",
      "0001220 candidates/test/embeddings/rnn_fwd_1220\n",
      "0001230 candidates/test/embeddings/rnn_fwd_1230\n",
      "0001240 candidates/test/embeddings/rnn_fwd_1240\n",
      "0001250 candidates/test/embeddings/rnn_fwd_1250\n",
      "0001260 candidates/test/embeddings/rnn_fwd_1260\n",
      "0001270 candidates/test/embeddings/rnn_fwd_1270\n",
      "0001280 candidates/test/embeddings/rnn_fwd_1280\n",
      "0001290 candidates/test/embeddings/rnn_fwd_1290\n",
      "0001300 candidates/test/embeddings/rnn_fwd_1300\n",
      "0001310 candidates/test/embeddings/rnn_fwd_1310\n",
      "0001320 candidates/test/embeddings/rnn_fwd_1320\n",
      "0001330 candidates/test/embeddings/rnn_fwd_1330\n",
      "0001340 candidates/test/embeddings/rnn_fwd_1340\n",
      "0001350 candidates/test/embeddings/rnn_fwd_1350\n",
      "0001360 candidates/test/embeddings/rnn_fwd_1360\n",
      "0001370 candidates/test/embeddings/rnn_fwd_1370\n",
      "0001380 candidates/test/embeddings/rnn_fwd_1380\n",
      "0001390 candidates/test/embeddings/rnn_fwd_1390\n",
      "0001400 candidates/test/embeddings/rnn_fwd_1400\n",
      "0001410 candidates/test/embeddings/rnn_fwd_1410\n",
      "0001420 candidates/test/embeddings/rnn_fwd_1420\n",
      "\n",
      "\n",
      "-- Combine IDs\n",
      "\n",
      "0000000 candidates/test/embeddings/rnn_indxs_0\n",
      "0000010 candidates/test/embeddings/rnn_indxs_10\n",
      "0000020 candidates/test/embeddings/rnn_indxs_20\n",
      "0000030 candidates/test/embeddings/rnn_indxs_30\n",
      "0000040 candidates/test/embeddings/rnn_indxs_40\n",
      "0000050 candidates/test/embeddings/rnn_indxs_50\n",
      "0000060 candidates/test/embeddings/rnn_indxs_60\n",
      "0000070 candidates/test/embeddings/rnn_indxs_70\n",
      "0000080 candidates/test/embeddings/rnn_indxs_80\n",
      "0000090 candidates/test/embeddings/rnn_indxs_90\n",
      "0000100 candidates/test/embeddings/rnn_indxs_100\n",
      "0000110 candidates/test/embeddings/rnn_indxs_110\n",
      "0000120 candidates/test/embeddings/rnn_indxs_120\n",
      "0000130 candidates/test/embeddings/rnn_indxs_130\n",
      "0000140 candidates/test/embeddings/rnn_indxs_140\n",
      "0000150 candidates/test/embeddings/rnn_indxs_150\n",
      "0000160 candidates/test/embeddings/rnn_indxs_160\n",
      "0000170 candidates/test/embeddings/rnn_indxs_170\n",
      "0000180 candidates/test/embeddings/rnn_indxs_180\n",
      "0000190 candidates/test/embeddings/rnn_indxs_190\n",
      "0000200 candidates/test/embeddings/rnn_indxs_200\n",
      "0000210 candidates/test/embeddings/rnn_indxs_210\n",
      "0000220 candidates/test/embeddings/rnn_indxs_220\n",
      "0000230 candidates/test/embeddings/rnn_indxs_230\n",
      "0000240 candidates/test/embeddings/rnn_indxs_240\n",
      "0000250 candidates/test/embeddings/rnn_indxs_250\n",
      "0000260 candidates/test/embeddings/rnn_indxs_260\n",
      "0000270 candidates/test/embeddings/rnn_indxs_270\n",
      "0000280 candidates/test/embeddings/rnn_indxs_280\n",
      "0000290 candidates/test/embeddings/rnn_indxs_290\n",
      "0000300 candidates/test/embeddings/rnn_indxs_300\n",
      "0000310 candidates/test/embeddings/rnn_indxs_310\n",
      "0000320 candidates/test/embeddings/rnn_indxs_320\n",
      "0000330 candidates/test/embeddings/rnn_indxs_330\n",
      "0000340 candidates/test/embeddings/rnn_indxs_340\n",
      "0000350 candidates/test/embeddings/rnn_indxs_350\n",
      "0000360 candidates/test/embeddings/rnn_indxs_360\n",
      "0000370 candidates/test/embeddings/rnn_indxs_370\n",
      "0000380 candidates/test/embeddings/rnn_indxs_380\n",
      "0000390 candidates/test/embeddings/rnn_indxs_390\n",
      "0000400 candidates/test/embeddings/rnn_indxs_400\n",
      "0000410 candidates/test/embeddings/rnn_indxs_410\n",
      "0000420 candidates/test/embeddings/rnn_indxs_420\n",
      "0000430 candidates/test/embeddings/rnn_indxs_430\n",
      "0000440 candidates/test/embeddings/rnn_indxs_440\n",
      "0000450 candidates/test/embeddings/rnn_indxs_450\n",
      "0000460 candidates/test/embeddings/rnn_indxs_460\n",
      "0000470 candidates/test/embeddings/rnn_indxs_470\n",
      "0000480 candidates/test/embeddings/rnn_indxs_480\n",
      "0000490 candidates/test/embeddings/rnn_indxs_490\n",
      "0000500 candidates/test/embeddings/rnn_indxs_500\n",
      "0000510 candidates/test/embeddings/rnn_indxs_510\n",
      "0000520 candidates/test/embeddings/rnn_indxs_520\n",
      "0000530 candidates/test/embeddings/rnn_indxs_530\n",
      "0000540 candidates/test/embeddings/rnn_indxs_540\n",
      "0000550 candidates/test/embeddings/rnn_indxs_550\n",
      "0000560 candidates/test/embeddings/rnn_indxs_560\n",
      "0000570 candidates/test/embeddings/rnn_indxs_570\n",
      "0000580 candidates/test/embeddings/rnn_indxs_580\n",
      "0000590 candidates/test/embeddings/rnn_indxs_590\n",
      "0000600 candidates/test/embeddings/rnn_indxs_600\n",
      "0000610 candidates/test/embeddings/rnn_indxs_610\n",
      "0000620 candidates/test/embeddings/rnn_indxs_620\n",
      "0000630 candidates/test/embeddings/rnn_indxs_630\n",
      "0000640 candidates/test/embeddings/rnn_indxs_640\n",
      "0000650 candidates/test/embeddings/rnn_indxs_650\n",
      "0000660 candidates/test/embeddings/rnn_indxs_660\n",
      "0000670 candidates/test/embeddings/rnn_indxs_670\n",
      "0000680 candidates/test/embeddings/rnn_indxs_680\n",
      "0000690 candidates/test/embeddings/rnn_indxs_690\n",
      "0000700 candidates/test/embeddings/rnn_indxs_700\n",
      "0000710 candidates/test/embeddings/rnn_indxs_710\n",
      "0000720 candidates/test/embeddings/rnn_indxs_720\n",
      "0000730 candidates/test/embeddings/rnn_indxs_730\n",
      "0000740 candidates/test/embeddings/rnn_indxs_740\n",
      "0000750 candidates/test/embeddings/rnn_indxs_750\n",
      "0000760 candidates/test/embeddings/rnn_indxs_760\n",
      "0000770 candidates/test/embeddings/rnn_indxs_770\n",
      "0000780 candidates/test/embeddings/rnn_indxs_780\n",
      "0000790 candidates/test/embeddings/rnn_indxs_790\n",
      "0000800 candidates/test/embeddings/rnn_indxs_800\n",
      "0000810 candidates/test/embeddings/rnn_indxs_810\n",
      "0000820 candidates/test/embeddings/rnn_indxs_820\n",
      "0000830 candidates/test/embeddings/rnn_indxs_830\n",
      "0000840 candidates/test/embeddings/rnn_indxs_840\n"
     ]
    },
    {
     "name": "stdout",
     "output_type": "stream",
     "text": [
      "0000850 candidates/test/embeddings/rnn_indxs_850\n",
      "0000860 candidates/test/embeddings/rnn_indxs_860\n",
      "0000870 candidates/test/embeddings/rnn_indxs_870\n",
      "0000880 candidates/test/embeddings/rnn_indxs_880\n",
      "0000890 candidates/test/embeddings/rnn_indxs_890\n",
      "0000900 candidates/test/embeddings/rnn_indxs_900\n",
      "0000910 candidates/test/embeddings/rnn_indxs_910\n",
      "0000920 candidates/test/embeddings/rnn_indxs_920\n",
      "0000930 candidates/test/embeddings/rnn_indxs_930\n",
      "0000940 candidates/test/embeddings/rnn_indxs_940\n",
      "0000950 candidates/test/embeddings/rnn_indxs_950\n",
      "0000960 candidates/test/embeddings/rnn_indxs_960\n",
      "0000970 candidates/test/embeddings/rnn_indxs_970\n",
      "0000980 candidates/test/embeddings/rnn_indxs_980\n",
      "0000990 candidates/test/embeddings/rnn_indxs_990\n",
      "0001000 candidates/test/embeddings/rnn_indxs_1000\n",
      "0001010 candidates/test/embeddings/rnn_indxs_1010\n",
      "0001020 candidates/test/embeddings/rnn_indxs_1020\n",
      "0001030 candidates/test/embeddings/rnn_indxs_1030\n",
      "0001040 candidates/test/embeddings/rnn_indxs_1040\n",
      "0001050 candidates/test/embeddings/rnn_indxs_1050\n",
      "0001060 candidates/test/embeddings/rnn_indxs_1060\n",
      "0001070 candidates/test/embeddings/rnn_indxs_1070\n",
      "0001080 candidates/test/embeddings/rnn_indxs_1080\n",
      "0001090 candidates/test/embeddings/rnn_indxs_1090\n",
      "0001100 candidates/test/embeddings/rnn_indxs_1100\n",
      "0001110 candidates/test/embeddings/rnn_indxs_1110\n",
      "0001120 candidates/test/embeddings/rnn_indxs_1120\n",
      "0001130 candidates/test/embeddings/rnn_indxs_1130\n",
      "0001140 candidates/test/embeddings/rnn_indxs_1140\n",
      "0001150 candidates/test/embeddings/rnn_indxs_1150\n",
      "0001160 candidates/test/embeddings/rnn_indxs_1160\n",
      "0001170 candidates/test/embeddings/rnn_indxs_1170\n",
      "0001180 candidates/test/embeddings/rnn_indxs_1180\n",
      "0001190 candidates/test/embeddings/rnn_indxs_1190\n",
      "0001200 candidates/test/embeddings/rnn_indxs_1200\n",
      "0001210 candidates/test/embeddings/rnn_indxs_1210\n",
      "0001220 candidates/test/embeddings/rnn_indxs_1220\n",
      "0001230 candidates/test/embeddings/rnn_indxs_1230\n",
      "0001240 candidates/test/embeddings/rnn_indxs_1240\n",
      "0001250 candidates/test/embeddings/rnn_indxs_1250\n",
      "0001260 candidates/test/embeddings/rnn_indxs_1260\n",
      "0001270 candidates/test/embeddings/rnn_indxs_1270\n",
      "0001280 candidates/test/embeddings/rnn_indxs_1280\n",
      "0001290 candidates/test/embeddings/rnn_indxs_1290\n",
      "0001300 candidates/test/embeddings/rnn_indxs_1300\n",
      "0001310 candidates/test/embeddings/rnn_indxs_1310\n",
      "0001320 candidates/test/embeddings/rnn_indxs_1320\n",
      "0001330 candidates/test/embeddings/rnn_indxs_1330\n",
      "0001340 candidates/test/embeddings/rnn_indxs_1340\n",
      "0001350 candidates/test/embeddings/rnn_indxs_1350\n",
      "0001360 candidates/test/embeddings/rnn_indxs_1360\n",
      "0001370 candidates/test/embeddings/rnn_indxs_1370\n",
      "0001380 candidates/test/embeddings/rnn_indxs_1380\n",
      "0001390 candidates/test/embeddings/rnn_indxs_1390\n",
      "0001400 candidates/test/embeddings/rnn_indxs_1400\n",
      "0001410 candidates/test/embeddings/rnn_indxs_1410\n",
      "0001420 candidates/test/embeddings/rnn_indxs_1420\n",
      "\n",
      "\n",
      "-- Combine vectors\n",
      "Reading vectors from candidates/test/embeddings/rnn_bwd*\n",
      "0000000 candidates/test/embeddings/rnn_bwd_0\n",
      "0000010 candidates/test/embeddings/rnn_bwd_10\n",
      "0000020 candidates/test/embeddings/rnn_bwd_20\n",
      "0000030 candidates/test/embeddings/rnn_bwd_30\n",
      "0000040 candidates/test/embeddings/rnn_bwd_40\n",
      "0000050 candidates/test/embeddings/rnn_bwd_50\n",
      "0000060 candidates/test/embeddings/rnn_bwd_60\n",
      "0000070 candidates/test/embeddings/rnn_bwd_70\n",
      "0000080 candidates/test/embeddings/rnn_bwd_80\n",
      "0000090 candidates/test/embeddings/rnn_bwd_90\n",
      "0000100 candidates/test/embeddings/rnn_bwd_100\n",
      "0000110 candidates/test/embeddings/rnn_bwd_110\n",
      "0000120 candidates/test/embeddings/rnn_bwd_120\n",
      "0000130 candidates/test/embeddings/rnn_bwd_130\n",
      "0000140 candidates/test/embeddings/rnn_bwd_140\n",
      "0000150 candidates/test/embeddings/rnn_bwd_150\n",
      "0000160 candidates/test/embeddings/rnn_bwd_160\n",
      "0000170 candidates/test/embeddings/rnn_bwd_170\n",
      "0000180 candidates/test/embeddings/rnn_bwd_180\n",
      "0000190 candidates/test/embeddings/rnn_bwd_190\n",
      "0000200 candidates/test/embeddings/rnn_bwd_200\n",
      "0000210 candidates/test/embeddings/rnn_bwd_210\n",
      "0000220 candidates/test/embeddings/rnn_bwd_220\n",
      "0000230 candidates/test/embeddings/rnn_bwd_230\n",
      "0000240 candidates/test/embeddings/rnn_bwd_240\n",
      "0000250 candidates/test/embeddings/rnn_bwd_250\n",
      "0000260 candidates/test/embeddings/rnn_bwd_260\n",
      "0000270 candidates/test/embeddings/rnn_bwd_270\n",
      "0000280 candidates/test/embeddings/rnn_bwd_280\n",
      "0000290 candidates/test/embeddings/rnn_bwd_290\n",
      "0000300 candidates/test/embeddings/rnn_bwd_300\n",
      "0000310 candidates/test/embeddings/rnn_bwd_310\n",
      "0000320 candidates/test/embeddings/rnn_bwd_320\n",
      "0000330 candidates/test/embeddings/rnn_bwd_330\n",
      "0000340 candidates/test/embeddings/rnn_bwd_340\n",
      "0000350 candidates/test/embeddings/rnn_bwd_350\n",
      "0000360 candidates/test/embeddings/rnn_bwd_360\n",
      "0000370 candidates/test/embeddings/rnn_bwd_370\n",
      "0000380 candidates/test/embeddings/rnn_bwd_380\n",
      "0000390 candidates/test/embeddings/rnn_bwd_390\n",
      "0000400 candidates/test/embeddings/rnn_bwd_400\n",
      "0000410 candidates/test/embeddings/rnn_bwd_410\n",
      "0000420 candidates/test/embeddings/rnn_bwd_420\n",
      "0000430 candidates/test/embeddings/rnn_bwd_430\n",
      "0000440 candidates/test/embeddings/rnn_bwd_440\n",
      "0000450 candidates/test/embeddings/rnn_bwd_450\n",
      "0000460 candidates/test/embeddings/rnn_bwd_460\n",
      "0000470 candidates/test/embeddings/rnn_bwd_470\n",
      "0000480 candidates/test/embeddings/rnn_bwd_480\n",
      "0000490 candidates/test/embeddings/rnn_bwd_490\n",
      "0000500 candidates/test/embeddings/rnn_bwd_500\n",
      "0000510 candidates/test/embeddings/rnn_bwd_510\n",
      "0000520 candidates/test/embeddings/rnn_bwd_520\n",
      "0000530 candidates/test/embeddings/rnn_bwd_530\n",
      "0000540 candidates/test/embeddings/rnn_bwd_540\n",
      "0000550 candidates/test/embeddings/rnn_bwd_550\n",
      "0000560 candidates/test/embeddings/rnn_bwd_560\n",
      "0000570 candidates/test/embeddings/rnn_bwd_570\n",
      "0000580 candidates/test/embeddings/rnn_bwd_580\n",
      "0000590 candidates/test/embeddings/rnn_bwd_590\n",
      "0000600 candidates/test/embeddings/rnn_bwd_600\n",
      "0000610 candidates/test/embeddings/rnn_bwd_610\n",
      "0000620 candidates/test/embeddings/rnn_bwd_620\n",
      "0000630 candidates/test/embeddings/rnn_bwd_630\n",
      "0000640 candidates/test/embeddings/rnn_bwd_640\n",
      "0000650 candidates/test/embeddings/rnn_bwd_650\n",
      "0000660 candidates/test/embeddings/rnn_bwd_660\n",
      "0000670 candidates/test/embeddings/rnn_bwd_670\n",
      "0000680 candidates/test/embeddings/rnn_bwd_680\n",
      "0000690 candidates/test/embeddings/rnn_bwd_690\n",
      "0000700 candidates/test/embeddings/rnn_bwd_700\n",
      "0000710 candidates/test/embeddings/rnn_bwd_710\n",
      "0000720 candidates/test/embeddings/rnn_bwd_720\n",
      "0000730 candidates/test/embeddings/rnn_bwd_730\n",
      "0000740 candidates/test/embeddings/rnn_bwd_740\n",
      "0000750 candidates/test/embeddings/rnn_bwd_750\n",
      "0000760 candidates/test/embeddings/rnn_bwd_760\n",
      "0000770 candidates/test/embeddings/rnn_bwd_770\n",
      "0000780 candidates/test/embeddings/rnn_bwd_780\n",
      "0000790 candidates/test/embeddings/rnn_bwd_790\n",
      "0000800 candidates/test/embeddings/rnn_bwd_800\n",
      "0000810 candidates/test/embeddings/rnn_bwd_810\n",
      "0000820 candidates/test/embeddings/rnn_bwd_820\n",
      "0000830 candidates/test/embeddings/rnn_bwd_830\n",
      "0000840 candidates/test/embeddings/rnn_bwd_840\n",
      "0000850 candidates/test/embeddings/rnn_bwd_850\n",
      "0000860 candidates/test/embeddings/rnn_bwd_860\n",
      "0000870 candidates/test/embeddings/rnn_bwd_870\n",
      "0000880 candidates/test/embeddings/rnn_bwd_880\n",
      "0000890 candidates/test/embeddings/rnn_bwd_890\n",
      "0000900 candidates/test/embeddings/rnn_bwd_900\n",
      "0000910 candidates/test/embeddings/rnn_bwd_910\n",
      "0000920 candidates/test/embeddings/rnn_bwd_920\n",
      "0000930 candidates/test/embeddings/rnn_bwd_930\n",
      "0000940 candidates/test/embeddings/rnn_bwd_940\n",
      "0000950 candidates/test/embeddings/rnn_bwd_950\n",
      "0000960 candidates/test/embeddings/rnn_bwd_960\n",
      "0000970 candidates/test/embeddings/rnn_bwd_970\n",
      "0000980 candidates/test/embeddings/rnn_bwd_980\n",
      "0000990 candidates/test/embeddings/rnn_bwd_990\n",
      "0001000 candidates/test/embeddings/rnn_bwd_1000\n",
      "0001010 candidates/test/embeddings/rnn_bwd_1010\n",
      "0001020 candidates/test/embeddings/rnn_bwd_1020\n",
      "0001030 candidates/test/embeddings/rnn_bwd_1030\n",
      "0001040 candidates/test/embeddings/rnn_bwd_1040\n",
      "0001050 candidates/test/embeddings/rnn_bwd_1050\n",
      "0001060 candidates/test/embeddings/rnn_bwd_1060\n",
      "0001070 candidates/test/embeddings/rnn_bwd_1070\n",
      "0001080 candidates/test/embeddings/rnn_bwd_1080\n",
      "0001090 candidates/test/embeddings/rnn_bwd_1090\n",
      "0001100 candidates/test/embeddings/rnn_bwd_1100\n",
      "0001110 candidates/test/embeddings/rnn_bwd_1110\n",
      "0001120 candidates/test/embeddings/rnn_bwd_1120\n"
     ]
    },
    {
     "name": "stdout",
     "output_type": "stream",
     "text": [
      "0001130 candidates/test/embeddings/rnn_bwd_1130\n",
      "0001140 candidates/test/embeddings/rnn_bwd_1140\n",
      "0001150 candidates/test/embeddings/rnn_bwd_1150\n",
      "0001160 candidates/test/embeddings/rnn_bwd_1160\n",
      "0001170 candidates/test/embeddings/rnn_bwd_1170\n",
      "0001180 candidates/test/embeddings/rnn_bwd_1180\n",
      "0001190 candidates/test/embeddings/rnn_bwd_1190\n",
      "0001200 candidates/test/embeddings/rnn_bwd_1200\n",
      "0001210 candidates/test/embeddings/rnn_bwd_1210\n",
      "0001220 candidates/test/embeddings/rnn_bwd_1220\n",
      "0001230 candidates/test/embeddings/rnn_bwd_1230\n",
      "0001240 candidates/test/embeddings/rnn_bwd_1240\n",
      "0001250 candidates/test/embeddings/rnn_bwd_1250\n",
      "0001260 candidates/test/embeddings/rnn_bwd_1260\n",
      "0001270 candidates/test/embeddings/rnn_bwd_1270\n",
      "0001280 candidates/test/embeddings/rnn_bwd_1280\n",
      "0001290 candidates/test/embeddings/rnn_bwd_1290\n",
      "0001300 candidates/test/embeddings/rnn_bwd_1300\n",
      "0001310 candidates/test/embeddings/rnn_bwd_1310\n",
      "0001320 candidates/test/embeddings/rnn_bwd_1320\n",
      "0001330 candidates/test/embeddings/rnn_bwd_1330\n",
      "0001340 candidates/test/embeddings/rnn_bwd_1340\n",
      "0001350 candidates/test/embeddings/rnn_bwd_1350\n",
      "0001360 candidates/test/embeddings/rnn_bwd_1360\n",
      "0001370 candidates/test/embeddings/rnn_bwd_1370\n",
      "0001380 candidates/test/embeddings/rnn_bwd_1380\n",
      "0001390 candidates/test/embeddings/rnn_bwd_1390\n",
      "0001400 candidates/test/embeddings/rnn_bwd_1400\n",
      "0001410 candidates/test/embeddings/rnn_bwd_1410\n",
      "0001420 candidates/test/embeddings/rnn_bwd_1420\n",
      "\n",
      "\n",
      "-- Combine IDs\n",
      "\n",
      "0000000 candidates/test/embeddings/rnn_indxs_0\n",
      "0000010 candidates/test/embeddings/rnn_indxs_10\n",
      "0000020 candidates/test/embeddings/rnn_indxs_20\n",
      "0000030 candidates/test/embeddings/rnn_indxs_30\n",
      "0000040 candidates/test/embeddings/rnn_indxs_40\n",
      "0000050 candidates/test/embeddings/rnn_indxs_50\n",
      "0000060 candidates/test/embeddings/rnn_indxs_60\n",
      "0000070 candidates/test/embeddings/rnn_indxs_70\n",
      "0000080 candidates/test/embeddings/rnn_indxs_80\n",
      "0000090 candidates/test/embeddings/rnn_indxs_90\n",
      "0000100 candidates/test/embeddings/rnn_indxs_100\n",
      "0000110 candidates/test/embeddings/rnn_indxs_110\n",
      "0000120 candidates/test/embeddings/rnn_indxs_120\n",
      "0000130 candidates/test/embeddings/rnn_indxs_130\n",
      "0000140 candidates/test/embeddings/rnn_indxs_140\n",
      "0000150 candidates/test/embeddings/rnn_indxs_150\n",
      "0000160 candidates/test/embeddings/rnn_indxs_160\n",
      "0000170 candidates/test/embeddings/rnn_indxs_170\n",
      "0000180 candidates/test/embeddings/rnn_indxs_180\n",
      "0000190 candidates/test/embeddings/rnn_indxs_190\n",
      "0000200 candidates/test/embeddings/rnn_indxs_200\n",
      "0000210 candidates/test/embeddings/rnn_indxs_210\n",
      "0000220 candidates/test/embeddings/rnn_indxs_220\n",
      "0000230 candidates/test/embeddings/rnn_indxs_230\n",
      "0000240 candidates/test/embeddings/rnn_indxs_240\n",
      "0000250 candidates/test/embeddings/rnn_indxs_250\n",
      "0000260 candidates/test/embeddings/rnn_indxs_260\n",
      "0000270 candidates/test/embeddings/rnn_indxs_270\n",
      "0000280 candidates/test/embeddings/rnn_indxs_280\n",
      "0000290 candidates/test/embeddings/rnn_indxs_290\n",
      "0000300 candidates/test/embeddings/rnn_indxs_300\n",
      "0000310 candidates/test/embeddings/rnn_indxs_310\n",
      "0000320 candidates/test/embeddings/rnn_indxs_320\n",
      "0000330 candidates/test/embeddings/rnn_indxs_330\n",
      "0000340 candidates/test/embeddings/rnn_indxs_340\n",
      "0000350 candidates/test/embeddings/rnn_indxs_350\n",
      "0000360 candidates/test/embeddings/rnn_indxs_360\n",
      "0000370 candidates/test/embeddings/rnn_indxs_370\n",
      "0000380 candidates/test/embeddings/rnn_indxs_380\n",
      "0000390 candidates/test/embeddings/rnn_indxs_390\n",
      "0000400 candidates/test/embeddings/rnn_indxs_400\n",
      "0000410 candidates/test/embeddings/rnn_indxs_410\n",
      "0000420 candidates/test/embeddings/rnn_indxs_420\n",
      "0000430 candidates/test/embeddings/rnn_indxs_430\n",
      "0000440 candidates/test/embeddings/rnn_indxs_440\n",
      "0000450 candidates/test/embeddings/rnn_indxs_450\n",
      "0000460 candidates/test/embeddings/rnn_indxs_460\n",
      "0000470 candidates/test/embeddings/rnn_indxs_470\n",
      "0000480 candidates/test/embeddings/rnn_indxs_480\n",
      "0000490 candidates/test/embeddings/rnn_indxs_490\n",
      "0000500 candidates/test/embeddings/rnn_indxs_500\n",
      "0000510 candidates/test/embeddings/rnn_indxs_510\n",
      "0000520 candidates/test/embeddings/rnn_indxs_520\n",
      "0000530 candidates/test/embeddings/rnn_indxs_530\n",
      "0000540 candidates/test/embeddings/rnn_indxs_540\n",
      "0000550 candidates/test/embeddings/rnn_indxs_550\n",
      "0000560 candidates/test/embeddings/rnn_indxs_560\n",
      "0000570 candidates/test/embeddings/rnn_indxs_570\n",
      "0000580 candidates/test/embeddings/rnn_indxs_580\n",
      "0000590 candidates/test/embeddings/rnn_indxs_590\n",
      "0000600 candidates/test/embeddings/rnn_indxs_600\n",
      "0000610 candidates/test/embeddings/rnn_indxs_610\n",
      "0000620 candidates/test/embeddings/rnn_indxs_620\n",
      "0000630 candidates/test/embeddings/rnn_indxs_630\n",
      "0000640 candidates/test/embeddings/rnn_indxs_640\n",
      "0000650 candidates/test/embeddings/rnn_indxs_650\n",
      "0000660 candidates/test/embeddings/rnn_indxs_660\n",
      "0000670 candidates/test/embeddings/rnn_indxs_670\n",
      "0000680 candidates/test/embeddings/rnn_indxs_680\n",
      "0000690 candidates/test/embeddings/rnn_indxs_690\n",
      "0000700 candidates/test/embeddings/rnn_indxs_700\n",
      "0000710 candidates/test/embeddings/rnn_indxs_710\n",
      "0000720 candidates/test/embeddings/rnn_indxs_720\n",
      "0000730 candidates/test/embeddings/rnn_indxs_730\n",
      "0000740 candidates/test/embeddings/rnn_indxs_740\n",
      "0000750 candidates/test/embeddings/rnn_indxs_750\n",
      "0000760 candidates/test/embeddings/rnn_indxs_760\n",
      "0000770 candidates/test/embeddings/rnn_indxs_770\n",
      "0000780 candidates/test/embeddings/rnn_indxs_780\n",
      "0000790 candidates/test/embeddings/rnn_indxs_790\n",
      "0000800 candidates/test/embeddings/rnn_indxs_800\n",
      "0000810 candidates/test/embeddings/rnn_indxs_810\n",
      "0000820 candidates/test/embeddings/rnn_indxs_820\n",
      "0000830 candidates/test/embeddings/rnn_indxs_830\n",
      "0000840 candidates/test/embeddings/rnn_indxs_840\n",
      "0000850 candidates/test/embeddings/rnn_indxs_850\n",
      "0000860 candidates/test/embeddings/rnn_indxs_860\n",
      "0000870 candidates/test/embeddings/rnn_indxs_870\n",
      "0000880 candidates/test/embeddings/rnn_indxs_880\n",
      "0000890 candidates/test/embeddings/rnn_indxs_890\n",
      "0000900 candidates/test/embeddings/rnn_indxs_900\n",
      "0000910 candidates/test/embeddings/rnn_indxs_910\n",
      "0000920 candidates/test/embeddings/rnn_indxs_920\n",
      "0000930 candidates/test/embeddings/rnn_indxs_930\n",
      "0000940 candidates/test/embeddings/rnn_indxs_940\n",
      "0000950 candidates/test/embeddings/rnn_indxs_950\n",
      "0000960 candidates/test/embeddings/rnn_indxs_960\n",
      "0000970 candidates/test/embeddings/rnn_indxs_970\n",
      "0000980 candidates/test/embeddings/rnn_indxs_980\n",
      "0000990 candidates/test/embeddings/rnn_indxs_990\n",
      "0001000 candidates/test/embeddings/rnn_indxs_1000\n",
      "0001010 candidates/test/embeddings/rnn_indxs_1010\n",
      "0001020 candidates/test/embeddings/rnn_indxs_1020\n",
      "0001030 candidates/test/embeddings/rnn_indxs_1030\n",
      "0001040 candidates/test/embeddings/rnn_indxs_1040\n",
      "0001050 candidates/test/embeddings/rnn_indxs_1050\n",
      "0001060 candidates/test/embeddings/rnn_indxs_1060\n",
      "0001070 candidates/test/embeddings/rnn_indxs_1070\n",
      "0001080 candidates/test/embeddings/rnn_indxs_1080\n",
      "0001090 candidates/test/embeddings/rnn_indxs_1090\n",
      "0001100 candidates/test/embeddings/rnn_indxs_1100\n",
      "0001110 candidates/test/embeddings/rnn_indxs_1110\n",
      "0001120 candidates/test/embeddings/rnn_indxs_1120\n",
      "0001130 candidates/test/embeddings/rnn_indxs_1130\n",
      "0001140 candidates/test/embeddings/rnn_indxs_1140\n",
      "0001150 candidates/test/embeddings/rnn_indxs_1150\n",
      "0001160 candidates/test/embeddings/rnn_indxs_1160\n",
      "0001170 candidates/test/embeddings/rnn_indxs_1170\n",
      "0001180 candidates/test/embeddings/rnn_indxs_1180\n",
      "0001190 candidates/test/embeddings/rnn_indxs_1190\n",
      "0001200 candidates/test/embeddings/rnn_indxs_1200\n",
      "0001210 candidates/test/embeddings/rnn_indxs_1210\n",
      "0001220 candidates/test/embeddings/rnn_indxs_1220\n",
      "0001230 candidates/test/embeddings/rnn_indxs_1230\n",
      "0001240 candidates/test/embeddings/rnn_indxs_1240\n",
      "0001250 candidates/test/embeddings/rnn_indxs_1250\n",
      "0001260 candidates/test/embeddings/rnn_indxs_1260\n",
      "0001270 candidates/test/embeddings/rnn_indxs_1270\n",
      "0001280 candidates/test/embeddings/rnn_indxs_1280\n",
      "0001290 candidates/test/embeddings/rnn_indxs_1290\n",
      "0001300 candidates/test/embeddings/rnn_indxs_1300\n",
      "0001310 candidates/test/embeddings/rnn_indxs_1310\n",
      "0001320 candidates/test/embeddings/rnn_indxs_1320\n",
      "0001330 candidates/test/embeddings/rnn_indxs_1330\n",
      "0001340 candidates/test/embeddings/rnn_indxs_1340\n",
      "0001350 candidates/test/embeddings/rnn_indxs_1350\n",
      "0001360 candidates/test/embeddings/rnn_indxs_1360\n",
      "0001370 candidates/test/embeddings/rnn_indxs_1370\n",
      "0001380 candidates/test/embeddings/rnn_indxs_1380\n",
      "0001390 candidates/test/embeddings/rnn_indxs_1390\n",
      "0001400 candidates/test/embeddings/rnn_indxs_1400\n",
      "0001410 candidates/test/embeddings/rnn_indxs_1410\n",
      "0001420 candidates/test/embeddings/rnn_indxs_1420\n"
     ]
    },
    {
     "name": "stdout",
     "output_type": "stream",
     "text": [
      "--- 4925.889394760132 seconds ---\n"
     ]
    }
   ],
   "source": [
    "from DeezyMatch import combine_vecs\n",
    "\n",
    "# combine vectors stored in candidates/test and save them in combined/candidates_test\n",
    "combine_vecs(rnn_passes=['fwd', 'bwd'], \n",
    "             input_scenario=os.path.join('candidates', 'test'), \n",
    "             output_scenario=os.path.join('combined', 'candidates_test'), \n",
    "             print_every=10)"
   ]
  },
  {
   "cell_type": "markdown",
   "id": "53ccbc40",
   "metadata": {},
   "source": [
    "## Candidate Ranker"
   ]
  },
  {
   "cell_type": "code",
   "execution_count": 11,
   "id": "8860ff57",
   "metadata": {},
   "outputs": [],
   "source": [
    "from DeezyMatch import candidate_ranker\n",
    "\n",
    "# Select candidates based on L2-norm distance (aka faiss distance):\n",
    "# find candidates from candidate_scenario \n",
    "# for queries specified in query_scenario\n",
    "candidates_pd = \\\n",
    "    candidate_ranker(query_scenario=os.path.join(\"combined\", \"queries_test\"),\n",
    "                     candidate_scenario=os.path.join(\"combined\", \"candidates_test\"), \n",
    "                     ranking_metric=\"faiss\", \n",
    "                     selection_threshold=5., \n",
    "                     num_candidates=3, \n",
    "                     search_size=10, \n",
    "                     verbose=False,\n",
    "                     use_predict=False,\n",
    "                     output_path=os.path.join(\"ranker_results\", \"test_candidates_deezymatch\"), \n",
    "                     pretrained_model_path=os.path.join(\"models\", \"test001\", \"test001.model\"), \n",
    "                     pretrained_vocab_path=os.path.join(\"models\", \"test001\", \"test001.vocab\"),\n",
    "                     number_test_rows=20)"
   ]
  },
  {
   "cell_type": "markdown",
   "id": "bcc383b4",
   "metadata": {},
   "source": [
    "## Candidate ranking on-the-fly"
   ]
  },
  {
   "cell_type": "code",
   "execution_count": 18,
   "id": "75290d24",
   "metadata": {},
   "outputs": [
    {
     "name": "stderr",
     "output_type": "stream",
     "text": [
      "                                                                                \r"
     ]
    },
    {
     "data": {
      "application/vnd.jupyter.widget-view+json": {
       "model_id": "",
       "version_major": 2,
       "version_minor": 0
      },
      "text/plain": [
       "  0%|          | 0/1 [00:00<?, ?it/s]"
      ]
     },
     "metadata": {},
     "output_type": "display_data"
    }
   ],
   "source": [
    "from DeezyMatch import candidate_ranker\n",
    "\n",
    "# Select candidates based on L2-norm distance (aka faiss distance):\n",
    "# find candidates from candidate_scenario \n",
    "# for queries specified in query_scenario\n",
    "candidates_pd = \\\n",
    "    candidate_ranker(query=[\"Hendrik Pieter Nicolaas Muller\"], #Enter any name here \n",
    "                     candidate_scenario=os.path.join(\"combined\", \"candidates_test\"), \n",
    "                     ranking_metric=\"faiss\", \n",
    "                     selection_threshold=5., \n",
    "                     num_candidates=1, \n",
    "                     search_size=100, \n",
    "                     verbose=False,\n",
    "                     use_predict=False,\n",
    "                     output_path=os.path.join(\"ranker_results\", \"test_candidates_deezymatch\"), \n",
    "                     pretrained_model_path=os.path.join(\"models\", \"test001\", \"test001.model\"), \n",
    "                     pretrained_vocab_path=os.path.join(\"models\", \"test001\", \"test001.vocab\")\n",
    "                    )"
   ]
  },
  {
   "cell_type": "code",
   "execution_count": 19,
   "id": "a5842ba3",
   "metadata": {},
   "outputs": [
    {
     "data": {
      "text/plain": [
       "OrderedDict([('Hendrik Pieter Nicolaas Muller', 0.0)])"
      ]
     },
     "execution_count": 19,
     "metadata": {},
     "output_type": "execute_result"
    }
   ],
   "source": [
    "candidates_pd.iloc[0].faiss_distance"
   ]
  }
 ],
 "metadata": {
  "kernelspec": {
   "display_name": "Python (py39deezy)",
   "language": "python",
   "name": "py39deezy"
  },
  "language_info": {
   "codemirror_mode": {
    "name": "ipython",
    "version": 3
   },
   "file_extension": ".py",
   "mimetype": "text/x-python",
   "name": "python",
   "nbconvert_exporter": "python",
   "pygments_lexer": "ipython3",
   "version": "3.9.12"
  }
 },
 "nbformat": 4,
 "nbformat_minor": 5
}
