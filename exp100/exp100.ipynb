{
 "cells": [
  {
   "cell_type": "code",
   "execution_count": null,
   "id": "e25c61c2",
   "metadata": {},
   "outputs": [],
   "source": [
    "import sys\n",
    "sys.path.append(\"..\") "
   ]
  },
  {
   "cell_type": "markdown",
   "id": "575dbc6e",
   "metadata": {},
   "source": [
    "## How did we construct the ground truth? \n",
    "![Ground truth](../resources/ground_truth_data_setup.png)\n",
    "[edit image](https://app.diagrams.net/#G1_CWj_Ux45Q6IAAnGwVurQxSnTkOvlVG_)"
   ]
  },
  {
   "cell_type": "markdown",
   "id": "bfbf69f4",
   "metadata": {},
   "source": [
    "# Build Ground Truth"
   ]
  },
  {
   "cell_type": "markdown",
   "id": "01c46a95",
   "metadata": {},
   "source": [
    "### Step-1: NMVW Data Dump"
   ]
  },
  {
   "cell_type": "code",
   "execution_count": null,
   "id": "4a04858b",
   "metadata": {},
   "outputs": [],
   "source": [
    "from nmvwdatadump.data_dump import run as dump, count_all_constituents, count_all_constituent_with_wikidata\n",
    "\n",
    "dump(\"ccrdfconst\", 58000, range=20)\n",
    "count_all_constituents(\"ccrdfconst\") \n",
    "count_all_constituent_with_wikidata(\"ccrdfconst\") "
   ]
  },
  {
   "cell_type": "markdown",
   "id": "f2738648",
   "metadata": {},
   "source": [
    "### Step-2: Filter wikidata constituents"
   ]
  },
  {
   "cell_type": "code",
   "execution_count": null,
   "id": "23ed719c",
   "metadata": {},
   "outputs": [],
   "source": [
    "from nmvwdatadump.filter_wiki_human import run as filter_wikidata, count_total_wikidata\n",
    "\n",
    "filter_wikidata(directory=\"nmvw_data/ccrdfconst\") # pass the FOLDER NAME containing ttl file\n",
    "count_total_wikidata(\"nmvw_data/ccrdfconst/const_wiki_filter_log.csv\")"
   ]
  },
  {
   "cell_type": "markdown",
   "id": "569af042",
   "metadata": {},
   "source": [
    "### Step-3: Build ground truth"
   ]
  },
  {
   "cell_type": "markdown",
   "id": "809bd99d",
   "metadata": {},
   "source": [
    "We have 6165 instance of human entities, where we know the corresponding wikidata URI, therefore consider those human entities as our ground truth. From federated query to wikidata SPARQL endpoint, we also retrieved all the naming variation(different language, spelling and format) for corresponding to 6178 human listed on wikidata in different language.\n",
    "```SPARQL\n",
    "select * where {\n",
    "    SERVICE <https://query.wikidata.org/sparql> {  \n",
    "         <\"\"\"+var+\"\"\"> rdfs:label ?name .  \n",
    "    }}\n",
    "```"
   ]
  },
  {
   "cell_type": "code",
   "execution_count": null,
   "id": "3d802e13",
   "metadata": {},
   "outputs": [],
   "source": [
    "from utils.ttl_to_dataframe import run as ttl2dataframe\n",
    "\n",
    "ttl2dataframe(\"data/wikidata_ccrdfconstQ5_full.ttl\", \"data/wikidata_human_name.pkl\")"
   ]
  },
  {
   "cell_type": "markdown",
   "id": "92a2784a",
   "metadata": {},
   "source": [
    "## Naive String Matching"
   ]
  },
  {
   "cell_type": "code",
   "execution_count": 2,
   "id": "efc9e3a9",
   "metadata": {},
   "outputs": [
    {
     "name": "stderr",
     "output_type": "stream",
     "text": [
      "100%|█████████████████████████████████████| 6178/6178 [1:15:05<00:00,  1.37it/s]\n"
     ]
    },
    {
     "name": "stdout",
     "output_type": "stream",
     "text": [
      "Total query: 6178 \n",
      "Correct correspondence count: 3226\n",
      "Recall: 0.5221754613143412\n",
      "\n",
      "\n",
      "Total query: 6178\n",
      "Total retrieved: 4590\n",
      "Correct correspondence count: 3226 \n",
      "Precision: 0.7028322440087146\n",
      "\n",
      "\n",
      "F-measure: 0.599182763744428\n",
      "\n"
     ]
    },
    {
     "data": {
      "text/plain": [
       "(6178, 4590, 3226, 0.5221754613143412, 0.7028322440087146, 0.599182763744428)"
      ]
     },
     "execution_count": 2,
     "metadata": {},
     "output_type": "execute_result"
    }
   ],
   "source": [
    "from naive.naive_string_matching import run as naive_string_matching\n",
    "from result import result\n",
    "import pandas\n",
    "\n",
    "naive_string_matching(\"data/wikidata_human_name.pkl\", \"results/naive_string_matching.pkl\")\n",
    "result(\"results/naive_string_matching.pkl\")"
   ]
  },
  {
   "cell_type": "code",
   "execution_count": 3,
   "id": "bda3efaa",
   "metadata": {},
   "outputs": [
    {
     "name": "stdout",
     "output_type": "stream",
     "text": [
      "               name_label                                      retrieved_uri  \\\n",
      "0     Gabriel Clark-Brown         [http://www.wikidata.org/entity/Q82570739]   \n",
      "11          P.L. Dronkers         [http://www.wikidata.org/entity/Q82571047]   \n",
      "14         H.J. van Erpen         [http://www.wikidata.org/entity/Q86735056]   \n",
      "23            W. Galjaard         [http://www.wikidata.org/entity/Q86735059]   \n",
      "25         H. Groeneveldt  [http://www.wikidata.org/entity/Q36573311, htt...   \n",
      "...                   ...                                                ...   \n",
      "6167        Wilhelm Ivens          [http://www.wikidata.org/entity/Q2097087]   \n",
      "6170        Sam Schellink         [http://www.wikidata.org/entity/Q27526154]   \n",
      "6172        Jean Gauchard         [http://www.wikidata.org/entity/Q19336668]   \n",
      "6174  Charles Ralph Boxer           [http://www.wikidata.org/entity/Q954203]   \n",
      "6175       Dolf Breetvelt         [http://www.wikidata.org/entity/Q13573764]   \n",
      "\n",
      "                                      wiki_uri  \n",
      "0     http://www.wikidata.org/entity/Q82570739  \n",
      "11    http://www.wikidata.org/entity/Q82571047  \n",
      "14    http://www.wikidata.org/entity/Q86735056  \n",
      "23    http://www.wikidata.org/entity/Q86735059  \n",
      "25    http://www.wikidata.org/entity/Q84593426  \n",
      "...                                        ...  \n",
      "6167     http://www.wikidata.org/wiki/Q2097087  \n",
      "6170  http://www.wikidata.org/entity/Q27526154  \n",
      "6172  http://www.wikidata.org/entity/Q19336668  \n",
      "6174    http://www.wikidata.org/entity/Q954203  \n",
      "6175  http://www.wikidata.org/entity/Q13573764  \n",
      "\n",
      "[3337 rows x 3 columns]\n"
     ]
    }
   ],
   "source": [
    "# show results\n",
    "df = pandas.read_pickle('results/naive_string_matching.pkl')\n",
    "print(df[df['retrieved_uri'].apply(lambda x: len(x)) > 0])"
   ]
  },
  {
   "cell_type": "code",
   "execution_count": null,
   "id": "c1eee3d6",
   "metadata": {},
   "outputs": [],
   "source": []
  }
 ],
 "metadata": {
  "kernelspec": {
   "display_name": "Python (py39deezy)",
   "language": "python",
   "name": "py39deezy"
  },
  "language_info": {
   "codemirror_mode": {
    "name": "ipython",
    "version": 3
   },
   "file_extension": ".py",
   "mimetype": "text/x-python",
   "name": "python",
   "nbconvert_exporter": "python",
   "pygments_lexer": "ipython3",
   "version": "3.9.12"
  }
 },
 "nbformat": 4,
 "nbformat_minor": 5
}
