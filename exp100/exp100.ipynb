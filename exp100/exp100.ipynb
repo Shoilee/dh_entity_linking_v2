{
 "cells": [
  {
   "cell_type": "code",
   "execution_count": 1,
   "id": "e25c61c2",
   "metadata": {},
   "outputs": [],
   "source": [
    "import sys\n",
    "sys.path.append(\"..\") "
   ]
  },
  {
   "cell_type": "markdown",
   "id": "575dbc6e",
   "metadata": {},
   "source": [
    "## How did we construct the ground truth? \n",
    "![Ground truth](../resources/ground_truth_data_setup.png)\n",
    "[edit image](https://app.diagrams.net/#G1_CWj_Ux45Q6IAAnGwVurQxSnTkOvlVG_)"
   ]
  },
  {
   "cell_type": "markdown",
   "id": "bfbf69f4",
   "metadata": {},
   "source": [
    "# Build Ground Truth"
   ]
  },
  {
   "cell_type": "markdown",
   "id": "01c46a95",
   "metadata": {},
   "source": [
    "#### Step-1: NMVW Data Dump"
   ]
  },
  {
   "cell_type": "code",
   "execution_count": null,
   "id": "4a04858b",
   "metadata": {},
   "outputs": [],
   "source": [
    "from nmvwdatadump.data_dump import run as dump, count_all_constituents, count_all_constituent_with_wikidata\n",
    "\n",
    "dump(\"ccrdfconst\", 58000, range=20)\n",
    "count_all_constituents(\"ccrdfconst\") \n",
    "count_all_constituent_with_wikidata(\"ccrdfconst\") "
   ]
  },
  {
   "cell_type": "markdown",
   "id": "f2738648",
   "metadata": {},
   "source": [
    "#### Step-2: Filter wikidata constituents"
   ]
  },
  {
   "cell_type": "code",
   "execution_count": null,
   "id": "23ed719c",
   "metadata": {},
   "outputs": [],
   "source": [
    "from nmvwdatadump.filter_wiki_human import run as filter_wikidata, count_total_wikidata\n",
    "\n",
    "filter_wikidata(directory=\"nmvw_data/ccrdfconst\") # pass the FOLDER NAME containing ttl file\n",
    "count_total_wikidata(\"nmvw_data/ccrdfconst/const_wiki_filter_log.csv\")"
   ]
  },
  {
   "cell_type": "markdown",
   "id": "569af042",
   "metadata": {},
   "source": [
    "#### Step-3: Build ground truth"
   ]
  },
  {
   "cell_type": "markdown",
   "id": "809bd99d",
   "metadata": {},
   "source": [
    "We have 6165 instance of human entities, where we know the corresponding wikidata URI, therefore consider those human entities as our ground truth. From federated query to wikidata SPARQL endpoint, we also retrieved all the naming variation(different language, spelling and format) for corresponding to 6178 human listed on wikidata in different language.\n",
    "```SPARQL\n",
    "select * where {\n",
    "    SERVICE <https://query.wikidata.org/sparql> {  \n",
    "         <\"\"\"+var+\"\"\"> rdfs:label ?name .  \n",
    "    }}\n",
    "```"
   ]
  },
  {
   "cell_type": "code",
   "execution_count": null,
   "id": "3d802e13",
   "metadata": {},
   "outputs": [],
   "source": [
    "from exp100.construct_ground_truth import run as constructgroundtruthfromwikidata\n",
    "\n",
    "constructgroundtruthfromwikidata(\"data/wikidata_ccrdfconstQ5_full.ttl\", \"data/ground_truth.pkl\")"
   ]
  },
  {
   "cell_type": "markdown",
   "id": "92a2784a",
   "metadata": {},
   "source": [
    "## Naive String Matching"
   ]
  },
  {
   "cell_type": "code",
   "execution_count": null,
   "id": "efc9e3a9",
   "metadata": {
    "scrolled": true
   },
   "outputs": [],
   "source": [
    "from naive.naive_string_matching import run as naive_string_matching\n",
    "from utils.calculate_result import result\n",
    "import pandas\n",
    "\n",
    "naive_string_matching(\"data/wikidata_human_name.pkl\", \"results/naive_string_matching.pkl\")\n",
    "result(\"results/naive_string_matching.pkl\")"
   ]
  },
  {
   "cell_type": "code",
   "execution_count": null,
   "id": "bda3efaa",
   "metadata": {
    "scrolled": true
   },
   "outputs": [],
   "source": [
    "# show results\n",
    "df = pandas.read_pickle('results/naive_string_matching.pkl')\n",
    "print(df[df['retrieved_uri'].apply(lambda x: len(x)) > 0])"
   ]
  },
  {
   "cell_type": "markdown",
   "id": "4ca08655",
   "metadata": {},
   "source": [
    "## Deezy Match"
   ]
  },
  {
   "cell_type": "code",
   "execution_count": 5,
   "id": "c39ed09c",
   "metadata": {},
   "outputs": [],
   "source": [
    "from deezymatch.deezy_match_data_construction import construct_deezymatch_data\n",
    "\n",
    "construct_deezymatch_data('data/ground_truth.pkl', 'data/deezymatch/')"
   ]
  },
  {
   "cell_type": "markdown",
   "id": "c8846fce",
   "metadata": {},
   "source": [
    "For k-fold-validation on the ground truth execute file: [k_fold_validation.ipynb](k_fold_validation/k_fold_validation.ipynb)"
   ]
  }
 ],
 "metadata": {
  "kernelspec": {
   "display_name": "Python (py39deezy)",
   "language": "python",
   "name": "py39deezy"
  },
  "language_info": {
   "codemirror_mode": {
    "name": "ipython",
    "version": 3
   },
   "file_extension": ".py",
   "mimetype": "text/x-python",
   "name": "python",
   "nbconvert_exporter": "python",
   "pygments_lexer": "ipython3",
   "version": "3.9.12"
  }
 },
 "nbformat": 4,
 "nbformat_minor": 5
}
