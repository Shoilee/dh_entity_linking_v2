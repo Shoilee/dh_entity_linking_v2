{
 "cells": [
  {
   "cell_type": "code",
   "execution_count": 1,
   "metadata": {},
   "outputs": [
    {
     "data": {
      "text/html": [
       "<div>\n",
       "<style scoped>\n",
       "    .dataframe tbody tr th:only-of-type {\n",
       "        vertical-align: middle;\n",
       "    }\n",
       "\n",
       "    .dataframe tbody tr th {\n",
       "        vertical-align: top;\n",
       "    }\n",
       "\n",
       "    .dataframe thead th {\n",
       "        text-align: right;\n",
       "    }\n",
       "</style>\n",
       "<table border=\"1\" class=\"dataframe\">\n",
       "  <thead>\n",
       "    <tr style=\"text-align: right;\">\n",
       "      <th></th>\n",
       "      <th>s</th>\n",
       "      <th>object</th>\n",
       "      <th>Unnamed: 2</th>\n",
       "    </tr>\n",
       "  </thead>\n",
       "  <tbody>\n",
       "    <tr>\n",
       "      <th>0</th>\n",
       "      <td>\"https://example.com/ConXrefs/156404\"</td>\n",
       "      <td>\"https://example.com/Objects/84043\"</td>\n",
       "      <td>NaN</td>\n",
       "    </tr>\n",
       "    <tr>\n",
       "      <th>1</th>\n",
       "      <td>\"https://example.com/ConXrefs/129378\"</td>\n",
       "      <td>\"https://example.com/Objects/71882\"</td>\n",
       "      <td>NaN</td>\n",
       "    </tr>\n",
       "    <tr>\n",
       "      <th>2</th>\n",
       "      <td>\"https://example.com/ConXrefs/143182\"</td>\n",
       "      <td>\"https://example.com/Objects/78708\"</td>\n",
       "      <td>NaN</td>\n",
       "    </tr>\n",
       "    <tr>\n",
       "      <th>3</th>\n",
       "      <td>\"https://example.com/ConXrefs/143517\"</td>\n",
       "      <td>\"https://example.com/Objects/78708\"</td>\n",
       "      <td>NaN</td>\n",
       "    </tr>\n",
       "    <tr>\n",
       "      <th>4</th>\n",
       "      <td>\"https://example.com/ConXrefs/65968\"</td>\n",
       "      <td>\"https://example.com/Objects/41303\"</td>\n",
       "      <td>NaN</td>\n",
       "    </tr>\n",
       "  </tbody>\n",
       "</table>\n",
       "</div>"
      ],
      "text/plain": [
       "                                         s  \\\n",
       "0   \"https://example.com/ConXrefs/156404\"    \n",
       "1   \"https://example.com/ConXrefs/129378\"    \n",
       "2   \"https://example.com/ConXrefs/143182\"    \n",
       "3   \"https://example.com/ConXrefs/143517\"    \n",
       "4    \"https://example.com/ConXrefs/65968\"    \n",
       "\n",
       "                                  object  Unnamed: 2  \n",
       "0   \"https://example.com/Objects/84043\"          NaN  \n",
       "1   \"https://example.com/Objects/71882\"          NaN  \n",
       "2   \"https://example.com/Objects/78708\"          NaN  \n",
       "3   \"https://example.com/Objects/78708\"          NaN  \n",
       "4   \"https://example.com/Objects/41303\"          NaN  "
      ]
     },
     "execution_count": 1,
     "metadata": {},
     "output_type": "execute_result"
    }
   ],
   "source": [
    "import pandas\n",
    "\n",
    "df = pandas.read_csv(\"conxref_object_link.csv\")\n",
    "df.head()"
   ]
  },
  {
   "cell_type": "code",
   "execution_count": 18,
   "metadata": {},
   "outputs": [],
   "source": [
    "import rdflib, os\n",
    "from rdflib import Graph, URIRef\n",
    "from rdflib.namespace import SKOS\n",
    "\n",
    "def insert_links(df):\n",
    "    g = Graph()\n",
    "\n",
    "    try:\n",
    "        for _ , row in df.iterrows():\n",
    "            conxrefs = URIRef(str(row['s']).strip().replace('\"', ''))\n",
    "            object = URIRef(str(row['object']).strip().replace('\"', ''))\n",
    "            \n",
    "            g.add((conxrefs, SKOS.related, object))\n",
    "        \n",
    "    finally:\n",
    "        return g"
   ]
  },
  {
   "cell_type": "code",
   "execution_count": 5,
   "metadata": {},
   "outputs": [
    {
     "data": {
      "text/plain": [
       "Index(['s', 'object', 'Unnamed: 2'], dtype='object')"
      ]
     },
     "execution_count": 5,
     "metadata": {},
     "output_type": "execute_result"
    }
   ],
   "source": [
    "df.columns"
   ]
  },
  {
   "cell_type": "code",
   "execution_count": 20,
   "metadata": {},
   "outputs": [
    {
     "data": {
      "text/plain": [
       "<Graph identifier=N174cb54d847a4dfda0145e77ebbab74f (<class 'rdflib.graph.Graph'>)>"
      ]
     },
     "execution_count": 20,
     "metadata": {},
     "output_type": "execute_result"
    }
   ],
   "source": [
    "insert_links(df).serialize(destination='conxreftoobject_graph.ttl')"
   ]
  },
  {
   "cell_type": "code",
   "execution_count": 1,
   "metadata": {},
   "outputs": [
    {
     "data": {
      "text/plain": [
       "{'scheme': 'http',\n",
       " 'authority': 'www.cidoc-crm.org',\n",
       " 'path': '/cidoc-crm/P2_has_type',\n",
       " 'query': None,\n",
       " 'fragment': None}"
      ]
     },
     "execution_count": 1,
     "metadata": {},
     "output_type": "execute_result"
    }
   ],
   "source": [
    "import rfc3987\n",
    "rfc3987.parse(\"http://www.cidoc-crm.org/cidoc-crm/P2_has_type\", rule='IRI')"
   ]
  },
  {
   "cell_type": "code",
   "execution_count": 4,
   "metadata": {},
   "outputs": [
    {
     "data": {
      "text/plain": [
       "{'scheme': 'http',\n",
       " 'authority': 'www.cidoc-crm.org',\n",
       " 'path': '/cidoc-crm/P2_has_type',\n",
       " 'query': None,\n",
       " 'fragment': None}"
      ]
     },
     "execution_count": 4,
     "metadata": {},
     "output_type": "execute_result"
    }
   ],
   "source": [
    "import iribaker\n",
    "iri = iribaker.to_iri(\"http://www.cidoc-crm.org/cidoc-crm/P2_has_type\")\n",
    "rfc3987.parse(iri, rule='IRI')\n"
   ]
  },
  {
   "cell_type": "code",
   "execution_count": null,
   "metadata": {},
   "outputs": [],
   "source": [
    "http://www.cidoc-crm.org/cidoc-crm/P1_is_identified_by"
   ]
  },
  {
   "cell_type": "code",
   "execution_count": 17,
   "metadata": {},
   "outputs": [
    {
     "name": "stderr",
     "output_type": "stream",
     "text": [
      "/var/folders/jg/8kz6nb554_3dz1_0swrmdw480000gn/T/ipykernel_8427/2315874685.py:3: DtypeWarning: Columns (14,21,22,26,29,30,44,50,58,60,63,64,65,67,70,72,73,76,77,78) have mixed types. Specify dtype option on import or set low_memory=False.\n",
      "  df = pandas.read_csv(\"../Bronbeek_Data/objects.csv\", index_col=False)\n"
     ]
    },
    {
     "data": {
      "text/plain": [
       "Index(['ObjectID', 'ObjectNumber', 'SortNumber', 'ObjectCount', 'DepartmentID',\n",
       "       'ObjectStatusID', 'ClassificationID', 'SubClassID', 'Type',\n",
       "       'LoanClassID', 'DateBegin', 'DateEnd', 'ObjectName', 'Dated', 'Title',\n",
       "       'Medium', 'Dimensions', 'Signed', 'Inscribed', 'Markings', 'CreditLine',\n",
       "       'Chat', 'DimensionRemarks', 'Description', 'Exhibitions', 'Provenance',\n",
       "       'PubReferences', 'Notes', 'CuratorialRemarks', 'RelatedWorks',\n",
       "       'Portfolio', 'ObjectHeightCMOLD', 'ObjectWidthCMOLD',\n",
       "       'ObjectDepthCMOLD', 'ObjectDiameterCMOLD', 'ObjectWeightKGOLD',\n",
       "       'PublicAccess', 'CuratorApproved', 'OnView', 'TextSearchID', 'LoginID',\n",
       "       'EnteredDate', 'SysTimeStamp', 'Accountability', 'PaperFileRef',\n",
       "       'ObjectLevelID', 'ObjectTypeID', 'ObjectScreenID', 'UserNumber3',\n",
       "       'ObjectNameID', 'ObjectNameAltID', 'State', 'HistAttributions',\n",
       "       'Bibliography', 'LoanClass', 'Edition', 'Cataloguer', 'Curator',\n",
       "       'ObjectDiamCMOLD', 'PaperSupport', 'IsVirtual', 'CatalogueISODate',\n",
       "       'CuratorRevISODate', 'IsTemplate', 'SortNumber2', 'DateRemarks',\n",
       "       'DateEffectiveISODate', 'InJurisdiction', 'SearchObjectNumber'],\n",
       "      dtype='object')"
      ]
     },
     "execution_count": 17,
     "metadata": {},
     "output_type": "execute_result"
    }
   ],
   "source": [
    "import pandas\n",
    "\n",
    "df = pandas.read_csv(\"../Bronbeek_Data/objects.csv\", index_col=False)\n",
    "df.dropna(axis='columns', how='all').columns"
   ]
  },
  {
   "cell_type": "code",
   "execution_count": 23,
   "metadata": {},
   "outputs": [
    {
     "data": {
      "text/plain": [
       "4                                                  187; 59\n",
       "88                          kling geëtst met bloemmotieven\n",
       "106                                              Tower; GR\n",
       "180                                                gevaert\n",
       "191                                                   SB17\n",
       "                               ...                        \n",
       "82132                                                 S.J.\n",
       "82134                                          IJzerhouwer\n",
       "92669                                       (ingekrast) B+\n",
       "94331    B met erboven een kroon;\\r\\n2 gekruiste klewan...\n",
       "94443    Draagt een stickertje met de codering C4 1944/...\n",
       "Name: Markings, Length: 3646, dtype: object"
      ]
     },
     "execution_count": 23,
     "metadata": {},
     "output_type": "execute_result"
    }
   ],
   "source": [
    "df = df[df['Markings']!='NULL']\n",
    "df.dropna(subset=['Markings'])['Markings']"
   ]
  }
 ],
 "metadata": {
  "kernelspec": {
   "display_name": "pm_links",
   "language": "python",
   "name": "python3"
  },
  "language_info": {
   "codemirror_mode": {
    "name": "ipython",
    "version": 3
   },
   "file_extension": ".py",
   "mimetype": "text/x-python",
   "name": "python",
   "nbconvert_exporter": "python",
   "pygments_lexer": "ipython3",
   "version": "3.9.18"
  }
 },
 "nbformat": 4,
 "nbformat_minor": 2
}
