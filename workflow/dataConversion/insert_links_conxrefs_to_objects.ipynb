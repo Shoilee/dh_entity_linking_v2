{
 "cells": [
  {
   "cell_type": "markdown",
   "metadata": {},
   "source": [
    "# Insert triple for constituents related to objects"
   ]
  },
  {
   "cell_type": "code",
   "execution_count": null,
   "metadata": {},
   "outputs": [],
   "source": [
    "query = \"\"\"\n",
    "            PREFIX skos: <http://www.w3.org/2004/02/skos/core#>\n",
    "            PREFIX rdfs: <http://www.w3.org/2000/01/rdf-schema#>\n",
    "            PREFIX owl: <http://www.w3.org/2002/07/owl#>\n",
    "            PREFIX crm: <http://www.cidoc-crm.org/cidoc-crm/>\n",
    "\n",
    "            SELECT ?event ?constituent ?object\n",
    "            WHERE{\n",
    "                ?conxrefdetailID <https://pressingmatter.nl/Bronbeek/ConXrefDetails/vocab/ConstituentID> ?constituent .\n",
    "                ?conxrefdetailID <https://pressingmatter.nl/Bronbeek/ConXrefDetails/vocab/Prefix> ?event .\n",
    "                ?conxrefdetailID <https://pressingmatter.nl/Bronbeek/ConXrefDetails/vocab/RoleTypeID> ?RoleTypeID .\n",
    "                ?conxrefdetailID <https://pressingmatter.nl/Bronbeek/ConXrefDetails/vocab/ConXrefID> ?conxref .\n",
    "                ?conXref <https://pressingmatter.nl/Bronbeek/ConXrefs/vocab/ID> ?ID .\n",
    "                ?conXref <https://pressingmatter.nl/Bronbeek/ConXrefs/vocab/TableID> ?TableID .\n",
    "                FILTER (?TableID = \"108\"^^<https://pressingmatter.nl/Bronbeek/ConXrefs/interger>) .\n",
    "                ?conXref <https://pressingmatter.nl/Bronbeek/ConXrefs/vocab/RoleTypeID> <https://pressingmatter.nl/Bronbeek/RoleTypes/2> .\n",
    "                ?object <https://pressingmatter.nl/Bronbeek/Objects/vocab/ObjectID> ?ID .\n",
    "            }\n",
    "        \"\"\""
   ]
  },
  {
   "cell_type": "markdown",
   "metadata": {},
   "source": [
    "Run query:\n",
    "```\n",
    "PREFIX skos: <http://www.w3.org/2004/02/skos/core#>\n",
    "\n",
    "SELECT ?constituent ?object\n",
    "WHERE{\n",
    "  \t?conxrefdetailID <https://pressingmatter.nl/Bronbeek/ConXrefDetails/vocab/ConstituentID> ?constituent .\n",
    "  \t?conxrefdetailID <https://pressingmatter.nl/Bronbeek/ConXrefDetails/vocab/ConXrefID> ?conXref .\n",
    "    ?conXref <https://pressingmatter.nl/Bronbeek/ConXrefs/vocab/ID> ?ID .\n",
    "    ?conXref <https://pressingmatter.nl/Bronbeek/ConXrefs/vocab/TableID> ?TableID .\n",
    " \tFILTER (?TableID = \"108\"^^<https://pressingmatter.nl/Bronbeek/ConXrefs/interger>) .\n",
    "    {?conXref <https://pressingmatter.nl/Bronbeek/ConXrefs/vocab/RoleTypeID> <https://pressingmatter.nl/Bronbeek/RoleTypes/1>}\n",
    "      UNION {?conXref <https://pressingmatter.nl/Bronbeek/ConXrefs/vocab/RoleTypeID> <https://pressingmatter.nl/Bronbeek/RoleTypes/2>} \n",
    "      UNION {?conXref <https://pressingmatter.nl/Bronbeek/ConXrefs/vocab/RoleTypeID> <https://pressingmatter.nl/Bronbeek/RoleTypes/5>} .\n",
    "  \t?object <https://pressingmatter.nl/Bronbeek/Objects/vocab/ObjectID> ?ID .\n",
    "}\n",
    "```"
   ]
  },
  {
   "cell_type": "markdown",
   "metadata": {},
   "source": [
    "add triple"
   ]
  },
  {
   "cell_type": "code",
   "execution_count": null,
   "metadata": {},
   "outputs": [],
   "source": [
    "import pandas\n",
    "\n",
    "df = pandas.read_csv(\"conxref_object_link.csv\").dropna(axis=1)\n",
    "df.columns"
   ]
  },
  {
   "cell_type": "code",
   "execution_count": null,
   "metadata": {},
   "outputs": [],
   "source": [
    "import rdflib, os\n",
    "from rdflib import Graph, URIRef\n",
    "from rdflib.namespace import SKOS\n",
    "\n",
    "def insert_links(df):\n",
    "    g = Graph()\n",
    "\n",
    "    try:\n",
    "        for _ , row in df.iterrows():\n",
    "            conxrefs = URIRef(str(row[0]).strip().replace('\"', ''))\n",
    "            object = URIRef(str(row[1]).strip().replace('\"', ''))\n",
    "            g.add((conxrefs, SKOS.related, object))\n",
    "        \n",
    "    finally:\n",
    "        print(len(g))\n",
    "        return g"
   ]
  },
  {
   "cell_type": "code",
   "execution_count": null,
   "metadata": {},
   "outputs": [],
   "source": [
    "insert_links(df).serialize(destination='conxreftoobject_graph.ttl')"
   ]
  },
  {
   "cell_type": "markdown",
   "metadata": {},
   "source": [
    "# Insert triple for provenance activity (Acquisition)"
   ]
  },
  {
   "cell_type": "markdown",
   "metadata": {},
   "source": [
    "run query:\n",
    "\n",
    "```\n",
    "PREFIX skos: <http://www.w3.org/2004/02/skos/core#>\n",
    "\n",
    "SELECT ?event ?constituent ?object\n",
    "WHERE{\n",
    "  \t?conxrefdetailID <https://pressingmatter.nl/Bronbeek/ConXrefDetails/vocab/ConstituentID> ?constituent .\n",
    "  \t?conxrefdetailID <https://pressingmatter.nl/Bronbeek/ConXrefDetails/vocab/Prefix> ?event .\n",
    "  \t?conxrefdetailID <https://pressingmatter.nl/Bronbeek/ConXrefDetails/vocab/ConXrefID> ?conXref .\n",
    "    ?conXref <https://pressingmatter.nl/Bronbeek/ConXrefs/vocab/ID> ?ID .\n",
    "    ?conXref <https://pressingmatter.nl/Bronbeek/ConXrefs/vocab/TableID> ?TableID .\n",
    " \tFILTER (?TableID = \"108\"^^<https://pressingmatter.nl/Bronbeek/ConXrefs/interger>) .\n",
    "    ?conXref <https://pressingmatter.nl/Bronbeek/ConXrefs/vocab/RoleTypeID> <https://pressingmatter.nl/Bronbeek/RoleTypes/2> .\n",
    "  \t?object <https://pressingmatter.nl/Bronbeek/Objects/vocab/ObjectID> ?ID .\n",
    "}\n",
    "```"
   ]
  },
  {
   "cell_type": "markdown",
   "metadata": {},
   "source": [
    "add triples"
   ]
  },
  {
   "cell_type": "code",
   "execution_count": 18,
   "metadata": {},
   "outputs": [
    {
     "data": {
      "text/plain": [
       "Index([' event', ' constituent', ' object'], dtype='object')"
      ]
     },
     "execution_count": 18,
     "metadata": {},
     "output_type": "execute_result"
    }
   ],
   "source": [
    "import pandas\n",
    "\n",
    "df = pandas.read_csv(\"provenance_activity.csv\").dropna(axis=1)\n",
    "df.columns"
   ]
  },
  {
   "cell_type": "code",
   "execution_count": 19,
   "metadata": {},
   "outputs": [],
   "source": [
    "from rdflib import Graph, URIRef, Namespace, Literal\n",
    "from rdflib.namespace import SKOS, RDF, RDFS\n",
    "from tqdm import tqdm \n",
    "\n",
    "def insert_links(df):\n",
    "    crm = Namespace(\"http://www.cidoc-crm.org/cidoc-crm/\")\n",
    "    g = Graph()\n",
    "    g.bind(\"crm\",crm)\n",
    "\n",
    "    try:\n",
    "        for i , row in tqdm(df.iterrows()):\n",
    "\n",
    "            event = str(row.iloc[0]).strip().replace('\"', '')\n",
    "            constituent = URIRef(str(row.iloc[1]).strip().replace('\"', ''))\n",
    "            object = URIRef(str(row.iloc[2]).strip().replace('\"', ''))\n",
    "\n",
    "            # print(f\"event:{event}\\n constituent:{constituent}\\n object: {object}\\n\")\n",
    "\n",
    "            prov_activity = URIRef(\"www.example.com/Bronbeek/Provenance/\"+str(i+1))\n",
    "            acquisition = URIRef(\"www.example.com/Bronbeek/Acquisition/\"+str(i+1))\n",
    "\n",
    "            g.add((prov_activity, RDF.type, crm.E7_Activity))\n",
    "            g.add((prov_activity, crm.P14_carried_out_by, constituent))\n",
    "            g.add((prov_activity, crm.P2_has_type, URIRef(u\"http://vocab.getty.edu/aat/300055863\")))\n",
    "            g.add((prov_activity, crm.P9_consists_of, acquisition))\n",
    "            g.add((acquisition, RDF.type, crm.E8_Acquisition))\n",
    "            g.add((acquisition, crm.P23_transferred_titled_from, constituent))\n",
    "            g.add((acquisition, crm.P24_transferred_titled_of, object))\n",
    "            g.add((acquisition, RDFS.label, Literal(event)))\n",
    "            \n",
    "        \n",
    "    finally:\n",
    "        print(len(g))\n",
    "        g.add((URIRef(u\"http://vocab.getty.edu/aat/300055863\"), RDF.type, crm.E55_Type))\n",
    "        g.add((URIRef(u\"http://vocab.getty.edu/aat/300055863\"), RDFS.label, Literal(\"Provenance Activity\")))\n",
    "        return g"
   ]
  },
  {
   "cell_type": "code",
   "execution_count": 20,
   "metadata": {},
   "outputs": [
    {
     "name": "stderr",
     "output_type": "stream",
     "text": [
      "0it [00:00, ?it/s]"
     ]
    },
    {
     "name": "stderr",
     "output_type": "stream",
     "text": [
      "144075it [00:39, 3667.31it/s]\n"
     ]
    },
    {
     "name": "stdout",
     "output_type": "stream",
     "text": [
      "1152600\n"
     ]
    },
    {
     "data": {
      "text/plain": [
       "<Graph identifier=Nf9307ba2be9a4cb6be6340e1a3285993 (<class 'rdflib.graph.Graph'>)>"
      ]
     },
     "execution_count": 20,
     "metadata": {},
     "output_type": "execute_result"
    }
   ],
   "source": [
    "insert_links(df).serialize(destination='provenance_activity.ttl')"
   ]
  },
  {
   "cell_type": "markdown",
   "metadata": {},
   "source": [
    "# Add triple for former owner"
   ]
  },
  {
   "cell_type": "markdown",
   "metadata": {},
   "source": [
    "Run query:\n",
    "```\n",
    "PREFIX skos: <http://www.w3.org/2004/02/skos/core#>\n",
    "\n",
    "SELECT ?event ?constituent ?object\n",
    "WHERE{\n",
    "  \t?conxrefdetailID <https://pressingmatter.nl/Bronbeek/ConXrefDetails/vocab/ConstituentID> ?constituent .\n",
    "  \t?conxrefdetailID <https://pressingmatter.nl/Bronbeek/ConXrefDetails/vocab/Prefix> ?event .\n",
    "  \t?conxrefdetailID <https://pressingmatter.nl/Bronbeek/ConXrefDetails/vocab/ConXrefID> ?conXref .\n",
    "    ?conXref <https://pressingmatter.nl/Bronbeek/ConXrefs/vocab/ID> ?ID .\n",
    "    ?conXref <https://pressingmatter.nl/Bronbeek/ConXrefs/vocab/TableID> ?TableID .\n",
    " \tFILTER (?TableID = \"108\"^^<https://pressingmatter.nl/Bronbeek/ConXrefs/interger>) .\n",
    "    ?conXref <https://pressingmatter.nl/Bronbeek/ConXrefs/vocab/RoleTypeID> <https://pressingmatter.nl/Bronbeek/RoleTypes/5> .\n",
    "  \t?object <https://pressingmatter.nl/Bronbeek/Objects/vocab/ObjectID> ?ID .\n",
    "}\n",
    "```"
   ]
  },
  {
   "cell_type": "code",
   "execution_count": 23,
   "metadata": {},
   "outputs": [
    {
     "data": {
      "text/plain": [
       "Index([' event', ' constituent', ' object'], dtype='object')"
      ]
     },
     "execution_count": 23,
     "metadata": {},
     "output_type": "execute_result"
    }
   ],
   "source": [
    "import pandas\n",
    "\n",
    "df = pandas.read_csv(\"former_owner.csv\").dropna(axis=1)\n",
    "df.columns"
   ]
  },
  {
   "cell_type": "code",
   "execution_count": 24,
   "metadata": {},
   "outputs": [],
   "source": [
    "from rdflib import Graph, URIRef, Namespace, Literal\n",
    "from rdflib.namespace import SKOS, RDF, RDFS\n",
    "from tqdm import tqdm \n",
    "\n",
    "def insert_links(df):\n",
    "    g = Graph()\n",
    "    crm = Namespace(\"http://www.cidoc-crm.org/cidoc-crm/\")\n",
    "    g.bind(\"crm\",crm)\n",
    "\n",
    "    try:\n",
    "        for i , row in tqdm(df.iterrows()):\n",
    "            constituent = URIRef(str(row[1]).strip().replace('\"', ''))\n",
    "            object = URIRef(str(row[2]).strip().replace('\"', ''))\n",
    "\n",
    "            g.add((object, crm.P51_has_former_or_current_owner, constituent)) \n",
    "    finally:\n",
    "        print(len(g))\n",
    "        return g"
   ]
  },
  {
   "cell_type": "code",
   "execution_count": 25,
   "metadata": {},
   "outputs": [
    {
     "name": "stderr",
     "output_type": "stream",
     "text": [
      "0it [00:00, ?it/s]"
     ]
    },
    {
     "name": "stderr",
     "output_type": "stream",
     "text": [
      "/var/folders/jg/8kz6nb554_3dz1_0swrmdw480000gn/T/ipykernel_22780/2434866988.py:12: FutureWarning: Series.__getitem__ treating keys as positions is deprecated. In a future version, integer keys will always be treated as labels (consistent with DataFrame behavior). To access a value by position, use `ser.iloc[pos]`\n",
      "  constituent = URIRef(str(row[1]).strip().replace('\"', ''))\n",
      "/var/folders/jg/8kz6nb554_3dz1_0swrmdw480000gn/T/ipykernel_22780/2434866988.py:13: FutureWarning: Series.__getitem__ treating keys as positions is deprecated. In a future version, integer keys will always be treated as labels (consistent with DataFrame behavior). To access a value by position, use `ser.iloc[pos]`\n",
      "  object = URIRef(str(row[2]).strip().replace('\"', ''))\n",
      "59642it [00:06, 9481.38it/s] \n"
     ]
    },
    {
     "name": "stdout",
     "output_type": "stream",
     "text": [
      "31626\n"
     ]
    },
    {
     "data": {
      "text/plain": [
       "<Graph identifier=Ncce62e413d3441c993fed2ce5adfea70 (<class 'rdflib.graph.Graph'>)>"
      ]
     },
     "execution_count": 25,
     "metadata": {},
     "output_type": "execute_result"
    }
   ],
   "source": [
    "insert_links(df).serialize(destination='former_owner.ttl')"
   ]
  },
  {
   "cell_type": "markdown",
   "metadata": {},
   "source": [
    "# Add triple for person related to object (RoleTypeID=1)"
   ]
  },
  {
   "cell_type": "markdown",
   "metadata": {},
   "source": [
    "Run query:\n",
    "```\n",
    "PREFIX skos: <http://www.w3.org/2004/02/skos/core#>\n",
    "\n",
    "SELECT ?event ?constituent ?object\n",
    "WHERE{\n",
    "  \t?conxrefdetailID <https://pressingmatter.nl/Bronbeek/ConXrefDetails/vocab/ConstituentID> ?constituent .\n",
    "  \t?conxrefdetailID <https://pressingmatter.nl/Bronbeek/ConXrefDetails/vocab/Prefix> ?event .\n",
    "  \t?conxrefdetailID <https://pressingmatter.nl/Bronbeek/ConXrefDetails/vocab/ConXrefID> ?conXref .\n",
    "    ?conXref <https://pressingmatter.nl/Bronbeek/ConXrefs/vocab/ID> ?ID .\n",
    "    ?conXref <https://pressingmatter.nl/Bronbeek/ConXrefs/vocab/TableID> ?TableID .\n",
    " \tFILTER (?TableID = \"108\"^^<https://pressingmatter.nl/Bronbeek/ConXrefs/interger>) .\n",
    "    ?conXref <https://pressingmatter.nl/Bronbeek/ConXrefs/vocab/RoleTypeID> <https://pressingmatter.nl/Bronbeek/RoleTypes/5> .\n",
    "  \t?object <https://pressingmatter.nl/Bronbeek/Objects/vocab/ObjectID> ?ID .\n",
    "}\n",
    "```"
   ]
  },
  {
   "cell_type": "code",
   "execution_count": 26,
   "metadata": {},
   "outputs": [
    {
     "data": {
      "text/plain": [
       "Index([' constituent', ' object'], dtype='object')"
      ]
     },
     "execution_count": 26,
     "metadata": {},
     "output_type": "execute_result"
    }
   ],
   "source": [
    "import pandas\n",
    "\n",
    "df = pandas.read_csv(\"person_related.csv\").dropna(axis=1)\n",
    "df.columns"
   ]
  },
  {
   "cell_type": "code",
   "execution_count": 27,
   "metadata": {},
   "outputs": [],
   "source": [
    "from rdflib import Graph, URIRef, Namespace, Literal\n",
    "from rdflib.namespace import SKOS, RDF, RDFS\n",
    "from tqdm import tqdm \n",
    "\n",
    "def insert_links(df):\n",
    "    g = Graph()\n",
    "    crm = Namespace(\"http://www.cidoc-crm.org/cidoc-crm/\")\n",
    "    g.bind(\"crm\",crm)\n",
    "\n",
    "    try:\n",
    "        for i , row in tqdm(df.iterrows()):\n",
    "            constituent = URIRef(str(row[0]).strip().replace('\"', ''))\n",
    "            object = URIRef(str(row[1]).strip().replace('\"', ''))\n",
    "\n",
    "            g.add((object, SKOS.related, constituent)) \n",
    "    finally:\n",
    "        print(len(g))\n",
    "        return g"
   ]
  },
  {
   "cell_type": "code",
   "execution_count": 28,
   "metadata": {},
   "outputs": [
    {
     "name": "stderr",
     "output_type": "stream",
     "text": [
      "0it [00:00, ?it/s]"
     ]
    },
    {
     "name": "stderr",
     "output_type": "stream",
     "text": [
      "/var/folders/jg/8kz6nb554_3dz1_0swrmdw480000gn/T/ipykernel_22780/111733869.py:12: FutureWarning: Series.__getitem__ treating keys as positions is deprecated. In a future version, integer keys will always be treated as labels (consistent with DataFrame behavior). To access a value by position, use `ser.iloc[pos]`\n",
      "  constituent = URIRef(str(row[0]).strip().replace('\"', ''))\n",
      "/var/folders/jg/8kz6nb554_3dz1_0swrmdw480000gn/T/ipykernel_22780/111733869.py:13: FutureWarning: Series.__getitem__ treating keys as positions is deprecated. In a future version, integer keys will always be treated as labels (consistent with DataFrame behavior). To access a value by position, use `ser.iloc[pos]`\n",
      "  object = URIRef(str(row[1]).strip().replace('\"', ''))\n",
      "68346it [00:07, 8775.51it/s] \n"
     ]
    },
    {
     "name": "stdout",
     "output_type": "stream",
     "text": [
      "35838\n"
     ]
    },
    {
     "data": {
      "text/plain": [
       "<Graph identifier=N33ce4160c2fb42769ad26ed5466b8a1f (<class 'rdflib.graph.Graph'>)>"
      ]
     },
     "execution_count": 28,
     "metadata": {},
     "output_type": "execute_result"
    }
   ],
   "source": [
    "insert_links(df).serialize(destination='person_related.ttl')"
   ]
  }
 ],
 "metadata": {
  "kernelspec": {
   "display_name": "pm_links",
   "language": "python",
   "name": "python3"
  },
  "language_info": {
   "codemirror_mode": {
    "name": "ipython",
    "version": 3
   },
   "file_extension": ".py",
   "mimetype": "text/x-python",
   "name": "python",
   "nbconvert_exporter": "python",
   "pygments_lexer": "ipython3",
   "version": "3.9.18"
  }
 },
 "nbformat": 4,
 "nbformat_minor": 2
}
