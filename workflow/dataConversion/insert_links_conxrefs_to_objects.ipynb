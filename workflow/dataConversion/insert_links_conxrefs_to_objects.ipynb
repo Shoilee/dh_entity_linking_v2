{
 "cells": [
  {
   "cell_type": "code",
   "execution_count": 68,
   "metadata": {},
   "outputs": [
    {
     "data": {
      "text/plain": [
       "Index(['s', ' object ', 'Unnamed: 2'], dtype='object')"
      ]
     },
     "execution_count": 68,
     "metadata": {},
     "output_type": "execute_result"
    }
   ],
   "source": [
    "import pandas\n",
    "\n",
    "df = pandas.read_csv(\"conxref_object_link.csv\")\n",
    "df.columns"
   ]
  },
  {
   "cell_type": "code",
   "execution_count": 74,
   "metadata": {},
   "outputs": [],
   "source": [
    "import rdflib, os\n",
    "from rdflib import Graph, URIRef\n",
    "from rdflib.namespace import SKOS\n",
    "\n",
    "def insert_links(df):\n",
    "    g = Graph()\n",
    "\n",
    "    try:\n",
    "        for i , row in df[:10].iterrows():\n",
    "            print(f\"conxref: {row['s']}, object: {row['object']}\")\n",
    "            conxrefs = str(row['s']).strip().replace('\"', '')\n",
    "            object = str(row['object']).strip().replace('\"', '')\n",
    "           \n",
    "            g.add((conxrefs, SKOS.related, object))\n",
    "        \n",
    "    finally:\n",
    "        print(len(g))\n",
    "        return g"
   ]
  },
  {
   "cell_type": "code",
   "execution_count": 72,
   "metadata": {},
   "outputs": [
    {
     "data": {
      "text/html": [
       "<div>\n",
       "<style scoped>\n",
       "    .dataframe tbody tr th:only-of-type {\n",
       "        vertical-align: middle;\n",
       "    }\n",
       "\n",
       "    .dataframe tbody tr th {\n",
       "        vertical-align: top;\n",
       "    }\n",
       "\n",
       "    .dataframe thead th {\n",
       "        text-align: right;\n",
       "    }\n",
       "</style>\n",
       "<table border=\"1\" class=\"dataframe\">\n",
       "  <thead>\n",
       "    <tr style=\"text-align: right;\">\n",
       "      <th></th>\n",
       "      <th>s</th>\n",
       "      <th>object</th>\n",
       "    </tr>\n",
       "  </thead>\n",
       "  <tbody>\n",
       "    <tr>\n",
       "      <th>0</th>\n",
       "      <td>\"https://example.com/ConXrefs/4680\"</td>\n",
       "      <td>\"https://example.com/Bronbeek/Objects/4592\"</td>\n",
       "    </tr>\n",
       "    <tr>\n",
       "      <th>1</th>\n",
       "      <td>\"https://example.com/ConXrefs/1754\"</td>\n",
       "      <td>\"https://example.com/Bronbeek/Objects/2332\"</td>\n",
       "    </tr>\n",
       "    <tr>\n",
       "      <th>2</th>\n",
       "      <td>\"https://example.com/ConXrefs/5001\"</td>\n",
       "      <td>\"https://example.com/Bronbeek/Objects/4500\"</td>\n",
       "    </tr>\n",
       "    <tr>\n",
       "      <th>3</th>\n",
       "      <td>\"https://example.com/ConXrefs/2664\"</td>\n",
       "      <td>\"https://example.com/Bronbeek/Objects/3255\"</td>\n",
       "    </tr>\n",
       "    <tr>\n",
       "      <th>4</th>\n",
       "      <td>\"https://example.com/ConXrefs/5145\"</td>\n",
       "      <td>\"https://example.com/Bronbeek/Objects/5100\"</td>\n",
       "    </tr>\n",
       "  </tbody>\n",
       "</table>\n",
       "</div>"
      ],
      "text/plain": [
       "                                       s  \\\n",
       "0   \"https://example.com/ConXrefs/4680\"    \n",
       "1   \"https://example.com/ConXrefs/1754\"    \n",
       "2   \"https://example.com/ConXrefs/5001\"    \n",
       "3   \"https://example.com/ConXrefs/2664\"    \n",
       "4   \"https://example.com/ConXrefs/5145\"    \n",
       "\n",
       "                                         object   \n",
       "0   \"https://example.com/Bronbeek/Objects/4592\"   \n",
       "1   \"https://example.com/Bronbeek/Objects/2332\"   \n",
       "2   \"https://example.com/Bronbeek/Objects/4500\"   \n",
       "3   \"https://example.com/Bronbeek/Objects/3255\"   \n",
       "4   \"https://example.com/Bronbeek/Objects/5100\"   "
      ]
     },
     "execution_count": 72,
     "metadata": {},
     "output_type": "execute_result"
    }
   ],
   "source": [
    "df = df.dropna(axis=1)\n",
    "df.head()"
   ]
  },
  {
   "cell_type": "code",
   "execution_count": 75,
   "metadata": {},
   "outputs": [
    {
     "name": "stdout",
     "output_type": "stream",
     "text": [
      "0\n"
     ]
    },
    {
     "data": {
      "text/plain": [
       "<Graph identifier=N577d33fc5b764516a661cad9ebdc4c63 (<class 'rdflib.graph.Graph'>)>"
      ]
     },
     "execution_count": 75,
     "metadata": {},
     "output_type": "execute_result"
    }
   ],
   "source": [
    "insert_links(df).serialize(destination='conxreftoobject_graph.ttl')"
   ]
  }
 ],
 "metadata": {
  "kernelspec": {
   "display_name": "pm_links",
   "language": "python",
   "name": "python3"
  },
  "language_info": {
   "codemirror_mode": {
    "name": "ipython",
    "version": 3
   },
   "file_extension": ".py",
   "mimetype": "text/x-python",
   "name": "python",
   "nbconvert_exporter": "python",
   "pygments_lexer": "ipython3",
   "version": "3.9.18"
  }
 },
 "nbformat": 4,
 "nbformat_minor": 2
}
