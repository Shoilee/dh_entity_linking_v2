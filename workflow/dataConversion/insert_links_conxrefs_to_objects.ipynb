{
 "cells": [
  {
   "cell_type": "markdown",
   "metadata": {},
   "source": [
    "# Insert triple for constituents related to objects"
   ]
  },
  {
   "cell_type": "markdown",
   "metadata": {},
   "source": [
    "Run query:\n",
    "```\n",
    "PREFIX skos: <http://www.w3.org/2004/02/skos/core#>\n",
    "\n",
    "SELECT ?s ?object\n",
    "WHERE{\n",
    "  Graph <https://example.com/ConXrefDetails/ConXrefDetails/assertion/c413cbfc/2024-02-12T06:55>{\n",
    "    ?s <https://example.com/ConXrefs/vocab/ID> ?ID .\n",
    "    ?s <https://example.com/ConXrefs/vocab/TableID> ?TableID .\n",
    "    ?s <https://example.com/ConXrefs/vocab/TableID> ?TableID .\n",
    "    {?s <https://example.com/ConXrefs/vocab/RoleTypeID> <https://example.com/RoleTypes/1>}\n",
    "    UNION {?s <https://example.com/ConXrefs/vocab/RoleTypeID> <https://example.com/RoleTypes/2>} \n",
    "    UNION {?s <https://example.com/ConXrefs/vocab/RoleTypeID> <https://example.com/RoleTypes/5>} .\n",
    "  }\n",
    "  Graph <https://example.com/Bronbeek/Objects/Objects/assertion/bad21d24/2024-02-12T14:20>{\n",
    "    ?object <https://example.com/Bronbeek/Objects/vocab/ObjectID> ?ID .\n",
    "  }\n",
    "}\n",
    "```"
   ]
  },
  {
   "cell_type": "markdown",
   "metadata": {},
   "source": [
    "add triple"
   ]
  },
  {
   "cell_type": "code",
   "execution_count": null,
   "metadata": {},
   "outputs": [],
   "source": [
    "import pandas\n",
    "\n",
    "df = pandas.read_csv(\"conxref_object_link.csv\").dropna(axis=1)\n",
    "df.columns"
   ]
  },
  {
   "cell_type": "code",
   "execution_count": null,
   "metadata": {},
   "outputs": [],
   "source": [
    "import rdflib, os\n",
    "from rdflib import Graph, URIRef\n",
    "from rdflib.namespace import SKOS\n",
    "\n",
    "def insert_links(df):\n",
    "    g = Graph()\n",
    "\n",
    "    try:\n",
    "        for _ , row in df.iterrows():\n",
    "            conxrefs = URIRef(str(row[0]).strip().replace('\"', ''))\n",
    "            object = URIRef(str(row[1]).strip().replace('\"', ''))\n",
    "            g.add((conxrefs, SKOS.related, object))\n",
    "        \n",
    "    finally:\n",
    "        print(len(g))\n",
    "        return g"
   ]
  },
  {
   "cell_type": "code",
   "execution_count": null,
   "metadata": {},
   "outputs": [],
   "source": [
    "insert_links(df).serialize(destination='conxreftoobject_graph.ttl')"
   ]
  },
  {
   "cell_type": "markdown",
   "metadata": {},
   "source": [
    "# Insert triple for provenance activity"
   ]
  },
  {
   "cell_type": "markdown",
   "metadata": {},
   "source": [
    "run query:\n",
    "PREFIX skos: <http://www.w3.org/2004/02/skos/core#>\n",
    "PREFIX rdfs: <http://www.w3.org/2000/01/rdf-schema#>\n",
    "PREFIX owl: <http://www.w3.org/2002/07/owl#>\n",
    "PREFIX crm: <http://www.cidoc-crm.org/cidoc-crm/>\n",
    "\n",
    "SELECT ?event ?constituent ?object\n",
    "WHERE{\n",
    "    ?conxrefdetailID <https://example.com/ConXrefDetails/vocab/ConstituentID> ?constituent .\n",
    "  \t?conxrefdetailID <https://example.com/ConXrefDetails/vocab/Prefix> ?event .\n",
    "  \t?conxrefdetailID <https://example.com/ConXrefDetails/vocab/RoleTypeID> ?RoleTypeID .\n",
    "    ?conxrefdetailID <https://example.com/ConXrefDetails/vocab/ConXrefID> ?conxrefID .\n",
    "  \t?conxrefID skos:related ?object .\n",
    "    FILTER (?RoleTypeID = <https://example.com/RoleTypes/2>).\n",
    "}"
   ]
  },
  {
   "cell_type": "markdown",
   "metadata": {},
   "source": [
    "add triples"
   ]
  },
  {
   "cell_type": "code",
   "execution_count": 2,
   "metadata": {},
   "outputs": [
    {
     "data": {
      "text/plain": [
       "Index([' event', 'constituent', 'object'], dtype='object')"
      ]
     },
     "execution_count": 2,
     "metadata": {},
     "output_type": "execute_result"
    }
   ],
   "source": [
    "import pandas\n",
    "\n",
    "df = pandas.read_csv(\"provenance_activity.csv\").dropna(axis=1)\n",
    "df.columns"
   ]
  },
  {
   "cell_type": "code",
   "execution_count": 27,
   "metadata": {},
   "outputs": [],
   "source": [
    "import rdflib, os, uuid\n",
    "from rdflib import Graph, URIRef, Namespace\n",
    "from rdflib.namespace import SKOS, RDF, RDFS\n",
    "\n",
    "def insert_links(df):\n",
    "    crm = Namespace(\"http://www.cidoc-crm.org/cidoc-crm/\")\n",
    "    g = Graph()\n",
    "    g.bind(\"crm\", crm)\n",
    "\n",
    "    try:\n",
    "        for _ , row in df[:10].iterrows():\n",
    "            unique_id = uuid.uuid4()\n",
    "\n",
    "            event = str(row[0]).strip().replace('\"', '')\n",
    "            constituent = URIRef(str(row[1]).strip().replace('\"', ''))\n",
    "            object = URIRef(str(row[2]).strip().replace('\"', ''))\n",
    "\n",
    "            print(f\"event:{event}\\n constituent:{constituent}\\n object: {object}\\n\")\n",
    "\n",
    "            prov_activity = URIRef(u\"www.example.com/Bronbeek/Provenance/1\")\n",
    "            acquisition = URIRef(u\"www.example.com/Bronbeek/Acquisition/1\")\n",
    "            \n",
    "            \n",
    "            g.add(prov_activity, RDF.type, crm.E7_Activity)\n",
    "            print(\"I am here\")\n",
    "            g.add(prov_activity, crm.P14_carried_out_by, constituent)\n",
    "            g.add(prov_activity, crm.P2_has_type, URIRef(u\"http://vocab.getty.edu/aat/300055863\"))\n",
    "            g.add(prov_activity, crm.P9_consists_of, acquisition)\n",
    "            g.add(acquisition, RDF.type, crm.E8_Acquisition)\n",
    "            g.add(acquisition, crm.P23_transferred_titled_from, constituent)\n",
    "            g.add(acquisition, crm.P24_transferred_titled_of, object)\n",
    "            \n",
    "        \n",
    "    finally:\n",
    "        print(len(g))\n",
    "        # g.add(URIRef(u\"http://vocab.getty.edu/aat/300055863\"), RDF.type, crm.E55_Type)\n",
    "        # g.add(URIRef(u\"http://vocab.getty.edu/aat/300055863\"), RDFS.label, Literal(\"Provenance Activity\"))\n",
    "        return g"
   ]
  },
  {
   "cell_type": "code",
   "execution_count": 28,
   "metadata": {},
   "outputs": [
    {
     "name": "stdout",
     "output_type": "stream",
     "text": [
      "event:geschonken door\n",
      " constituent:https://example.com/Bronbeek/Constituents/2658\n",
      " object: https://example.com/Bronbeek/Objects/30966\n",
      "\n",
      "0\n"
     ]
    },
    {
     "name": "stderr",
     "output_type": "stream",
     "text": [
      "/var/folders/jg/8kz6nb554_3dz1_0swrmdw480000gn/T/ipykernel_24034/1037965948.py:13: FutureWarning: Series.__getitem__ treating keys as positions is deprecated. In a future version, integer keys will always be treated as labels (consistent with DataFrame behavior). To access a value by position, use `ser.iloc[pos]`\n",
      "  event = str(row[0]).strip().replace('\"', '')\n",
      "/var/folders/jg/8kz6nb554_3dz1_0swrmdw480000gn/T/ipykernel_24034/1037965948.py:14: FutureWarning: Series.__getitem__ treating keys as positions is deprecated. In a future version, integer keys will always be treated as labels (consistent with DataFrame behavior). To access a value by position, use `ser.iloc[pos]`\n",
      "  constituent = URIRef(str(row[1]).strip().replace('\"', ''))\n",
      "/var/folders/jg/8kz6nb554_3dz1_0swrmdw480000gn/T/ipykernel_24034/1037965948.py:15: FutureWarning: Series.__getitem__ treating keys as positions is deprecated. In a future version, integer keys will always be treated as labels (consistent with DataFrame behavior). To access a value by position, use `ser.iloc[pos]`\n",
      "  object = URIRef(str(row[2]).strip().replace('\"', ''))\n"
     ]
    },
    {
     "data": {
      "text/plain": [
       "<Graph identifier=Ndeb3c363f7c04f8480455a08d8360f96 (<class 'rdflib.graph.Graph'>)>"
      ]
     },
     "execution_count": 28,
     "metadata": {},
     "output_type": "execute_result"
    }
   ],
   "source": [
    "insert_links(df).serialize(destination='provenance_activity.ttl')"
   ]
  }
 ],
 "metadata": {
  "kernelspec": {
   "display_name": "pm_links",
   "language": "python",
   "name": "python3"
  },
  "language_info": {
   "codemirror_mode": {
    "name": "ipython",
    "version": 3
   },
   "file_extension": ".py",
   "mimetype": "text/x-python",
   "name": "python",
   "nbconvert_exporter": "python",
   "pygments_lexer": "ipython3",
   "version": "3.9.18"
  }
 },
 "nbformat": 4,
 "nbformat_minor": 2
}
