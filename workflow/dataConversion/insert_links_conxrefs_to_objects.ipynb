{
 "cells": [
  {
   "cell_type": "markdown",
   "metadata": {},
   "source": [
    "# Insert triple for constituents related to objects"
   ]
  },
  {
   "cell_type": "markdown",
   "metadata": {},
   "source": [
    "Run query:\n",
    "```\n",
    "PREFIX skos: <http://www.w3.org/2004/02/skos/core#>\n",
    "\n",
    "SELECT ?constituent ?object\n",
    "WHERE{\n",
    "  \t?conxrefdetailID <https://pressingmatter.nl/Bronbeek/ConXrefDetails/vocab/ConstituentID> ?constituent .\n",
    "  \t?conxrefdetailID <https://pressingmatter.nl/Bronbeek/ConXrefDetails/vocab/ConXrefID> ?conXref .\n",
    "    ?conXref <https://pressingmatter.nl/Bronbeek/ConXrefs/vocab/ID> ?ID .\n",
    "    ?conXref <https://pressingmatter.nl/Bronbeek/ConXrefs/vocab/TableID> ?TableID .\n",
    " \tFILTER (?TableID = \"108\"^^<https://pressingmatter.nl/Bronbeek/ConXrefs/interger>) .\n",
    "    {?conXref <https://pressingmatter.nl/Bronbeek/ConXrefs/vocab/RoleTypeID> <https://pressingmatter.nl/Bronbeek/RoleTypes/1>}\n",
    "      UNION {?conXref <https://pressingmatter.nl/Bronbeek/ConXrefs/vocab/RoleTypeID> <https://pressingmatter.nl/Bronbeek/RoleTypes/2>} \n",
    "      UNION {?conXref <https://pressingmatter.nl/Bronbeek/ConXrefs/vocab/RoleTypeID> <https://pressingmatter.nl/Bronbeek/RoleTypes/5>} .\n",
    "  \t?object <https://pressingmatter.nl/Bronbeek/Objects/vocab/ObjectID> ?ID .\n",
    "}\n",
    "```"
   ]
  },
  {
   "cell_type": "markdown",
   "metadata": {},
   "source": [
    "add triple"
   ]
  },
  {
   "cell_type": "code",
   "execution_count": null,
   "metadata": {},
   "outputs": [],
   "source": [
    "import pandas\n",
    "\n",
    "df = pandas.read_csv(\"conxref_object_link.csv\").dropna(axis=1)\n",
    "df.columns"
   ]
  },
  {
   "cell_type": "code",
   "execution_count": null,
   "metadata": {},
   "outputs": [],
   "source": [
    "import rdflib, os\n",
    "from rdflib import Graph, URIRef\n",
    "from rdflib.namespace import SKOS\n",
    "\n",
    "def insert_links(df):\n",
    "    g = Graph()\n",
    "\n",
    "    try:\n",
    "        for _ , row in df.iterrows():\n",
    "            conxrefs = URIRef(str(row[0]).strip().replace('\"', ''))\n",
    "            object = URIRef(str(row[1]).strip().replace('\"', ''))\n",
    "            g.add((conxrefs, SKOS.related, object))\n",
    "        \n",
    "    finally:\n",
    "        print(len(g))\n",
    "        return g"
   ]
  },
  {
   "cell_type": "code",
   "execution_count": null,
   "metadata": {},
   "outputs": [],
   "source": [
    "insert_links(df).serialize(destination='conxreftoobject_graph.ttl')"
   ]
  },
  {
   "cell_type": "markdown",
   "metadata": {},
   "source": [
    "# Insert triple for provenance activity (Acquisition)"
   ]
  },
  {
   "cell_type": "markdown",
   "metadata": {},
   "source": [
    "run query:\n",
    "\n",
    "```\n",
    "PREFIX skos: <http://www.w3.org/2004/02/skos/core#>\n",
    "PREFIX rdfs: <http://www.w3.org/2000/01/rdf-schema#>\n",
    "PREFIX owl: <http://www.w3.org/2002/07/owl#>\n",
    "PREFIX crm: <http://www.cidoc-crm.org/cidoc-crm/>\n",
    "\n",
    "SELECT ?event ?constituent ?object\n",
    "WHERE{\n",
    "    ?conxrefdetailID <https://pressingmatter.nl/Bronbeek/ConXrefDetails/vocab/ConstituentID> ?constituent .\n",
    "  \t?conxrefdetailID <https://pressingmatter.nl/Bronbeek/ConXrefDetails/vocab/Prefix> ?event .\n",
    "  \t?conxrefdetailID <https://pressingmatter.nl/Bronbeek/ConXrefDetails/vocab/RoleTypeID> ?RoleTypeID .\n",
    "    ?conxrefdetailID <https://pressingmatter.nl/Bronbeek/ConXrefDetails/vocab/ConXrefID> ?conxref .\n",
    "  \t?conXref <https://pressingmatter.nl/Bronbeek/ConXrefs/vocab/ID> ?ID .\n",
    "    ?conXref <https://pressingmatter.nl/Bronbeek/ConXrefs/vocab/TableID> ?TableID .\n",
    "    FILTER (?TableID = \"108\"^^<https://pressingmatter.nl/Bronbeek/ConXrefs/interger>) .\n",
    "    ?conXref <https://pressingmatter.nl/Bronbeek/ConXrefs/vocab/RoleTypeID> <https://pressingmatter.nl/Bronbeek/RoleTypes/2> .\n",
    "    ?object <https://pressingmatter.nl/Bronbeek/Objects/vocab/ObjectID> ?ID .\n",
    "}\n",
    "```"
   ]
  },
  {
   "cell_type": "markdown",
   "metadata": {},
   "source": [
    "add triples"
   ]
  },
  {
   "cell_type": "code",
   "execution_count": 3,
   "metadata": {},
   "outputs": [
    {
     "data": {
      "text/plain": [
       "Index([' event', 'constituent', 'object'], dtype='object')"
      ]
     },
     "execution_count": 3,
     "metadata": {},
     "output_type": "execute_result"
    }
   ],
   "source": [
    "import pandas\n",
    "\n",
    "df = pandas.read_csv(\"provenance_activity.csv\").dropna(axis=1)\n",
    "df.columns"
   ]
  },
  {
   "cell_type": "code",
   "execution_count": 4,
   "metadata": {},
   "outputs": [],
   "source": [
    "from rdflib import Graph, URIRef, Namespace, Literal\n",
    "from rdflib.namespace import SKOS, RDF, RDFS\n",
    "from tqdm import tqdm \n",
    "\n",
    "def insert_links(df):\n",
    "    crm = Namespace(\"http://www.cidoc-crm.org/cidoc-crm/\")\n",
    "    g = Graph()\n",
    "    g.bind(\"crm\",crm)\n",
    "\n",
    "    try:\n",
    "        for i , row in tqdm(df.iterrows()):\n",
    "\n",
    "            event = str(row[0]).strip().replace('\"', '')\n",
    "            constituent = URIRef(str(row[1]).strip().replace('\"', ''))\n",
    "            object = URIRef(str(row[2]).strip().replace('\"', ''))\n",
    "\n",
    "            # print(f\"event:{event}\\n constituent:{constituent}\\n object: {object}\\n\")\n",
    "\n",
    "            prov_activity = URIRef(\"www.example.com/Bronbeek/Provenance/\"+str(i+1))\n",
    "            acquisition = URIRef(\"www.example.com/Bronbeek/Acquisition/\"+str(i+1))\n",
    "\n",
    "            g.add((prov_activity, RDF.type, crm.E7_Activity))\n",
    "            g.add((prov_activity, crm.P14_carried_out_by, constituent))\n",
    "            g.add((prov_activity, crm.P2_has_type, URIRef(u\"http://vocab.getty.edu/aat/300055863\")))\n",
    "            g.add((prov_activity, crm.P9_consists_of, acquisition))\n",
    "            g.add((acquisition, RDF.type, crm.E8_Acquisition))\n",
    "            g.add((acquisition, crm.P23_transferred_titled_from, constituent))\n",
    "            g.add((acquisition, crm.P24_transferred_titled_of, object))\n",
    "            g.add((acquisition, RDFS.label, Literal(event)))\n",
    "            \n",
    "        \n",
    "    finally:\n",
    "        print(len(g))\n",
    "        g.add((URIRef(u\"http://vocab.getty.edu/aat/300055863\"), RDF.type, crm.E55_Type))\n",
    "        g.add((URIRef(u\"http://vocab.getty.edu/aat/300055863\"), RDFS.label, Literal(\"Provenance Activity\")))\n",
    "        return g"
   ]
  },
  {
   "cell_type": "code",
   "execution_count": 5,
   "metadata": {},
   "outputs": [
    {
     "name": "stderr",
     "output_type": "stream",
     "text": [
      "0it [00:00, ?it/s]/var/folders/jg/8kz6nb554_3dz1_0swrmdw480000gn/T/ipykernel_50062/1378537723.py:13: FutureWarning: Series.__getitem__ treating keys as positions is deprecated. In a future version, integer keys will always be treated as labels (consistent with DataFrame behavior). To access a value by position, use `ser.iloc[pos]`\n",
      "  event = str(row[0]).strip().replace('\"', '')\n",
      "/var/folders/jg/8kz6nb554_3dz1_0swrmdw480000gn/T/ipykernel_50062/1378537723.py:14: FutureWarning: Series.__getitem__ treating keys as positions is deprecated. In a future version, integer keys will always be treated as labels (consistent with DataFrame behavior). To access a value by position, use `ser.iloc[pos]`\n",
      "  constituent = URIRef(str(row[1]).strip().replace('\"', ''))\n",
      "/var/folders/jg/8kz6nb554_3dz1_0swrmdw480000gn/T/ipykernel_50062/1378537723.py:15: FutureWarning: Series.__getitem__ treating keys as positions is deprecated. In a future version, integer keys will always be treated as labels (consistent with DataFrame behavior). To access a value by position, use `ser.iloc[pos]`\n",
      "  object = URIRef(str(row[2]).strip().replace('\"', ''))\n",
      "182042it [00:46, 3915.47it/s]\n"
     ]
    },
    {
     "name": "stdout",
     "output_type": "stream",
     "text": [
      "1456336\n"
     ]
    },
    {
     "data": {
      "text/plain": [
       "<Graph identifier=N1cc78173eb8c454c9fcf88bf31e0796a (<class 'rdflib.graph.Graph'>)>"
      ]
     },
     "execution_count": 5,
     "metadata": {},
     "output_type": "execute_result"
    }
   ],
   "source": [
    "insert_links(df).serialize(destination='provenance_activity.ttl')"
   ]
  },
  {
   "cell_type": "markdown",
   "metadata": {},
   "source": [
    "# Add triple for former owner"
   ]
  },
  {
   "cell_type": "markdown",
   "metadata": {},
   "source": [
    "Run query:\n",
    "```\n",
    "SELECT ?event ?constituent ?object\n",
    "WHERE{\n",
    "    ?conxrefdetailID <https://example.com/ConXrefDetails/vocab/ConstituentID> ?constituent .\n",
    "  \t?conxrefdetailID <https://example.com/ConXrefDetails/vocab/Prefix> ?event .\n",
    "  \t?conxrefdetailID <https://example.com/ConXrefDetails/vocab/RoleTypeID> ?RoleTypeID .\n",
    "    ?conxrefdetailID <https://example.com/ConXrefDetails/vocab/ConXrefID> ?conxrefID .\n",
    "  \t?conxrefID skos:related ?object .\n",
    "    FILTER (?RoleTypeID = <https://example.com/RoleTypes/5>).\n",
    "}\n",
    "```"
   ]
  },
  {
   "cell_type": "code",
   "execution_count": 6,
   "metadata": {},
   "outputs": [
    {
     "data": {
      "text/plain": [
       "Index([' event', 'constituent', 'object'], dtype='object')"
      ]
     },
     "execution_count": 6,
     "metadata": {},
     "output_type": "execute_result"
    }
   ],
   "source": [
    "import pandas\n",
    "\n",
    "df = pandas.read_csv(\"former_owner.csv\").dropna(axis=1)\n",
    "df.columns"
   ]
  },
  {
   "cell_type": "code",
   "execution_count": 7,
   "metadata": {},
   "outputs": [],
   "source": [
    "from rdflib import Graph, URIRef, Namespace, Literal\n",
    "from rdflib.namespace import SKOS, RDF, RDFS\n",
    "from tqdm import tqdm \n",
    "\n",
    "def insert_links(df):\n",
    "    g = Graph()\n",
    "    crm = Namespace(\"http://www.cidoc-crm.org/cidoc-crm/\")\n",
    "    g.bind(\"crm\",crm)\n",
    "\n",
    "    try:\n",
    "        for i , row in tqdm(df.iterrows()):\n",
    "            constituent = URIRef(str(row[1]).strip().replace('\"', ''))\n",
    "            object = URIRef(str(row[2]).strip().replace('\"', ''))\n",
    "\n",
    "            g.add((object, crm.P51_has_former_or_current_owner, constituent)) \n",
    "    finally:\n",
    "        print(len(g))\n",
    "        return g"
   ]
  },
  {
   "cell_type": "code",
   "execution_count": 8,
   "metadata": {},
   "outputs": [
    {
     "name": "stderr",
     "output_type": "stream",
     "text": [
      "0it [00:00, ?it/s]/var/folders/jg/8kz6nb554_3dz1_0swrmdw480000gn/T/ipykernel_50062/2434866988.py:12: FutureWarning: Series.__getitem__ treating keys as positions is deprecated. In a future version, integer keys will always be treated as labels (consistent with DataFrame behavior). To access a value by position, use `ser.iloc[pos]`\n",
      "  constituent = URIRef(str(row[1]).strip().replace('\"', ''))\n",
      "/var/folders/jg/8kz6nb554_3dz1_0swrmdw480000gn/T/ipykernel_50062/2434866988.py:13: FutureWarning: Series.__getitem__ treating keys as positions is deprecated. In a future version, integer keys will always be treated as labels (consistent with DataFrame behavior). To access a value by position, use `ser.iloc[pos]`\n",
      "  object = URIRef(str(row[2]).strip().replace('\"', ''))\n",
      "69106it [00:06, 10373.93it/s]\n"
     ]
    },
    {
     "name": "stdout",
     "output_type": "stream",
     "text": [
      "34553\n"
     ]
    },
    {
     "data": {
      "text/plain": [
       "<Graph identifier=N7e573faebbfb4977b6e3848a9dbdde90 (<class 'rdflib.graph.Graph'>)>"
      ]
     },
     "execution_count": 8,
     "metadata": {},
     "output_type": "execute_result"
    }
   ],
   "source": [
    "insert_links(df).serialize(destination='former_owner.ttl')"
   ]
  },
  {
   "cell_type": "markdown",
   "metadata": {},
   "source": [
    "# Add triple for person related to object (RoleTypeID=1)"
   ]
  },
  {
   "cell_type": "markdown",
   "metadata": {},
   "source": [
    "Run query:\n",
    "```\n",
    "SELECT ?constituent ?object\n",
    "WHERE{\n",
    "    ?conxrefdetailID <https://example.com/ConXrefDetails/vocab/ConstituentID> ?constituent .\n",
    "  \t?conxrefdetailID <https://example.com/ConXrefDetails/vocab/Prefix> ?event .\n",
    "  \t?conxrefdetailID <https://example.com/ConXrefDetails/vocab/RoleTypeID> ?RoleTypeID .\n",
    "    ?conxrefdetailID <https://example.com/ConXrefDetails/vocab/ConXrefID> ?conxrefID .\n",
    "  \t?conxrefID skos:related ?object .\n",
    "    FILTER (?RoleTypeID = <https://example.com/RoleTypes/1>).\n",
    "}\n",
    "```"
   ]
  },
  {
   "cell_type": "code",
   "execution_count": 9,
   "metadata": {},
   "outputs": [
    {
     "data": {
      "text/plain": [
       "Index([' constituent', 'object'], dtype='object')"
      ]
     },
     "execution_count": 9,
     "metadata": {},
     "output_type": "execute_result"
    }
   ],
   "source": [
    "import pandas\n",
    "\n",
    "df = pandas.read_csv(\"person_related.csv\").dropna(axis=1)\n",
    "df.columns"
   ]
  },
  {
   "cell_type": "code",
   "execution_count": 11,
   "metadata": {},
   "outputs": [],
   "source": [
    "from rdflib import Graph, URIRef, Namespace, Literal\n",
    "from rdflib.namespace import SKOS, RDF, RDFS\n",
    "from tqdm import tqdm \n",
    "\n",
    "def insert_links(df):\n",
    "    g = Graph()\n",
    "    crm = Namespace(\"http://www.cidoc-crm.org/cidoc-crm/\")\n",
    "    g.bind(\"crm\",crm)\n",
    "\n",
    "    try:\n",
    "        for i , row in tqdm(df.iterrows()):\n",
    "            constituent = URIRef(str(row[0]).strip().replace('\"', ''))\n",
    "            object = URIRef(str(row[1]).strip().replace('\"', ''))\n",
    "\n",
    "            g.add((object, SKOS.related, constituent)) \n",
    "    finally:\n",
    "        print(len(g))\n",
    "        return g"
   ]
  },
  {
   "cell_type": "code",
   "execution_count": 12,
   "metadata": {},
   "outputs": [
    {
     "name": "stderr",
     "output_type": "stream",
     "text": [
      "0it [00:00, ?it/s]/var/folders/jg/8kz6nb554_3dz1_0swrmdw480000gn/T/ipykernel_2465/111733869.py:12: FutureWarning: Series.__getitem__ treating keys as positions is deprecated. In a future version, integer keys will always be treated as labels (consistent with DataFrame behavior). To access a value by position, use `ser.iloc[pos]`\n",
      "  constituent = URIRef(str(row[0]).strip().replace('\"', ''))\n",
      "/var/folders/jg/8kz6nb554_3dz1_0swrmdw480000gn/T/ipykernel_2465/111733869.py:13: FutureWarning: Series.__getitem__ treating keys as positions is deprecated. In a future version, integer keys will always be treated as labels (consistent with DataFrame behavior). To access a value by position, use `ser.iloc[pos]`\n",
      "  object = URIRef(str(row[1]).strip().replace('\"', ''))\n",
      "26234it [00:02, 10046.15it/s]\n"
     ]
    },
    {
     "name": "stdout",
     "output_type": "stream",
     "text": [
      "13104\n"
     ]
    },
    {
     "data": {
      "text/plain": [
       "<Graph identifier=N4c321dd88ab7432e85b4956b81088bb8 (<class 'rdflib.graph.Graph'>)>"
      ]
     },
     "execution_count": 12,
     "metadata": {},
     "output_type": "execute_result"
    }
   ],
   "source": [
    "insert_links(df).serialize(destination='person_related.ttl')"
   ]
  }
 ],
 "metadata": {
  "kernelspec": {
   "display_name": "pm_links",
   "language": "python",
   "name": "python3"
  },
  "language_info": {
   "codemirror_mode": {
    "name": "ipython",
    "version": 3
   },
   "file_extension": ".py",
   "mimetype": "text/x-python",
   "name": "python",
   "nbconvert_exporter": "python",
   "pygments_lexer": "ipython3",
   "version": "3.9.18"
  }
 },
 "nbformat": 4,
 "nbformat_minor": 2
}
