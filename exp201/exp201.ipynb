{
 "cells": [
  {
   "cell_type": "markdown",
   "id": "c891b90d",
   "metadata": {},
   "source": [
    "Given two sets of person instances $S=\\{s_1, s_2, ... , s_n\\}$ and $T=\\{t_1, t_2, ..., t_n\\} $ belonging to two respective data sources NMVW and Bronbeek museums, the task is to find the set $M=\\{S \\times T: (s_i, t_j);$ where $i, j= 1, 2, ...n$ and $s_i, t_j $ refers to same real-world entity$\\}$. "
   ]
  },
  {
   "cell_type": "markdown",
   "id": "4ab0f27f",
   "metadata": {},
   "source": [
    "So, the following code will try different algorithm to find constituent matches between NMVW and Bronbeek based on their name literal."
   ]
  },
  {
   "cell_type": "code",
   "execution_count": 1,
   "id": "b9ffefad",
   "metadata": {},
   "outputs": [],
   "source": [
    "import sys\n",
    "sys.path.append(\"..\") "
   ]
  },
  {
   "cell_type": "code",
   "execution_count": 2,
   "id": "3e1360a5",
   "metadata": {},
   "outputs": [],
   "source": [
    "import pandas, pickle"
   ]
  },
  {
   "cell_type": "code",
   "execution_count": 3,
   "id": "db7892bf",
   "metadata": {},
   "outputs": [],
   "source": [
    "df1 = pandas.read_pickle(\"../nmvw_data/ccrdfconst/person_names.pkl\")\n",
    "df2 = pandas.read_csv(\"/Users/sarah_shoilee/Desktop/Sarah/Bronbeek_Data/csv_dump/Constituents.csv\")"
   ]
  },
  {
   "cell_type": "code",
   "execution_count": 4,
   "id": "09457985",
   "metadata": {},
   "outputs": [
    {
     "name": "stdout",
     "output_type": "stream",
     "text": [
      "The size of NMVW unique constituent: 39567 and size of Bronbeek constituent: 15382\n"
     ]
    }
   ],
   "source": [
    "print(f\"The size of NMVW unique constituent: {len(df1.index)} and size of Bronbeek constituent: {len(df2.index)}\")"
   ]
  },
  {
   "cell_type": "markdown",
   "id": "e4341f58",
   "metadata": {},
   "source": [
    "# Exact string matching"
   ]
  },
  {
   "cell_type": "code",
   "execution_count": 5,
   "id": "71a6b2ed",
   "metadata": {},
   "outputs": [],
   "source": [
    "from matchexactstring.match_exact_string import matchExactString"
   ]
  },
  {
   "cell_type": "code",
   "execution_count": 6,
   "id": "3b136599",
   "metadata": {},
   "outputs": [
    {
     "name": "stderr",
     "output_type": "stream",
     "text": [
      "15382it [31:54,  8.03it/s]"
     ]
    },
    {
     "name": "stdout",
     "output_type": "stream",
     "text": [
      "The number of positive match is 0\n"
     ]
    },
    {
     "name": "stderr",
     "output_type": "stream",
     "text": [
      "\n"
     ]
    }
   ],
   "source": [
    "result_exact = matchExactString(df1, df2)\n",
    "exact_match = len(result_exact.loc[result_exact[\"MATCH\"] == \"YES\"])\n",
    "print(f\"The number of positive match is {exact_match}\")"
   ]
  },
  {
   "cell_type": "code",
   "execution_count": 7,
   "id": "9a089e93",
   "metadata": {},
   "outputs": [],
   "source": [
    "with open(\"results/bronbeekToNmvwExactMatchResults.pkl\", \"wb\") as handle:\n",
    "    pickle.dump(result_exact, handle, protocol=pickle.HIGHEST_PROTOCOL)"
   ]
  },
  {
   "cell_type": "code",
   "execution_count": 4,
   "id": "3ec50ff6",
   "metadata": {},
   "outputs": [
    {
     "data": {
      "text/html": [
       "<div>\n",
       "<style scoped>\n",
       "    .dataframe tbody tr th:only-of-type {\n",
       "        vertical-align: middle;\n",
       "    }\n",
       "\n",
       "    .dataframe tbody tr th {\n",
       "        vertical-align: top;\n",
       "    }\n",
       "\n",
       "    .dataframe thead th {\n",
       "        text-align: right;\n",
       "    }\n",
       "</style>\n",
       "<table border=\"1\" class=\"dataframe\">\n",
       "  <thead>\n",
       "    <tr style=\"text-align: right;\">\n",
       "      <th></th>\n",
       "      <th>FullName</th>\n",
       "      <th>DisplayName</th>\n",
       "      <th>RetrievedNames</th>\n",
       "      <th>MATCH</th>\n",
       "    </tr>\n",
       "  </thead>\n",
       "  <tbody>\n",
       "    <tr>\n",
       "      <th>10062</th>\n",
       "      <td>Judith Slot</td>\n",
       "      <td>mw. Judith Slot</td>\n",
       "      <td>[]</td>\n",
       "      <td>NO</td>\n",
       "    </tr>\n",
       "    <tr>\n",
       "      <th>13511</th>\n",
       "      <td>Aart Blaak</td>\n",
       "      <td>1e Luitenant KNIL Aart van de Blaak</td>\n",
       "      <td>[]</td>\n",
       "      <td>NO</td>\n",
       "    </tr>\n",
       "    <tr>\n",
       "      <th>11788</th>\n",
       "      <td>NaN</td>\n",
       "      <td>Mevr. Treur</td>\n",
       "      <td>[]</td>\n",
       "      <td>NO</td>\n",
       "    </tr>\n",
       "    <tr>\n",
       "      <th>10350</th>\n",
       "      <td>Klaas Vuure</td>\n",
       "      <td>Landstorm Sergeant 2e klas KNIL Klaas van Vuure</td>\n",
       "      <td>[]</td>\n",
       "      <td>NO</td>\n",
       "    </tr>\n",
       "    <tr>\n",
       "      <th>8794</th>\n",
       "      <td>Jan Johannes Ambrosius Neut</td>\n",
       "      <td>Jan Johannes Ambrosius van der Neut</td>\n",
       "      <td>[]</td>\n",
       "      <td>NO</td>\n",
       "    </tr>\n",
       "    <tr>\n",
       "      <th>13959</th>\n",
       "      <td>Mahmud Abdul Jalil Rahmatsyah</td>\n",
       "      <td>Sultan Mahmud Abdul Jalil Rahmatsyah</td>\n",
       "      <td>[]</td>\n",
       "      <td>NO</td>\n",
       "    </tr>\n",
       "    <tr>\n",
       "      <th>10126</th>\n",
       "      <td>W.J.K. Baaij</td>\n",
       "      <td>Generaal-majoor der Generale Staf W.J.K. Baaij</td>\n",
       "      <td>[]</td>\n",
       "      <td>NO</td>\n",
       "    </tr>\n",
       "    <tr>\n",
       "      <th>13163</th>\n",
       "      <td>Steven Barneveld</td>\n",
       "      <td>Huzaar 2e klas Steven van Barneveld</td>\n",
       "      <td>[]</td>\n",
       "      <td>NO</td>\n",
       "    </tr>\n",
       "    <tr>\n",
       "      <th>11844</th>\n",
       "      <td>C.J. Schalks</td>\n",
       "      <td>C.J. Schalks</td>\n",
       "      <td>[]</td>\n",
       "      <td>NO</td>\n",
       "    </tr>\n",
       "    <tr>\n",
       "      <th>692</th>\n",
       "      <td>NaN</td>\n",
       "      <td>Vice-admiraal Rijk</td>\n",
       "      <td>[]</td>\n",
       "      <td>NO</td>\n",
       "    </tr>\n",
       "  </tbody>\n",
       "</table>\n",
       "</div>"
      ],
      "text/plain": [
       "                            FullName  \\\n",
       "10062                    Judith Slot   \n",
       "13511                     Aart Blaak   \n",
       "11788                            NaN   \n",
       "10350                    Klaas Vuure   \n",
       "8794     Jan Johannes Ambrosius Neut   \n",
       "13959  Mahmud Abdul Jalil Rahmatsyah   \n",
       "10126                   W.J.K. Baaij   \n",
       "13163               Steven Barneveld   \n",
       "11844                   C.J. Schalks   \n",
       "692                              NaN   \n",
       "\n",
       "                                           DisplayName RetrievedNames MATCH  \n",
       "10062                                  mw. Judith Slot             []    NO  \n",
       "13511              1e Luitenant KNIL Aart van de Blaak             []    NO  \n",
       "11788                                      Mevr. Treur             []    NO  \n",
       "10350  Landstorm Sergeant 2e klas KNIL Klaas van Vuure             []    NO  \n",
       "8794               Jan Johannes Ambrosius van der Neut             []    NO  \n",
       "13959             Sultan Mahmud Abdul Jalil Rahmatsyah             []    NO  \n",
       "10126   Generaal-majoor der Generale Staf W.J.K. Baaij             []    NO  \n",
       "13163              Huzaar 2e klas Steven van Barneveld             []    NO  \n",
       "11844                                     C.J. Schalks             []    NO  \n",
       "692                                 Vice-admiraal Rijk             []    NO  "
      ]
     },
     "execution_count": 4,
     "metadata": {},
     "output_type": "execute_result"
    }
   ],
   "source": [
    "df = pandas.read_pickle(\"results/bronbeekToNmvwExactMatchResults.pkl\")\n",
    "df.loc[df[\"MATCH\"] == \"NO\"][['FullName', 'DisplayName', 'RetrievedNames', 'MATCH']].sample(n = 10)"
   ]
  },
  {
   "cell_type": "markdown",
   "id": "73867880",
   "metadata": {},
   "source": [
    "# Surname Matching"
   ]
  },
  {
   "cell_type": "code",
   "execution_count": 8,
   "id": "04c851d5",
   "metadata": {},
   "outputs": [],
   "source": [
    "from matchsurname.match_surname import matchLastName"
   ]
  },
  {
   "cell_type": "code",
   "execution_count": 9,
   "id": "c3980bf3",
   "metadata": {},
   "outputs": [
    {
     "name": "stderr",
     "output_type": "stream",
     "text": [
      "15382it [35:54,  7.14it/s]"
     ]
    },
    {
     "name": "stdout",
     "output_type": "stream",
     "text": [
      "The number of positive match is 0\n"
     ]
    },
    {
     "name": "stderr",
     "output_type": "stream",
     "text": [
      "\n"
     ]
    }
   ],
   "source": [
    "result_surname = matchLastName(df1, df2)\n",
    "surname_match = len(result_surname.loc[result_surname[\"MATCH\"] == \"YES\"])\n",
    "print(f\"The number of positive match is {surname_match}\")"
   ]
  },
  {
   "cell_type": "code",
   "execution_count": 10,
   "id": "b96b0771",
   "metadata": {},
   "outputs": [],
   "source": [
    "with open(\"results/bronbeekToNmvwSurnameMatchResults.pkl\", \"wb\") as handle:\n",
    "    pickle.dump(result_surname, handle, protocol=pickle.HIGHEST_PROTOCOL)"
   ]
  },
  {
   "cell_type": "code",
   "execution_count": 11,
   "id": "dc0c8ffc",
   "metadata": {},
   "outputs": [
    {
     "data": {
      "text/html": [
       "<div>\n",
       "<style scoped>\n",
       "    .dataframe tbody tr th:only-of-type {\n",
       "        vertical-align: middle;\n",
       "    }\n",
       "\n",
       "    .dataframe tbody tr th {\n",
       "        vertical-align: top;\n",
       "    }\n",
       "\n",
       "    .dataframe thead th {\n",
       "        text-align: right;\n",
       "    }\n",
       "</style>\n",
       "<table border=\"1\" class=\"dataframe\">\n",
       "  <thead>\n",
       "    <tr style=\"text-align: right;\">\n",
       "      <th></th>\n",
       "      <th>LastName</th>\n",
       "      <th>DisplayName</th>\n",
       "      <th>RetrievedNames</th>\n",
       "      <th>MATCH</th>\n",
       "    </tr>\n",
       "  </thead>\n",
       "  <tbody>\n",
       "    <tr>\n",
       "      <th>10186</th>\n",
       "      <td>Broek</td>\n",
       "      <td>1e Luitenant vlieger ML-KNIL H. van d. Broek</td>\n",
       "      <td>[Ch.L.J. Palmer van den Broek, W.A. Pertri-van...</td>\n",
       "      <td>YES</td>\n",
       "    </tr>\n",
       "    <tr>\n",
       "      <th>15098</th>\n",
       "      <td>Braspot</td>\n",
       "      <td>J.C.A. (Jelle) Braspot</td>\n",
       "      <td>[Braspot, Willem Adriaan Braspot]</td>\n",
       "      <td>YES</td>\n",
       "    </tr>\n",
       "    <tr>\n",
       "      <th>3547</th>\n",
       "      <td>Olland</td>\n",
       "      <td>W.J.Olland &amp; Zoon Java</td>\n",
       "      <td>[A S C Maier - Olland, H.R. Olland, Willem Jan...</td>\n",
       "      <td>YES</td>\n",
       "    </tr>\n",
       "    <tr>\n",
       "      <th>14598</th>\n",
       "      <td>Mulder</td>\n",
       "      <td>G.A. Mulder</td>\n",
       "      <td>[Mw. F.C. Mulder, Geert-Jan Mulder, F. Mulder,...</td>\n",
       "      <td>YES</td>\n",
       "    </tr>\n",
       "    <tr>\n",
       "      <th>10967</th>\n",
       "      <td>Geus</td>\n",
       "      <td>A. de Geus</td>\n",
       "      <td>[Ir. J.G. de Geus]</td>\n",
       "      <td>YES</td>\n",
       "    </tr>\n",
       "    <tr>\n",
       "      <th>1648</th>\n",
       "      <td>Noten</td>\n",
       "      <td>de Noten</td>\n",
       "      <td>[F.L. van Noten, F. van Noten]</td>\n",
       "      <td>YES</td>\n",
       "    </tr>\n",
       "    <tr>\n",
       "      <th>9274</th>\n",
       "      <td>Visman</td>\n",
       "      <td>Dhr. Sierik Visman</td>\n",
       "      <td>[Dr.  Visman]</td>\n",
       "      <td>YES</td>\n",
       "    </tr>\n",
       "    <tr>\n",
       "      <th>14696</th>\n",
       "      <td>Koumans</td>\n",
       "      <td>J.C. Koumans</td>\n",
       "      <td>[Dr. F.P. Koumans]</td>\n",
       "      <td>YES</td>\n",
       "    </tr>\n",
       "    <tr>\n",
       "      <th>14234</th>\n",
       "      <td>Drost</td>\n",
       "      <td>Dominee A. Drost ON4</td>\n",
       "      <td>[L. Drost, D. Drost, Luitenant K. Drost, Drost...</td>\n",
       "      <td>YES</td>\n",
       "    </tr>\n",
       "    <tr>\n",
       "      <th>13156</th>\n",
       "      <td>Joosten</td>\n",
       "      <td>Pastoor Joosten</td>\n",
       "      <td>[J.M. Joosten, Ben Joosten, K.G.R. Joosten, Be...</td>\n",
       "      <td>YES</td>\n",
       "    </tr>\n",
       "  </tbody>\n",
       "</table>\n",
       "</div>"
      ],
      "text/plain": [
       "      LastName                                   DisplayName  \\\n",
       "10186    Broek  1e Luitenant vlieger ML-KNIL H. van d. Broek   \n",
       "15098  Braspot                        J.C.A. (Jelle) Braspot   \n",
       "3547    Olland                        W.J.Olland & Zoon Java   \n",
       "14598   Mulder                                   G.A. Mulder   \n",
       "10967     Geus                                    A. de Geus   \n",
       "1648     Noten                                      de Noten   \n",
       "9274    Visman                            Dhr. Sierik Visman   \n",
       "14696  Koumans                                  J.C. Koumans   \n",
       "14234    Drost                          Dominee A. Drost ON4   \n",
       "13156  Joosten                               Pastoor Joosten   \n",
       "\n",
       "                                          RetrievedNames MATCH  \n",
       "10186  [Ch.L.J. Palmer van den Broek, W.A. Pertri-van...   YES  \n",
       "15098                  [Braspot, Willem Adriaan Braspot]   YES  \n",
       "3547   [A S C Maier - Olland, H.R. Olland, Willem Jan...   YES  \n",
       "14598  [Mw. F.C. Mulder, Geert-Jan Mulder, F. Mulder,...   YES  \n",
       "10967                                 [Ir. J.G. de Geus]   YES  \n",
       "1648                      [F.L. van Noten, F. van Noten]   YES  \n",
       "9274                                       [Dr.  Visman]   YES  \n",
       "14696                                 [Dr. F.P. Koumans]   YES  \n",
       "14234  [L. Drost, D. Drost, Luitenant K. Drost, Drost...   YES  \n",
       "13156  [J.M. Joosten, Ben Joosten, K.G.R. Joosten, Be...   YES  "
      ]
     },
     "execution_count": 11,
     "metadata": {},
     "output_type": "execute_result"
    }
   ],
   "source": [
    "df = pandas.read_pickle(\"results/bronbeekToNmvwSurnameMatchResults.pkl\")\n",
    "df.loc[df[\"MATCH\"] == \"YES\"][['LastName', 'DisplayName', 'RetrievedNames', 'MATCH']].sample(n = 10)"
   ]
  },
  {
   "cell_type": "code",
   "execution_count": 12,
   "id": "759061c7",
   "metadata": {},
   "outputs": [
    {
     "data": {
      "text/plain": [
       "6495"
      ]
     },
     "execution_count": 12,
     "metadata": {},
     "output_type": "execute_result"
    }
   ],
   "source": [
    "len(df.loc[df[\"MATCH\"] == \"YES\"])"
   ]
  },
  {
   "cell_type": "markdown",
   "id": "da682a64",
   "metadata": {},
   "source": [
    "# Abbreviation Matching"
   ]
  },
  {
   "cell_type": "code",
   "execution_count": 13,
   "id": "6cb068ca",
   "metadata": {},
   "outputs": [],
   "source": [
    "from matchwithabbreviation.match_with_abbreviation import match_with_abbreviation"
   ]
  },
  {
   "cell_type": "code",
   "execution_count": 14,
   "id": "2d32af9a",
   "metadata": {},
   "outputs": [
    {
     "name": "stdout",
     "output_type": "stream",
     "text": [
      "The number of positive match is 1177\n"
     ]
    }
   ],
   "source": [
    "result_abbreviation = match_with_abbreviation(df1, df2)\n",
    "abbreviationlen_match = len(result_abbreviation.index)\n",
    "print(f\"The number of positive match is {abbreviationlen_match}\")"
   ]
  },
  {
   "cell_type": "code",
   "execution_count": 15,
   "id": "db053ebd",
   "metadata": {},
   "outputs": [],
   "source": [
    "with open(\"results/bronbeekToNmvwAbbreviationMatchResults.pkl\", \"wb\") as handle:\n",
    "    pickle.dump(result_abbreviation, handle, protocol=pickle.HIGHEST_PROTOCOL)"
   ]
  },
  {
   "cell_type": "code",
   "execution_count": 16,
   "id": "286269c2",
   "metadata": {},
   "outputs": [
    {
     "data": {
      "text/html": [
       "<div>\n",
       "<style scoped>\n",
       "    .dataframe tbody tr th:only-of-type {\n",
       "        vertical-align: middle;\n",
       "    }\n",
       "\n",
       "    .dataframe tbody tr th {\n",
       "        vertical-align: top;\n",
       "    }\n",
       "\n",
       "    .dataframe thead th {\n",
       "        text-align: right;\n",
       "    }\n",
       "</style>\n",
       "<table border=\"1\" class=\"dataframe\">\n",
       "  <thead>\n",
       "    <tr style=\"text-align: right;\">\n",
       "      <th></th>\n",
       "      <th>nmvw_uri</th>\n",
       "      <th>name_label</th>\n",
       "      <th>Abbreviations</th>\n",
       "      <th>FirstName</th>\n",
       "      <th>LastName</th>\n",
       "      <th>DisplayName</th>\n",
       "    </tr>\n",
       "  </thead>\n",
       "  <tbody>\n",
       "    <tr>\n",
       "      <th>237</th>\n",
       "      <td>https://hdl.handle.net/20.500.11840/pi6890</td>\n",
       "      <td>J. Jansen</td>\n",
       "      <td>J. Jansen</td>\n",
       "      <td>J.</td>\n",
       "      <td>Jansen</td>\n",
       "      <td>J. Jansen</td>\n",
       "    </tr>\n",
       "    <tr>\n",
       "      <th>503</th>\n",
       "      <td>https://hdl.handle.net/20.500.11840/pi21474</td>\n",
       "      <td>J.C. Meyer</td>\n",
       "      <td>J. Meyer</td>\n",
       "      <td>J.G.K.</td>\n",
       "      <td>Meyer</td>\n",
       "      <td>J.G.K. Meyer</td>\n",
       "    </tr>\n",
       "    <tr>\n",
       "      <th>361</th>\n",
       "      <td>https://hdl.handle.net/20.500.11840/pi2125</td>\n",
       "      <td>J.M. Koster</td>\n",
       "      <td>J. Koster</td>\n",
       "      <td>J.W.</td>\n",
       "      <td>Koster</td>\n",
       "      <td>J.W. Koster</td>\n",
       "    </tr>\n",
       "    <tr>\n",
       "      <th>1001</th>\n",
       "      <td>https://hdl.handle.net/20.500.11840/pi33419</td>\n",
       "      <td>W. Wagner</td>\n",
       "      <td>W. Wagner</td>\n",
       "      <td>W.A.</td>\n",
       "      <td>Wagner</td>\n",
       "      <td>W.A. Wagter</td>\n",
       "    </tr>\n",
       "    <tr>\n",
       "      <th>586</th>\n",
       "      <td>https://hdl.handle.net/20.500.11840/pi63497</td>\n",
       "      <td>E.A. Nolle</td>\n",
       "      <td>E. Nolle</td>\n",
       "      <td>E.A.</td>\n",
       "      <td>Nolle</td>\n",
       "      <td>Mw. E.A. Nolle</td>\n",
       "    </tr>\n",
       "    <tr>\n",
       "      <th>369</th>\n",
       "      <td>https://hdl.handle.net/20.500.11840/pi50759</td>\n",
       "      <td>F.W. Kramer</td>\n",
       "      <td>F. Kramer</td>\n",
       "      <td>F.</td>\n",
       "      <td>Kramer</td>\n",
       "      <td>F. Kramer</td>\n",
       "    </tr>\n",
       "    <tr>\n",
       "      <th>259</th>\n",
       "      <td>https://hdl.handle.net/20.500.11840/pi64174</td>\n",
       "      <td>J. Jansen</td>\n",
       "      <td>J. Jansen</td>\n",
       "      <td>Johannes</td>\n",
       "      <td>Jansen</td>\n",
       "      <td>Johannes Jansen, Korporaal der mariniers</td>\n",
       "    </tr>\n",
       "    <tr>\n",
       "      <th>13</th>\n",
       "      <td>https://hdl.handle.net/20.500.11840/pi62641</td>\n",
       "      <td>Emile Deletaille</td>\n",
       "      <td>E. Deletaille</td>\n",
       "      <td>Emile</td>\n",
       "      <td>Deletaille</td>\n",
       "      <td>Emile Deletaille</td>\n",
       "    </tr>\n",
       "    <tr>\n",
       "      <th>614</th>\n",
       "      <td>https://hdl.handle.net/20.500.11840/pi30800</td>\n",
       "      <td>J.R.T.M. Peters</td>\n",
       "      <td>J. Peters</td>\n",
       "      <td>J.P.H.</td>\n",
       "      <td>Peters</td>\n",
       "      <td>J.P.H. Peters</td>\n",
       "    </tr>\n",
       "    <tr>\n",
       "      <th>959</th>\n",
       "      <td>https://hdl.handle.net/20.500.11840/pi80533</td>\n",
       "      <td>H. Voorrips</td>\n",
       "      <td>H. Voorrips</td>\n",
       "      <td>H.</td>\n",
       "      <td>Voorrips</td>\n",
       "      <td>H. Voorrips</td>\n",
       "    </tr>\n",
       "  </tbody>\n",
       "</table>\n",
       "</div>"
      ],
      "text/plain": [
       "                                         nmvw_uri        name_label  \\\n",
       "237    https://hdl.handle.net/20.500.11840/pi6890         J. Jansen   \n",
       "503   https://hdl.handle.net/20.500.11840/pi21474        J.C. Meyer   \n",
       "361    https://hdl.handle.net/20.500.11840/pi2125       J.M. Koster   \n",
       "1001  https://hdl.handle.net/20.500.11840/pi33419         W. Wagner   \n",
       "586   https://hdl.handle.net/20.500.11840/pi63497        E.A. Nolle   \n",
       "369   https://hdl.handle.net/20.500.11840/pi50759       F.W. Kramer   \n",
       "259   https://hdl.handle.net/20.500.11840/pi64174         J. Jansen   \n",
       "13    https://hdl.handle.net/20.500.11840/pi62641  Emile Deletaille   \n",
       "614   https://hdl.handle.net/20.500.11840/pi30800   J.R.T.M. Peters   \n",
       "959   https://hdl.handle.net/20.500.11840/pi80533       H. Voorrips   \n",
       "\n",
       "      Abbreviations FirstName    LastName  \\\n",
       "237       J. Jansen        J.      Jansen   \n",
       "503        J. Meyer    J.G.K.       Meyer   \n",
       "361       J. Koster      J.W.      Koster   \n",
       "1001      W. Wagner      W.A.      Wagner   \n",
       "586        E. Nolle      E.A.       Nolle   \n",
       "369       F. Kramer        F.      Kramer   \n",
       "259       J. Jansen  Johannes      Jansen   \n",
       "13    E. Deletaille     Emile  Deletaille   \n",
       "614       J. Peters    J.P.H.      Peters   \n",
       "959     H. Voorrips        H.    Voorrips   \n",
       "\n",
       "                                   DisplayName  \n",
       "237                                  J. Jansen  \n",
       "503                               J.G.K. Meyer  \n",
       "361                                J.W. Koster  \n",
       "1001                               W.A. Wagter  \n",
       "586                             Mw. E.A. Nolle  \n",
       "369                                  F. Kramer  \n",
       "259   Johannes Jansen, Korporaal der mariniers  \n",
       "13                            Emile Deletaille  \n",
       "614                              J.P.H. Peters  \n",
       "959                                H. Voorrips  "
      ]
     },
     "execution_count": 16,
     "metadata": {},
     "output_type": "execute_result"
    }
   ],
   "source": [
    "df = pandas.read_pickle(\"results/bronbeekToNmvwAbbreviationMatchResults.pkl\")\n",
    "result_abbreviation[['nmvw_uri', 'name_label', 'Abbreviations', 'FirstName', 'LastName', 'DisplayName']].sample(n = 10)"
   ]
  },
  {
   "cell_type": "markdown",
   "id": "2806ac01",
   "metadata": {},
   "source": [
    "# Fuzzy String Match"
   ]
  },
  {
   "cell_type": "code",
   "execution_count": 9,
   "id": "b7d5fb2b",
   "metadata": {},
   "outputs": [],
   "source": [
    "from matchfuzzystring.match_fuzzy_string import match_fuzzy_string"
   ]
  },
  {
   "cell_type": "code",
   "execution_count": 10,
   "id": "00c19615",
   "metadata": {},
   "outputs": [
    {
     "name": "stderr",
     "output_type": "stream",
     "text": [
      "15382it [29:26:59,  6.89s/it] "
     ]
    },
    {
     "name": "stdout",
     "output_type": "stream",
     "text": [
      "                                    DisplayName  \\\n",
      "0                         Drs. P.J.C. Verhoeven   \n",
      "1                             Koning Willem III   \n",
      "2                             Dhr. A.C. Vongers   \n",
      "3                     Arnhemse Burgervereniging   \n",
      "4                                    Hornberger   \n",
      "5  Minister van Marine W.F. van Erp Taalman Kip   \n",
      "6                            Dhr. H. Achterberg   \n",
      "7               Mevrouw C.W.M. Ruempol-Diderich   \n",
      "8                               Dhr. H.J. Londo   \n",
      "9                            Dhr. H. van Joolen   \n",
      "\n",
      "                                      RetrievedNames MATCH  \n",
      "0  [(Verhoeven, 100), (Verhoeven, 100), (Verhoeve...   YES  \n",
      "1  [(Koning, 100), (Koning, 100), (Koning Willem ...   YES  \n",
      "2   [(Dhr. Wong, 88), (S. GÃ¼ner, 80), (H. Vos, 80)]   YES  \n",
      "3    [(Burger, 100), (A. Burger, 88), (Burgers, 86)]   YES  \n",
      "4  [(H. (Heidi) Hornberger, 100), (A. Kornberger,...   YES  \n",
      "5   [(A. Maine, 86), (T. Marin, 86), (E. Minns, 86)]   YES  \n",
      "6  [(Achterberg, 100), (W. Herberg, 89), (Herzber...   YES  \n",
      "7  [(C. Dietrich, 90), (W. Rich, 83), (P. Dietric...   YES  \n",
      "8      [(J. H., 100), (...do, 100), (...do..., 100)]   YES  \n",
      "9  [(J. H., 100), (Olden, W. van, 84), (Oosten, v...   YES  \n",
      "The number of positive match is 15363\n"
     ]
    },
    {
     "name": "stderr",
     "output_type": "stream",
     "text": [
      "\n"
     ]
    }
   ],
   "source": [
    "result_fuzzymatch = match_fuzzy_string(df1, df2, max_score=75)\n",
    "fuzzy_match = len(result_fuzzymatch.loc[result_fuzzymatch[\"MATCH\"] == \"YES\"])\n",
    "print(f\"The number of positive match is {fuzzy_match}\")"
   ]
  },
  {
   "cell_type": "code",
   "execution_count": 11,
   "id": "c2f26d33",
   "metadata": {},
   "outputs": [],
   "source": [
    "with open(\"results/bronbeekToNmvwFuzzyStringMatchResults.pkl\", \"wb\") as handle:\n",
    "    pickle.dump(result_fuzzymatch, handle, protocol=pickle.HIGHEST_PROTOCOL)"
   ]
  },
  {
   "cell_type": "code",
   "execution_count": 13,
   "id": "76031481",
   "metadata": {},
   "outputs": [
    {
     "data": {
      "text/html": [
       "<div>\n",
       "<style scoped>\n",
       "    .dataframe tbody tr th:only-of-type {\n",
       "        vertical-align: middle;\n",
       "    }\n",
       "\n",
       "    .dataframe tbody tr th {\n",
       "        vertical-align: top;\n",
       "    }\n",
       "\n",
       "    .dataframe thead th {\n",
       "        text-align: right;\n",
       "    }\n",
       "</style>\n",
       "<table border=\"1\" class=\"dataframe\">\n",
       "  <thead>\n",
       "    <tr style=\"text-align: right;\">\n",
       "      <th></th>\n",
       "      <th>FullName</th>\n",
       "      <th>RetrievedNames</th>\n",
       "      <th>MATCH</th>\n",
       "    </tr>\n",
       "  </thead>\n",
       "  <tbody>\n",
       "    <tr>\n",
       "      <th>2418</th>\n",
       "      <td>A.J. Kempees</td>\n",
       "      <td>[(Mej. J.E. Kempees, 91), (J. Kemper, 88), (Ke...</td>\n",
       "      <td>YES</td>\n",
       "    </tr>\n",
       "    <tr>\n",
       "      <th>13180</th>\n",
       "      <td>M.J. Rijken-Valewink</td>\n",
       "      <td>[(Alewijn, 86), (De Val, 83), (De Val, 83)]</td>\n",
       "      <td>YES</td>\n",
       "    </tr>\n",
       "    <tr>\n",
       "      <th>11462</th>\n",
       "      <td>Gwendolyn Hollander</td>\n",
       "      <td>[(Holland, 100), (Holland, 100), (M. Hollander...</td>\n",
       "      <td>YES</td>\n",
       "    </tr>\n",
       "    <tr>\n",
       "      <th>3774</th>\n",
       "      <td>J.A.J. Bongers</td>\n",
       "      <td>[(J. Kol, 100), (A. BÃ¢, 100), (J.J. Bogers, 90)]</td>\n",
       "      <td>YES</td>\n",
       "    </tr>\n",
       "    <tr>\n",
       "      <th>3998</th>\n",
       "      <td>H. Vink</td>\n",
       "      <td>[(A.T. Vink, 88), (H. List, 83), (Kluit, 80)]</td>\n",
       "      <td>YES</td>\n",
       "    </tr>\n",
       "    <tr>\n",
       "      <th>9469</th>\n",
       "      <td>Anna Meijgaard-Hijmering</td>\n",
       "      <td>[(...ei, 100), (A. Heim, 83), (M. King, 83)]</td>\n",
       "      <td>YES</td>\n",
       "    </tr>\n",
       "    <tr>\n",
       "      <th>262</th>\n",
       "      <td>Andries Cornelis Dirk Graeff</td>\n",
       "      <td>[(S. Cornelis, 90), (Wandres, 86), (C.D. Corne...</td>\n",
       "      <td>YES</td>\n",
       "    </tr>\n",
       "    <tr>\n",
       "      <th>12335</th>\n",
       "      <td>Hendrik Johannes Wilhelm Leen</td>\n",
       "      <td>[(Johan, 100), (Wilhelmy, 93), (C. Johannes, 90)]</td>\n",
       "      <td>YES</td>\n",
       "    </tr>\n",
       "    <tr>\n",
       "      <th>10141</th>\n",
       "      <td>Robert Frederik Birkenholz</td>\n",
       "      <td>[((ed.), 100), ((red.), 100), (Robert, S., 100)]</td>\n",
       "      <td>YES</td>\n",
       "    </tr>\n",
       "    <tr>\n",
       "      <th>11338</th>\n",
       "      <td>J. Draaiier</td>\n",
       "      <td>[(Majoor, 100), (Draaijer, 88), (Bergen, 83)]</td>\n",
       "      <td>YES</td>\n",
       "    </tr>\n",
       "  </tbody>\n",
       "</table>\n",
       "</div>"
      ],
      "text/plain": [
       "                            FullName  \\\n",
       "2418                    A.J. Kempees   \n",
       "13180           M.J. Rijken-Valewink   \n",
       "11462            Gwendolyn Hollander   \n",
       "3774                  J.A.J. Bongers   \n",
       "3998                         H. Vink   \n",
       "9469        Anna Meijgaard-Hijmering   \n",
       "262     Andries Cornelis Dirk Graeff   \n",
       "12335  Hendrik Johannes Wilhelm Leen   \n",
       "10141     Robert Frederik Birkenholz   \n",
       "11338                    J. Draaiier   \n",
       "\n",
       "                                          RetrievedNames MATCH  \n",
       "2418   [(Mej. J.E. Kempees, 91), (J. Kemper, 88), (Ke...   YES  \n",
       "13180        [(Alewijn, 86), (De Val, 83), (De Val, 83)]   YES  \n",
       "11462  [(Holland, 100), (Holland, 100), (M. Hollander...   YES  \n",
       "3774   [(J. Kol, 100), (A. BÃ¢, 100), (J.J. Bogers, 90)]   YES  \n",
       "3998       [(A.T. Vink, 88), (H. List, 83), (Kluit, 80)]   YES  \n",
       "9469        [(...ei, 100), (A. Heim, 83), (M. King, 83)]   YES  \n",
       "262    [(S. Cornelis, 90), (Wandres, 86), (C.D. Corne...   YES  \n",
       "12335  [(Johan, 100), (Wilhelmy, 93), (C. Johannes, 90)]   YES  \n",
       "10141   [((ed.), 100), ((red.), 100), (Robert, S., 100)]   YES  \n",
       "11338      [(Majoor, 100), (Draaijer, 88), (Bergen, 83)]   YES  "
      ]
     },
     "execution_count": 13,
     "metadata": {},
     "output_type": "execute_result"
    }
   ],
   "source": [
    "df = pandas.read_pickle(\"results/bronbeekToNmvwFuzzyStringMatchResults.pkl\")\n",
    "df.loc[df[\"MATCH\"] == \"YES\"][['FullName', 'RetrievedNames', 'MATCH']].sample(n = 10)"
   ]
  },
  {
   "cell_type": "code",
   "execution_count": null,
   "id": "83cdf762",
   "metadata": {},
   "outputs": [],
   "source": []
  }
 ],
 "metadata": {
  "kernelspec": {
   "display_name": "Python (py39deezy)",
   "language": "python",
   "name": "py39deezy"
  },
  "language_info": {
   "codemirror_mode": {
    "name": "ipython",
    "version": 3
   },
   "file_extension": ".py",
   "mimetype": "text/x-python",
   "name": "python",
   "nbconvert_exporter": "python",
   "pygments_lexer": "ipython3",
   "version": "3.9.12"
  }
 },
 "nbformat": 4,
 "nbformat_minor": 5
}
