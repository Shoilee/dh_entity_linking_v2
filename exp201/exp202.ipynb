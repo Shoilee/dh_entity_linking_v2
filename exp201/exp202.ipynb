{
 "cells": [
  {
   "cell_type": "code",
   "execution_count": 4,
   "id": "b9ffefad",
   "metadata": {},
   "outputs": [],
   "source": [
    "import sys\n",
    "sys.path.append(\"..\") "
   ]
  },
  {
   "cell_type": "code",
   "execution_count": 5,
   "id": "3e1360a5",
   "metadata": {},
   "outputs": [],
   "source": [
    "import pandas, pickle\n",
    "from matchsurname.match_surname import matchLastName"
   ]
  },
  {
   "cell_type": "markdown",
   "id": "978d2bbd",
   "metadata": {},
   "source": [
    "Execute surname match from Bronbeek to NMVW and store result in pickle file"
   ]
  },
  {
   "cell_type": "code",
   "execution_count": null,
   "id": "c3980bf3",
   "metadata": {},
   "outputs": [],
   "source": [
    "result = matchLastName(df1=pandas.read_pickle(\"nmvw_data/ccrdfconst/person_names.pkl\"),\n",
    "                        df2=pandas.read_csv(\"/Users/sarah_shoilee/Desktop/Sarah/Bronbeek_Data/csv_dump/Constituents.csv\"))\n",
    "\n",
    "with open(\"../bronbeekToNmvwSurnameMatchResults.pkl\", \"wb\") as handle:\n",
    "    pickle.dump(result, handle, protocol=pickle.HIGHEST_PROTOCOL)\n"
   ]
  },
  {
   "cell_type": "code",
   "execution_count": 8,
   "id": "dc0c8ffc",
   "metadata": {},
   "outputs": [
    {
     "name": "stdout",
     "output_type": "stream",
     "text": [
      "Out of 15382, only 6495 has a positive match\n"
     ]
    }
   ],
   "source": [
    "df = pandas.read_pickle(\"../bronbeekToNmvwSurnameMatchResults.pkl\")\n",
    "print(f'Out of {len(df.index)}, only {len(df.loc[df[\"MATCH\"] == \"YES\"])} has a positive match')"
   ]
  },
  {
   "cell_type": "code",
   "execution_count": 10,
   "id": "340f29f3",
   "metadata": {},
   "outputs": [
    {
     "data": {
      "text/html": [
       "<div>\n",
       "<style scoped>\n",
       "    .dataframe tbody tr th:only-of-type {\n",
       "        vertical-align: middle;\n",
       "    }\n",
       "\n",
       "    .dataframe tbody tr th {\n",
       "        vertical-align: top;\n",
       "    }\n",
       "\n",
       "    .dataframe thead th {\n",
       "        text-align: right;\n",
       "    }\n",
       "</style>\n",
       "<table border=\"1\" class=\"dataframe\">\n",
       "  <thead>\n",
       "    <tr style=\"text-align: right;\">\n",
       "      <th></th>\n",
       "      <th>LastName</th>\n",
       "      <th>DisplayName</th>\n",
       "      <th>RetrievedNames</th>\n",
       "      <th>MATCH</th>\n",
       "    </tr>\n",
       "  </thead>\n",
       "  <tbody>\n",
       "    <tr>\n",
       "      <th>1616</th>\n",
       "      <td>NaN</td>\n",
       "      <td>Erven Zweep</td>\n",
       "      <td>[]</td>\n",
       "      <td>NO</td>\n",
       "    </tr>\n",
       "    <tr>\n",
       "      <th>4471</th>\n",
       "      <td>Langen</td>\n",
       "      <td>K.F.H. van Langen</td>\n",
       "      <td>[K.W.F. van Langen, K.F.H. (Karel Frederik Hen...</td>\n",
       "      <td>YES</td>\n",
       "    </tr>\n",
       "    <tr>\n",
       "      <th>6812</th>\n",
       "      <td>Vivié</td>\n",
       "      <td>Tijmen Vivié</td>\n",
       "      <td>[]</td>\n",
       "      <td>NO</td>\n",
       "    </tr>\n",
       "    <tr>\n",
       "      <th>13789</th>\n",
       "      <td>Verwey</td>\n",
       "      <td>Drs. Jonathan Verwey</td>\n",
       "      <td>[F. de la Fontaine Verwey, prof. dr. H. (Herma...</td>\n",
       "      <td>YES</td>\n",
       "    </tr>\n",
       "    <tr>\n",
       "      <th>211</th>\n",
       "      <td>Oudenampsen</td>\n",
       "      <td>Kapitein A.J. van Oudenampsen</td>\n",
       "      <td>[]</td>\n",
       "      <td>NO</td>\n",
       "    </tr>\n",
       "    <tr>\n",
       "      <th>7170</th>\n",
       "      <td>Smith</td>\n",
       "      <td>Louise F.E. Smith</td>\n",
       "      <td>[S. McCosker Smith, John (J.) Smith, J.D. (Joh...</td>\n",
       "      <td>YES</td>\n",
       "    </tr>\n",
       "    <tr>\n",
       "      <th>9698</th>\n",
       "      <td>Henneman</td>\n",
       "      <td>N.G. Henneman</td>\n",
       "      <td>[]</td>\n",
       "      <td>NO</td>\n",
       "    </tr>\n",
       "    <tr>\n",
       "      <th>13269</th>\n",
       "      <td>Mulder-Tersteege</td>\n",
       "      <td>Mevrouw M. Mulder-Tersteege</td>\n",
       "      <td>[]</td>\n",
       "      <td>NO</td>\n",
       "    </tr>\n",
       "    <tr>\n",
       "      <th>14846</th>\n",
       "      <td>Zimmeren</td>\n",
       "      <td>Lex van Zimmeren</td>\n",
       "      <td>[Lex van Zimmeren]</td>\n",
       "      <td>YES</td>\n",
       "    </tr>\n",
       "    <tr>\n",
       "      <th>11044</th>\n",
       "      <td>Oostrom-Scholte</td>\n",
       "      <td>Mw. B.K. van Oostrom-Scholte</td>\n",
       "      <td>[]</td>\n",
       "      <td>NO</td>\n",
       "    </tr>\n",
       "  </tbody>\n",
       "</table>\n",
       "</div>"
      ],
      "text/plain": [
       "               LastName                    DisplayName  \\\n",
       "1616                NaN                    Erven Zweep   \n",
       "4471             Langen              K.F.H. van Langen   \n",
       "6812              Vivié                   Tijmen Vivié   \n",
       "13789            Verwey           Drs. Jonathan Verwey   \n",
       "211         Oudenampsen  Kapitein A.J. van Oudenampsen   \n",
       "7170              Smith              Louise F.E. Smith   \n",
       "9698           Henneman                  N.G. Henneman   \n",
       "13269  Mulder-Tersteege    Mevrouw M. Mulder-Tersteege   \n",
       "14846          Zimmeren               Lex van Zimmeren   \n",
       "11044   Oostrom-Scholte   Mw. B.K. van Oostrom-Scholte   \n",
       "\n",
       "                                          RetrievedNames MATCH  \n",
       "1616                                                  []    NO  \n",
       "4471   [K.W.F. van Langen, K.F.H. (Karel Frederik Hen...   YES  \n",
       "6812                                                  []    NO  \n",
       "13789  [F. de la Fontaine Verwey, prof. dr. H. (Herma...   YES  \n",
       "211                                                   []    NO  \n",
       "7170   [S. McCosker Smith, John (J.) Smith, J.D. (Joh...   YES  \n",
       "9698                                                  []    NO  \n",
       "13269                                                 []    NO  \n",
       "14846                                 [Lex van Zimmeren]   YES  \n",
       "11044                                                 []    NO  "
      ]
     },
     "execution_count": 10,
     "metadata": {},
     "output_type": "execute_result"
    }
   ],
   "source": [
    "df[['LastName', 'DisplayName', 'RetrievedNames', 'MATCH']].sample(n = 10)"
   ]
  },
  {
   "cell_type": "code",
   "execution_count": null,
   "id": "e6cd96ce",
   "metadata": {},
   "outputs": [],
   "source": []
  }
 ],
 "metadata": {
  "kernelspec": {
   "display_name": "Python (py39deezy)",
   "language": "python",
   "name": "py39deezy"
  },
  "language_info": {
   "codemirror_mode": {
    "name": "ipython",
    "version": 3
   },
   "file_extension": ".py",
   "mimetype": "text/x-python",
   "name": "python",
   "nbconvert_exporter": "python",
   "pygments_lexer": "ipython3",
   "version": "3.9.12"
  }
 },
 "nbformat": 4,
 "nbformat_minor": 5
}
