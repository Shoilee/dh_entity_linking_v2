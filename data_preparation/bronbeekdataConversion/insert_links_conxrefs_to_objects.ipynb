{
 "cells": [
  {
   "cell_type": "markdown",
   "metadata": {},
   "source": [
    "# Insert triple for constituents related to objects"
   ]
  },
  {
   "cell_type": "code",
   "execution_count": null,
   "metadata": {},
   "outputs": [],
   "source": [
    "query = \"\"\"\n",
    "            PREFIX skos: <http://www.w3.org/2004/02/skos/core#>\n",
    "            PREFIX rdfs: <http://www.w3.org/2000/01/rdf-schema#>\n",
    "            PREFIX owl: <http://www.w3.org/2002/07/owl#>\n",
    "            PREFIX crm: <http://www.cidoc-crm.org/cidoc-crm/>\n",
    "\n",
    "            SELECT ?event ?constituent ?object\n",
    "            WHERE{\n",
    "                ?conxrefdetailID <https://pressingmatter.nl/Bronbeek/ConXrefDetails/vocab/ConstituentID> ?constituent .\n",
    "                ?conxrefdetailID <https://pressingmatter.nl/Bronbeek/ConXrefDetails/vocab/Prefix> ?event .\n",
    "                ?conxrefdetailID <https://pressingmatter.nl/Bronbeek/ConXrefDetails/vocab/RoleTypeID> ?RoleTypeID .\n",
    "                ?conxrefdetailID <https://pressingmatter.nl/Bronbeek/ConXrefDetails/vocab/ConXrefID> ?conxref .\n",
    "                ?conXref <https://pressingmatter.nl/Bronbeek/ConXrefs/vocab/ID> ?ID .\n",
    "                ?conXref <https://pressingmatter.nl/Bronbeek/ConXrefs/vocab/TableID> ?TableID .\n",
    "                FILTER (?TableID = \"108\"^^<https://pressingmatter.nl/Bronbeek/ConXrefs/interger>) .\n",
    "                ?conXref <https://pressingmatter.nl/Bronbeek/ConXrefs/vocab/RoleTypeID> <https://pressingmatter.nl/Bronbeek/RoleTypes/2> .\n",
    "                ?object <https://pressingmatter.nl/Bronbeek/Objects/vocab/ObjectID> ?ID .\n",
    "            }\n",
    "        \"\"\""
   ]
  },
  {
   "cell_type": "markdown",
   "metadata": {},
   "source": [
    "Run query:\n",
    "```\n",
    "PREFIX skos: <http://www.w3.org/2004/02/skos/core#>\n",
    "\n",
    "SELECT ?constituent ?object\n",
    "WHERE{\n",
    "  \t?conxrefdetailID <https://pressingmatter.nl/Bronbeek/ConXrefDetails/vocab/ConstituentID> ?constituent .\n",
    "  \t?conxrefdetailID <https://pressingmatter.nl/Bronbeek/ConXrefDetails/vocab/ConXrefID> ?conXref .\n",
    "    ?conXref <https://pressingmatter.nl/Bronbeek/ConXrefs/vocab/ID> ?ID .\n",
    "    ?conXref <https://pressingmatter.nl/Bronbeek/ConXrefs/vocab/TableID> ?TableID .\n",
    " \tFILTER (?TableID = \"108\"^^<https://pressingmatter.nl/Bronbeek/ConXrefs/interger>) .\n",
    "    {?conXref <https://pressingmatter.nl/Bronbeek/ConXrefs/vocab/RoleTypeID> <https://pressingmatter.nl/Bronbeek/RoleTypes/1>}\n",
    "      UNION {?conXref <https://pressingmatter.nl/Bronbeek/ConXrefs/vocab/RoleTypeID> <https://pressingmatter.nl/Bronbeek/RoleTypes/2>} \n",
    "      UNION {?conXref <https://pressingmatter.nl/Bronbeek/ConXrefs/vocab/RoleTypeID> <https://pressingmatter.nl/Bronbeek/RoleTypes/5>} .\n",
    "  \t?object <https://pressingmatter.nl/Bronbeek/Objects/vocab/ObjectID> ?ID .\n",
    "}\n",
    "```"
   ]
  },
  {
   "cell_type": "markdown",
   "metadata": {},
   "source": [
    "add triple"
   ]
  },
  {
   "cell_type": "code",
   "execution_count": null,
   "metadata": {},
   "outputs": [],
   "source": [
    "import pandas\n",
    "\n",
    "df = pandas.read_csv(\"conxref_object_link.csv\").dropna(axis=1)\n",
    "df.columns"
   ]
  },
  {
   "cell_type": "code",
   "execution_count": null,
   "metadata": {},
   "outputs": [],
   "source": [
    "import rdflib, os\n",
    "from rdflib import Graph, URIRef\n",
    "from rdflib.namespace import SKOS\n",
    "\n",
    "def insert_links(df):\n",
    "    g = Graph()\n",
    "\n",
    "    try:\n",
    "        for _ , row in df.iterrows():\n",
    "            conxrefs = URIRef(str(row[0]).strip().replace('\"', ''))\n",
    "            object = URIRef(str(row[1]).strip().replace('\"', ''))\n",
    "            g.add((conxrefs, SKOS.related, object))\n",
    "        \n",
    "    finally:\n",
    "        print(len(g))\n",
    "        return g"
   ]
  },
  {
   "cell_type": "code",
   "execution_count": null,
   "metadata": {},
   "outputs": [],
   "source": [
    "insert_links(df).serialize(destination='conxreftoobject_graph.ttl')"
   ]
  },
  {
   "cell_type": "markdown",
   "metadata": {},
   "source": [
    "# Insert triple for provenance activity (Acquisition)"
   ]
  },
  {
   "cell_type": "markdown",
   "metadata": {},
   "source": [
    "run query:\n",
    "\n",
    "```\n",
    "PREFIX skos: <http://www.w3.org/2004/02/skos/core#>\n",
    "\n",
    "SELECT ?event ?constituent ?object\n",
    "WHERE{\n",
    "  \t?conxrefdetailID <https://pressingmatter.nl/Bronbeek/ConXrefDetails/vocab/ConstituentID> ?constituent .\n",
    "  \t?conxrefdetailID <https://pressingmatter.nl/Bronbeek/ConXrefDetails/vocab/Prefix> ?event .\n",
    "  \t?conxrefdetailID <https://pressingmatter.nl/Bronbeek/ConXrefDetails/vocab/ConXrefID> ?conXref .\n",
    "    ?conXref <https://pressingmatter.nl/Bronbeek/ConXrefs/vocab/ID> ?ID .\n",
    "    ?conXref <https://pressingmatter.nl/Bronbeek/ConXrefs/vocab/TableID> ?TableID .\n",
    " \tFILTER (?TableID = \"108\"^^<https://pressingmatter.nl/Bronbeek/ConXrefs/interger>) .\n",
    "    ?conXref <https://pressingmatter.nl/Bronbeek/ConXrefs/vocab/RoleTypeID> <https://pressingmatter.nl/Bronbeek/RoleTypes/2> .\n",
    "  \t?object <https://pressingmatter.nl/Bronbeek/Objects/vocab/ObjectID> ?ID .\n",
    "}\n",
    "```"
   ]
  },
  {
   "cell_type": "markdown",
   "metadata": {},
   "source": [
    "add triples"
   ]
  },
  {
   "cell_type": "code",
   "execution_count": null,
   "metadata": {},
   "outputs": [],
   "source": [
    "import pandas\n",
    "\n",
    "df = pandas.read_csv(\"provenance_activity.csv\").dropna(axis=1)\n",
    "df.columns"
   ]
  },
  {
   "cell_type": "code",
   "execution_count": null,
   "metadata": {},
   "outputs": [],
   "source": [
    "from rdflib import Graph, URIRef, Namespace, Literal\n",
    "from rdflib.namespace import SKOS, RDF, RDFS\n",
    "from tqdm import tqdm \n",
    "\n",
    "def insert_links(df):\n",
    "    crm = Namespace(\"http://www.cidoc-crm.org/cidoc-crm/\")\n",
    "    g = Graph()\n",
    "    g.bind(\"crm\",crm)\n",
    "\n",
    "    try:\n",
    "        for i , row in tqdm(df.iterrows()):\n",
    "\n",
    "            event = str(row.iloc[0]).strip().replace('\"', '')\n",
    "            constituent = URIRef(str(row.iloc[1]).strip().replace('\"', ''))\n",
    "            object = URIRef(str(row.iloc[2]).strip().replace('\"', ''))\n",
    "\n",
    "            object_number = str(row['object']).split(\"/\")[-1]\n",
    "\n",
    "            acquisition_dict = {}\n",
    "            acquisition_dict[object_number] = acquisition_dict.get(object_number, 0) + 1\n",
    "\n",
    "            prov_activity = URIRef(\"www.example.com/Bronbeek/Provenance/\"+str(i+1))\n",
    "            acquisition = URIRef(\"www.example.com/Bronbeek/Acquisition/\"+str(i+1))\n",
    "\n",
    "            g.add((prov_activity, RDF.type, crm.E7_Activity))\n",
    "            g.add((prov_activity, crm.P14_carried_out_by, constituent))\n",
    "            g.add((prov_activity, crm.P2_has_type, URIRef(u\"http://vocab.getty.edu/aat/300055863\")))\n",
    "            g.add((prov_activity, crm.P9_consists_of, acquisition))\n",
    "            g.add((acquisition, RDF.type, crm.E8_Acquisition))\n",
    "            g.add((acquisition, crm.P23_transferred_titled_from, constituent))\n",
    "            g.add((acquisition, crm.P24_transferred_titled_of, object))\n",
    "            g.add((acquisition, RDFS.label, Literal(event)))\n",
    "            \n",
    "        \n",
    "    finally:\n",
    "        print(len(g))\n",
    "        g.add((URIRef(u\"http://vocab.getty.edu/aat/300055863\"), RDF.type, crm.E55_Type))\n",
    "        g.add((URIRef(u\"http://vocab.getty.edu/aat/300055863\"), RDFS.label, Literal(\"acquisition_event.ttl\")))\n",
    "        return g"
   ]
  },
  {
   "cell_type": "code",
   "execution_count": null,
   "metadata": {},
   "outputs": [],
   "source": [
    "insert_links(df).serialize(destination='provenance_activity.ttl')"
   ]
  },
  {
   "cell_type": "markdown",
   "metadata": {},
   "source": [
    "# Add triple for former owner"
   ]
  },
  {
   "cell_type": "markdown",
   "metadata": {},
   "source": [
    "Run query:\n",
    "```\n",
    "PREFIX skos: <http://www.w3.org/2004/02/skos/core#>\n",
    "\n",
    "SELECT ?event ?constituent ?object\n",
    "WHERE{\n",
    "  \t?conxrefdetailID <https://pressingmatter.nl/Bronbeek/ConXrefDetails/vocab/ConstituentID> ?constituent .\n",
    "  \t?conxrefdetailID <https://pressingmatter.nl/Bronbeek/ConXrefDetails/vocab/Prefix> ?event .\n",
    "  \t?conxrefdetailID <https://pressingmatter.nl/Bronbeek/ConXrefDetails/vocab/ConXrefID> ?conXref .\n",
    "    ?conXref <https://pressingmatter.nl/Bronbeek/ConXrefs/vocab/ID> ?ID .\n",
    "    ?conXref <https://pressingmatter.nl/Bronbeek/ConXrefs/vocab/TableID> ?TableID .\n",
    " \tFILTER (?TableID = \"108\"^^<https://pressingmatter.nl/Bronbeek/ConXrefs/interger>) .\n",
    "    ?conXref <https://pressingmatter.nl/Bronbeek/ConXrefs/vocab/RoleTypeID> <https://pressingmatter.nl/Bronbeek/RoleTypes/5> .\n",
    "  \t?object <https://pressingmatter.nl/Bronbeek/Objects/vocab/ObjectID> ?ID .\n",
    "}\n",
    "```"
   ]
  },
  {
   "cell_type": "code",
   "execution_count": null,
   "metadata": {},
   "outputs": [],
   "source": [
    "import pandas\n",
    "\n",
    "df = pandas.read_csv(\"former_owner.csv\").dropna(axis=1)\n",
    "df.columns"
   ]
  },
  {
   "cell_type": "code",
   "execution_count": null,
   "metadata": {},
   "outputs": [],
   "source": [
    "from rdflib import Graph, URIRef, Namespace, Literal\n",
    "from rdflib.namespace import SKOS, RDF, RDFS\n",
    "from tqdm import tqdm \n",
    "\n",
    "def insert_links(df):\n",
    "    g = Graph()\n",
    "    crm = Namespace(\"http://www.cidoc-crm.org/cidoc-crm/\")\n",
    "    g.bind(\"crm\",crm)\n",
    "\n",
    "    try:\n",
    "        for i , row in tqdm(df.iterrows()):\n",
    "            constituent = URIRef(str(row[1]).strip().replace('\"', ''))\n",
    "            object = URIRef(str(row[2]).strip().replace('\"', ''))\n",
    "\n",
    "            g.add((object, crm.P51_has_former_or_current_owner, constituent)) \n",
    "    finally:\n",
    "        print(len(g))\n",
    "        return g"
   ]
  },
  {
   "cell_type": "code",
   "execution_count": null,
   "metadata": {},
   "outputs": [],
   "source": [
    "insert_links(df).serialize(destination='former_owner.ttl')"
   ]
  },
  {
   "cell_type": "markdown",
   "metadata": {},
   "source": [
    "# Add triple for person related to object (RoleTypeID=1)"
   ]
  },
  {
   "cell_type": "markdown",
   "metadata": {},
   "source": [
    "Run query:\n",
    "```\n",
    "PREFIX skos: <http://www.w3.org/2004/02/skos/core#>\n",
    "\n",
    "SELECT ?event ?constituent ?object\n",
    "WHERE{\n",
    "  \t?conxrefdetailID <https://pressingmatter.nl/Bronbeek/ConXrefDetails/vocab/ConstituentID> ?constituent .\n",
    "  \t?conxrefdetailID <https://pressingmatter.nl/Bronbeek/ConXrefDetails/vocab/Prefix> ?event .\n",
    "  \t?conxrefdetailID <https://pressingmatter.nl/Bronbeek/ConXrefDetails/vocab/ConXrefID> ?conXref .\n",
    "    ?conXref <https://pressingmatter.nl/Bronbeek/ConXrefs/vocab/ID> ?ID .\n",
    "    ?conXref <https://pressingmatter.nl/Bronbeek/ConXrefs/vocab/TableID> ?TableID .\n",
    " \tFILTER (?TableID = \"108\"^^<https://pressingmatter.nl/Bronbeek/ConXrefs/interger>) .\n",
    "    ?conXref <https://pressingmatter.nl/Bronbeek/ConXrefs/vocab/RoleTypeID> <https://pressingmatter.nl/Bronbeek/RoleTypes/5> .\n",
    "  \t?object <https://pressingmatter.nl/Bronbeek/Objects/vocab/ObjectID> ?ID .\n",
    "}\n",
    "```"
   ]
  },
  {
   "cell_type": "code",
   "execution_count": null,
   "metadata": {},
   "outputs": [],
   "source": [
    "import pandas\n",
    "\n",
    "df = pandas.read_csv(\"person_related.csv\").dropna(axis=1)\n",
    "df.columns"
   ]
  },
  {
   "cell_type": "code",
   "execution_count": null,
   "metadata": {},
   "outputs": [],
   "source": [
    "from rdflib import Graph, URIRef, Namespace, Literal\n",
    "from rdflib.namespace import SKOS, RDF, RDFS\n",
    "from tqdm import tqdm \n",
    "\n",
    "def insert_links(df):\n",
    "    g = Graph()\n",
    "    crm = Namespace(\"http://www.cidoc-crm.org/cidoc-crm/\")\n",
    "    g.bind(\"crm\",crm)\n",
    "\n",
    "    try:\n",
    "        for i , row in tqdm(df.iterrows()):\n",
    "            constituent = URIRef(str(row[0]).strip().replace('\"', ''))\n",
    "            object = URIRef(str(row[1]).strip().replace('\"', ''))\n",
    "\n",
    "            g.add((object, SKOS.related, constituent)) \n",
    "    finally:\n",
    "        print(len(g))\n",
    "        return g"
   ]
  },
  {
   "cell_type": "code",
   "execution_count": null,
   "metadata": {},
   "outputs": [],
   "source": [
    "insert_links(df).serialize(destination='person_related.ttl')"
   ]
  },
  {
   "cell_type": "markdown",
   "metadata": {},
   "source": [
    "# Insert provenance activity based on accession lot"
   ]
  },
  {
   "cell_type": "code",
   "execution_count": null,
   "metadata": {},
   "outputs": [],
   "source": [
    "from rdflib import URIRef, Graph, Namespace, Literal\n",
    "from rdflib.namespace import RDF, RDFS\n",
    "from tqdm import tqdm\n",
    "import uuid\n",
    "import os\n",
    "\n",
    "def insert_links(df):\n",
    "    crm = Namespace(\"http://www.cidoc-crm.org/cidoc-crm/\")\n",
    "    g = Graph()\n",
    "    g.bind(\"crm\", crm)\n",
    "\n",
    "    try:\n",
    "        for _, row in tqdm(df.iterrows()):\n",
    "            \n",
    "            object = URIRef(str(row.iloc[0]).strip().replace('\"', ''))\n",
    "            accession = URIRef(str(row.iloc[1]).strip().replace('\"', ''))\n",
    "            status = str(row.iloc[2]).strip().replace('\"', '')\n",
    "            method = str(row.iloc[3]).strip().replace('\"', '')\n",
    "            \n",
    "            time = str(row.iloc[4]).strip().replace('\"', '') if not row.iloc[4]==\"\" else None\n",
    "\n",
    "            object_number = str(object).split(\"/\")[-1]\n",
    "            \n",
    "            acquisition_dict = {}\n",
    "            acquisition_dict[object_number] = acquisition_dict.get(object_number, 0) + 1\n",
    "\n",
    "            \n",
    "            prov_activity = URIRef(\"https://www.pressingmatter.nl/Bronbeek/Provenance/\" + str(object_number))\n",
    "            acquisition = URIRef(\"https://www.pressingmatter.nl/Bronbeek/Acquisition/2/\" + str(object_number) + \"/\" + str(acquisition_dict[object_number]))\n",
    "\n",
    "            g.add((prov_activity, RDF.type, crm.E7_Activity))\n",
    "            g.add((prov_activity, RDFS.label, Literal(status)))\n",
    "            g.add((prov_activity, crm.P2_has_type, URIRef(u\"http://vocab.getty.edu/aat/300055863\")))\n",
    "            g.add((prov_activity, crm.P9_consists_of, acquisition))\n",
    "            g.add((acquisition, RDF.type, crm.E8_Acquisition))\n",
    "            g.add((acquisition, crm.P24_transferred_title_of, object))\n",
    "            g.add((acquisition, RDFS.label, Literal(method)))\n",
    "            \n",
    "            if time: \n",
    "                time_BNode = URIRef(\"https://www.pressingmatter.nl/Bronbeek/time/\" + str(uuid.uuid1()))\n",
    "                g.add((acquisition, crm.P4_has-time, time_BNode))\n",
    "                g.add((time_BNode, RDF.type, crm.E52_Time))\n",
    "                g.add((time_BNode, crm.P82a_begin_of_the_begin, Literal(time))) \n",
    "                g.add((time_BNode, crm.P82b_end_of_the_end, Literal(time)))\n",
    "                \n",
    "    finally:\n",
    "        print(len(g))\n",
    "        g.add((URIRef(u\"http://vocab.getty.edu/aat/300055863\"), RDF.type, crm.E55_Type))\n",
    "        g.add((URIRef(u\"http://vocab.getty.edu/aat/300055863\"), RDFS.label, Literal(\"Provenance Activity\")))\n",
    "        return g"
   ]
  },
  {
   "cell_type": "code",
   "execution_count": null,
   "metadata": {},
   "outputs": [],
   "source": [
    "import pandas\n",
    "df = pandas.read_csv(\"../Bronbeek_Data/LD-unzipped/queryResults.csv\").dropna(axis=1)"
   ]
  },
  {
   "cell_type": "code",
   "execution_count": null,
   "metadata": {},
   "outputs": [],
   "source": [
    "insert_links(df).serialize(destination=os.path.join(\"../Bronbeek_Data/LD-unzipped/\", 'provenance_activity.ttl'))"
   ]
  }
 ],
 "metadata": {
  "kernelspec": {
   "display_name": "pm_links",
   "language": "python",
   "name": "python3"
  },
  "language_info": {
   "codemirror_mode": {
    "name": "ipython",
    "version": 3
   },
   "file_extension": ".py",
   "mimetype": "text/x-python",
   "name": "python",
   "nbconvert_exporter": "python",
   "pygments_lexer": "ipython3",
   "version": "3.9.18"
  }
 },
 "nbformat": 4,
 "nbformat_minor": 2
}
