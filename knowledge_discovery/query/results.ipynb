{
 "cells": [
  {
   "cell_type": "markdown",
   "metadata": {},
   "source": [
    "# Intro"
   ]
  },
  {
   "cell_type": "markdown",
   "metadata": {},
   "source": [
    "> Generate [object_per_actor_nmvw.csv](object_per_actor_nmvw.csv)\n",
    "\n",
    "```\n",
    "PREFIX owl: <http://www.w3.org/2002/07/owl#>\n",
    "PREFIX crm: <http://www.cidoc-crm.org/cidoc-crm/>\n",
    "PREFIX skos: <http://www.w3.org/2004/02/skos/core#>\n",
    "\n",
    "SELECT (COUNT(DISTINCT ?nmvw_object) AS ?no_object) ?nmvw_actor\n",
    "WHERE{\n",
    "  GRAPH <https://pressingmatter.nl/NMVW/ccrdfobj.ttl>{\n",
    "  {?nmvw_acq crm:P24_transferred_title_of ?nmvw_object .\n",
    "   ?nmvw_acq crm:P23_transferred_title_from ?nmvw_actor .}\n",
    "  UNION\n",
    "  {\n",
    "    ?nmvw_prod crm:P14_carried_out_by ?nmvw_actor .\n",
    "    ?nmvw_object crm:P108i_was_produced_by ?nmvw_prod .\n",
    "  }\n",
    "  ?nmvw_object a crm:E22_Human-Made_Object .\n",
    "  }\n",
    "}GROUP BY ?nmvw_actor\n",
    "```"
   ]
  },
  {
   "cell_type": "code",
   "execution_count": null,
   "metadata": {},
   "outputs": [],
   "source": [
    "def cleanup(x: str):\n",
    "    return int(str(x).replace('\"', '').strip())\n",
    "\n",
    "import pandas as pd\n",
    "\n",
    "df1 = pd.read_csv(\"object_per_actor_nmvw.csv\")\n",
    "df1 = df1.iloc[: , :-1]\n",
    "df1.columns = ['no_object', 'nmvw_actor']\n",
    "df1['no_object'] = df1['no_object'].apply(cleanup)\n",
    "df1 = df1.sort_values(by=['no_object'], ascending=False)\n",
    "df1"
   ]
  },
  {
   "cell_type": "markdown",
   "metadata": {},
   "source": [
    "> Generate [object_per_actor_bb.csv](object_per_actor_bb.csv)\n",
    "```\n",
    "PREFIX owl: <http://www.w3.org/2002/07/owl#>\n",
    "PREFIX crm: <http://www.cidoc-crm.org/cidoc-crm/>\n",
    "PREFIX skos: <http://www.w3.org/2004/02/skos/core#>\n",
    "PREFIX rdf: <http://www.w3.org/1999/02/22-rdf-syntax-ns#>\n",
    "\n",
    "SELECT (COUNT(DISTINCT ?bb_obj) AS ?no_object) ?bb_actor\n",
    "WHERE{\n",
    "    {?bb_acq crm:P23_transferred_title_from ?bb_actor .\t\n",
    "    ?bb_acq crm:P24_transferred_title_of ?bb_obj .}\n",
    "    UNION\n",
    "    {\n",
    "          ?bb_obj crm:P51_has_former_or_current_owner ?bb_actor .\n",
    "    }\n",
    "\n",
    "GRAPH <https://pressingmatter.nl/Bronbeek/Objects/Objects/assertion/bad21d24/2024-03-01T12:54>{\n",
    "    ?bb_obj a crm:E22_Human-Made_Object. }\n",
    "}GROUP BY ?bb_actor\n",
    "```\n",
    "> Note: https://pressingmatter.nl/Bronbeek/Constituents/1896\" --> \"Koninklijk Tehuis voor Oud-Militairen en Museum Bronbeek\"^^xsd:string\n",
    "> https://pressingmatter.nl/Bronbeek/Constituents/9806 --> Nijmeegs Volkenkundig Museum\n",
    "> https://pressingmatter.nl/Bronbeek/Constituents/9804 --> \"Gemeente Nijmegen\"\n",
    "> https://pressingmatter.nl/Bronbeek/Constituents/9805 --> Jean Louis Henri Beijens"
   ]
  },
  {
   "cell_type": "code",
   "execution_count": null,
   "metadata": {},
   "outputs": [],
   "source": [
    "def cleanup(x: str):\n",
    "    return int(str(x).replace('\"', '').strip())\n",
    "\n",
    "import pandas as pd\n",
    "\n",
    "df1 = pd.read_csv(\"object_per_actor_bb.csv\")\n",
    "df1 = df1.iloc[: , :-1]\n",
    "df1.columns = ['no_object', 'bb_actor']\n",
    "df1['no_object'] = df1['no_object'].apply(cleanup)\n",
    "df1 = df1.sort_values(by=['no_object'], ascending=False)\n",
    "df1"
   ]
  },
  {
   "cell_type": "markdown",
   "metadata": {},
   "source": [
    "# CQ-1a"
   ]
  },
  {
   "cell_type": "markdown",
   "metadata": {},
   "source": [
    "How many actors we have with one more objects and also have military background?"
   ]
  },
  {
   "cell_type": "markdown",
   "metadata": {},
   "source": [
    "SPARQL Query:\n",
    "```\n",
    "PREFIX owl: <http://www.w3.org/2002/07/owl#>\n",
    "PREFIX crm: <http://www.cidoc-crm.org/cidoc-crm/>\n",
    "PREFIX skos: <http://www.w3.org/2004/02/skos/core#>\n",
    "\n",
    "SELECT (COUNT(DISTINCT ?nmvw_actor) AS ?no_actor)\n",
    "WHERE{\n",
    "  GRAPH <https://pressingmatter.nl/NMVW/ccrdfobj.ttl>{\n",
    "  {?nmvw_acq crm:P24_transferred_title_of ?nmvw_object .\n",
    "   ?nmvw_acq crm:P23_transferred_title_from ?nmvw_actor .}\n",
    "  UNION\n",
    "  {\n",
    "    ?nmvw_prod crm:P14_carried_out_by ?nmvw_actor .\n",
    "    ?nmvw_object crm:P108i_was_produced_by ?nmvw_prod .\n",
    "  }\n",
    "  ?nmvw_object a crm:E22_Human-Made_Object .\n",
    "  }\n",
    "  ?nmvw_actor owl:sameAs ?bb_actor .\n",
    "}\n",
    "```\n",
    "\n",
    "> Note that, here we consider `production actor` too! "
   ]
  },
  {
   "cell_type": "markdown",
   "metadata": {},
   "source": [
    "1. **Initial+Surname Match**: 277 actor from NMVW dataset, has connection with at least one object's provenance from NMVW dataset and also have owl:sameAS link with Bronbeek actor.\n",
    "2. **Exact String Matching**: 117 actor from NMVW dataset, has connection with at least one object's provenance from NMVW dataset and also have owl:sameAS link with Bronbeek actor.\n",
    "3. **Surname Matching**: 2680 actor from NMVW dataset, has connection with at least one object's provenance from NMVW dataset and also have owl:sameAS link with Bronbeek actor.\n",
    "4. **Fuzzy String Matching**: 6779 actor from NMVW dataset, has connection with at least one object's provenance from NMVW dataset and also have owl:sameAS link with Bronbeek actor.\n",
    "5. **Deezy Match**: 87 actor from NMVW dataset, has connection with at least one object's provenance from NMVW dataset and also have owl:sameAS link with Bronbeek actor.\n"
   ]
  },
  {
   "cell_type": "markdown",
   "metadata": {},
   "source": [
    "# CQ 1b"
   ]
  },
  {
   "cell_type": "markdown",
   "metadata": {},
   "source": [
    "Query to generate [CQ1b_nmvw_obj.csv](CQ1b_nmvw_obj.csv)\n",
    "```\n",
    "PREFIX owl: <http://www.w3.org/2002/07/owl#>\n",
    "PREFIX crm: <http://www.cidoc-crm.org/cidoc-crm/>\n",
    "PREFIX skos: <http://www.w3.org/2004/02/skos/core#>\n",
    "\n",
    "SELECT ?nmvw_object ?nmvw_actor\n",
    "WHERE{\n",
    "  GRAPH <https://pressingmatter.nl/NMVW/ccrdfobj.ttl>{\n",
    "  {?nmvw_acq crm:P24_transferred_title_of ?nmvw_object .\n",
    "   ?nmvw_acq crm:P23_transferred_title_from ?nmvw_actor .}\n",
    "  UNION\n",
    "  {\n",
    "    ?nmvw_prod crm:P14_carried_out_by ?nmvw_actor .\n",
    "    ?nmvw_object crm:P108i_was_produced_by ?nmvw_prod .\n",
    "  }\n",
    "  ?nmvw_object a crm:E22_Human-Made_Object .\n",
    "  }\n",
    "  # removing \"onbeked / unknown\"\n",
    "  FILTER (?nmvw_actor != <https://hdl.handle.net/20.500.11840/pi4332>)\n",
    "}\n",
    "```"
   ]
  },
  {
   "cell_type": "code",
   "execution_count": null,
   "metadata": {},
   "outputs": [],
   "source": [
    "def cleanup(x: str):\n",
    "    return int(str(x).replace('\"', '').strip())\n",
    "\n",
    "import pandas as pd\n",
    "\n",
    "df1 = pd.read_csv(\"CQ1b_nmvw_obj.csv\")\n",
    "df1 = df1.map(lambda x: x.replace('\"', '').strip() if isinstance(x, str) else x)\n",
    "df1 = df1.iloc[: , :-1]\n",
    "df1.columns = ['nmvw_object', 'nmvw_actor']\n",
    "df1"
   ]
  },
  {
   "cell_type": "code",
   "execution_count": null,
   "metadata": {},
   "outputs": [],
   "source": [
    "# Group by 'nmvw_actor' and count unique 'nmvw_object' per group\n",
    "unique_counts = df1.groupby('nmvw_actor')['nmvw_object'].nunique()\n",
    "\n",
    "# Filter rows where 'nmvw_actor' has less than 2 unique 'nmvw_object'\n",
    "filtered_df = df1[df1['nmvw_actor'].isin(unique_counts[unique_counts > 1].index)]\n",
    "\n",
    "print(filtered_df['nmvw_object'].nunique())"
   ]
  },
  {
   "cell_type": "markdown",
   "metadata": {},
   "source": [
    "> out of 446,310 unique objects who have connection with actor, 444,517 can be linked with at least one other objects"
   ]
  },
  {
   "cell_type": "markdown",
   "metadata": {},
   "source": [
    "Generate [CQ1b_bb_obj.csv](CQ1b_bb_obj.csv)\n",
    "\n",
    "```\n",
    "PREFIX owl: <http://www.w3.org/2002/07/owl#>\n",
    "PREFIX crm: <http://www.cidoc-crm.org/cidoc-crm/>\n",
    "PREFIX skos: <http://www.w3.org/2004/02/skos/core#>\n",
    "\n",
    "SELECT ?nmvw_actor (COUNT(DISTINCT ?bb_object) AS ?n_bb_object) \n",
    "WHERE{\n",
    "    ?nmvw_actor owl:sameAs ?bb_actor .\n",
    "    #acquisition event\n",
    "    {\n",
    "    \t?bb_acq crm:P23_transferred_title_from ?bb_actor .   \n",
    "    \t?bb_acq crm:P24_transferred_title_of ?bb_object .\n",
    "    }\n",
    "  UNION\n",
    "    {\n",
    "      \t?bb_object crm:P51_has_former_or_current_owner ?bb_actor .\n",
    "    }\n",
    "  GRAPH <https://pressingmatter.nl/Bronbeek/Objects/Objects/assertion/bad21d24/2024-03-01T12:54>{\n",
    "    ?bb_object a crm:E22_Human-Made_Object .\n",
    "    }\n",
    "} GROUP BY ?nmvw_actor\n",
    "```"
   ]
  },
  {
   "cell_type": "code",
   "execution_count": null,
   "metadata": {},
   "outputs": [],
   "source": [
    "def cleanup(x: str):\n",
    "    return int(str(x).replace('\"', '').strip())\n",
    "\n",
    "import pandas as pd\n",
    "\n",
    "df2 = pd.read_csv(\"CQ1b_bb_obj.csv\")\n",
    "df2 = df2.map(lambda x: x.replace('\"', '').strip() if isinstance(x, str) else x)\n",
    "# df2 = df2.iloc[: , :-1]\n",
    "df2.columns = [\"nmvw_actor\", \"bb_object\" ]\n",
    "df2['bb_object'] = df2['bb_object'].apply(cleanup)\n",
    "\n",
    "df2 = df2[df2['nmvw_actor'].isin(df1['nmvw_actor'])]\n",
    "\n",
    "df2[\"bb_object\"].sum()"
   ]
  },
  {
   "cell_type": "code",
   "execution_count": null,
   "metadata": {},
   "outputs": [],
   "source": [
    "print(f\"The number of actor contributing to this object count is: {df2['nmvw_actor'].nunique()}\")"
   ]
  },
  {
   "cell_type": "markdown",
   "metadata": {},
   "source": [
    "> does any of the actor who have only one object, now have more than one connected object due to the connection of bronbeek,"
   ]
  },
  {
   "cell_type": "code",
   "execution_count": null,
   "metadata": {},
   "outputs": [],
   "source": [
    "df2[df2['nmvw_actor'].isin(unique_counts[unique_counts == 1].index)]['nmvw_actor'].nunique()"
   ]
  },
  {
   "cell_type": "code",
   "execution_count": null,
   "metadata": {},
   "outputs": [],
   "source": [
    "310 + 15"
   ]
  },
  {
   "cell_type": "markdown",
   "metadata": {},
   "source": [
    "# CQ 1c"
   ]
  },
  {
   "cell_type": "markdown",
   "metadata": {},
   "source": [
    "How many possible object to object connection we have, by establishing links via actor?"
   ]
  },
  {
   "cell_type": "markdown",
   "metadata": {},
   "source": [
    "Generate [CQ1b_nmvw_obj.csv](CQ1b_nmvw_obj.csv)\n",
    "\n",
    "```\n",
    "PREFIX owl: <http://www.w3.org/2002/07/owl#>\n",
    "PREFIX crm: <http://www.cidoc-crm.org/cidoc-crm/>\n",
    "PREFIX skos: <http://www.w3.org/2004/02/skos/core#>\n",
    "\n",
    "SELECT (COUNT(DISTINCT ?nmvw_object) AS ?n_nmvw_object) ?nmvw_actor\n",
    "WHERE{\n",
    "  GRAPH <https://pressingmatter.nl/NMVW/ccrdfobj.ttl>{\n",
    "  {?nmvw_acq crm:P24_transferred_title_of ?nmvw_object .\n",
    "   ?nmvw_acq crm:P23_transferred_title_from ?nmvw_actor .}\n",
    "  UNION\n",
    "  {\n",
    "    ?nmvw_prod crm:P14_carried_out_by ?nmvw_actor .\n",
    "    ?nmvw_object crm:P108i_was_produced_by ?nmvw_prod .\n",
    "  }\n",
    "  ?nmvw_object a crm:E22_Human-Made_Object .\n",
    "  }\n",
    "  # removing \"onbeked / unknown\"\n",
    "  FILTER (?nmvw_actor != <https://hdl.handle.net/20.500.11840/pi4332>)\n",
    "}GROUP BY ?nmvw_actor\n",
    "```\n",
    "\n",
    "> Note: https://hdl.handle.net/20.500.11840/pi40292 / \"Stichting Indisch Wetenschappelijk Instituut\" generate 69382 object connection but keeping this for now. "
   ]
  },
  {
   "cell_type": "code",
   "execution_count": null,
   "metadata": {},
   "outputs": [],
   "source": [
    "def cleanup(x: str):\n",
    "    return int(str(x).replace('\"', '').strip())\n",
    "\n",
    "import math\n",
    "\n",
    "def calculate_combinations(total_objects):\n",
    "    combination_value = math.factorial(total_objects) // (math.factorial(2) * math.factorial(total_objects - 2))\n",
    "    return combination_value\n",
    "\n",
    "import pandas as pd\n",
    "\n",
    "df1 = pd.read_csv(\"CQ1b_nmvw_obj.csv\")\n",
    "df1 = df1.iloc[: , :-1]\n",
    "df1.columns = ['n_nmvw_object', 'nmvw_actor']\n",
    "df1['n_nmvw_object'] = df1['n_nmvw_object'].apply(cleanup)\n",
    "df1 = df1[df1.n_nmvw_object != 1]\n",
    "df1 = df1.sort_values(by=['n_nmvw_object'], ascending=False)\n",
    "df1['possible_connections'] = df1['n_nmvw_object'].apply(calculate_combinations)\n",
    "df1['possible_connections'].sum()\n"
   ]
  },
  {
   "cell_type": "code",
   "execution_count": null,
   "metadata": {},
   "outputs": [],
   "source": [
    "df1"
   ]
  },
  {
   "cell_type": "markdown",
   "metadata": {},
   "source": [
    "How many object to object connection we have, by establishing links via actor when we also add objects from bronbeek via the owl:sameAs connection? \n",
    "\n",
    "Generate [CQ1b_bb_obj.csv](CQ1b_bb_obj.csv)\n",
    "SPARQL QUERY:\n",
    "```\n",
    "PREFIX owl: <http://www.w3.org/2002/07/owl#>\n",
    "PREFIX crm: <http://www.cidoc-crm.org/cidoc-crm/>\n",
    "PREFIX skos: <http://www.w3.org/2004/02/skos/core#>\n",
    "\n",
    "SELECT ?nmvw_actor (COUNT(DISTINCT ?bb_object) AS ?n_bb_object) \n",
    "WHERE{\n",
    "    ?nmvw_actor owl:sameAs ?bb_actor .\n",
    "    #acquisition event\n",
    "    {\n",
    "    \t?bb_acq crm:P23_transferred_title_from ?bb_actor .   \n",
    "    \t?bb_acq crm:P24_transferred_title_of ?bb_object .\n",
    "    }\n",
    "  UNION\n",
    "    {\n",
    "      \t?bb_object crm:P51_has_former_or_current_owner ?bb_actor .\n",
    "    }\n",
    "  GRAPH <https://pressingmatter.nl/Bronbeek/Objects/Objects/assertion/bad21d24/2024-03-01T12:54>{\n",
    "    ?bb_object a crm:E22_Human-Made_Object .\n",
    "    }\n",
    "} GROUP BY ?nmvw_actor\n",
    "\n",
    "```"
   ]
  },
  {
   "cell_type": "code",
   "execution_count": null,
   "metadata": {},
   "outputs": [],
   "source": [
    "import pandas as pd\n",
    "\n",
    "def cleanup(x: str):\n",
    "    return int(str(x).replace('\"', '').strip())\n",
    "\n",
    "import math\n",
    "\n",
    "def calculate_combinations(total_objects):\n",
    "    combination_value = math.factorial(total_objects) // (math.factorial(2) * math.factorial(total_objects - 2))\n",
    "    return combination_value\n",
    "\n",
    "import pandas as pd\n",
    "\n",
    "df2 = pd.read_csv(\"CQ1b_bb_obj.csv\")\n",
    "df2 = df2.iloc[: , :-1]\n",
    "df2.columns = [\"nmvw_actor\" , \"n_bb_object\"]\n",
    "df2['n_bb_object'] = df2['n_bb_object'].apply(cleanup)\n",
    "df2 = df2.sort_values(by=['n_bb_object'], ascending=False)\n",
    "df2\n"
   ]
  },
  {
   "cell_type": "code",
   "execution_count": null,
   "metadata": {},
   "outputs": [],
   "source": [
    "# Merge the dataframes on 'nmvw_actor'\n",
    "merged_df = pd.merge(df1, df2, on='nmvw_actor', how='left')\n",
    "merged_df['n_bb_object'] = merged_df['n_bb_object'].fillna(0)\n",
    "\n",
    "# Add the 'n_nmvw_object' and 'n_bb_object' columns where 'nmvw_actor' matches\n",
    "merged_df['combined_values'] = merged_df['n_nmvw_object'] + merged_df['n_bb_object']\n",
    "\n",
    "merged_df['possible_connections'] = merged_df['combined_values'].apply(calculate_combinations)\n",
    "merged_df['possible_connections'].sum()"
   ]
  },
  {
   "cell_type": "markdown",
   "metadata": {},
   "source": [
    "# CQ 2"
   ]
  },
  {
   "cell_type": "markdown",
   "metadata": {},
   "source": [
    "SPARQL Query:\n",
    "```\n",
    "PREFIX owl: <http://www.w3.org/2002/07/owl#>\n",
    "PREFIX crm: <http://www.cidoc-crm.org/cidoc-crm/>\n",
    "PREFIX skos: <http://www.w3.org/2004/02/skos/core#>\n",
    "PREFIX rdfs: <http://www.w3.org/2000/01/rdf-schema#>\n",
    "\n",
    "SELECT (COUNT(DISTINCT ?nmvw_object) AS ?n)\n",
    "WHERE{\n",
    "  Graph <https://pressingmatter.nl/NMVW/ccrdfobj.ttl>{\n",
    "    {\n",
    "     ?nmvw_acq crm:P23_transferred_title_from ?nmvw_actor .\n",
    "     ?nmvw_acq crm:P24_transferred_title_of ?nmvw_object .\n",
    "    }\n",
    "    UNION\n",
    "    {\n",
    "      ?nmvw_object crm:P108i_was_produced_by ?nmvw_prod .\n",
    "      ?nmvw_prod crm:P14_carried_out_by ?nmvw_actor .\n",
    "    }\n",
    "    ?nmvw_object  a crm:E22_Human-Made_Object .\n",
    "  }\n",
    "  ?nmvw_actor owl:sameAs ?bronbeek_actor .\n",
    "}\n",
    "```\n"
   ]
  },
  {
   "cell_type": "markdown",
   "metadata": {},
   "source": [
    "# CQ 3"
   ]
  },
  {
   "cell_type": "markdown",
   "metadata": {},
   "source": [
    "Generate [CQ3_nmvw_obj.csv](CQ3_nmvw_obj.csv)\n",
    "```\n",
    "PREFIX owl: <http://www.w3.org/2002/07/owl#>\n",
    "PREFIX crm: <http://www.cidoc-crm.org/cidoc-crm/>\n",
    "PREFIX skos: <http://www.w3.org/2004/02/skos/core#>\n",
    "\n",
    "SELECT *\n",
    "WHERE{\n",
    "  Graph <https://pressingmatter.nl/NMVW/ccrdfobj.ttl>{\n",
    "     ?nmvw_acq1 crm:P23_transferred_title_from ?nmvw_actor1 .\n",
    "     ?nmvw_acq1 crm:P24_transferred_title_of ?nmvw_object .\n",
    "    \n",
    "    ?nmvw_acq2 crm:P24_transferred_title_of ?nmvw_object .\n",
    "    ?nmvw_acq2 crm:P23_transferred_title_from ?nmvw_actor2 .\n",
    "    \n",
    "    Filter (?nmvw_actor1!= ?nmvw_actor2)\n",
    "   }\n",
    "}\n",
    "```"
   ]
  },
  {
   "cell_type": "code",
   "execution_count": null,
   "metadata": {},
   "outputs": [],
   "source": [
    "import pandas as pd\n",
    "\n",
    "df1 = pd.read_csv(\"CQ3_nmvw_obj.csv\")\n",
    "df1 = df1.map(lambda x: x.replace('\"', '').strip() if isinstance(x, str) else x)\n",
    "df1 = df1.iloc[: , :-1]\n",
    "df1.columns = [\"nmvw_acq1\" , \"nmvw_actor1\" , \"nmvw_object\" , \"nmvw_acq2\" , \"nmvw_actor2\"]\n",
    "\n",
    "pairs = set(frozenset(pair) for pair in zip(df1['nmvw_actor1'], df1['nmvw_actor2']))\n",
    "df1 = pd.DataFrame(pairs, columns=['nmvw_actor1', 'nmvw_actor2'])\n",
    "\n",
    "print(f\"Unique two person's pair in nmvw dataset is: {len(df1)}\")"
   ]
  },
  {
   "cell_type": "markdown",
   "metadata": {},
   "source": [
    "generate [CQ3_bb_obj.csv](CQ3_bb_obj.csv)\n",
    "\n",
    "```\n",
    "SELECT * WHERE{\n",
    "     ?bb_acq1 crm:P23_transferred_title_from ?bb_actor1 .\n",
    "     ?bb_acq1 crm:P24_transferred_title_of ?bb_object .\n",
    "    \n",
    "    ?bb_acq2 crm:P24_transferred_title_of ?bb_object .\n",
    "    ?bb_acq2 crm:P23_transferred_title_from ?bb_actor2 .\n",
    "\n",
    "    Filter (?bb_actor1!= ?bb_actor2)\n",
    "Graph <https://pressingmatter.nl/Bronbeek/Objects/Objects/assertion/bad21d24/2024-03-01T12:54>{\n",
    "        ?bb_object a crm:E22_Human-Made_Object.\n",
    "   }\n",
    "}\n",
    "```"
   ]
  },
  {
   "cell_type": "code",
   "execution_count": null,
   "metadata": {},
   "outputs": [],
   "source": [
    "import pandas as pd\n",
    "\n",
    "df2 = pd.read_csv(\"CQ3_bb_obj.csv\")\n",
    "# df2 = df2.iloc[: , :-1]\n",
    "df2.columns = [  \"bb_acq1\" , \"bb_actor1\" , \"bb_object\" , \"bb_acq2\" , \"bb_actor2\"]\n",
    "\n",
    "pairs = set(frozenset(pair) for pair in zip(df2['bb_actor1'], df2['bb_actor2']))\n",
    "df2 = pd.DataFrame(pairs, columns=['bb_actor1', 'bb_actor2'])\n",
    "\n",
    "print(f\"Unique two person's pair in bronbeek dataset is: {len(df2)}\")\n"
   ]
  },
  {
   "cell_type": "markdown",
   "metadata": {},
   "source": [
    "Download the match results in [sameAs.csv](sameAs.csv)\n",
    "\n",
    "SPARQL QUERY:\n",
    "```\n",
    "PREFIX owl: <http://www.w3.org/2002/07/owl#>\n",
    "SELECT * WHERE{\n",
    "  ?nmwv_actor owl:sameAs ?bb_actor .\n",
    "}\n",
    "```"
   ]
  },
  {
   "cell_type": "code",
   "execution_count": null,
   "metadata": {},
   "outputs": [],
   "source": [
    "match_df = pd.read_csv(\"sameAs.csv\")\n",
    "# match_df = match_df.iloc[:, :-1]\n",
    "match_df.columns = [ \"nmvw_actor\" , \"bb_actor\"]\n",
    "\n",
    "merged_df1 = df1.merge(match_df, left_on='nmvw_actor1', right_on='nmvw_actor', how='inner')\n",
    "merged_df2 = df1.merge(match_df, left_on='nmvw_actor2', right_on='nmvw_actor', how='inner')\n",
    "final_df = pd.concat([merged_df1, merged_df2])\n",
    "final_df = final_df.drop_duplicates()\n",
    "\n",
    "result_df1 = final_df.merge(df2, left_on='bb_actor', right_on='bb_actor1', how='inner')\n",
    "result_df2 = final_df.merge(df2, left_on='bb_actor', right_on='bb_actor2', how='inner')\n",
    "result_df = pd.concat([result_df2,result_df1])"
   ]
  },
  {
   "cell_type": "code",
   "execution_count": null,
   "metadata": {},
   "outputs": [],
   "source": [
    "pair_list = list()\n",
    "\n",
    "for _, row in result_df.iterrows():\n",
    "    if row['nmvw_actor1'] == row['nmvw_actor']:\n",
    "        x1 = row['nmvw_actor1']\n",
    "        x = row['nmvw_actor2']\n",
    "    else:\n",
    "        x = row['nmvw_actor1']\n",
    "\n",
    "    if row['bb_actor1'] == row['bb_actor']:\n",
    "        y =  row['bb_actor2']\n",
    "    else:\n",
    "        y =  row['bb_actor1']\n",
    "    \n",
    "    pair_list.append(frozenset((x,y)))\n",
    "    try:\n",
    "        pair_list.append(frozenset((x1,y)))\n",
    "    except NameError:\n",
    "        print(f\"{row['nmvw_actor1']} never apprears in sameAs\")\n",
    "\n",
    "pair_set = set(pair_list)\n",
    "pair_df = pd.DataFrame(pair_set, columns=['actor1', 'actor2'])\n",
    "\n",
    "print(f\"The number of new pairs of actor-to-actor connection added is: {len(pair_df)}\")"
   ]
  },
  {
   "cell_type": "code",
   "execution_count": null,
   "metadata": {},
   "outputs": [],
   "source": [
    "all_values = pd.concat([pair_df['actor1'], pair_df['actor2']])\n",
    "\n",
    "# Get unique values\n",
    "unique_values = all_values.unique()\n",
    "\n",
    "# Filter unique values that start with the specified prefix\n",
    "prefix = 'https://hdl.handle.net/'\n",
    "filtered_values = [value for value in unique_values if value.startswith(prefix)]\n",
    "\n",
    "print(f\"Unique NMVW actor: {len(filtered_values)}\")"
   ]
  },
  {
   "cell_type": "markdown",
   "metadata": {},
   "source": [
    "# CQ 4"
   ]
  },
  {
   "cell_type": "markdown",
   "metadata": {},
   "source": [
    "##### These are the objects, where we do not know it's production place, but do know the acqusuiton actor.\n",
    "> For 49152 object we did not know the production location\n",
    "\n",
    "```PREFIX owl: <http://www.w3.org/2002/07/owl#>\n",
    "PREFIX crm: <http://www.cidoc-crm.org/cidoc-crm/>\n",
    "PREFIX skos: <http://www.w3.org/2004/02/skos/core#>\n",
    "PREFIX rdf: <http://www.w3.org/1999/02/22-rdf-syntax-ns#>\n",
    "\n",
    "SELECT (COUNT(DISTINCT ?nmvw_obj) AS ?no_object) ?nmvw_actor\n",
    "WHERE{\n",
    " GRAPH <https://pressingmatter.nl/NMVW/ccrdfobj.ttl>{\n",
    "    ?nmvw_acq crm:P23_transferred_title_from ?nmvw_actor.\n",
    "    ?nmvw_acq crm:P24_transferred_title_of ?nmvw_obj .\n",
    "    ?nmvw_obj crm:P108i_was_produced_by ?nmvw_prod .\n",
    "    FILTER NOT EXISTS {\n",
    "      ?nmvw_prod crm:P7_took_place_at ?nmvw_prod_place.}\n",
    "    }\n",
    "} GROUP BY ?nmvw_actor ```"
   ]
  },
  {
   "cell_type": "markdown",
   "metadata": {},
   "source": [
    "##### These are the objects, where we DO KNOW it's production place, and acqusuiton actor.\n",
    "> For 457722 object, we did not know the production location\n",
    "```\n",
    "PREFIX owl: <http://www.w3.org/2002/07/owl#>\n",
    "PREFIX crm: <http://www.cidoc-crm.org/cidoc-crm/>\n",
    "PREFIX skos: <http://www.w3.org/2004/02/skos/core#>\n",
    "PREFIX rdf: <http://www.w3.org/1999/02/22-rdf-syntax-ns#>\n",
    "\n",
    "SELECT (COUNT(DISTINCT ?nmvw_obj) AS ?no_object) (COUNT(DISTINCT ?nmvw_prod_place) AS ?no_place) ?nmvw_actor\n",
    "WHERE{\n",
    " GRAPH <https://pressingmatter.nl/NMVW/ccrdfobj.ttl>{\n",
    "     ?nmvw_acq crm:P23_transferred_title_from ?nmvw_actor.\n",
    "      ?nmvw_acq crm:P24_transferred_title_of ?nmvw_obj .\n",
    "      ?nmvw_obj crm:P108i_was_produced_by ?nmvw_prod .\n",
    "     ?nmvw_prod crm:P7_took_place_at ?nmvw_prod_place.\n",
    "    }\n",
    "} GROUP BY ?nmvw_actor \n",
    "```\n",
    "\n",
    "> If we connect them with acqusistion_actor, for 45756 objects we can prioritise possible location ."
   ]
  },
  {
   "cell_type": "code",
   "execution_count": null,
   "metadata": {},
   "outputs": [],
   "source": [
    "import pandas as pd\n",
    "\n",
    "df1 = pd.read_csv(\"CQ4_nmvw_object_place_unknown.csv\")\n",
    "df1 = df1.map(lambda x: x.replace('\"', '').strip() if isinstance(x, str) else x)\n",
    "df2 = pd.read_csv(\"CQ4_nmvw_object_place_known.csv\")\n",
    "df2 = df2.map(lambda x: x.replace('\"', '').strip() if isinstance(x, str) else x)"
   ]
  },
  {
   "cell_type": "code",
   "execution_count": null,
   "metadata": {},
   "outputs": [],
   "source": [
    "merged_df = pd.merge(df1, df2, on='nmvw_actor', how='inner')\n",
    "print(f\"From nmvw dataset, we have {merged_df['no_object_x'].sum()} objects where they are connected to actor whose at least one object has known production location.\")"
   ]
  },
  {
   "cell_type": "markdown",
   "metadata": {},
   "source": [
    "##### Object connected to Bronbeek actors that as sameAs Links with NMVW\n",
    "\n",
    "Query to generate [CQ4_bb_object.csv](CQ4_bb_object.csv):\n",
    "\n",
    "```\n",
    "PREFIX owl: <http://www.w3.org/2002/07/owl#>\n",
    "PREFIX crm: <http://www.cidoc-crm.org/cidoc-crm/>\n",
    "PREFIX skos: <http://www.w3.org/2004/02/skos/core#>\n",
    "PREFIX rdf: <http://www.w3.org/1999/02/22-rdf-syntax-ns#>\n",
    "\n",
    "SELECT (COUNT(DISTINCT ?bb_obj) AS ?no_object) ?bb_actor\n",
    "WHERE{\n",
    "    ?nmvw_actor owl:sameAs ?bb_actor .\n",
    "    {?bb_acq crm:P23_transferred_title_from ?bb_actor .\t\n",
    "    ?bb_acq crm:P24_transferred_title_of ?bb_obj .}\n",
    "    UNION{\n",
    "          ?bb_obj crm:P51_has_former_or_current_owner ?bb_actor .\n",
    "}\n",
    "\n",
    " GRAPH <https://pressingmatter.nl/Bronbeek/Objects/Objects/assertion/bad21d24/2024-03-01T12:54>{\n",
    "    ?bb_obj a crm:E22_Human-Made_Object. }\n",
    "} GROUP BY ?bb_actor \n",
    "```"
   ]
  },
  {
   "cell_type": "code",
   "execution_count": null,
   "metadata": {},
   "outputs": [],
   "source": [
    "def cleanup(x: str):\n",
    "    return int(str(x).replace('\"', '').strip())\n",
    "\n",
    "df3 = pd.read_csv(\"CQ4_bb_object.csv\")\n",
    "df3 = df3.map(lambda x: x.replace('\"', '').strip() if isinstance(x, str) else x)\n",
    "# df3 = df3.iloc[: , :-1]\n",
    "df3.columns = [\"no_object\" , \"bb_actor\"]\n",
    "df3['no_object'] = df3['no_object'].apply(cleanup)\n",
    "print(f\"From bronbeek dataset, we have {df3['no_object'].sum()} objects that are connected with an actor who have owl:sameAs link to nmvw dataset\")"
   ]
  },
  {
   "cell_type": "markdown",
   "metadata": {},
   "source": [
    "Generate query for [sameAs.csv](sameAs.csv)\n",
    "```\n",
    "SELECT * WHERE{\n",
    "    ?nmvw_acotr owl:sameAs ?bb_actor .\n",
    "}```"
   ]
  },
  {
   "cell_type": "code",
   "execution_count": null,
   "metadata": {},
   "outputs": [],
   "source": [
    "df4 = pd.read_csv(\"sameAs.csv\")\n",
    "df4 = df4.map(lambda x: x.replace('\"', '').strip() if isinstance(x, str) else x)\n",
    "# df4 = df4.iloc[: , :-1]\n",
    "df4.columns = ['nmvw_actor' , 'bb_actor']"
   ]
  },
  {
   "cell_type": "code",
   "execution_count": null,
   "metadata": {},
   "outputs": [],
   "source": [
    "merged_df = pd.merge(df3, df4, on='bb_actor', how='inner')\n",
    "# when there is multiple match on the bb actor, only kept the first match\n",
    "merged_df = merged_df.drop_duplicates(subset='bb_actor')\n",
    "merged_df = pd.merge(merged_df, df2, on='nmvw_actor', how='inner')\n",
    "merged_df['no_object_x'].sum()"
   ]
  },
  {
   "cell_type": "code",
   "execution_count": null,
   "metadata": {},
   "outputs": [],
   "source": [
    "print(f\"Total actor involved: {merged_df['nmvw_actor'].nunique()}\")"
   ]
  },
  {
   "cell_type": "code",
   "execution_count": null,
   "metadata": {},
   "outputs": [],
   "source": [
    "240 + 45756"
   ]
  },
  {
   "cell_type": "markdown",
   "metadata": {},
   "source": [
    "- **Exact String match:** Now for 0 bronbeek object, we can potentially project possible location.\n",
    "- **Initial+surname match:** Now for 1841 bronbeek objects, we can potentially project possible location.\n",
    "- **Surname match:** Now for 12776 bronbeek objects, we can potentially project possible location.\n",
    "- **Fuzzy String match:** Now for 16503 bronbeek objects, we can potentially project possible location."
   ]
  },
  {
   "cell_type": "markdown",
   "metadata": {},
   "source": [
    "# CQ-5"
   ]
  },
  {
   "cell_type": "markdown",
   "metadata": {},
   "source": [
    "```\n",
    "PREFIX crm: <http://www.cidoc-crm.org/cidoc-crm/>\n",
    "\n",
    "SELECT (AVG(?n) AS ?avg) WHERE\n",
    "{\n",
    "  SELECT (COUNT(DISTINCT ?nmvw_obj) AS ?n) \n",
    "  WHERE{\n",
    "      GRAPH <https://pressingmatter.nl/NMVW/ccrdfhiseve.ttl>{\n",
    "      ?histevet a crm:E7_Activity .\n",
    "      ?histevet crm:P140i_was_attributed_by ?o .\n",
    "      ?histevet  crm:P1_is_identified_by ?title .\n",
    "      ?histevet crm:P4_has_time-span [crm:P82a_begin_of_the_begin ?histevet_btime;\n",
    "                                       crm:P82b_end_of_the_end ?histevet_etime] .\n",
    "      ?title crm:P190_has_symbolic_content ?histevet_name .\n",
    "      ?o a crm:E13_Attribute_Assignment .\n",
    "      ?o crm:P141_assigned ?nmvw_obj .\n",
    "    } \n",
    "    ?nmvw_obj a crm:E22_Human-Made_Object .\n",
    "}GROUP BY ?histevet\n",
    "}\n",
    "```\n",
    "> Average object per event: 261.941 with 51 event"
   ]
  },
  {
   "cell_type": "markdown",
   "metadata": {},
   "source": [
    "Query to download ([CQ5_nmvw.csv](CQ5_nmvw.csv))\n",
    "\n",
    "```\n",
    "PREFIX crm: <http://www.cidoc-crm.org/cidoc-crm/>\n",
    "PREFIX owl: <http://www.w3.org/2002/07/owl#>\n",
    "\n",
    "SELECT ?histevet ?histevet_btime ?histevet_etime ?nmvw_obj ?nmvw_actor \n",
    "  WHERE{\n",
    "      GRAPH <https://pressingmatter.nl/NMVW/ccrdfhiseve.ttl>{\n",
    "      ?histevet a crm:E7_Activity .\n",
    "      ?histevet crm:P140i_was_attributed_by ?o .\n",
    "      ?histevet  crm:P1_is_identified_by ?title .\n",
    "      ?histevet crm:P4_has_time-span [crm:P82a_begin_of_the_begin ?histevet_btime;\n",
    "                                       crm:P82b_end_of_the_end ?histevet_etime] .\n",
    "      ?title crm:P190_has_symbolic_content ?histevet_name .\n",
    "      ?o a crm:E13_Attribute_Assignment .\n",
    "      ?o crm:P141_assigned ?nmvw_obj .\n",
    "    } \n",
    "    ?nmvw_obj a crm:E22_Human-Made_Object .\n",
    "    ?nmvw_acq crm:P24_transferred_title_of ?nmvw_obj .\n",
    "    ?nmvw_acq crm:P23_transferred_title_from ?nmvw_actor .\t\n",
    "  \t?nmvw_actor owl:sameAs ?bb_actor .\n",
    "}\n",
    "```"
   ]
  },
  {
   "cell_type": "markdown",
   "metadata": {},
   "source": [
    "```\n",
    "PREFIX crm: <http://www.cidoc-crm.org/cidoc-crm/>\n",
    "PREFIX owl: <http://www.w3.org/2002/07/owl#>\n",
    "\n",
    "SELECT ?histevet ?histevet_btime ?histevet_etime ?nmvw_obj ?nmvw_actor \n",
    "  WHERE{\n",
    "    ?nmvw_actor owl:sameAs ?bb_actor .\n",
    "    ?nmvw_acq crm:P23_transferred_title_from ?nmvw_actor .\t\n",
    "    ?nmvw_acq crm:P24_transferred_title_of ?nmvw_obj .\n",
    "    ?nmvw_obj a crm:E22_Human-Made_Object .\n",
    "  GRAPH <https://pressingmatter.nl/NMVW/ccrdfhiseve.ttl>{\n",
    "    ?o crm:P141_assigned ?nmvw_obj .\n",
    "    ?o a crm:E13_Attribute_Assignment .\n",
    "    ?histevet crm:P140i_was_attributed_by ?o .\n",
    "    ?histevet a crm:E7_Activity .\n",
    "    ?histevet  crm:P1_is_identified_by ?title .\n",
    "    ?histevet crm:P4_has_time-span [crm:P82a_begin_of_the_begin ?histevet_btime;\n",
    "                                       crm:P82b_end_of_the_end ?histevet_etime] .\n",
    "    ?title crm:P190_has_symbolic_content ?histevet_name .      \n",
    "    } \n",
    "}\n",
    "```"
   ]
  },
  {
   "cell_type": "code",
   "execution_count": null,
   "metadata": {},
   "outputs": [],
   "source": [
    "import pandas as pd\n",
    "\n",
    "def cleanup_time(x: str):\n",
    "    # print(type(x))\n",
    "    return int(str(x).replace('\"', '').strip()[:4])\n",
    "\n",
    "df1 = pd.read_csv(\"CQ5_nmvw.csv\")\n",
    "df1 = df1.map(lambda x: x.replace('\"', '').strip() if isinstance(x, str) else x)\n",
    "df1 = df1.iloc[: , :-1]\n",
    "df1.columns = [ \"histevet\" , \"histevet_btime\" , \"histevet_etime\" , \"nmvw_obj\" , \"nmvw_actor\"]\n",
    "df1['histevet_btime'] = df1['histevet_btime'].apply(cleanup_time)\n",
    "df1['histevet_etime'] = df1['histevet_etime'].apply(cleanup_time)"
   ]
  },
  {
   "cell_type": "code",
   "execution_count": null,
   "metadata": {},
   "outputs": [],
   "source": [
    "print(f\"Total distinct obj:{df1['nmvw_obj'].nunique()} \\nTotal distinct actor: {df1['nmvw_actor'].nunique()}\\nAvg object: {df1['nmvw_obj'].nunique()/df1['nmvw_actor'].nunique()}\")"
   ]
  },
  {
   "cell_type": "code",
   "execution_count": null,
   "metadata": {},
   "outputs": [],
   "source": [
    "# drop the nmvw_obj\n",
    "df1 = df1.drop(['nmvw_obj'], axis=1)\n",
    "# Remove duplicate actor to event connections\n",
    "df1 = df1.drop_duplicates()\n",
    "df1"
   ]
  },
  {
   "cell_type": "markdown",
   "metadata": {},
   "source": [
    "Query to generate [CQ5_bb.csv](CQ5_bb.csv)\n",
    "\n",
    "```\n",
    "PREFIX owl: <http://www.w3.org/2002/07/owl#>\n",
    "PREFIX crm: <http://www.cidoc-crm.org/cidoc-crm/>\n",
    "PREFIX skos: <http://www.w3.org/2004/02/skos/core#>\n",
    "PREFIX rdf: <http://www.w3.org/1999/02/22-rdf-syntax-ns#>\n",
    "PREFIX aat: <http://vocab.getty.edu/aat/>\n",
    "\n",
    "SELECT ?bb_obj ?bb_actor ?nmvw_actor ?b_time ?e_time\n",
    "WHERE{\n",
    "  \t?nmvw_actor owl:sameAs ?bb_actor .\n",
    "  \t?bb_acq2 crm:P23_transferred_title_from ?bb_actor . \n",
    "  \t?bb_acq2 crm:P24_transferred_title_of ?bb_obj .\n",
    "    ?prov_activity  crm:P9_consists_of ?bb_acq2 .\n",
    "    ?prov_activity crm:P2_has_type aat:300055863 .\n",
    "  \t\n",
    "    ?prov_activity crm:P9_consists_of ?bb_acq .\n",
    "  \t?bb_acq crm:P24_transferred_title_of ?bb_obj .\n",
    "\t  ?bb_acq crm:P4_has_time-span ?time .\n",
    "  \t?time crm:P82a_begin_of_the_begin ?b_time .\n",
    "    ?time crm:P82b_end_of_the_end ?e_time.\n",
    "  FILTER (?bb_acq != ?bb_acq2) .\n",
    "\n",
    "GRAPH <https://pressingmatter.nl/Bronbeek/Objects/Objects/assertion/bad21d24/2024-03-01T12:54>{\n",
    "    ?bb_obj a crm:E22_Human-Made_Object. }\n",
    "}\n",
    "```"
   ]
  },
  {
   "cell_type": "code",
   "execution_count": null,
   "metadata": {},
   "outputs": [],
   "source": [
    "def cleanup_time(x: str):\n",
    "    # Check if x is not None and not an empty string\n",
    "    try:\n",
    "        if x == \"None\" :\n",
    "            return 0\n",
    "        if x and str(x).strip():\n",
    "            # Convert the cleaned string to an integer\n",
    "            return int(str(x).replace('\"', '').strip()[:4])\n",
    "    except ValueError:\n",
    "        return 0\n",
    "\n",
    "# Read the second CSV file into DataFrame df2\n",
    "df2 = pd.read_csv(\"CQ5_bb.csv\")\n",
    "df2 = df2.map(lambda x: x.replace('\"', '').strip() if isinstance(x, str) else x)\n",
    "\n",
    "# df2 = df2.iloc[: , :-1]\n",
    "df2.columns = [\"bb_obj\" , \"bb_actor\" , \"nmvw_actor\" , \"b_time\" , \"e_time\"]\n",
    "df2['b_time'] = df2['b_time'].apply(cleanup_time)\n",
    "df2['e_time'] = df2['e_time'].apply(cleanup_time)\n",
    "\n",
    "# Remove duplicate rows in df2\n",
    "df2 = df2.drop_duplicates() \n",
    "\n",
    "# remove bb_actor matched to multiple nmvw_actor\n",
    "# df2 = df2.drop_duplicates(subset=['bb_obj'])\n",
    "\n",
    "# Extract unique 'nmvw_actor' values from df2\n",
    "unique_nmvw_actor = df1['nmvw_actor'].unique()\n",
    "\n",
    "# Filter df2 to keep only rows where 'nmvw_actor' exists in df2\n",
    "df2= df2[df2['nmvw_actor'].isin(unique_nmvw_actor)]\n",
    "\n",
    "df2 = df2.sort_values('bb_actor')\n",
    "\n",
    "df2"
   ]
  },
  {
   "cell_type": "code",
   "execution_count": null,
   "metadata": {},
   "outputs": [],
   "source": [
    "print(f\"{df2['bb_obj'].nunique()} object has connection with actors where actor has connection with historical event with {df2['nmvw_actor'].nunique()} unique actor\")"
   ]
  },
  {
   "cell_type": "code",
   "execution_count": null,
   "metadata": {},
   "outputs": [],
   "source": [
    "35391 + 13359"
   ]
  },
  {
   "cell_type": "markdown",
   "metadata": {},
   "source": [
    "# CQ-6a"
   ]
  },
  {
   "cell_type": "markdown",
   "metadata": {},
   "source": [
    "Query to generate [CQ6a_nmvw.csv](CQ6a_nmvw.csv): \n",
    "\n",
    "```\n",
    "PREFIX owl: <http://www.w3.org/2002/07/owl#>\n",
    "PREFIX crm: <http://www.cidoc-crm.org/cidoc-crm/>\n",
    "PREFIX skos: <http://www.w3.org/2004/02/skos/core#>\n",
    "PREFIX rdf: <http://www.w3.org/1999/02/22-rdf-syntax-ns#>\n",
    "PREFIX aat: <http://vocab.getty.edu/aat/>\n",
    "\n",
    "SELECT ?nmvw_obj ?nmvw_actor ?b_time ?e_time\n",
    "WHERE{\n",
    " GRAPH <https://pressingmatter.nl/NMVW/ccrdfobj.ttl>{\n",
    "     ?nmvw_acq crm:P23_transferred_title_from ?nmvw_actor.\n",
    "     ?nmvw_acq crm:P24_transferred_title_of ?nmvw_obj .\n",
    "     ?prov_activity ?p ?nmvw_acq.\n",
    "     ?prov_activity crm:P2_has_type aat:300055863 .\n",
    "     ?prov_activity crm:P4_has_time-span ?time .\n",
    "     ?time crm:P82a_begin_of_the_begin ?b_time .\n",
    "     ?time crm:P82b_end_of_the_end ?e_time.\n",
    "    }\n",
    "}\n",
    "```"
   ]
  },
  {
   "cell_type": "code",
   "execution_count": null,
   "metadata": {},
   "outputs": [],
   "source": [
    "def cleanup_time(x: str):\n",
    "    return int(str(x).replace('\"', '').strip()[-4:])\n",
    "\n",
    "import pandas as pd\n",
    "\n",
    "df1 = pd.read_csv(\"CQ6a_nmvw.csv\")\n",
    "df1 = df1.map(lambda x: x.replace('\"', '').strip() if isinstance(x, str) else x)\n",
    "df1 = df1.iloc[: , :-1]\n",
    "\n",
    "df1.columns = ['nmvw_obj', 'nmvw_actor', 'b_time', 'e_time']\n",
    "df1['b_time'] = df1['b_time'].apply(cleanup_time)\n",
    "df1['e_time'] = df1['e_time'].apply(cleanup_time)\n",
    "df1"
   ]
  },
  {
   "cell_type": "code",
   "execution_count": null,
   "metadata": {},
   "outputs": [],
   "source": [
    "grouped_df = df1.groupby(['nmvw_actor', 'b_time', 'e_time'])['nmvw_obj'].nunique().reset_index()\n",
    "grouped_df = grouped_df.sort_values(by='nmvw_obj', ascending=False)\n",
    "grouped_df = grouped_df[grouped_df['nmvw_obj'] != 1]\n",
    "print(f\"Number of objects that can be connected with at least one other object \\nbased on they are connected by same actor during similar time is: {grouped_df['nmvw_obj'].sum()}\")"
   ]
  },
  {
   "cell_type": "markdown",
   "metadata": {},
   "source": [
    "Query to generate: [CQ6a_bb.csv](CQ6a_bb.csv)\n",
    "\n",
    "```\n",
    "PREFIX owl: <http://www.w3.org/2002/07/owl#>\n",
    "PREFIX crm: <http://www.cidoc-crm.org/cidoc-crm/>\n",
    "PREFIX skos: <http://www.w3.org/2004/02/skos/core#>\n",
    "PREFIX rdf: <http://www.w3.org/1999/02/22-rdf-syntax-ns#>\n",
    "PREFIX aat: <http://vocab.getty.edu/aat/>\n",
    "\n",
    "SELECT ?bb_obj ?bb_actor ?nmvw_actor ?b_time ?e_time\n",
    "WHERE{\n",
    "  \t?nmvw_actor owl:sameAs ?bb_actor .\n",
    "  \t?bb_acq2 crm:P23_transferred_title_from ?bb_actor . \n",
    "  \t?bb_acq2 crm:P24_transferred_title_of ?bb_obj .\n",
    "    ?prov_activity  crm:P9_consists_of ?bb_acq2 .\n",
    "    ?prov_activity crm:P2_has_type aat:300055863 .\n",
    "  \t\n",
    "    ?prov_activity crm:P9_consists_of ?bb_acq .\n",
    "  \t?bb_acq crm:P24_transferred_title_of ?bb_obj .\n",
    "\t  ?bb_acq crm:P4_has_time-span ?time .\n",
    "  \t?time crm:P82a_begin_of_the_begin ?b_time .\n",
    "    ?time crm:P82b_end_of_the_end ?e_time.\n",
    "  FILTER (?bb_acq != ?bb_acq2) .\n",
    "\n",
    "GRAPH <https://pressingmatter.nl/Bronbeek/Objects/Objects/assertion/bad21d24/2024-03-01T12:54>{\n",
    "    ?bb_obj a crm:E22_Human-Made_Object. }\n",
    "}\n",
    "```"
   ]
  },
  {
   "cell_type": "code",
   "execution_count": null,
   "metadata": {},
   "outputs": [],
   "source": [
    "def cleanup_time(x: str):\n",
    "    # Check if x is not None and not an empty string\n",
    "    try:\n",
    "        if x == \"None\" :\n",
    "            return 0\n",
    "        if x and str(x).strip():\n",
    "            # Convert the cleaned string to an integer\n",
    "            return int(str(x).replace('\"', '').strip()[:4])\n",
    "    except ValueError:\n",
    "        return 0\n",
    "\n",
    "import pandas as pd\n",
    "\n",
    "df2 = pd.read_csv(\"CQ6a_bb.csv\")\n",
    "# df2 = df2.iloc[: , :-1]\n",
    "df2.columns = ['bb_obj', 'bb_actor', 'nmvw_actor', 'b_time', 'e_time']\n",
    "df2['b_time'] = df2['b_time'].apply(cleanup_time)\n",
    "df2['e_time'] = df2['e_time'].apply(cleanup_time)"
   ]
  },
  {
   "cell_type": "code",
   "execution_count": null,
   "metadata": {},
   "outputs": [],
   "source": [
    "def merge_with_condition(df1, df2):\n",
    "    merged_df = pd.merge(df1, df2, on='nmvw_actor', how='inner')\n",
    "    merged_df['time_diff_b'] = merged_df['b_time_y'] - merged_df['b_time_x']\n",
    "    merged_df['time_diff_e'] = merged_df['e_time_y'] - merged_df['e_time_x']\n",
    "    condition = (abs(merged_df['time_diff_b']) <= 20) & (abs(merged_df['time_diff_e']) <= 20)\n",
    "    return merged_df[condition]\n",
    "\n",
    "# Merge the dataframes based on the custom condition\n",
    "result_df = merge_with_condition(df1, df2)\n",
    "print(result_df.to_csv(index=False))\n",
    "print(\"Number of rows in result_df:\", len(result_df))"
   ]
  },
  {
   "cell_type": "code",
   "execution_count": null,
   "metadata": {},
   "outputs": [],
   "source": [
    "print(f\"Unique NMVW actor: {result_df['nmvw_actor'].nunique()}\")"
   ]
  },
  {
   "cell_type": "markdown",
   "metadata": {},
   "source": [
    "# CQ-6b"
   ]
  },
  {
   "cell_type": "markdown",
   "metadata": {},
   "source": [
    "Query to generate [CQ6b_nmvw.csv](CQ6b_nmvw.csv): \n",
    "\n",
    "```\n",
    "PREFIX owl: <http://www.w3.org/2002/07/owl#>\n",
    "PREFIX crm: <http://www.cidoc-crm.org/cidoc-crm/>\n",
    "PREFIX skos: <http://www.w3.org/2004/02/skos/core#>\n",
    "PREFIX rdf: <http://www.w3.org/1999/02/22-rdf-syntax-ns#>\n",
    "PREFIX aat: <http://vocab.getty.edu/aat/>\n",
    "\n",
    "SELECT ?nmvw_obj ?nmvw_actor ?b_time ?e_time\n",
    "WHERE{\n",
    " GRAPH <https://pressingmatter.nl/NMVW/ccrdfobj.ttl>{\n",
    "     ?nmvw_acq crm:P23_transferred_title_from ?nmvw_actor.\n",
    "     ?nmvw_acq crm:P24_transferred_title_of ?nmvw_obj .\n",
    "     ?prov_activity ?p ?nmvw_acq.\n",
    "     ?prov_activity crm:P2_has_type aat:300055863 .\n",
    "     OPTIONAL{\n",
    "             ?prov_activity crm:P4_has_time-span ?time .\n",
    "             ?time crm:P82a_begin_of_the_begin ?b_time .\n",
    "             ?time crm:P82b_end_of_the_end ?e_time.\n",
    "     }\n",
    "    }\n",
    "}\n",
    "```"
   ]
  },
  {
   "cell_type": "code",
   "execution_count": null,
   "metadata": {},
   "outputs": [],
   "source": [
    "def cleanup_time(x: str):\n",
    "    try:\n",
    "        return int(str(x).replace('\"', '').strip()[-4:])\n",
    "    except ValueError:\n",
    "        return None\n",
    "\n",
    "\n",
    "import pandas as pd\n",
    "\n",
    "df1 = pd.read_csv(\"CQ6b_nmvw.csv\")\n",
    "df1 = df1.map(lambda x: x.replace('\"', '').strip() if isinstance(x, str) else x)\n",
    "df1 = df1.iloc[: , :-1]\n",
    "df1.columns = ['nmvw_obj', 'nmvw_actor', 'b_time', 'e_time']\n",
    "df1['b_time'] = df1['b_time'].apply(cleanup_time)\n",
    "df1['e_time'] = df1['e_time'].apply(cleanup_time)\n",
    "df1"
   ]
  },
  {
   "cell_type": "code",
   "execution_count": null,
   "metadata": {},
   "outputs": [],
   "source": [
    "df1_time_known = df1.dropna(subset=['b_time', 'e_time'])\n",
    "\n",
    "grouped_all_df1 = df1.groupby(['nmvw_actor'])['nmvw_obj'].nunique().reset_index()\n",
    "grouped_all_df1 = grouped_all_df1.sort_values(by='nmvw_obj', ascending=False)\n",
    "\n",
    "grouped_known_df1 = df1_time_known.groupby(['nmvw_actor'])['nmvw_obj'].nunique().reset_index()\n",
    "grouped_known_df1 = grouped_known_df1.sort_values(by='nmvw_obj', ascending=False)\n",
    "\n",
    "merged_df1 = pd.merge(grouped_known_df1, grouped_all_df1, on='nmvw_actor', how='inner')\n",
    "merged_df1['obj_time_unknown'] = merged_df1['nmvw_obj_y'] - merged_df1['nmvw_obj_x']\n",
    "print(f\"The number of objects we can possibly project the time of acquisition is: {merged_df1['obj_time_unknown'].sum()}\")\n"
   ]
  },
  {
   "cell_type": "markdown",
   "metadata": {},
   "source": [
    "Query to generate: [CQ6b_bb.csv](CQ6b_bb.csv)\n",
    "\n",
    "```\n",
    "PREFIX owl: <http://www.w3.org/2002/07/owl#>\n",
    "PREFIX crm: <http://www.cidoc-crm.org/cidoc-crm/>\n",
    "PREFIX skos: <http://www.w3.org/2004/02/skos/core#>\n",
    "PREFIX rdf: <http://www.w3.org/1999/02/22-rdf-syntax-ns#>\n",
    "PREFIX aat: <http://vocab.getty.edu/aat/>\n",
    "\n",
    "SELECT ?bb_obj ?bb_actor ?nmvw_actor ?b_time ?e_time\n",
    "WHERE{\n",
    "  \t?nmvw_actor owl:sameAs ?bb_actor .\n",
    "  \t?bb_acq2 crm:P23_transferred_title_from ?bb_actor . \n",
    "  \t?bb_acq2 crm:P24_transferred_title_of ?bb_obj .\n",
    "    ?prov_activity  crm:P9_consists_of ?bb_acq2 .\n",
    "    ?prov_activity crm:P2_has_type aat:300055863 .\n",
    "  \t\n",
    "    ?prov_activity crm:P9_consists_of ?bb_acq .\n",
    "  \t?bb_acq crm:P24_transferred_title_of ?bb_obj .\n",
    "\t  ?bb_acq crm:P4_has_time-span ?time .\n",
    "  \t?time crm:P82a_begin_of_the_begin ?b_time .\n",
    "    ?time crm:P82b_end_of_the_end ?e_time.\n",
    "  FILTER (?bb_acq != ?bb_acq2) .\n",
    "\n",
    "GRAPH <https://pressingmatter.nl/Bronbeek/Objects/Objects/assertion/bad21d24/2024-03-01T12:54>{\n",
    "    ?bb_obj a crm:E22_Human-Made_Object. }\n",
    "}\n",
    "```"
   ]
  },
  {
   "cell_type": "code",
   "execution_count": null,
   "metadata": {},
   "outputs": [],
   "source": [
    "def cleanup_time(x: str):\n",
    "    # Check if x is not None and not an empty string\n",
    "    try:\n",
    "        if x == \"None\" :\n",
    "            return 0\n",
    "        if x and str(x).strip():\n",
    "            # Convert the cleaned string to an integer\n",
    "            return int(str(x).replace('\"', '').strip()[:4])\n",
    "    except ValueError:\n",
    "        return 0\n",
    "\n",
    "import pandas as pd\n",
    "\n",
    "df2 = pd.read_csv(\"CQ6b_bb.csv\")\n",
    "# df2 = df2.iloc[: , :-1]\n",
    "df2.columns = ['bb_obj', 'bb_actor', 'nmvw_actor', 'b_time', 'e_time']\n",
    "df2['b_time'] = df2['b_time'].apply(cleanup_time)\n",
    "df2['e_time'] = df2['e_time'].apply(cleanup_time)"
   ]
  },
  {
   "cell_type": "code",
   "execution_count": null,
   "metadata": {},
   "outputs": [],
   "source": [
    "filtered_df2 = df2[(df2['b_time'] == 0) & (df2['e_time'] == 0)]\n",
    "\n",
    "# filtered_df2 = filtered_df2.drop_duplicates(subset=['bb_obj'])\n",
    "\n",
    "grouped_unknown_df2 = filtered_df2.groupby(['nmvw_actor'])['bb_obj'].nunique().reset_index()\n",
    "grouped_unknown_df2 = grouped_unknown_df2.sort_values(by='bb_obj', ascending=False)\n",
    "\n",
    "merged_df2 = pd.merge(grouped_known_df1, grouped_unknown_df2, on='nmvw_actor', how='inner')\n",
    "print(f\"There is {merged_df2['bb_obj'].sum()} objects from bronbeek dataset where don't know the acquisition date \\nand from the same collector, we know some acquisition date for nmvw object\")"
   ]
  },
  {
   "cell_type": "markdown",
   "metadata": {},
   "source": [
    "> same object can appear multiple times"
   ]
  },
  {
   "cell_type": "code",
   "execution_count": null,
   "metadata": {},
   "outputs": [],
   "source": [
    "print(f\"Unique NMVW actor: {merged_df2['nmvw_actor'].nunique()}\")"
   ]
  },
  {
   "cell_type": "markdown",
   "metadata": {},
   "source": [
    "# CQ-6c"
   ]
  },
  {
   "cell_type": "markdown",
   "metadata": {},
   "source": [
    "Query to generate [CQ6c_nmvw.csv](CQ6c_nmvw.csv): \n",
    "```\n",
    "PREFIX owl: <http://www.w3.org/2002/07/owl#>\n",
    "PREFIX crm: <http://www.cidoc-crm.org/cidoc-crm/>\n",
    "PREFIX skos: <http://www.w3.org/2004/02/skos/core#>\n",
    "PREFIX rdf: <http://www.w3.org/1999/02/22-rdf-syntax-ns#>\n",
    "PREFIX aat: <http://vocab.getty.edu/aat/>\n",
    "\n",
    "SELECT ?nmvw_obj ?nmvw_prod_place ?nmvw_actor ?b_time ?e_time\n",
    "WHERE{\n",
    " GRAPH <https://pressingmatter.nl/NMVW/ccrdfobj.ttl>{\n",
    "     ?nmvw_acq crm:P23_transferred_title_from ?nmvw_actor.\n",
    "     ?nmvw_acq crm:P24_transferred_title_of ?nmvw_obj .\n",
    "     ?nmvw_obj crm:P108i_was_produced_by ?nmvw_prod .\n",
    "     ?nmvw_prod crm:P7_took_place_at ?nmvw_prod_place.\n",
    "     ?prov_activity ?p ?nmvw_acq.\n",
    "     ?prov_activity crm:P2_has_type aat:300055863 .\n",
    "     ?prov_activity crm:P4_has_time-span ?time .\n",
    "     ?time crm:P82a_begin_of_the_begin ?b_time .\n",
    "     ?time crm:P82b_end_of_the_end ?e_time.\n",
    "    }\n",
    "}\n",
    "```"
   ]
  },
  {
   "cell_type": "code",
   "execution_count": null,
   "metadata": {},
   "outputs": [],
   "source": [
    "def cleanup_time(x: str):\n",
    "    return int(str(x).replace('\"', '').strip()[-4:])\n",
    "\n",
    "import pandas as pd\n",
    "\n",
    "df1 = pd.read_csv(\"CQ6c_nmvw.csv\")\n",
    "df1 = df1.map(lambda x: x.replace('\"', '').strip() if isinstance(x, str) else x)\n",
    "df1 = df1.iloc[: , :-1]\n",
    "df1.columns = ['nmvw_obj', 'nmvw_prod_place', 'nmvw_actor', 'b_time', 'e_time']\n",
    "df1['b_time'] = df1['b_time'].apply(cleanup_time)\n",
    "df1['e_time'] = df1['e_time'].apply(cleanup_time)\n",
    "df1.head(15)"
   ]
  },
  {
   "cell_type": "code",
   "execution_count": null,
   "metadata": {},
   "outputs": [],
   "source": [
    "grouped_df1 = df1.groupby(['nmvw_actor', 'nmvw_prod_place', 'b_time', 'e_time'])['nmvw_obj'].nunique().reset_index()\n",
    "grouped_df1 = grouped_df1.sort_values(by='nmvw_obj', ascending=False)\n",
    "grouped_df1 = grouped_df1[grouped_df1['nmvw_obj'] != 1]\n",
    "\n",
    "print(f\"Number of objects that can be connected with at least one other object \\nbased on they are connected by same actor during similar time and similar location is: {grouped_df1['nmvw_obj'].sum()}\")"
   ]
  },
  {
   "cell_type": "markdown",
   "metadata": {},
   "source": [
    "Query to generate: [CQ6c_bb.csv](CQ6c_bb.csv)\n",
    "```\n",
    "PREFIX owl: <http://www.w3.org/2002/07/owl#>\n",
    "PREFIX crm: <http://www.cidoc-crm.org/cidoc-crm/>\n",
    "PREFIX skos: <http://www.w3.org/2004/02/skos/core#>\n",
    "PREFIX rdf: <http://www.w3.org/1999/02/22-rdf-syntax-ns#>\n",
    "PREFIX aat: <http://vocab.getty.edu/aat/>\n",
    "\n",
    "SELECT ?bb_obj ?bb_actor ?nmvw_actor ?b_time ?e_time\n",
    "WHERE{\n",
    "  \t?nmvw_actor owl:sameAs ?bb_actor .\n",
    "  \t?bb_acq2 crm:P23_transferred_title_from ?bb_actor . \n",
    "  \t?bb_acq2 crm:P24_transferred_title_of ?bb_obj .\n",
    "    ?prov_activity  crm:P9_consists_of ?bb_acq2 .\n",
    "    ?prov_activity crm:P2_has_type aat:300055863 .\n",
    "  \t\n",
    "    ?prov_activity crm:P9_consists_of ?bb_acq .\n",
    "  \t?bb_acq crm:P24_transferred_title_of ?bb_obj .\n",
    "\t  ?bb_acq crm:P4_has_time-span ?time .\n",
    "  \t?time crm:P82a_begin_of_the_begin ?b_time .\n",
    "    ?time crm:P82b_end_of_the_end ?e_time.\n",
    "  FILTER (?bb_acq != ?bb_acq2) .\n",
    "\n",
    "GRAPH <https://pressingmatter.nl/Bronbeek/Objects/Objects/assertion/bad21d24/2024-03-01T12:54>{\n",
    "    ?bb_obj a crm:E22_Human-Made_Object. }\n",
    "}\n",
    "```"
   ]
  },
  {
   "cell_type": "code",
   "execution_count": null,
   "metadata": {},
   "outputs": [],
   "source": [
    "def cleanup_time(x: str):\n",
    "    # Check if x is not None and not an empty string\n",
    "    try:\n",
    "        if x == \"None\" :\n",
    "            return 0\n",
    "        if x and str(x).strip():\n",
    "            # Convert the cleaned string to an integer\n",
    "            return int(str(x).replace('\"', '').strip()[:4])\n",
    "    except ValueError:\n",
    "        return 0\n",
    "\n",
    "import pandas as pd\n",
    "\n",
    "df2 = pd.read_csv(\"CQ6c_bb.csv\")\n",
    "# df2 = df2.iloc[: , :-1]\n",
    "df2.columns = ['bb_obj', 'bb_actor', 'nmvw_actor', 'b_time', 'e_time']\n",
    "df2['b_time'] = df2['b_time'].apply(cleanup_time)\n",
    "df2['e_time'] = df2['e_time'].apply(cleanup_time)"
   ]
  },
  {
   "cell_type": "code",
   "execution_count": null,
   "metadata": {},
   "outputs": [],
   "source": [
    "def merge_with_condition(df1, df2):\n",
    "    merged_df = pd.merge(df1, df2, on='nmvw_actor', how='inner')\n",
    "    merged_df['time_diff_b'] = merged_df['b_time_y'] - merged_df['b_time_x']\n",
    "    merged_df['time_diff_e'] = merged_df['e_time_y'] - merged_df['e_time_x']\n",
    "    condition = (abs(merged_df['time_diff_b']) <= 20) & (abs(merged_df['time_diff_e']) <= 20)\n",
    "    return merged_df[condition]\n",
    "\n",
    "# Merge the dataframes based on the custom condition\n",
    "result_df = merge_with_condition(df1, df2)\n",
    "print(result_df.to_csv(index=False))\n",
    "print(\"Number of rows in result_df:\", len(result_df))"
   ]
  },
  {
   "cell_type": "code",
   "execution_count": null,
   "metadata": {},
   "outputs": [],
   "source": [
    "print(f\"Unique NMVW actor: {result_df['nmvw_actor'].nunique()}\")"
   ]
  }
 ],
 "metadata": {
  "kernelspec": {
   "display_name": "pm_links",
   "language": "python",
   "name": "python3"
  },
  "language_info": {
   "codemirror_mode": {
    "name": "ipython",
    "version": 3
   },
   "file_extension": ".py",
   "mimetype": "text/x-python",
   "name": "python",
   "nbconvert_exporter": "python",
   "pygments_lexer": "ipython3",
   "version": "3.9.18"
  }
 },
 "nbformat": 4,
 "nbformat_minor": 2
}
