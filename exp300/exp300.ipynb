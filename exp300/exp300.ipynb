{
 "cells": [
  {
   "cell_type": "markdown",
   "id": "a15a3587",
   "metadata": {},
   "source": [
    "This experiment is done on the ground truth. The ground truth is created based on the NMVW constituents' display names and the rdfs:labels retrieved from the wikidata. It only contains constituesnts where the wikidata identifies is known."
   ]
  },
  {
   "cell_type": "code",
   "execution_count": 1,
   "id": "14f43959",
   "metadata": {},
   "outputs": [],
   "source": [
    "import sys\n",
    "sys.path.append(\"..\") "
   ]
  },
  {
   "cell_type": "code",
   "execution_count": 2,
   "id": "ad93fec8",
   "metadata": {},
   "outputs": [
    {
     "name": "stderr",
     "output_type": "stream",
     "text": [
      "/Users/sarah_shoilee/opt/anaconda3/envs/py39deezy/lib/python3.9/site-packages/thefuzz/fuzz.py:11: UserWarning: Using slow pure-python SequenceMatcher. Install python-Levenshtein to remove this warning\n",
      "  warnings.warn('Using slow pure-python SequenceMatcher. Install python-Levenshtein to remove this warning')\n"
     ]
    }
   ],
   "source": [
    "import pickle, pandas\n",
    "from data_matching import exact_string_match, match_lastName, match_with_abbreviation, match_fuzzy_string\n",
    "from calculate_result import calculate_result"
   ]
  },
  {
   "cell_type": "code",
   "execution_count": 3,
   "id": "55e33ec4",
   "metadata": {},
   "outputs": [],
   "source": [
    "with open('data/ground_truth.pkl', 'rb') as file:\n",
    "    data = pickle.load(file)"
   ]
  },
  {
   "cell_type": "code",
   "execution_count": 4,
   "id": "60af442f",
   "metadata": {},
   "outputs": [],
   "source": [
    "candidates = set([str(item) for _, row in data.iterrows() for item in row['wiki_label']])"
   ]
  },
  {
   "cell_type": "code",
   "execution_count": 5,
   "id": "c7d787d3",
   "metadata": {},
   "outputs": [
    {
     "name": "stdout",
     "output_type": "stream",
     "text": [
      "The size of ground truth: 6178 and size of candidates: 11501\n"
     ]
    }
   ],
   "source": [
    "print(f\"The size of ground truth: {len(data.index)} and size of candidates: {len(list(set(candidates)))}\")"
   ]
  },
  {
   "cell_type": "markdown",
   "id": "435f0ce7",
   "metadata": {},
   "source": [
    "# Exact string matching"
   ]
  },
  {
   "cell_type": "code",
   "execution_count": 6,
   "id": "33fea1e7",
   "metadata": {},
   "outputs": [
    {
     "name": "stdout",
     "output_type": "stream",
     "text": [
      "The number of positive match is 3360\n"
     ]
    }
   ],
   "source": [
    "# Exact string matching\n",
    "result_exact = exact_string_match(data, candidates)\n",
    "exact_match = len(result_exact.loc[result_exact[\"match\"] == \"YES\"])\n",
    "print(f\"The number of positive match is {exact_match}\")"
   ]
  },
  {
   "cell_type": "code",
   "execution_count": 7,
   "id": "b4548428",
   "metadata": {},
   "outputs": [],
   "source": [
    "with open(\"results/NMVWtoWikiExactMatchResults.pkl\", \"wb\") as handle:\n",
    "    pickle.dump(result_exact, handle, protocol=pickle.HIGHEST_PROTOCOL)"
   ]
  },
  {
   "cell_type": "code",
   "execution_count": 8,
   "id": "c594c8b3",
   "metadata": {},
   "outputs": [
    {
     "name": "stdout",
     "output_type": "stream",
     "text": [
      "6178\n"
     ]
    }
   ],
   "source": [
    "df = pandas.read_pickle(\"results/NMVWtoWikiExactMatchResults.pkl\")\n",
    "print(len(df.index))"
   ]
  },
  {
   "cell_type": "code",
   "execution_count": 9,
   "id": "e978ed71",
   "metadata": {},
   "outputs": [
    {
     "name": "stdout",
     "output_type": "stream",
     "text": [
      "Total query: 6178 \n",
      "Correct correspondence count: 3346\n",
      "Recall: 0.5415992230495306\n",
      "\n",
      "\n",
      "Total query: 6178\n",
      "Total retrieved: 3360\n",
      "Correct correspondence count: 3346 \n",
      "Precision: 0.9958333333333333\n",
      "\n",
      "\n",
      "F-measure: 0.7016145942545607\n",
      "\n"
     ]
    },
    {
     "data": {
      "text/plain": [
       "(6178, 3360, 3346, 0.5415992230495306, 0.9958333333333333, 0.7016145942545607)"
      ]
     },
     "execution_count": 9,
     "metadata": {},
     "output_type": "execute_result"
    }
   ],
   "source": [
    "calculate_result(\"results/NMVWtoWikiExactMatchResults.pkl\")"
   ]
  },
  {
   "cell_type": "markdown",
   "id": "8240e52c",
   "metadata": {},
   "source": [
    "# Surname Matching"
   ]
  },
  {
   "cell_type": "code",
   "execution_count": 10,
   "id": "aba563f0",
   "metadata": {},
   "outputs": [
    {
     "name": "stdout",
     "output_type": "stream",
     "text": [
      "The number of positive match is 5245\n"
     ]
    }
   ],
   "source": [
    "result_surname = match_lastName(data, candidates)\n",
    "surname_match = len(result_surname.loc[result_surname[\"match\"] == \"YES\"])\n",
    "print(f\"The number of positive match is {surname_match}\")"
   ]
  },
  {
   "cell_type": "code",
   "execution_count": 11,
   "id": "cc633f1f",
   "metadata": {},
   "outputs": [],
   "source": [
    "with open(\"results/NMVWtoWikiSurnameMatchResults.pkl\", \"wb\") as handle:\n",
    "    pickle.dump(result_surname, handle, protocol=pickle.HIGHEST_PROTOCOL)"
   ]
  },
  {
   "cell_type": "code",
   "execution_count": 12,
   "id": "4d51b0b8",
   "metadata": {},
   "outputs": [
    {
     "name": "stdout",
     "output_type": "stream",
     "text": [
      "6178\n"
     ]
    }
   ],
   "source": [
    "df = pandas.read_pickle(\"results/NMVWtoWikiSurnameMatchResults.pkl\")\n",
    "print(len(df.index))"
   ]
  },
  {
   "cell_type": "code",
   "execution_count": 13,
   "id": "6a519636",
   "metadata": {},
   "outputs": [
    {
     "name": "stdout",
     "output_type": "stream",
     "text": [
      "Total query: 6178 \n",
      "Correct correspondence count: 4991\n",
      "Recall: 0.8078666235027517\n",
      "\n",
      "\n",
      "Total query: 6178\n",
      "Total retrieved: 9613\n",
      "Correct correspondence count: 5833 \n",
      "Precision: 0.6067824820555497\n",
      "\n",
      "\n",
      "F-measure: 0.6930330822714871\n",
      "\n"
     ]
    },
    {
     "data": {
      "text/plain": [
       "(6178, 9613, 5833, 0.8078666235027517, 0.6067824820555497, 0.6930330822714871)"
      ]
     },
     "execution_count": 13,
     "metadata": {},
     "output_type": "execute_result"
    }
   ],
   "source": [
    "calculate_result(\"results/NMVWtoWikiSurnameMatchResults.pkl\")"
   ]
  },
  {
   "cell_type": "markdown",
   "id": "871436f7",
   "metadata": {},
   "source": [
    "# Abbreviation Matching"
   ]
  },
  {
   "cell_type": "code",
   "execution_count": 14,
   "id": "5df090d5",
   "metadata": {},
   "outputs": [
    {
     "name": "stdout",
     "output_type": "stream",
     "text": [
      "The number of positive match is 3662\n"
     ]
    }
   ],
   "source": [
    "result_abbreviation = match_with_abbreviation(data, candidates)\n",
    "abbreviationlen_match = len(result_abbreviation.loc[result_abbreviation[\"match\"] == \"YES\"])\n",
    "print(f\"The number of positive match is {abbreviationlen_match}\")"
   ]
  },
  {
   "cell_type": "code",
   "execution_count": 15,
   "id": "a0504053",
   "metadata": {},
   "outputs": [],
   "source": [
    "with open(\"results/NMVWtoWikiAbbreviationMatchResults.pkl\", \"wb\") as handle:\n",
    "    pickle.dump(result_abbreviation, handle, protocol=pickle.HIGHEST_PROTOCOL)"
   ]
  },
  {
   "cell_type": "code",
   "execution_count": 16,
   "id": "b7d7dcaa",
   "metadata": {},
   "outputs": [
    {
     "name": "stdout",
     "output_type": "stream",
     "text": [
      "6178\n"
     ]
    }
   ],
   "source": [
    "df = pandas.read_pickle(\"results/NMVWtoWikiAbbreviationMatchResults.pkl\")\n",
    "print(len(df.index))"
   ]
  },
  {
   "cell_type": "code",
   "execution_count": 17,
   "id": "02f4b320",
   "metadata": {},
   "outputs": [
    {
     "name": "stdout",
     "output_type": "stream",
     "text": [
      "Total query: 6178 \n",
      "Correct correspondence count: 766\n",
      "Recall: 0.12398834574295889\n",
      "\n",
      "\n",
      "Total query: 6178\n",
      "Total retrieved: 3662\n",
      "Correct correspondence count: 766 \n",
      "Precision: 0.2091753140360459\n",
      "\n",
      "\n",
      "F-measure: 0.15569105691056911\n",
      "\n"
     ]
    },
    {
     "data": {
      "text/plain": [
       "(6178, 3662, 766, 0.12398834574295889, 0.2091753140360459, 0.15569105691056911)"
      ]
     },
     "execution_count": 17,
     "metadata": {},
     "output_type": "execute_result"
    }
   ],
   "source": [
    "calculate_result(\"results/NMVWtoWikiAbbreviationMatchResults.pkl\")"
   ]
  },
  {
   "cell_type": "markdown",
   "id": "9fc4ca53",
   "metadata": {},
   "source": [
    "# Fuzzy String Match"
   ]
  },
  {
   "cell_type": "code",
   "execution_count": 6,
   "id": "8ac6ddfd",
   "metadata": {},
   "outputs": [
    {
     "name": "stderr",
     "output_type": "stream",
     "text": [
      "6178it [2:07:10,  1.24s/it]"
     ]
    },
    {
     "name": "stdout",
     "output_type": "stream",
     "text": [
      "The number of positive match is 6120\n"
     ]
    },
    {
     "name": "stderr",
     "output_type": "stream",
     "text": [
      "\n"
     ]
    }
   ],
   "source": [
    "result_fuzzymatch = match_fuzzy_string(data, candidates, max_score=75)\n",
    "fuzzy_match = len(result_fuzzymatch.loc[result_fuzzymatch[\"match\"] == \"YES\"])\n",
    "print(f\"The number of positive match is {fuzzy_match}\")"
   ]
  },
  {
   "cell_type": "code",
   "execution_count": 7,
   "id": "fafa8038",
   "metadata": {},
   "outputs": [],
   "source": [
    "with open(\"results/NMVWtoWikiFuzzyStringMatchResults.pkl\", \"wb\") as handle:\n",
    "    pickle.dump(result_fuzzymatch, handle, protocol=pickle.HIGHEST_PROTOCOL)"
   ]
  },
  {
   "cell_type": "code",
   "execution_count": 8,
   "id": "2abd723e",
   "metadata": {},
   "outputs": [
    {
     "name": "stdout",
     "output_type": "stream",
     "text": [
      "6178\n"
     ]
    }
   ],
   "source": [
    "df = pandas.read_pickle(\"results/NMVWtoWikiFuzzyStringMatchResults.pkl\")\n",
    "print(len(df.index))"
   ]
  },
  {
   "cell_type": "code",
   "execution_count": 9,
   "id": "1fb03691",
   "metadata": {},
   "outputs": [
    {
     "name": "stdout",
     "output_type": "stream",
     "text": [
      "Total query: 6178 \n",
      "Correct correspondence count: 5501\n",
      "Recall: 0.8904176108773065\n",
      "\n",
      "\n",
      "Total query: 6178\n",
      "Total retrieved: 16486\n",
      "Correct correspondence count: 6455 \n",
      "Precision: 0.391544340652675\n",
      "\n",
      "\n",
      "F-measure: 0.5439131417908255\n",
      "\n"
     ]
    },
    {
     "data": {
      "text/plain": [
       "(6178, 16486, 6455, 0.8904176108773065, 0.391544340652675, 0.5439131417908255)"
      ]
     },
     "execution_count": 9,
     "metadata": {},
     "output_type": "execute_result"
    }
   ],
   "source": [
    "calculate_result(\"results/NMVWtoWikiFuzzyStringMatchResults.pkl\")"
   ]
  }
 ],
 "metadata": {
  "kernelspec": {
   "display_name": "Python 3",
   "language": "python",
   "name": "python3"
  },
  "language_info": {
   "codemirror_mode": {
    "name": "ipython",
    "version": 3
   },
   "file_extension": ".py",
   "mimetype": "text/x-python",
   "name": "python",
   "nbconvert_exporter": "python",
   "pygments_lexer": "ipython3",
   "version": "3.9.12"
  }
 },
 "nbformat": 4,
 "nbformat_minor": 5
}
