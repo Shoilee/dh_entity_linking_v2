{
 "cells": [
  {
   "cell_type": "markdown",
   "id": "a15a3587",
   "metadata": {},
   "source": [
    "This experiment is done on the ground truth. The ground truth is created based on the NMVW constituents' display names and the rdfs:labels retrieved from the wikidata. It only contains constituesnts where the wikidata identifies is known."
   ]
  },
  {
   "cell_type": "code",
   "execution_count": 1,
   "id": "14f43959",
   "metadata": {},
   "outputs": [],
   "source": [
    "import sys\n",
    "sys.path.append(\"..\") "
   ]
  },
  {
   "cell_type": "code",
   "execution_count": 16,
   "id": "4d5ee9be",
   "metadata": {},
   "outputs": [],
   "source": [
    "import pickle, pandas\n",
    "from data_matching import exact_string_match, match_lastName, match_with_abbreviation\n",
    "from calculate_result import calculate_result"
   ]
  },
  {
   "cell_type": "code",
   "execution_count": 3,
   "id": "55e33ec4",
   "metadata": {},
   "outputs": [],
   "source": [
    "with open('data/ground_truth.pkl', 'rb') as file:\n",
    "    data = pickle.load(file)"
   ]
  },
  {
   "cell_type": "code",
   "execution_count": 4,
   "id": "60af442f",
   "metadata": {},
   "outputs": [],
   "source": [
    "candidates = set([str(item) for _, row in data.iterrows() for item in row['wiki_label']])"
   ]
  },
  {
   "cell_type": "code",
   "execution_count": 5,
   "id": "c7d787d3",
   "metadata": {},
   "outputs": [
    {
     "name": "stdout",
     "output_type": "stream",
     "text": [
      "The size of ground truth: 6178 and size of candidates: 11501\n"
     ]
    }
   ],
   "source": [
    "print(f\"The size of ground truth: {len(data.index)} and size of candidates: {len(list(set(candidates)))}\")"
   ]
  },
  {
   "cell_type": "markdown",
   "id": "435f0ce7",
   "metadata": {},
   "source": [
    "# Exact string matching"
   ]
  },
  {
   "cell_type": "code",
   "execution_count": null,
   "id": "eb49ccfe",
   "metadata": {},
   "outputs": [],
   "source": [
    "# Exact string matching\n",
    "result_exact = exact_string_match(data, candidates)\n",
    "exact_match = len(result_exact.loc[result_exact[\"match\"] == \"YES\"])\n",
    "print(f\"The number of positive match is {exact_match}\")"
   ]
  },
  {
   "cell_type": "code",
   "execution_count": null,
   "id": "b4548428",
   "metadata": {},
   "outputs": [],
   "source": [
    "with open(\"results/NMVWtoWikiExactMatchResults.pkl\", \"wb\") as handle:\n",
    "    pickle.dump(result_exact, handle, protocol=pickle.HIGHEST_PROTOCOL)"
   ]
  },
  {
   "cell_type": "code",
   "execution_count": null,
   "id": "c594c8b3",
   "metadata": {},
   "outputs": [],
   "source": [
    "df = pandas.read_pickle(\"results/NMVWtoWikiExactMatchResults.pkl\")\n",
    "print(len(df.index))"
   ]
  },
  {
   "cell_type": "code",
   "execution_count": null,
   "id": "e978ed71",
   "metadata": {},
   "outputs": [],
   "source": [
    "from calculate_result import calculate_result\n",
    "calculate_result(\"results/NMVWtoWikiExactMatchResults.pkl\")"
   ]
  },
  {
   "cell_type": "markdown",
   "id": "8240e52c",
   "metadata": {},
   "source": [
    "# Surname Matching"
   ]
  },
  {
   "cell_type": "code",
   "execution_count": 6,
   "id": "aba563f0",
   "metadata": {},
   "outputs": [
    {
     "name": "stdout",
     "output_type": "stream",
     "text": [
      "The number of positive match is 5245\n"
     ]
    }
   ],
   "source": [
    "result_surname = match_lastName(data, candidates)\n",
    "surname_match = len(result_surname.loc[result_surname[\"match\"] == \"YES\"])\n",
    "print(f\"The number of positive match is {surname_match}\")"
   ]
  },
  {
   "cell_type": "code",
   "execution_count": 7,
   "id": "cc633f1f",
   "metadata": {},
   "outputs": [],
   "source": [
    "with open(\"results/NMVWtoWikiSurnameMatchResults.pkl\", \"wb\") as handle:\n",
    "    pickle.dump(result_surname, handle, protocol=pickle.HIGHEST_PROTOCOL)"
   ]
  },
  {
   "cell_type": "code",
   "execution_count": 8,
   "id": "4d51b0b8",
   "metadata": {},
   "outputs": [
    {
     "name": "stdout",
     "output_type": "stream",
     "text": [
      "6178\n"
     ]
    }
   ],
   "source": [
    "df = pandas.read_pickle(\"results/NMVWtoWikiSurnameMatchResults.pkl\")\n",
    "print(len(df.index))"
   ]
  },
  {
   "cell_type": "code",
   "execution_count": 9,
   "id": "6a519636",
   "metadata": {},
   "outputs": [
    {
     "name": "stdout",
     "output_type": "stream",
     "text": [
      "Total query: 6178 \n",
      "Correct correspondence count: 4991\n",
      "Recall: 0.8078666235027517\n",
      "\n",
      "\n",
      "Total query: 6178\n",
      "Total retrieved: 9613\n",
      "Correct correspondence count: 5833 \n",
      "Precision: 0.6067824820555497\n",
      "\n",
      "\n",
      "F-measure: 0.6930330822714871\n",
      "\n"
     ]
    },
    {
     "data": {
      "text/plain": [
       "(6178, 9613, 5833, 0.8078666235027517, 0.6067824820555497, 0.6930330822714871)"
      ]
     },
     "execution_count": 9,
     "metadata": {},
     "output_type": "execute_result"
    }
   ],
   "source": [
    "from calculate_result import calculate_result\n",
    "calculate_result(\"results/NMVWtoWikiSurnameMatchResults.pkl\")"
   ]
  },
  {
   "cell_type": "markdown",
   "id": "871436f7",
   "metadata": {},
   "source": [
    "# Abbreviation Matching"
   ]
  },
  {
   "cell_type": "code",
   "execution_count": 10,
   "id": "c0f6b9a2",
   "metadata": {},
   "outputs": [],
   "source": [
    "def match_with_abbreviation(df, candidate_list):\n",
    "    def get_initials(name):\n",
    "        if len(name.split(\" \")) < 1:\n",
    "            print(name)\n",
    "            return\n",
    "\n",
    "        names = name.split(' ')\n",
    "        try:\n",
    "            return ' '.join([f\"{n[0]}.\" for n in names])\n",
    "        except Exception as e:\n",
    "            print(f'{name} has {str(e)} error')\n",
    "\n",
    "    abbreviation_list = list()\n",
    "    for i, row in df.iterrows():\n",
    "        firstnames = get_initials(\" \".join(str(row['name_label']).split(\" \")[:-1]))\n",
    "        if firstnames:\n",
    "            initial_and_surname = firstnames + \" \" + str(row['name_label']).split(\" \")[-1]\n",
    "        else:\n",
    "            initial_and_surname = str(row['name_label']).split(\" \")[-1]\n",
    "        # print(f\"{str(row['name_label'])} --> {initial_and_surname}\")\n",
    "        abbreviation_list.append(initial_and_surname)\n",
    "\n",
    "    temp_df = pandas.DataFrame({'abbreviations': abbreviation_list})\n",
    "    df = pandas.concat([df, temp_df], axis=1)\n",
    "    \n",
    "    abbrv_candidate_list = list()\n",
    "    for item in candidate_list:\n",
    "        firstnames = get_initials(\" \".join(str(item).split(\" \")[:-1]))\n",
    "        if firstnames:\n",
    "            initial_and_surname = firstnames + \" \" + str(row).split(\" \")[-1]\n",
    "        else:\n",
    "            initial_and_surname = str(row).split(\" \")[-1]\n",
    "        abbrv_candidate_list.append(initial_and_surname)\n",
    "    \n",
    "    match = [\"NO\" for i in range(len(df.index))]\n",
    "    match_results = []\n",
    "    # matching\n",
    "    for i, row in df.iterrows():\n",
    "        row_match_results = list()\n",
    "        row_match_results = list(set([str(row['abbreviations'])]).intersection(set(abbrv_candidate_list)))\n",
    "        if len(row_match_results) > 0:\n",
    "            match[i] = \"YES\"\n",
    "\n",
    "        match_results.append(row_match_results)\n",
    "        \n",
    "    temp_df = pandas.DataFrame({'retrieved_names': match_results, 'match':match})\n",
    "    result_table = pandas.concat([df, temp_df], axis=1)\n",
    "\n",
    "    return result_table"
   ]
  },
  {
   "cell_type": "code",
   "execution_count": null,
   "id": "424dd7f5",
   "metadata": {},
   "outputs": [],
   "source": [
    "import pickle, pandas\n",
    "from data_matching import exact_string_match, match_lastName, match_with_abbreviation\n",
    "from calculate_result import calculate_result"
   ]
  },
  {
   "cell_type": "code",
   "execution_count": 19,
   "id": "5df090d5",
   "metadata": {},
   "outputs": [],
   "source": [
    "abbr = match_with_abbreviation(data[:10], candidates)"
   ]
  },
  {
   "cell_type": "code",
   "execution_count": 20,
   "id": "a444acff",
   "metadata": {},
   "outputs": [
    {
     "ename": "AttributeError",
     "evalue": "'NoneType' object has no attribute 'loc'",
     "output_type": "error",
     "traceback": [
      "\u001b[0;31m---------------------------------------------------------------------------\u001b[0m",
      "\u001b[0;31mAttributeError\u001b[0m                            Traceback (most recent call last)",
      "Input \u001b[0;32mIn [20]\u001b[0m, in \u001b[0;36m<cell line: 1>\u001b[0;34m()\u001b[0m\n\u001b[0;32m----> 1\u001b[0m \u001b[38;5;28mlen\u001b[39m(\u001b[43mresult\u001b[49m\u001b[38;5;241;43m.\u001b[39;49m\u001b[43mloc\u001b[49m[result[\u001b[38;5;124m\"\u001b[39m\u001b[38;5;124mmatch\u001b[39m\u001b[38;5;124m\"\u001b[39m] \u001b[38;5;241m==\u001b[39m \u001b[38;5;124m\"\u001b[39m\u001b[38;5;124mYES\u001b[39m\u001b[38;5;124m\"\u001b[39m])\n",
      "\u001b[0;31mAttributeError\u001b[0m: 'NoneType' object has no attribute 'loc'"
     ]
    }
   ],
   "source": [
    "len(result.loc[result[\"match\"] == \"YES\"])"
   ]
  },
  {
   "cell_type": "code",
   "execution_count": null,
   "id": "a0504053",
   "metadata": {},
   "outputs": [],
   "source": [
    "with open(\"results/NMVWtoWikiSurnameMatchResults.pkl\", \"wb\") as handle:\n",
    "    pickle.dump(result, handle, protocol=pickle.HIGHEST_PROTOCOL)"
   ]
  },
  {
   "cell_type": "code",
   "execution_count": null,
   "id": "b7d7dcaa",
   "metadata": {},
   "outputs": [],
   "source": [
    "df = pandas.read_pickle(\"results/NMVWtoWikiSurnameMatchResults.pkl\")\n",
    "print(len(df.index))"
   ]
  },
  {
   "cell_type": "code",
   "execution_count": null,
   "id": "02f4b320",
   "metadata": {},
   "outputs": [],
   "source": [
    "from calculate_result import calculate_result\n",
    "calculate_result(\"results/NMVWtoWikiSurnameMatchResults.pkl\")"
   ]
  }
 ],
 "metadata": {
  "kernelspec": {
   "display_name": "dh_linking",
   "language": "python",
   "name": "dh_linking"
  },
  "language_info": {
   "codemirror_mode": {
    "name": "ipython",
    "version": 3
   },
   "file_extension": ".py",
   "mimetype": "text/x-python",
   "name": "python",
   "nbconvert_exporter": "python",
   "pygments_lexer": "ipython3",
   "version": "3.9.12"
  }
 },
 "nbformat": 4,
 "nbformat_minor": 5
}
