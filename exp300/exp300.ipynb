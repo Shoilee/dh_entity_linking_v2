{
 "cells": [
  {
   "cell_type": "markdown",
   "id": "a15a3587",
   "metadata": {},
   "source": [
    "This experiment is done on the ground truth. The ground truth is created based on the NMVW constituents' display names and the rdfs:labels retrieved from the wikidata. It only contains constituesnts where the wikidata identifies is known."
   ]
  },
  {
   "cell_type": "code",
   "execution_count": null,
   "id": "14f43959",
   "metadata": {},
   "outputs": [],
   "source": [
    "import sys\n",
    "sys.path.append(\"..\") "
   ]
  },
  {
   "cell_type": "code",
   "execution_count": null,
   "id": "ad93fec8",
   "metadata": {},
   "outputs": [],
   "source": [
    "import pickle, pandas\n",
    "from data_matching import exact_string_match, match_lastName, match_with_abbreviation, match_fuzzy_string\n",
    "from calculate_result import calculate_result"
   ]
  },
  {
   "cell_type": "code",
   "execution_count": null,
   "id": "55e33ec4",
   "metadata": {},
   "outputs": [],
   "source": [
    "with open('data/ground_truth.pkl', 'rb') as file:\n",
    "    data = pickle.load(file)"
   ]
  },
  {
   "cell_type": "code",
   "execution_count": null,
   "id": "60af442f",
   "metadata": {},
   "outputs": [],
   "source": [
    "candidates = set([str(item) for _, row in data.iterrows() for item in row['wiki_label']])"
   ]
  },
  {
   "cell_type": "code",
   "execution_count": null,
   "id": "c7d787d3",
   "metadata": {},
   "outputs": [],
   "source": [
    "\n",
    "print(f\"The size of ground truth: {len(data.index)} and size of candidates: {len(candidates)}\")"
   ]
  },
  {
   "cell_type": "markdown",
   "id": "435f0ce7",
   "metadata": {},
   "source": [
    "# Exact string matching"
   ]
  },
  {
   "cell_type": "code",
   "execution_count": null,
   "id": "33fea1e7",
   "metadata": {},
   "outputs": [],
   "source": [
    "# Exact string matching\n",
    "result_exact = exact_string_match(data, candidates)\n",
    "exact_match = len(result_exact.loc[result_exact[\"match\"] == \"YES\"])\n",
    "print(f\"The number of positive match is {exact_match}\")"
   ]
  },
  {
   "cell_type": "code",
   "execution_count": null,
   "id": "b4548428",
   "metadata": {},
   "outputs": [],
   "source": [
    "with open(\"results/NMVWtoWikiExactMatchResults.pkl\", \"wb\") as handle:\n",
    "    pickle.dump(result_exact, handle, protocol=pickle.HIGHEST_PROTOCOL)"
   ]
  },
  {
   "cell_type": "code",
   "execution_count": null,
   "id": "c594c8b3",
   "metadata": {},
   "outputs": [],
   "source": [
    "df = pandas.read_pickle(\"results/NMVWtoWikiExactMatchResults.pkl\")\n",
    "print(len(df.index))"
   ]
  },
  {
   "cell_type": "code",
   "execution_count": null,
   "id": "e978ed71",
   "metadata": {},
   "outputs": [],
   "source": [
    "calculate_result(\"results/NMVWtoWikiExactMatchResults.pkl\")"
   ]
  },
  {
   "cell_type": "markdown",
   "id": "8240e52c",
   "metadata": {},
   "source": [
    "# Surname Matching"
   ]
  },
  {
   "cell_type": "code",
   "execution_count": null,
   "id": "aba563f0",
   "metadata": {},
   "outputs": [],
   "source": [
    "result_surname = match_lastName(data, candidates)\n",
    "surname_match = len(result_surname.loc[result_surname[\"match\"] == \"YES\"])\n",
    "print(f\"The number of positive match is {surname_match}\")"
   ]
  },
  {
   "cell_type": "code",
   "execution_count": null,
   "id": "cc633f1f",
   "metadata": {},
   "outputs": [],
   "source": [
    "with open(\"results/NMVWtoWikiSurnameMatchResults.pkl\", \"wb\") as handle:\n",
    "    pickle.dump(result_surname, handle, protocol=pickle.HIGHEST_PROTOCOL)"
   ]
  },
  {
   "cell_type": "code",
   "execution_count": null,
   "id": "4d51b0b8",
   "metadata": {},
   "outputs": [],
   "source": [
    "df = pandas.read_pickle(\"results/NMVWtoWikiSurnameMatchResults.pkl\")\n",
    "print(len(df.index))"
   ]
  },
  {
   "cell_type": "code",
   "execution_count": null,
   "id": "6a519636",
   "metadata": {},
   "outputs": [],
   "source": [
    "calculate_result(\"results/NMVWtoWikiSurnameMatchResults.pkl\")"
   ]
  },
  {
   "cell_type": "markdown",
   "id": "871436f7",
   "metadata": {},
   "source": [
    "# Abbreviation Matching"
   ]
  },
  {
   "cell_type": "code",
   "execution_count": null,
   "id": "46f48ccb",
   "metadata": {},
   "outputs": [],
   "source": [
    "result_abbreviation.loc[result_abbreviation[\"match\"] == \"YES\"].to_csv(\"temp.csv\")"
   ]
  },
  {
   "cell_type": "code",
   "execution_count": null,
   "id": "5df090d5",
   "metadata": {},
   "outputs": [],
   "source": [
    "result_abbreviation = match_with_abbreviation(data, candidates)\n",
    "abbreviationlen_match = len(result_abbreviation.loc[result_abbreviation[\"match\"] == \"YES\"])\n",
    "print(f\"The number of positive match is {abbreviationlen_match}\")"
   ]
  },
  {
   "cell_type": "code",
   "execution_count": null,
   "id": "a0504053",
   "metadata": {},
   "outputs": [],
   "source": [
    "with open(\"results/NMVWtoWikiAbbreviationMatchResults.pkl\", \"wb\") as handle:\n",
    "    pickle.dump(result_abbreviation, handle, protocol=pickle.HIGHEST_PROTOCOL)"
   ]
  },
  {
   "cell_type": "code",
   "execution_count": null,
   "id": "b7d7dcaa",
   "metadata": {},
   "outputs": [],
   "source": [
    "df = pandas.read_pickle(\"results/NMVWtoWikiAbbreviationMatchResults.pkl\")\n",
    "print(len(df.index))"
   ]
  },
  {
   "cell_type": "code",
   "execution_count": null,
   "id": "02f4b320",
   "metadata": {},
   "outputs": [],
   "source": [
    "calculate_result(\"results/NMVWtoWikiAbbreviationMatchResults.pkl\")"
   ]
  },
  {
   "cell_type": "markdown",
   "id": "9fc4ca53",
   "metadata": {},
   "source": [
    "# Fuzzy String Match"
   ]
  },
  {
   "cell_type": "code",
   "execution_count": null,
   "id": "8ac6ddfd",
   "metadata": {},
   "outputs": [],
   "source": [
    "result_fuzzymatch = match_fuzzy_string(data, candidates, max_score=75)\n",
    "fuzzy_match = len(result_fuzzymatch.loc[result_fuzzymatch[\"match\"] == \"YES\"])\n",
    "print(f\"The number of positive match is {fuzzy_match}\")"
   ]
  },
  {
   "cell_type": "code",
   "execution_count": null,
   "id": "fafa8038",
   "metadata": {},
   "outputs": [],
   "source": [
    "with open(\"results/NMVWtoWikiFuzzyStringMatchResults.pkl\", \"wb\") as handle:\n",
    "    pickle.dump(result_fuzzymatch, handle, protocol=pickle.HIGHEST_PROTOCOL)"
   ]
  },
  {
   "cell_type": "code",
   "execution_count": null,
   "id": "2abd723e",
   "metadata": {},
   "outputs": [],
   "source": [
    "df = pandas.read_pickle(\"results/NMVWtoWikiFuzzyStringMatchResults.pkl\")\n",
    "print(len(df.index))"
   ]
  },
  {
   "cell_type": "code",
   "execution_count": null,
   "id": "1fb03691",
   "metadata": {},
   "outputs": [],
   "source": [
    "calculate_result(\"results/NMVWtoWikiFuzzyStringMatchResults.pkl\")"
   ]
  }
 ],
 "metadata": {
  "kernelspec": {
   "display_name": "Python 3",
   "language": "python",
   "name": "python3"
  },
  "language_info": {
   "codemirror_mode": {
    "name": "ipython",
    "version": 3
   },
   "file_extension": ".py",
   "mimetype": "text/x-python",
   "name": "python",
   "nbconvert_exporter": "python",
   "pygments_lexer": "ipython3",
   "version": "3.9.12"
  }
 },
 "nbformat": 4,
 "nbformat_minor": 5
}
