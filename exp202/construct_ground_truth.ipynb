{
 "cells": [
  {
   "cell_type": "markdown",
   "id": "cae43943",
   "metadata": {},
   "source": [
    "# Data description:"
   ]
  },
  {
   "cell_type": "markdown",
   "id": "280dddb9",
   "metadata": {},
   "source": [
    "Information available in the bronbeek.constituent.csv\n",
    "    - ConstituentID\t\n",
    "    - ConstituentTypeID\t\n",
    "    - Active\t\n",
    "    - AlphaSort\t\n",
    "    - LastName\t\n",
    "    - FirstName\t\n",
    "    - NameTitle\t\n",
    "    - Institution\t\n",
    "    - DisplayName\t\n",
    "    - BeginDate\t\n",
    "    - EndDate\t\n",
    "    - DisplayDate\t\n",
    "    - Biography\t\n",
    "    - Code\t\n",
    "    - Nationality\t\n",
    "    - School\t\n",
    "    - LoginID\t\n",
    "    - EnteredDate\t\n",
    "    - SysTimeStamp\t\n",
    "    - PublicAccessOld\t\n",
    "    - Remarks\t\n",
    "    - Position\t\n",
    "    - MiddleName\t\n",
    "    - Suffix\t\n",
    "    - CultureGroup\t\n",
    "    - salutation\t\n",
    "    - Approved\t\n",
    "    - PublicAccess\t\n",
    "    - IsPrivate\t\n",
    "    - DefaultNameID\t\n",
    "    - SystemFlag\t\n",
    "    - InternalStatus\t\n",
    "    - DefaultDisplayBioID\t\n",
    "    - BeginDateISO\t\n",
    "    - EndDateISO\t\n",
    "    - FullName (constructed by me: FirstName + LastName)\n",
    "    \n",
    "Information kept in the groundtruth file\n",
    "    - ConstituentID\t\t\n",
    "    - AlphaSort\t\n",
    "    - LastName\t\n",
    "    - FirstName\t\n",
    "    - NameTitle\t\t\n",
    "    - DisplayName\t\n",
    "    - BeginDate\t\n",
    "    - EndDate\t\n",
    "    - DisplayDate\t\n",
    "    - Biography\t\n",
    "    - Nationality\t\n",
    "    - MiddleName\t\n",
    "    - Suffix\t\t\n",
    "    - BeginDateISO\t\n",
    "    - EndDateISO\t\n",
    "    - FullName "
   ]
  },
  {
   "cell_type": "markdown",
   "id": "d56688ce",
   "metadata": {},
   "source": [
    "NMVW constituent shape: \n",
    "    ![Constituent_shape](../nmvw_data/sample/sample_constituent.png)"
   ]
  },
  {
   "cell_type": "markdown",
   "id": "50483a1a",
   "metadata": {},
   "source": [
    "Distinct Property on constituent instances: \n",
    "1   rdf:type --> crm:E21_Person(we are only considering person), crm:E74_Group, crm:E39_Actor \n",
    "2\tcrm:P1_is_identified_by --> Typically name\n",
    "3\tcrm:P2_has_type --> nationality: http://vocab.getty.edu/aat/300379842\n",
    "                        gender: http://vocab.getty.edu/aat/300055147 \n",
    "                                male: http://vocab.getty.edu/aat/300189557\n",
    "                                female: http://vocab.getty.edu/aat/300189559\n",
    "4\tla:equivalent --> external identifier, e.g., wikidata\n",
    "5\tcrm:P100i_died_in --> person's dod\n",
    "6\tcrm:P98i_was_born --> person's dob\n",
    "7   crm:P67i_is_referred_to_by --> typically description or bio\n",
    "\n",
    "\n",
    "Information kept in the groundtruth file\n",
    "    - nmvw_uri\n",
    "    - name_labels (only one preferred terms)\n",
    "    - dob\n",
    "    - dod\n",
    "    - ~~nationality~~\n",
    "    - ~~and gender~~"
   ]
  },
  {
   "cell_type": "markdown",
   "id": "33b17411",
   "metadata": {},
   "source": [
    "Construct Ground truth (size: 60): \n",
    "    - we select 20 random rows from each of previously evaluated result (surname: 20, abbrv: 20 and fuzzy:20)\n",
    "    - we take 10 of the correct match and 10 of them unknow or negative match"
   ]
  },
  {
   "cell_type": "markdown",
   "id": "9a1de8b9",
   "metadata": {},
   "source": [
    "## Sample selection from surname match evaluation"
   ]
  },
  {
   "cell_type": "code",
   "execution_count": null,
   "id": "0d0b3d9e",
   "metadata": {},
   "outputs": [],
   "source": [
    "import pandas"
   ]
  },
  {
   "cell_type": "code",
   "execution_count": null,
   "id": "193e8630",
   "metadata": {},
   "outputs": [],
   "source": [
    "new_df = pandas.read_csv(\"../exp201/results/SurnameMatchResult_sample_60.csv\", sep=\";\")"
   ]
  },
  {
   "cell_type": "markdown",
   "id": "9b8452a5",
   "metadata": {},
   "source": [
    "chosing 10 succesful sample from surname match"
   ]
  },
  {
   "cell_type": "code",
   "execution_count": null,
   "id": "6d564a5a",
   "metadata": {},
   "outputs": [],
   "source": [
    "sample_df = new_df.loc[new_df[\"HumanEval\"] == \"YES\"].sample(10, random_state=1)"
   ]
  },
  {
   "cell_type": "code",
   "execution_count": null,
   "id": "f82e6249",
   "metadata": {},
   "outputs": [],
   "source": [
    "ground_truth = pandas.DataFrame() \n",
    "ground_truth = pandas.concat([ground_truth, sample_df], ignore_index=True, sort=False)"
   ]
  },
  {
   "cell_type": "markdown",
   "id": "25486083",
   "metadata": {},
   "source": [
    "Choosing 10 unsuccessful match from surname match"
   ]
  },
  {
   "cell_type": "code",
   "execution_count": null,
   "id": "ca97dd1c",
   "metadata": {},
   "outputs": [],
   "source": [
    "sample_df = new_df.loc[new_df[\"HumanEval\"] != \"YES\"].sample(10, random_state=1)"
   ]
  },
  {
   "cell_type": "code",
   "execution_count": null,
   "id": "b12cf45f",
   "metadata": {},
   "outputs": [],
   "source": [
    "ground_truth = pandas.concat([ground_truth, sample_df], ignore_index=True, sort=False)"
   ]
  },
  {
   "cell_type": "markdown",
   "id": "bf7527ad",
   "metadata": {},
   "source": [
    "### Samples from Abbreviation Match"
   ]
  },
  {
   "cell_type": "code",
   "execution_count": null,
   "id": "368957f6",
   "metadata": {},
   "outputs": [],
   "source": [
    "new_df = pandas.read_csv(\"../exp201/results/AbbreviationMatchResult_sample_60.csv\", sep=\";\")"
   ]
  },
  {
   "cell_type": "markdown",
   "id": "e210dd8a",
   "metadata": {},
   "source": [
    "chosing 8 (the len of correct match is 8) succesful sample from abbraviation match"
   ]
  },
  {
   "cell_type": "code",
   "execution_count": null,
   "id": "18cfc699",
   "metadata": {},
   "outputs": [],
   "source": [
    "sample_df = new_df.loc[new_df[\"HumanEval\"] == \"YES\"]"
   ]
  },
  {
   "cell_type": "code",
   "execution_count": null,
   "id": "48251d49",
   "metadata": {},
   "outputs": [],
   "source": [
    "sample_df = sample_df.drop('Unnamed: 0', axis=1)"
   ]
  },
  {
   "cell_type": "code",
   "execution_count": null,
   "id": "619a068e",
   "metadata": {},
   "outputs": [],
   "source": [
    "ground_truth = ground_truth.assign(nmvw_uri= None)\n",
    "ground_truth = ground_truth.assign(name_label = None)"
   ]
  },
  {
   "cell_type": "code",
   "execution_count": null,
   "id": "891349dc",
   "metadata": {},
   "outputs": [],
   "source": [
    "sample_df = sample_df.rename(columns={'Abbreviations': 'RetrievedNames'})"
   ]
  },
  {
   "cell_type": "code",
   "execution_count": null,
   "id": "4f2429ea",
   "metadata": {},
   "outputs": [],
   "source": [
    "ground_truth = pandas.concat([ground_truth, sample_df], ignore_index=True, sort=False)"
   ]
  },
  {
   "cell_type": "markdown",
   "id": "66873c3b",
   "metadata": {},
   "source": [
    "chosing 12 unsuccesful sample from abbraviation match"
   ]
  },
  {
   "cell_type": "code",
   "execution_count": null,
   "id": "ad77d40e",
   "metadata": {},
   "outputs": [],
   "source": [
    "sample_df = new_df.loc[new_df[\"HumanEval\"] != \"YES\"].sample(12, random_state=1)\n",
    "sample_df = sample_df.drop('Unnamed: 0', axis=1)\n",
    "sample_df = sample_df.rename(columns={'Abbreviations': 'RetrievedNames'})"
   ]
  },
  {
   "cell_type": "code",
   "execution_count": null,
   "id": "0b30b3db",
   "metadata": {},
   "outputs": [],
   "source": [
    "ground_truth = pandas.concat([ground_truth, sample_df], ignore_index=True, sort=False)"
   ]
  },
  {
   "cell_type": "markdown",
   "id": "e07b4cb4",
   "metadata": {},
   "source": [
    "### Samples from FuzzyString Match"
   ]
  },
  {
   "cell_type": "code",
   "execution_count": null,
   "id": "709f1f06",
   "metadata": {},
   "outputs": [],
   "source": [
    "new_df = pandas.read_csv(\"../exp201/results/FuzzyStringMatchResult_sample_60.csv\", sep=\";\")"
   ]
  },
  {
   "cell_type": "markdown",
   "id": "24b9fe59",
   "metadata": {},
   "source": [
    "chosing 5 (the len of correct match is 5) succesful sample from fuzzystring match"
   ]
  },
  {
   "cell_type": "code",
   "execution_count": null,
   "id": "891db096",
   "metadata": {},
   "outputs": [],
   "source": [
    "sample_df = new_df.loc[new_df[\"HumanEval\"] == \"YES\"]\n",
    "sample_df = sample_df.rename(columns={'Unnamed: 0': 'index'})"
   ]
  },
  {
   "cell_type": "code",
   "execution_count": null,
   "id": "e6184b90",
   "metadata": {},
   "outputs": [],
   "source": [
    "ground_truth = pandas.concat([ground_truth, sample_df], ignore_index=True, sort=False)"
   ]
  },
  {
   "cell_type": "markdown",
   "id": "e6e26045",
   "metadata": {},
   "source": [
    "chosing 15 unsuccesful sample from fuzzystring match"
   ]
  },
  {
   "cell_type": "code",
   "execution_count": null,
   "id": "7fc062db",
   "metadata": {},
   "outputs": [],
   "source": [
    "sample_df = new_df.loc[new_df[\"HumanEval\"] != \"YES\"].sample(15, random_state=1)\n",
    "sample_df = sample_df.rename(columns={'Unnamed: 0': 'index'})"
   ]
  },
  {
   "cell_type": "code",
   "execution_count": null,
   "id": "d39dee36",
   "metadata": {},
   "outputs": [],
   "source": [
    "ground_truth = pandas.concat([ground_truth, sample_df], ignore_index=True, sort=False)"
   ]
  },
  {
   "cell_type": "code",
   "execution_count": null,
   "id": "907df0ef",
   "metadata": {},
   "outputs": [],
   "source": [
    "ground_truth = ground_truth.rename(columns={'name_label': 'pref_label'})\n",
    "ground_truth = ground_truth.assign(birth_begin_time= None)\n",
    "ground_truth = ground_truth.assign(birth_end_time= None)\n",
    "ground_truth = ground_truth.assign(death_begin_time= None)\n",
    "ground_truth = ground_truth.assign(death_end_time= None)\n",
    "\n",
    "ground_truth = ground_truth.assign(ConstituentID= None)"
   ]
  },
  {
   "cell_type": "markdown",
   "id": "6d139cf6",
   "metadata": {},
   "source": [
    "<ol>\n",
    "    <li> merge the column values that I need from both data source </li>\n",
    "    <li> NMVW [\"nmvw_uri\", \"pref_label\", \"birth_begin_time\", \"birth_end_time\", \"death_begin_time\", \"death_end_time\"] </li>\n",
    "    <li> Bronbeek ['index', 'ConstituentID', AlphaSort, LastName, FirstName, NameTitle, DisplayName, BeginDate, EndDate, DisplayDate, Biography, Nationality, MiddleName, Suffix, BeginDateISO, EndDateISO, FullName] </li>\n",
    "    <li> previous evaluation ['RetrievedNames', 'MATCH', 'HumanEval'] </li>\n",
    "</ol>"
   ]
  },
  {
   "cell_type": "code",
   "execution_count": null,
   "id": "b95217a3",
   "metadata": {},
   "outputs": [],
   "source": [
    "def read_csv(file=\"/Users/sarah_shoilee/Desktop/Sarah/Bronbeek_Data\"):\n",
    "    df = pandas.read_csv(file)\n",
    "    return df\n",
    "\n",
    "bronbeek_const_df = read_csv(\"/Users/sarah_shoilee/Desktop/Sarah/Bronbeek_Data/csv_dump/Constituents.csv\")\n",
    "bronbeek_const_df['index'] = bronbeek_const_df.index"
   ]
  },
  {
   "cell_type": "code",
   "execution_count": null,
   "id": "d31279b6",
   "metadata": {},
   "outputs": [],
   "source": [
    "ground_truth.drop(['AlphaSort', 'FirstName', 'NameTitle', 'Biography', 'LastName',\n",
    "       'DisplayName','MiddleName', 'FullName', 'Suffix','ConstituentID'], axis=1, inplace=True)"
   ]
  },
  {
   "cell_type": "code",
   "execution_count": null,
   "id": "005b69bf",
   "metadata": {},
   "outputs": [],
   "source": [
    "ground_truth = pandas.merge(ground_truth, bronbeek_const_df, how=\"left\", on=[\"index\", \"index\"])"
   ]
  },
  {
   "cell_type": "code",
   "execution_count": null,
   "id": "18a22e84",
   "metadata": {},
   "outputs": [],
   "source": [
    "ground_truth.drop(['Unnamed: 0.4', 'Unnamed: 0.3', 'Unnamed: 0.2', 'Unnamed: 0.1', 'Unnamed: 0', 'ConstituentTypeID', 'Active','Institution','Code','School','LoginID','EnteredDate','SysTimeStamp','PublicAccessOld','Remarks','Position','CultureGroup','salutation','Approved','PublicAccess','IsPrivate','DefaultNameID' ,'SystemFlag','InternalStatus','DefaultDisplayBioID'], axis=1, inplace=True)"
   ]
  },
  {
   "cell_type": "code",
   "execution_count": null,
   "id": "8f7ae482",
   "metadata": {},
   "outputs": [],
   "source": [
    "ground_truth[['nmvw_uri', 'pref_label', 'birth_begin_time', 'birth_end_time', 'death_begin_time', 'death_end_time', 'index', 'ConstituentID', 'AlphaSort', 'NameTitle', 'Biography', 'FirstName','MiddleName', 'LastName', 'Suffix', 'FullName', 'DisplayName', 'BeginDate', 'EndDate', 'DisplayDate', 'Nationality', 'MiddleName', 'Suffix', 'BeginDateISO', 'EndDateISO' ,'RetrievedNames','MATCH', 'HumanEval']].to_csv(\"ground_truth.csv\", index= False)"
   ]
  },
  {
   "cell_type": "markdown",
   "id": "9e1ac3bb",
   "metadata": {},
   "source": [
    "TODO:\n",
    "    - what are the column ground truth must have (e.g., nmwv_dob, nmvw_dod, \n",
    "    bronbeek --> index, ConstituentID\tAlphaSort\tLastName\tFirstName\tNameTitle\tDisplayName\tBeginDate\tEndDate\tDisplayDate\tBiography\tNationality\tMiddleName\tSuffix\tDefaultDisplayBioID\tBeginDateISO\tEndDateISO\tFullName)\n",
    "    - store it in a csv"
   ]
  },
  {
   "cell_type": "markdown",
   "id": "1a683329",
   "metadata": {},
   "source": [
    "TODO: three more steps: \n",
    "        1. add the experts given common names\n",
    "        2. ~~add missing information from NMVW (dataset merge)~~\n",
    "        3. add missing information from bronbeek (dataset merge)"
   ]
  },
  {
   "cell_type": "markdown",
   "id": "3601edad",
   "metadata": {},
   "source": [
    "## 2. add missing information from NMVW (dataset merge)"
   ]
  },
  {
   "cell_type": "code",
   "execution_count": null,
   "id": "0817af08",
   "metadata": {},
   "outputs": [],
   "source": [
    "%pip install ipython_sparql_pandas"
   ]
  },
  {
   "cell_type": "code",
   "execution_count": null,
   "id": "e4d7146b",
   "metadata": {},
   "outputs": [],
   "source": [
    "%load_ext ipython_sparql_pandas"
   ]
  },
  {
   "cell_type": "code",
   "execution_count": null,
   "id": "97ddc747",
   "metadata": {},
   "outputs": [],
   "source": [
    "%%sparql http://localhost:7200/repositories/LinkedArt_NMvW_Constituent -q -s constituent_graph\n",
    "        \n",
    "\n",
    "    PREFIX crm: <http://www.cidoc-crm.org/cidoc-crm/>\n",
    "    PREFIX la: <https://linked.art/ns/terms/>\n",
    "    PREFIX rdfs: <http://www.w3.org/2000/01/rdf-schema#>\n",
    "    select ?s ?name ?birth_begin_time ?birth_end_time ?death_begin_time ?death_end_time where { \n",
    "        Graph <http://www.example.com/nmvw.linkedart/ccrdfconst/>{\n",
    "            ?s a crm:E21_Person .\n",
    "                                ?s crm:P1_is_identified_by ?name_bnode .\n",
    "                                ?name_bnode crm:P2_has_type <http://vocab.getty.edu/aat/300404670> .\n",
    "                                ?name_bnode crm:P190_has_symbolic_content ?name .\n",
    "            OPTIONAL{\n",
    "                                ?s crm:P98i_was_born ?birth_bNode .\n",
    "                                ?birth_bNode a crm:E67_Birth .\n",
    "                                ?birth_bNode crm:P4_has_time-span ?b_time.\n",
    "                                ?b_time a crm:E52_Time-Span .\n",
    "                                ?b_time crm:P82a_begin_of_the_begin ?birth_begin_time .\n",
    "                                ?b_time crm:P82b_end_of_the_end ?birth_end_time .\n",
    "            }\n",
    "            OPTIONAL{\n",
    "                                ?s crm:P100i_died_in ?death_bNode .\n",
    "                                ?death_bNode a crm:E69_Death .\n",
    "                                ?death_bNode crm:P4_has_time-span ?d_time.\n",
    "                                ?d_time a crm:E52_Time-Span .\n",
    "                                ?d_time crm:P82a_begin_of_the_begin ?death_begin_time .\n",
    "                                ?d_time crm:P82b_end_of_the_end ?death_end_time .\n",
    "            }\n",
    "        }\n",
    "    }\n"
   ]
  },
  {
   "cell_type": "code",
   "execution_count": null,
   "id": "931955b0",
   "metadata": {},
   "outputs": [],
   "source": [
    "constituent_graph.head()"
   ]
  },
  {
   "cell_type": "code",
   "execution_count": null,
   "id": "a364ff48",
   "metadata": {},
   "outputs": [],
   "source": [
    "import numpy as np\n",
    "\n",
    "def add_data_from_nmvw(ground_truth, constituent_graph):\n",
    "    for i, row in ground_truth.iterrows():\n",
    "        # check if the given cell is empty\n",
    "        if type(row['nmvw_uri']) == float and np.isnan(row['nmvw_uri']):\n",
    "            continue\n",
    "        else:\n",
    "            q_row = constituent_graph.loc[constituent_graph['s']==row['nmvw_uri']][['name', 'birth_begin_time', 'birth_end_time', 'death_begin_time', 'death_end_time' ]]\n",
    "            ground_truth.at[i, 'pref_label'] = str(q_row['name'].values[0])\n",
    "            if q_row['birth_begin_time'].values[0] is not None :\n",
    "                ground_truth.at[i, 'birth_begin_time'] = str(q_row['birth_begin_time'].values[0])\n",
    "            if q_row['birth_end_time'].values[0] is not None :\n",
    "                ground_truth.at[i, 'birth_end_time'] = str(q_row['birth_end_time'].values[0])\n",
    "            if q_row['death_begin_time'].values[0] is not None :\n",
    "                ground_truth.at[i, 'death_begin_time'] = str(q_row['death_begin_time'].values[0])\n",
    "            if q_row['death_end_time'].values[0] is not None :\n",
    "                ground_truth.at[i, 'death_end_time'] = str(q_row['death_end_time'].values[0])\n",
    "                \n",
    "    return ground_truth"
   ]
  },
  {
   "cell_type": "code",
   "execution_count": null,
   "id": "c9db1ee2",
   "metadata": {},
   "outputs": [],
   "source": [
    "ground_truth = pandas.read_csv(\"ground_truth.csv\")\n",
    "ground_truth = add_data_from_nmvw(ground_truth, constituent_graph)\n",
    "ground_truth.to_csv('ground_truth.csv', index= False)"
   ]
  },
  {
   "cell_type": "code",
   "execution_count": null,
   "id": "04b43820",
   "metadata": {},
   "outputs": [],
   "source": [
    "import numpy as np\n",
    "\n",
    "def add_data_from_bronbeek(ground_truth, bronbeek_constituents):\n",
    "    for i, row in ground_truth.iterrows():\n",
    "        # check if the given cell is empty\n",
    "        if type(row['ConstituentID']) == float and np.isnan(row['ConstituentID']):\n",
    "            continue\n",
    "        else:\n",
    "            q_row = bronbeek_constituents.loc[bronbeek_constituents['ConstituentID']==row['ConstituentID']][['AlphaSort', 'NameTitle', 'Biography', 'FirstName', 'MiddleName', 'LastName', 'Suffix', 'DisplayName', 'BeginDate', 'EndDate', 'DisplayDate', 'Nationality', 'BeginDateISO', 'EndDateISO']]\n",
    "            if q_row['AlphaSort'].values[0] is not None :\n",
    "                ground_truth.at[i, 'AlphaSort'] = str(q_row['AlphaSort'].values[0])\n",
    "            if q_row['NameTitle'].values[0] is not None :\n",
    "                ground_truth.at[i, 'NameTitle'] = str(q_row['NameTitle'].values[0])\n",
    "            if q_row['Biography'].values[0] is not None :\n",
    "                ground_truth.at[i, 'Biography'] = str(q_row['Biography'].values[0])\n",
    "            if q_row['FirstName'].values[0] is not None :\n",
    "                ground_truth.at[i, 'FirstName'] = str(q_row['FirstName'].values[0])\n",
    "            if q_row['MiddleName'].values[0] is not None :\n",
    "                ground_truth.at[i, 'MiddleName'] = str(q_row['MiddleName'].values[0])\n",
    "            if q_row['LastName'].values[0] is not None :\n",
    "                ground_truth.at[i, 'LastName'] = str(q_row['LastName'].values[0])\n",
    "            if q_row['Suffix'].values[0] is not None :\n",
    "                ground_truth.at[i, 'Suffix'] = str(q_row['Suffix'].values[0])\n",
    "            if q_row['DisplayName'].values[0] is not None :\n",
    "                ground_truth.at[i, 'DisplayName'] = str(q_row['DisplayName'].values[0])\n",
    "            if q_row['BeginDate'].values[0] is not None :\n",
    "                ground_truth.at[i, 'BeginDate'] = str(q_row['BeginDate'].values[0])\n",
    "            if q_row['EndDate'].values[0] is not None :\n",
    "                ground_truth.at[i, 'EndDate'] = str(q_row['EndDate'].values[0])\n",
    "            if q_row['DisplayDate'].values[0] is not None :\n",
    "                ground_truth.at[i, 'DisplayDate'] = str(q_row['DisplayDate'].values[0])\n",
    "            if q_row['Nationality'].values[0] is not None :\n",
    "                ground_truth.at[i, 'Nationality'] = str(q_row['Nationality'].values[0])\n",
    "            if q_row['BeginDateISO'].values[0] is not None :\n",
    "                ground_truth.at[i, 'BeginDateISO'] = str(q_row['BeginDateISO'].values[0])\n",
    "            if q_row['EndDateISO'].values[0] is not None :\n",
    "                ground_truth.at[i, 'EndDateISO'] = str(q_row['EndDateISO'].values[0])\n",
    "                \n",
    "    return ground_truth"
   ]
  },
  {
   "cell_type": "code",
   "execution_count": null,
   "id": "c6fbddb1",
   "metadata": {},
   "outputs": [],
   "source": [
    "ground_truth = pandas.read_csv(\"ground_truth_20_expertsname.csv\", sep=\";\")\n",
    "bronbeek_constituents = pandas.read_csv(\"/Users/sarah_shoilee/Desktop/Sarah/Bronbeek_Data/csv_dump/Constituents.csv\")\n",
    "ground_truth = add_data_from_bronbeek(ground_truth, bronbeek_constituents)\n",
    "ground_truth.to_csv('ground_truth_20_expertsname.csv')"
   ]
  },
  {
   "cell_type": "code",
   "execution_count": null,
   "id": "4c5af31a",
   "metadata": {},
   "outputs": [],
   "source": [
    "ground_truth.columns"
   ]
  },
  {
   "cell_type": "code",
   "execution_count": null,
   "id": "38bbc285",
   "metadata": {},
   "outputs": [],
   "source": []
  }
 ],
 "metadata": {
  "kernelspec": {
   "display_name": "Python 3",
   "language": "python",
   "name": "python3"
  },
  "language_info": {
   "codemirror_mode": {
    "name": "ipython",
    "version": 3
   },
   "file_extension": ".py",
   "mimetype": "text/x-python",
   "name": "python",
   "nbconvert_exporter": "python",
   "pygments_lexer": "ipython3",
   "version": "3.9.12"
  }
 },
 "nbformat": 4,
 "nbformat_minor": 5
}
