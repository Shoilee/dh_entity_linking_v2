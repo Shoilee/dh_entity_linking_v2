{
 "cells": [
  {
   "cell_type": "markdown",
   "id": "12d89fa2",
   "metadata": {},
   "source": [
    "<ul>\n",
    "<li>Task: Given two dataset A and B, find correspondance A--> B, based on determinat variable \n",
    "    ($\\theta$) e.g., 'FullName' or 'surname' <li>\n",
    "<li> Input: A(x1, x2, ...xn) and B(y1, y2, ..., ym) </li>\n",
    "<li> Output: A-->B {(x1-->y1, x2-->y2), ... , (xn-->ym)} </li>\n",
    "    \n",
    "<li> we are looking for n to n relationship </li>\n",
    "</ul>"
   ]
  },
  {
   "cell_type": "code",
   "execution_count": 1,
   "id": "a29137b6",
   "metadata": {},
   "outputs": [],
   "source": [
    "import sys\n",
    "sys.path.append(\"..\") "
   ]
  },
  {
   "cell_type": "code",
   "execution_count": 2,
   "id": "c0d4faca",
   "metadata": {},
   "outputs": [],
   "source": [
    "import pandas, pickle"
   ]
  },
  {
   "cell_type": "markdown",
   "id": "441fbb3c",
   "metadata": {},
   "source": [
    "This script takes into consideration of 16 expert given correspondance, where we know the exact correspondace of nmvw $times$ bronbeek constituents.\n",
    "\n",
    "Source --> NMVW (15); L. (Louis) van Vuuren has two correspondance, due to double entry in Bronbeek.\n",
    "\n",
    "Target --> Bronbeek (16)"
   ]
  },
  {
   "cell_type": "markdown",
   "id": "261ec800",
   "metadata": {},
   "source": [
    "Evaluation: precision and recall on [ground_truth_16_expertsname.tsv](ground_truth_16_expertsname.tsv)"
   ]
  },
  {
   "cell_type": "code",
   "execution_count": 3,
   "id": "15f2a35c",
   "metadata": {},
   "outputs": [],
   "source": [
    "df1 = pandas.read_csv(\"ground_truth_16_expertsname.tsv\", sep=\"\\t\", index_col=0).iloc[:, 0:6]\n",
    "df2 = pandas.read_csv(\"ground_truth_16_expertsname.tsv\", sep=\"\\t\", index_col=0).iloc[:, 5:]"
   ]
  },
  {
   "cell_type": "code",
   "execution_count": 4,
   "id": "4562f9ab",
   "metadata": {},
   "outputs": [
    {
     "name": "stdout",
     "output_type": "stream",
     "text": [
      "The shape of NMVW data: (16, 6)\n",
      "The shape of Bronbeek data: (16, 21)\n"
     ]
    }
   ],
   "source": [
    "print(f\"The shape of NMVW data: {df1.shape}\")\n",
    "print(f\"The shape of Bronbeek data: {df2.shape}\")"
   ]
  },
  {
   "cell_type": "markdown",
   "id": "fb861fe3",
   "metadata": {},
   "source": [
    "# Exact string matching"
   ]
  },
  {
   "cell_type": "code",
   "execution_count": 9,
   "id": "744c721f",
   "metadata": {},
   "outputs": [
    {
     "name": "stdout",
     "output_type": "stream",
     "text": [
      "32 workers are available\n"
     ]
    },
    {
     "name": "stderr",
     "output_type": "stream",
     "text": [
      "\r",
      "0it [00:00, ?it/s]\r",
      "1it [00:00, 429.92it/s]\n",
      "\r",
      "0it [00:00, ?it/s]\r",
      "0it [00:00, ?it/s]\r",
      "1it [00:00, 420.73it/s]\n",
      "\r",
      "0it [00:00, ?it/s]\r",
      "0it [00:00, ?it/s]\r",
      "0it [00:00, ?it/s]\r",
      "1it [00:00, 126.32it/s]\n",
      "\r",
      "1it [00:00, 426.25it/s]\n",
      "\r",
      "1it [00:00, 431.02it/s]\n",
      "\r",
      "1it [00:00, 442.48it/s]\n",
      "\r",
      "0it [00:00, ?it/s]\r",
      "1it [00:00, 426.25it/s]\n",
      "\r",
      "0it [00:00, ?it/s]\r",
      "0it [00:00, ?it/s]\r",
      "0it [00:00, ?it/s]\r",
      "0it [00:00, ?it/s]\r",
      "1it [00:00, 434.01it/s]\n",
      "\r",
      "0it [00:00, ?it/s]\r",
      "1it [00:00, 422.13it/s]\n",
      "\r",
      "1it [00:00, 432.94it/s]\n",
      "\r",
      "1it [00:00, 430.85it/s]\n",
      "\r",
      "1it [00:00, 438.64it/s]\n",
      "\r",
      "0it [00:00, ?it/s]\r",
      "0it [00:00, ?it/s]\r",
      "0it [00:00, ?it/s]\r",
      "1it [00:00, 423.75it/s]\n",
      "\r",
      "0it [00:00, ?it/s]\r",
      "1it [00:00, 441.09it/s]\n",
      "\r",
      "1it [00:00, 443.70it/s]\n",
      "\r",
      "0it [00:00, ?it/s]\r",
      "0it [00:00, ?it/s]\n",
      "\r",
      "0it [00:00, ?it/s]\r",
      "0it [00:00, ?it/s]\r",
      "0it [00:00, ?it/s]\n",
      "\r",
      "0it [00:00, ?it/s]\n",
      "\r",
      "0it [00:00, ?it/s]\r",
      "0it [00:00, ?it/s]\n",
      "\r",
      "0it [00:00, ?it/s]\r",
      "0it [00:00, ?it/s]\n",
      "\r",
      "1it [00:00, 71.69it/s]\n",
      "\r",
      "0it [00:00, ?it/s]\r",
      "0it [00:00, ?it/s]\r",
      "0it [00:00, ?it/s]\n",
      "\r",
      "0it [00:00, ?it/s]\n",
      "\r",
      "0it [00:00, ?it/s]\r",
      "0it [00:00, ?it/s]\n",
      "\r",
      "0it [00:00, ?it/s]\r",
      "0it [00:00, ?it/s]\n",
      "\r",
      "0it [00:00, ?it/s]\r",
      "0it [00:00, ?it/s]\n",
      "\r",
      "0it [00:00, ?it/s]\r",
      "0it [00:00, ?it/s]\n",
      "\r",
      "0it [00:00, ?it/s]\r",
      "0it [00:00, ?it/s]\n",
      "\r",
      "0it [00:00, ?it/s]\r",
      "0it [00:00, ?it/s]\n",
      "\r",
      "0it [00:00, ?it/s]\r",
      "0it [00:00, ?it/s]\n",
      "\r",
      "0it [00:00, ?it/s]\r",
      "0it [00:00, ?it/s]\n",
      "\r",
      "0it [00:00, ?it/s]\r",
      "0it [00:00, ?it/s]\n"
     ]
    }
   ],
   "source": [
    "from matchexactstring.match_exact_string import matchExactString\n",
    "\n",
    "result_exact = matchExactString(df1, df2)"
   ]
  },
  {
   "cell_type": "code",
   "execution_count": 10,
   "id": "fed90ca2",
   "metadata": {},
   "outputs": [],
   "source": [
    "with open(\"expertgivennames/ExactMatchResults.pkl\", \"wb\") as handle:\n",
    "    pickle.dump(result_exact, handle, protocol=pickle.HIGHEST_PROTOCOL)"
   ]
  },
  {
   "cell_type": "code",
   "execution_count": 11,
   "id": "e0e5ba15",
   "metadata": {},
   "outputs": [
    {
     "data": {
      "text/plain": [
       "(1, 27)"
      ]
     },
     "execution_count": 11,
     "metadata": {},
     "output_type": "execute_result"
    }
   ],
   "source": [
    "df = pandas.read_pickle(\"expertgivennames/ExactMatchResults.pkl\")\n",
    "df.to_csv(\"expertgivennames/ExactMatchResults.tsv\", sep=\"\\t\", index=True)\n",
    "df.shape"
   ]
  },
  {
   "cell_type": "code",
   "execution_count": 12,
   "id": "8df5ddc6",
   "metadata": {},
   "outputs": [
    {
     "name": "stdout",
     "output_type": "stream",
     "text": [
      "Total correspondence: 16 \n",
      "True positive count: 1\n",
      "Recall: 0.0625\n",
      "\n",
      "\n",
      "Total correspondence: 1\n",
      "Total retrieved: 1\n",
      "True positive count: 1 \n",
      "Precision: 1.0\n",
      "\n",
      "\n",
      "F-measure: 0.11764705882352941\n",
      "\n"
     ]
    },
    {
     "data": {
      "text/plain": [
       "(16, 1, 1, 0.0625, 1.0, 0.11764705882352941)"
      ]
     },
     "execution_count": 12,
     "metadata": {},
     "output_type": "execute_result"
    }
   ],
   "source": [
    "from calculate_result import calculate_result\n",
    "ground_truth = pandas.read_csv(\"ground_truth_16_expertsname.tsv\", sep=\"\\t\", index_col=0)\n",
    "calculate_result(df, ground_truth)"
   ]
  },
  {
   "cell_type": "markdown",
   "id": "097f7e18",
   "metadata": {},
   "source": [
    "# Abbreviation Matching"
   ]
  },
  {
   "cell_type": "code",
   "execution_count": 17,
   "id": "9309cb5d",
   "metadata": {},
   "outputs": [
    {
     "name": "stdout",
     "output_type": "stream",
     "text": [
      "32 workers are available\n"
     ]
    }
   ],
   "source": [
    "from matchwithabbreviation.match_with_abbreviation import match_with_abbreviation\n",
    "result_abbreviation = match_with_abbreviation(df1, df2)"
   ]
  },
  {
   "cell_type": "code",
   "execution_count": 18,
   "id": "ba72e64b",
   "metadata": {},
   "outputs": [],
   "source": [
    "with open(\"expertgivennames/AbbreviationMatchResults.pkl\", \"wb\") as handle:\n",
    "    pickle.dump(result_abbreviation, handle, protocol=pickle.HIGHEST_PROTOCOL)"
   ]
  },
  {
   "cell_type": "code",
   "execution_count": 19,
   "id": "bcbc1d14",
   "metadata": {},
   "outputs": [
    {
     "data": {
      "text/plain": [
       "(2, 28)"
      ]
     },
     "execution_count": 19,
     "metadata": {},
     "output_type": "execute_result"
    }
   ],
   "source": [
    "df = pandas.read_pickle(\"expertgivennames/AbbreviationMatchResults.pkl\")\n",
    "df.to_csv(\"expertgivennames/AbbreviationMatchResults.tsv\", sep=\"\\t\", index=True)\n",
    "df.shape"
   ]
  },
  {
   "cell_type": "code",
   "execution_count": 20,
   "id": "8e15621c",
   "metadata": {},
   "outputs": [
    {
     "name": "stdout",
     "output_type": "stream",
     "text": [
      "Total correspondence: 16 \n",
      "True positive count: 2\n",
      "Recall: 0.125\n",
      "\n",
      "\n",
      "Total correspondence: 2\n",
      "Total retrieved: 2\n",
      "True positive count: 2 \n",
      "Precision: 1.0\n",
      "\n",
      "\n",
      "F-measure: 0.2222222222222222\n",
      "\n"
     ]
    },
    {
     "data": {
      "text/plain": [
       "(16, 2, 2, 0.125, 1.0, 0.2222222222222222)"
      ]
     },
     "execution_count": 20,
     "metadata": {},
     "output_type": "execute_result"
    }
   ],
   "source": [
    "from calculate_result import calculate_result\n",
    "ground_truth = pandas.read_csv(\"ground_truth_16_expertsname.tsv\", sep=\"\\t\", index_col=0)\n",
    "calculate_result(df, ground_truth)"
   ]
  },
  {
   "cell_type": "markdown",
   "id": "32d16a71",
   "metadata": {},
   "source": [
    "# Surname Matching"
   ]
  },
  {
   "cell_type": "code",
   "execution_count": 13,
   "id": "c3a06cab",
   "metadata": {},
   "outputs": [
    {
     "name": "stdout",
     "output_type": "stream",
     "text": [
      "32 workers are available\n"
     ]
    },
    {
     "name": "stderr",
     "output_type": "stream",
     "text": [
      "\r",
      "0it [00:00, ?it/s]\r",
      "1it [00:00, 391.08it/s]\n",
      "\r",
      "0it [00:00, ?it/s]\r",
      "0it [00:00, ?it/s]\r",
      "0it [00:00, ?it/s]\r",
      "1it [00:00, 45.43it/s]\r",
      "1it [00:00, 37.85it/s]\n",
      "\r",
      "1it [00:00, 49.53it/s]\n",
      "\n",
      "\r",
      "0it [00:00, ?it/s]\r",
      "0it [00:00, ?it/s]\n",
      "\r",
      "0it [00:00, ?it/s]\r",
      "0it [00:00, ?it/s]\r",
      "0it [00:00, ?it/s]\r",
      "0it [00:00, ?it/s]\r",
      "0it [00:00, ?it/s]\r",
      "0it [00:00, ?it/s]\r",
      "1it [00:00, 398.28it/s]\n",
      "\r",
      "1it [00:00, 92.39it/s]\n",
      "\r",
      "0it [00:00, ?it/s]\r",
      "1it [00:00, 51.13it/s]\n",
      "\r",
      "0it [00:00, ?it/s]\r",
      "1it [00:00, 83.31it/s]\n",
      "\r",
      "0it [00:00, ?it/s]\r",
      "1it [00:00, 75.44it/s]\n",
      "\r",
      "0it [00:00, ?it/s]\r",
      "0it [00:00, ?it/s]\n",
      "\r",
      "1it [00:00, 72.61it/s]\n",
      "\r",
      "0it [00:00, ?it/s]\r",
      "0it [00:00, ?it/s]\n",
      "\r",
      "0it [00:00, ?it/s]\r",
      "1it [00:00, 374.52it/s]\n",
      "\r",
      "0it [00:00, ?it/s]\r",
      "0it [00:00, ?it/s]\r",
      "0it [00:00, ?it/s]\n",
      "\r",
      "0it [00:00, ?it/s]\r",
      "0it [00:00, ?it/s]\n",
      "\r",
      "0it [00:00, ?it/s]\r",
      "0it [00:00, ?it/s]\r",
      "0it [00:00, ?it/s]\n",
      "\r",
      "1it [00:00, 84.63it/s]\n",
      "\r",
      "0it [00:00, ?it/s]\r",
      "0it [00:00, ?it/s]\r",
      "0it [00:00, ?it/s]\n",
      "\r",
      "0it [00:00, ?it/s]\n",
      "\r",
      "1it [00:00, 91.37it/s]\n",
      "\r",
      "1it [00:00, 117.49it/s]\n",
      "\r",
      "1it [00:00, 96.89it/s]\n",
      "\r",
      "0it [00:00, ?it/s]\r",
      "0it [00:00, ?it/s]\n",
      "\r",
      "1it [00:00, 103.96it/s]\n",
      "\r",
      "0it [00:00, ?it/s]\r",
      "0it [00:00, ?it/s]\n",
      "\r",
      "0it [00:00, ?it/s]\r",
      "0it [00:00, ?it/s]\n",
      "\r",
      "0it [00:00, ?it/s]\r",
      "0it [00:00, ?it/s]\n",
      "\r",
      "0it [00:00, ?it/s]\r",
      "0it [00:00, ?it/s]\n",
      "\r",
      "0it [00:00, ?it/s]\r",
      "0it [00:00, ?it/s]\n",
      "\r",
      "0it [00:00, ?it/s]\r",
      "0it [00:00, ?it/s]\n",
      "\r",
      "0it [00:00, ?it/s]\r",
      "0it [00:00, ?it/s]\n"
     ]
    }
   ],
   "source": [
    "from matchsurname.match_surname import matchLastName\n",
    "result_surname = matchLastName(df1, df2)"
   ]
  },
  {
   "cell_type": "code",
   "execution_count": 14,
   "id": "7c074835",
   "metadata": {},
   "outputs": [],
   "source": [
    "with open(\"expertgivennames/SurnameMatchResults.pkl\", \"wb\") as handle:\n",
    "    pickle.dump(result_surname, handle, protocol=pickle.HIGHEST_PROTOCOL)"
   ]
  },
  {
   "cell_type": "code",
   "execution_count": 15,
   "id": "371c614c",
   "metadata": {},
   "outputs": [
    {
     "data": {
      "text/plain": [
       "(13, 27)"
      ]
     },
     "execution_count": 15,
     "metadata": {},
     "output_type": "execute_result"
    }
   ],
   "source": [
    "df = pandas.read_pickle(\"expertgivennames/SurnameMatchResults.pkl\")\n",
    "df.to_csv(\"expertgivennames/SurnameMatchResults.tsv\", sep=\"\\t\", index=True)\n",
    "df.shape"
   ]
  },
  {
   "cell_type": "code",
   "execution_count": 16,
   "id": "59f96108",
   "metadata": {},
   "outputs": [
    {
     "name": "stdout",
     "output_type": "stream",
     "text": [
      "Total correspondence: 16 \n",
      "True positive count: 13\n",
      "Recall: 0.8125\n",
      "\n",
      "\n",
      "Total correspondence: 13\n",
      "Total retrieved: 13\n",
      "True positive count: 13 \n",
      "Precision: 1.0\n",
      "\n",
      "\n",
      "F-measure: 0.896551724137931\n",
      "\n"
     ]
    },
    {
     "data": {
      "text/plain": [
       "(16, 13, 13, 0.8125, 1.0, 0.896551724137931)"
      ]
     },
     "execution_count": 16,
     "metadata": {},
     "output_type": "execute_result"
    }
   ],
   "source": [
    "from calculate_result import calculate_result\n",
    "ground_truth = pandas.read_csv(\"ground_truth_16_expertsname.tsv\", sep=\"\\t\", index_col=0)\n",
    "calculate_result(df, ground_truth)"
   ]
  },
  {
   "cell_type": "markdown",
   "id": "6ef8b309",
   "metadata": {},
   "source": [
    "# Fuzzy String Match"
   ]
  },
  {
   "cell_type": "code",
   "execution_count": 5,
   "id": "3b891402",
   "metadata": {},
   "outputs": [
    {
     "name": "stdout",
     "output_type": "stream",
     "text": [
      "32 workers are available\n"
     ]
    },
    {
     "name": "stderr",
     "output_type": "stream",
     "text": [
      "\r",
      "0it [00:00, ?it/s]\r",
      "0it [00:00, ?it/s]\r",
      "0it [00:00, ?it/s]\r",
      "0it [00:00, ?it/s]\r",
      "1it [00:00, 41.37it/s]\n",
      "\r",
      "0it [00:00, ?it/s]\r",
      "0it [00:00, ?it/s]\r",
      "0it [00:00, ?it/s]\r",
      "0it [00:00, ?it/s]\r",
      "0it [00:00, ?it/s]\r",
      "1it [00:00, 24.31it/s]\n",
      "\r",
      "0it [00:00, ?it/s]\r",
      "1it [00:00, 38.95it/s]\r",
      "1it [00:00, 39.30it/s]\n",
      "\r",
      "1it [00:00, 44.05it/s]\n",
      "\r",
      "1it [00:00, 47.27it/s]\n",
      "\r",
      "1it [00:00, 59.40it/s]\n",
      "\n",
      "\r",
      "1it [00:00, 140.19it/s]\n",
      "\r",
      "1it [00:00, 42.84it/s]\n",
      "\r",
      "0it [00:00, ?it/s]\r",
      "0it [00:00, ?it/s]\r",
      "0it [00:00, ?it/s]\r",
      "0it [00:00, ?it/s]\r",
      "0it [00:00, ?it/s]\r",
      "0it [00:00, ?it/s]\n",
      "\r",
      "0it [00:00, ?it/s]\r",
      "1it [00:00, 105.93it/s]\r",
      "0it [00:00, ?it/s]\r",
      "1it [00:00, 32.26it/s]\n",
      "\r",
      "0it [00:00, ?it/s]\r",
      "0it [00:00, ?it/s]\r",
      "0it [00:00, ?it/s]\n",
      "\r",
      "0it [00:00, ?it/s]\n",
      "\n",
      "\r",
      "0it [00:00, ?it/s]\r",
      "1it [00:00, 51.27it/s]\n",
      "\r",
      "0it [00:00, ?it/s]\n",
      "\r",
      "1it [00:00, 61.35it/s]\n",
      "\r",
      "1it [00:00, 46.78it/s]\n",
      "\r",
      "1it [00:00, 48.20it/s]\n",
      "\r",
      "0it [00:00, ?it/s]\r",
      "0it [00:00, ?it/s]\r",
      "1it [00:00, 62.60it/s]\n",
      "\r",
      "0it [00:00, ?it/s]\r",
      "0it [00:00, ?it/s]\n",
      "\r",
      "0it [00:00, ?it/s]\n",
      "\r",
      "0it [00:00, ?it/s]\n",
      "\r",
      "0it [00:00, ?it/s]\r",
      "0it [00:00, ?it/s]\n",
      "\r",
      "0it [00:00, ?it/s]\r",
      "0it [00:00, ?it/s]\n",
      "\r",
      "0it [00:00, ?it/s]\r",
      "0it [00:00, ?it/s]\n",
      "\r",
      "0it [00:00, ?it/s]\r",
      "0it [00:00, ?it/s]\n",
      "\r",
      "0it [00:00, ?it/s]\r",
      "0it [00:00, ?it/s]\n",
      "\r",
      "0it [00:00, ?it/s]\r",
      "0it [00:00, ?it/s]\n",
      "\r",
      "0it [00:00, ?it/s]\r",
      "0it [00:00, ?it/s]\r",
      "0it [00:00, ?it/s]\n",
      "\r",
      "0it [00:00, ?it/s]\n",
      "\r",
      "0it [00:00, ?it/s]\r",
      "0it [00:00, ?it/s]\n"
     ]
    }
   ],
   "source": [
    "from matchfuzzystring.match_fuzzy_string import match_fuzzy_string\n",
    "result_fuzzymatch = match_fuzzy_string(df1, df2, max_score=75)"
   ]
  },
  {
   "cell_type": "code",
   "execution_count": 6,
   "id": "acfe6457",
   "metadata": {},
   "outputs": [],
   "source": [
    "with open(\"expertgivennames/FuzzyStringMatchResults.pkl\", \"wb\") as handle:\n",
    "    pickle.dump(result_fuzzymatch, handle, protocol=pickle.HIGHEST_PROTOCOL)"
   ]
  },
  {
   "cell_type": "code",
   "execution_count": 7,
   "id": "f316a8dc",
   "metadata": {},
   "outputs": [
    {
     "data": {
      "text/plain": [
       "(13, 28)"
      ]
     },
     "execution_count": 7,
     "metadata": {},
     "output_type": "execute_result"
    }
   ],
   "source": [
    "df = pandas.read_pickle(\"expertgivennames/FuzzyStringMatchResults.pkl\")\n",
    "df.to_csv(\"expertgivennames/FuzzyStringMatchResults.tsv\", sep=\"\\t\", index=True)\n",
    "df.shape"
   ]
  },
  {
   "cell_type": "code",
   "execution_count": 8,
   "id": "562b9037",
   "metadata": {},
   "outputs": [
    {
     "name": "stdout",
     "output_type": "stream",
     "text": [
      "Total correspondence: 16 \n",
      "True positive count: 13\n",
      "Recall: 0.8125\n",
      "\n",
      "\n",
      "Total correspondence: 13\n",
      "Total retrieved: 13\n",
      "True positive count: 13 \n",
      "Precision: 1.0\n",
      "\n",
      "\n",
      "F-measure: 0.896551724137931\n",
      "\n"
     ]
    },
    {
     "data": {
      "text/plain": [
       "(16, 13, 13, 0.8125, 1.0, 0.896551724137931)"
      ]
     },
     "execution_count": 8,
     "metadata": {},
     "output_type": "execute_result"
    }
   ],
   "source": [
    "from calculate_result import calculate_result\n",
    "ground_truth = pandas.read_csv(\"ground_truth_16_expertsname.tsv\", sep=\"\\t\", index_col=0)\n",
    "calculate_result(df, ground_truth)"
   ]
  }
 ],
 "metadata": {
  "kernelspec": {
   "display_name": "Python (py39deezy)",
   "language": "python",
   "name": "py39deezy"
  },
  "language_info": {
   "codemirror_mode": {
    "name": "ipython",
    "version": 3
   },
   "file_extension": ".py",
   "mimetype": "text/x-python",
   "name": "python",
   "nbconvert_exporter": "python",
   "pygments_lexer": "ipython3",
   "version": "3.9.12"
  }
 },
 "nbformat": 4,
 "nbformat_minor": 5
}
