{
 "cells": [
  {
   "cell_type": "markdown",
   "id": "12d89fa2",
   "metadata": {},
   "source": [
    "Task: Given two dataset A and B, find correspondance A--> B, based on determinat variable \n",
    "    ($\\theta$) e.g., 'FullName' or 'surname'\n",
    "<li>NB: we are looking for n to n relationship </li>"
   ]
  },
  {
   "cell_type": "markdown",
   "id": "0988011c",
   "metadata": {},
   "source": [
    "<ul>\n",
    "<li> Input: A(x1, x2, ...xn) and B(y1, y2, ..., ym) </li>\n",
    "<li> Output: A-->B {(x1-->y1, x2-->y2), ... , (xn-->ym)} </li>\n",
    "</ul>"
   ]
  },
  {
   "cell_type": "code",
   "execution_count": 1,
   "id": "a29137b6",
   "metadata": {},
   "outputs": [],
   "source": [
    "import sys\n",
    "sys.path.append(\"..\") "
   ]
  },
  {
   "cell_type": "code",
   "execution_count": 2,
   "id": "c0d4faca",
   "metadata": {},
   "outputs": [],
   "source": [
    "import pandas, pickle"
   ]
  },
  {
   "cell_type": "markdown",
   "id": "441fbb3c",
   "metadata": {},
   "source": [
    "This script takes into consideration of 16 expert given correspondance, where we know the exact correspondace of nmvw $times$ bronbeek constituents.\n",
    "\n",
    "Source --> NMVW (15); L. (Louis) van Vuuren has two correspondance, due to double entry in Bronbeek.\n",
    "\n",
    "Target --> Bronbeek (16)"
   ]
  },
  {
   "cell_type": "markdown",
   "id": "261ec800",
   "metadata": {},
   "source": [
    "Evaluation: precision and recall on [ground_truth_16_expertsname.tsv](ground_truth_16_expertsname.tsv)"
   ]
  },
  {
   "cell_type": "code",
   "execution_count": 3,
   "id": "15f2a35c",
   "metadata": {},
   "outputs": [],
   "source": [
    "df1 = pandas.read_csv(\"ground_truth_16_expertsname.tsv\", sep=\"\\t\", index_col=0).iloc[:, 0:6]\n",
    "df2 = pandas.read_csv(\"ground_truth_16_expertsname.tsv\", sep=\"\\t\", index_col=0).iloc[:, 5:]"
   ]
  },
  {
   "cell_type": "code",
   "execution_count": 4,
   "id": "4562f9ab",
   "metadata": {},
   "outputs": [
    {
     "name": "stdout",
     "output_type": "stream",
     "text": [
      "The shape of NMVW data: (16, 6)\n",
      "The shape of Bronbeek data: (16, 21)\n"
     ]
    }
   ],
   "source": [
    "print(f\"The shape of NMVW data: {df1.shape}\")\n",
    "print(f\"The shape of Bronbeek data: {df2.shape}\")"
   ]
  },
  {
   "cell_type": "markdown",
   "id": "fb861fe3",
   "metadata": {},
   "source": [
    "# Exact string matching"
   ]
  },
  {
   "cell_type": "code",
   "execution_count": 5,
   "id": "744c721f",
   "metadata": {},
   "outputs": [
    {
     "name": "stdout",
     "output_type": "stream",
     "text": [
      "32 workers are available\n"
     ]
    },
    {
     "name": "stderr",
     "output_type": "stream",
     "text": [
      "\r",
      "0it [00:00, ?it/s]\r",
      "1it [00:00, 380.33it/s]\n",
      "\r",
      "0it [00:00, ?it/s]\r",
      "0it [00:00, ?it/s]\n",
      "\r",
      "0it [00:00, ?it/s]\r",
      "1it [00:00, 418.93it/s]\n",
      "\r",
      "0it [00:00, ?it/s]\r",
      "0it [00:00, ?it/s]\r",
      "0it [00:00, ?it/s]\n",
      "\r",
      "1it [00:00, 284.19it/s]\n",
      "\r",
      "0it [00:00, ?it/s]\r",
      "0it [00:00, ?it/s]\r",
      "1it [00:00, 311.73it/s]\n",
      "\r",
      "1it [00:00, 239.56it/s]\n",
      "\r",
      "0it [00:00, ?it/s]\r",
      "0it [00:00, ?it/s]\r",
      "0it [00:00, ?it/s]\n",
      "\r",
      "1it [00:00, 313.26it/s]\n",
      "\r",
      "0it [00:00, ?it/s]\r",
      "1it [00:00, 404.04it/s]\n",
      "\r",
      "0it [00:00, ?it/s]\r",
      "0it [00:00, ?it/s]\r",
      "1it [00:00, 383.01it/s]\n",
      "\r",
      "1it [00:00, 330.81it/s]\n",
      "\r",
      "0it [00:00, ?it/s]\r",
      "0it [00:00, ?it/s]\r",
      "1it [00:00, 304.42it/s]\n",
      "\r",
      "0it [00:00, ?it/s]\r",
      "0it [00:00, ?it/s]\r",
      "0it [00:00, ?it/s]\n",
      "\r",
      "0it [00:00, ?it/s]\n",
      "\r",
      "0it [00:00, ?it/s]\r",
      "0it [00:00, ?it/s]\n",
      "\r",
      "0it [00:00, ?it/s]\r",
      "0it [00:00, ?it/s]\r",
      "1it [00:00, 67.72it/s]\n",
      "\r",
      "1it [00:00, 370.62it/s]\n",
      "\r",
      "1it [00:00, 404.35it/s]\n",
      "\r",
      "0it [00:00, ?it/s]\r",
      "0it [00:00, ?it/s]\n",
      "\r",
      "0it [00:00, ?it/s]\r",
      "1it [00:00, 416.31it/s]\n",
      "\r",
      "0it [00:00, ?it/s]\r",
      "1it [00:00, 422.81it/s]\n",
      "\r",
      "0it [00:00, ?it/s]\r",
      "0it [00:00, ?it/s]\n",
      "\r",
      "0it [00:00, ?it/s]\r",
      "0it [00:00, ?it/s]\n",
      "\r",
      "0it [00:00, ?it/s]\r",
      "1it [00:00, 702.33it/s]\n",
      "\r",
      "0it [00:00, ?it/s]\r",
      "0it [00:00, ?it/s]\n",
      "\r",
      "0it [00:00, ?it/s]\r",
      "0it [00:00, ?it/s]\n",
      "\r",
      "0it [00:00, ?it/s]\r",
      "0it [00:00, ?it/s]\n",
      "\r",
      "0it [00:00, ?it/s]\r",
      "0it [00:00, ?it/s]\n",
      "\r",
      "0it [00:00, ?it/s]\r",
      "0it [00:00, ?it/s]\n",
      "\r",
      "0it [00:00, ?it/s]\r",
      "0it [00:00, ?it/s]\n",
      "\r",
      "0it [00:00, ?it/s]\r",
      "0it [00:00, ?it/s]\n"
     ]
    }
   ],
   "source": [
    "from matchexactstring.match_exact_string import matchExactString\n",
    "\n",
    "result_exact = matchExactString(df1, df2)"
   ]
  },
  {
   "cell_type": "code",
   "execution_count": 6,
   "id": "fed90ca2",
   "metadata": {},
   "outputs": [],
   "source": [
    "with open(\"expertgivennames/ExactMatchResults.pkl\", \"wb\") as handle:\n",
    "    pickle.dump(result_exact, handle, protocol=pickle.HIGHEST_PROTOCOL)"
   ]
  },
  {
   "cell_type": "code",
   "execution_count": 7,
   "id": "e0e5ba15",
   "metadata": {},
   "outputs": [
    {
     "data": {
      "text/plain": [
       "(1, 27)"
      ]
     },
     "execution_count": 7,
     "metadata": {},
     "output_type": "execute_result"
    }
   ],
   "source": [
    "df = pandas.read_pickle(\"expertgivennames/ExactMatchResults.pkl\")\n",
    "df.to_csv(\"expertgivennames/ExactMatchResults.tsv\", sep=\"\\t\", index=True)\n",
    "df.shape"
   ]
  },
  {
   "cell_type": "code",
   "execution_count": 8,
   "id": "8df5ddc6",
   "metadata": {},
   "outputs": [
    {
     "name": "stdout",
     "output_type": "stream",
     "text": [
      "Total correspondence: 16 \n",
      "True positive count: 1\n",
      "Recall: 0.0625\n",
      "\n",
      "\n",
      "Total correspondence: 1\n",
      "Total retrieved: 1\n",
      "True positive count: 1 \n",
      "Precision: 1.0\n",
      "\n",
      "\n",
      "F-measure: 0.11764705882352941\n",
      "\n"
     ]
    },
    {
     "data": {
      "text/plain": [
       "(16, 1, 1, 0.0625, 1.0, 0.11764705882352941)"
      ]
     },
     "execution_count": 8,
     "metadata": {},
     "output_type": "execute_result"
    }
   ],
   "source": [
    "from calculate_result import calculate_result\n",
    "ground_truth = pandas.read_csv(\"ground_truth_16_expertsname.tsv\", sep=\"\\t\", index_col=0)\n",
    "calculate_result(df, ground_truth)"
   ]
  },
  {
   "cell_type": "code",
   "execution_count": 14,
   "id": "da0eb6a4",
   "metadata": {},
   "outputs": [
    {
     "data": {
      "text/html": [
       "<div>\n",
       "<style scoped>\n",
       "    .dataframe tbody tr th:only-of-type {\n",
       "        vertical-align: middle;\n",
       "    }\n",
       "\n",
       "    .dataframe tbody tr th {\n",
       "        vertical-align: top;\n",
       "    }\n",
       "\n",
       "    .dataframe thead th {\n",
       "        text-align: right;\n",
       "    }\n",
       "</style>\n",
       "<table border=\"1\" class=\"dataframe\">\n",
       "  <thead>\n",
       "    <tr style=\"text-align: right;\">\n",
       "      <th></th>\n",
       "      <th>nmvw_uri</th>\n",
       "      <th>pref_label</th>\n",
       "      <th>birth_begin_time</th>\n",
       "      <th>birth_end_time</th>\n",
       "      <th>death_begin_time</th>\n",
       "      <th>death_end_time</th>\n",
       "      <th>death_end_time</th>\n",
       "      <th>ConstituentID</th>\n",
       "      <th>AlphaSort</th>\n",
       "      <th>NameTitle</th>\n",
       "      <th>Biography</th>\n",
       "      <th>FirstName</th>\n",
       "      <th>MiddleName</th>\n",
       "      <th>LastName</th>\n",
       "      <th>Suffix</th>\n",
       "      <th>FullName</th>\n",
       "      <th>DisplayName</th>\n",
       "    </tr>\n",
       "  </thead>\n",
       "  <tbody>\n",
       "    <tr>\n",
       "      <th>0</th>\n",
       "      <td>https://hdl.handle.net/20.500.11840/pi64129</td>\n",
       "      <td>Adolphe Zimmermans</td>\n",
       "      <td>1858-04-02</td>\n",
       "      <td>1858-04-02</td>\n",
       "      <td>1922-07-02</td>\n",
       "      <td>1922-07-02</td>\n",
       "      <td>1922-07-02</td>\n",
       "      <td>5995.0</td>\n",
       "      <td>Zimmermans Adolphe</td>\n",
       "      <td>NaN</td>\n",
       "      <td>Signeert met: \"Adolphe Zimmermans Photographe ...</td>\n",
       "      <td>Adolphe</td>\n",
       "      <td>NaN</td>\n",
       "      <td>Zimmermans</td>\n",
       "      <td>NaN</td>\n",
       "      <td>Adolphe Zimmermans</td>\n",
       "      <td>Adolphe Zimmermans</td>\n",
       "    </tr>\n",
       "  </tbody>\n",
       "</table>\n",
       "</div>"
      ],
      "text/plain": [
       "                                      nmvw_uri          pref_label  \\\n",
       "0  https://hdl.handle.net/20.500.11840/pi64129  Adolphe Zimmermans   \n",
       "\n",
       "  birth_begin_time birth_end_time death_begin_time death_end_time  \\\n",
       "0       1858-04-02     1858-04-02       1922-07-02     1922-07-02   \n",
       "\n",
       "  death_end_time  ConstituentID           AlphaSort NameTitle  \\\n",
       "0     1922-07-02         5995.0  Zimmermans Adolphe       NaN   \n",
       "\n",
       "                                           Biography FirstName MiddleName  \\\n",
       "0  Signeert met: \"Adolphe Zimmermans Photographe ...   Adolphe        NaN   \n",
       "\n",
       "     LastName Suffix            FullName         DisplayName  \n",
       "0  Zimmermans    NaN  Adolphe Zimmermans  Adolphe Zimmermans  "
      ]
     },
     "execution_count": 14,
     "metadata": {},
     "output_type": "execute_result"
    }
   ],
   "source": [
    "df.iloc[:, :17]"
   ]
  },
  {
   "cell_type": "markdown",
   "id": "097f7e18",
   "metadata": {},
   "source": [
    "# Abbreviation Matching"
   ]
  },
  {
   "cell_type": "code",
   "execution_count": null,
   "id": "9309cb5d",
   "metadata": {},
   "outputs": [],
   "source": [
    "from matchwithabbreviation.match_with_abbreviation import match_with_abbreviation\n",
    "result_abbreviation = match_with_abbreviation(df1, df2)"
   ]
  },
  {
   "cell_type": "code",
   "execution_count": null,
   "id": "ba72e64b",
   "metadata": {},
   "outputs": [],
   "source": [
    "with open(\"expertgivennames/AbbreviationMatchResults.pkl\", \"wb\") as handle:\n",
    "    pickle.dump(result_abbreviation, handle, protocol=pickle.HIGHEST_PROTOCOL)"
   ]
  },
  {
   "cell_type": "code",
   "execution_count": null,
   "id": "bcbc1d14",
   "metadata": {},
   "outputs": [],
   "source": [
    "df = pandas.read_pickle(\"expertgivennames/AbbreviationMatchResults.pkl\")\n",
    "df.to_csv(\"expertgivennames/AbbreviationMatchResults.tsv\", sep=\"\\t\", index=True)\n",
    "df.shape"
   ]
  },
  {
   "cell_type": "code",
   "execution_count": null,
   "id": "2b7cec2c",
   "metadata": {},
   "outputs": [],
   "source": [
    "from calculate_result import calculate_result\n",
    "ground_truth = pandas.read_csv(\"ground_truth_16_expertsname.tsv\", sep=\"\\t\", index_col=0)\n",
    "calculate_result(df, ground_truth)"
   ]
  },
  {
   "cell_type": "code",
   "execution_count": null,
   "id": "49fef7db",
   "metadata": {},
   "outputs": [],
   "source": [
    "df"
   ]
  },
  {
   "cell_type": "markdown",
   "id": "32d16a71",
   "metadata": {},
   "source": [
    "# Surname Matching"
   ]
  },
  {
   "cell_type": "code",
   "execution_count": null,
   "id": "c3a06cab",
   "metadata": {},
   "outputs": [],
   "source": [
    "from matchsurname.match_surname import matchLastName\n",
    "result_surname = matchLastName(df1, df2)"
   ]
  },
  {
   "cell_type": "code",
   "execution_count": null,
   "id": "7c074835",
   "metadata": {},
   "outputs": [],
   "source": [
    "with open(\"expertgivennames/SurnameMatchResults.pkl\", \"wb\") as handle:\n",
    "    pickle.dump(result_surname, handle, protocol=pickle.HIGHEST_PROTOCOL)"
   ]
  },
  {
   "cell_type": "code",
   "execution_count": null,
   "id": "371c614c",
   "metadata": {},
   "outputs": [],
   "source": [
    "df = pandas.read_pickle(\"expertgivennames/SurnameMatchResults.pkl\")\n",
    "df.to_csv(\"expertgivennames/SurnameMatchResults.tsv\", sep=\"\\t\", index=True)\n",
    "df.shape"
   ]
  },
  {
   "cell_type": "code",
   "execution_count": null,
   "id": "e2b75035",
   "metadata": {},
   "outputs": [],
   "source": [
    "from calculate_result import calculate_result\n",
    "ground_truth = pandas.read_csv(\"ground_truth_16_expertsname.tsv\", sep=\"\\t\", index_col=0)\n",
    "calculate_result(df, ground_truth)"
   ]
  },
  {
   "cell_type": "code",
   "execution_count": null,
   "id": "93336af5",
   "metadata": {},
   "outputs": [],
   "source": [
    "df"
   ]
  },
  {
   "cell_type": "markdown",
   "id": "6ef8b309",
   "metadata": {},
   "source": [
    "# Fuzzy String Match"
   ]
  },
  {
   "cell_type": "code",
   "execution_count": null,
   "id": "3b891402",
   "metadata": {},
   "outputs": [],
   "source": [
    "from matchfuzzystring.match_fuzzy_string import match_fuzzy_string\n",
    "result_fuzzymatch = match_fuzzy_string(df1, df2, max_score=75)"
   ]
  },
  {
   "cell_type": "code",
   "execution_count": null,
   "id": "acfe6457",
   "metadata": {},
   "outputs": [],
   "source": [
    "with open(\"expertgivennames/FuzzyStringMatchResults.pkl\", \"wb\") as handle:\n",
    "    pickle.dump(result_fuzzymatch, handle, protocol=pickle.HIGHEST_PROTOCOL)"
   ]
  },
  {
   "cell_type": "code",
   "execution_count": null,
   "id": "f316a8dc",
   "metadata": {},
   "outputs": [],
   "source": [
    "df = pandas.read_pickle(\"expertgivennames/FuzzyStringMatchResults.pkl\")\n",
    "df.to_csv(\"expertgivennames/FuzzyStringMatchResults.tsv\", sep=\"\\t\", index=True)\n",
    "df.shape"
   ]
  },
  {
   "cell_type": "code",
   "execution_count": null,
   "id": "b79eedd3",
   "metadata": {},
   "outputs": [],
   "source": [
    "from calculate_result import calculate_result\n",
    "ground_truth = pandas.read_csv(\"ground_truth_16_expertsname.tsv\", sep=\"\\t\", index_col=0)\n",
    "calculate_result(df, ground_truth)"
   ]
  },
  {
   "cell_type": "code",
   "execution_count": null,
   "id": "9a529242",
   "metadata": {},
   "outputs": [],
   "source": [
    "df"
   ]
  },
  {
   "cell_type": "code",
   "execution_count": null,
   "id": "9d0436f9",
   "metadata": {},
   "outputs": [],
   "source": []
  }
 ],
 "metadata": {
  "kernelspec": {
   "display_name": "Python (py39deezy)",
   "language": "python",
   "name": "py39deezy"
  },
  "language_info": {
   "codemirror_mode": {
    "name": "ipython",
    "version": 3
   },
   "file_extension": ".py",
   "mimetype": "text/x-python",
   "name": "python",
   "nbconvert_exporter": "python",
   "pygments_lexer": "ipython3",
   "version": "3.9.12"
  }
 },
 "nbformat": 4,
 "nbformat_minor": 5
}
