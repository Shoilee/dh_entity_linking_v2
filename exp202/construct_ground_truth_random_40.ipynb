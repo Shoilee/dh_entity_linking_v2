{
 "cells": [
  {
   "cell_type": "code",
   "execution_count": 1,
   "id": "25c872e9",
   "metadata": {},
   "outputs": [],
   "source": [
    "import pandas"
   ]
  },
  {
   "cell_type": "code",
   "execution_count": 2,
   "id": "ba327589",
   "metadata": {},
   "outputs": [],
   "source": [
    "# choose random 40 out of all the nmwv constituent names\n",
    "df = pandas.read_csv(\"../nmvw_data/person_names.csv\").sample(n=40, random_state=1 )"
   ]
  },
  {
   "cell_type": "code",
   "execution_count": 3,
   "id": "3af3e7be",
   "metadata": {},
   "outputs": [
    {
     "data": {
      "text/html": [
       "<div>\n",
       "<style scoped>\n",
       "    .dataframe tbody tr th:only-of-type {\n",
       "        vertical-align: middle;\n",
       "    }\n",
       "\n",
       "    .dataframe tbody tr th {\n",
       "        vertical-align: top;\n",
       "    }\n",
       "\n",
       "    .dataframe thead th {\n",
       "        text-align: right;\n",
       "    }\n",
       "</style>\n",
       "<table border=\"1\" class=\"dataframe\">\n",
       "  <thead>\n",
       "    <tr style=\"text-align: right;\">\n",
       "      <th></th>\n",
       "      <th>Unnamed: 0</th>\n",
       "      <th>nmvw_uri</th>\n",
       "      <th>pref_label</th>\n",
       "      <th>birth_begin_time</th>\n",
       "      <th>birth_end_time</th>\n",
       "      <th>death_begin_time</th>\n",
       "      <th>death_end_time</th>\n",
       "    </tr>\n",
       "  </thead>\n",
       "  <tbody>\n",
       "    <tr>\n",
       "      <th>27079</th>\n",
       "      <td>27079</td>\n",
       "      <td>https://hdl.handle.net/20.500.11840/pi32092</td>\n",
       "      <td>R. (Ravi) Shankar</td>\n",
       "      <td>NaN</td>\n",
       "      <td>NaN</td>\n",
       "      <td>NaN</td>\n",
       "      <td>NaN</td>\n",
       "    </tr>\n",
       "    <tr>\n",
       "      <th>25199</th>\n",
       "      <td>25199</td>\n",
       "      <td>https://hdl.handle.net/20.500.11840/pi31639</td>\n",
       "      <td>A. Saavedra</td>\n",
       "      <td>NaN</td>\n",
       "      <td>NaN</td>\n",
       "      <td>NaN</td>\n",
       "      <td>NaN</td>\n",
       "    </tr>\n",
       "    <tr>\n",
       "      <th>35342</th>\n",
       "      <td>35342</td>\n",
       "      <td>https://hdl.handle.net/20.500.11840/pi43485</td>\n",
       "      <td>Yo Boen Kong</td>\n",
       "      <td>NaN</td>\n",
       "      <td>NaN</td>\n",
       "      <td>NaN</td>\n",
       "      <td>NaN</td>\n",
       "    </tr>\n",
       "    <tr>\n",
       "      <th>23094</th>\n",
       "      <td>23094</td>\n",
       "      <td>https://hdl.handle.net/20.500.11840/pi79620</td>\n",
       "      <td>Craig Quintero</td>\n",
       "      <td>NaN</td>\n",
       "      <td>NaN</td>\n",
       "      <td>NaN</td>\n",
       "      <td>NaN</td>\n",
       "    </tr>\n",
       "    <tr>\n",
       "      <th>1228</th>\n",
       "      <td>1228</td>\n",
       "      <td>https://hdl.handle.net/20.500.11840/pi80535</td>\n",
       "      <td>I Djanklik</td>\n",
       "      <td>NaN</td>\n",
       "      <td>NaN</td>\n",
       "      <td>NaN</td>\n",
       "      <td>NaN</td>\n",
       "    </tr>\n",
       "  </tbody>\n",
       "</table>\n",
       "</div>"
      ],
      "text/plain": [
       "       Unnamed: 0                                     nmvw_uri  \\\n",
       "27079       27079  https://hdl.handle.net/20.500.11840/pi32092   \n",
       "25199       25199  https://hdl.handle.net/20.500.11840/pi31639   \n",
       "35342       35342  https://hdl.handle.net/20.500.11840/pi43485   \n",
       "23094       23094  https://hdl.handle.net/20.500.11840/pi79620   \n",
       "1228         1228  https://hdl.handle.net/20.500.11840/pi80535   \n",
       "\n",
       "              pref_label birth_begin_time birth_end_time death_begin_time  \\\n",
       "27079  R. (Ravi) Shankar              NaN            NaN              NaN   \n",
       "25199        A. Saavedra              NaN            NaN              NaN   \n",
       "35342       Yo Boen Kong              NaN            NaN              NaN   \n",
       "23094     Craig Quintero              NaN            NaN              NaN   \n",
       "1228          I Djanklik              NaN            NaN              NaN   \n",
       "\n",
       "      death_end_time  \n",
       "27079            NaN  \n",
       "25199            NaN  \n",
       "35342            NaN  \n",
       "23094            NaN  \n",
       "1228             NaN  "
      ]
     },
     "execution_count": 3,
     "metadata": {},
     "output_type": "execute_result"
    }
   ],
   "source": [
    "df.head()"
   ]
  },
  {
   "cell_type": "code",
   "execution_count": 4,
   "id": "b657fd07",
   "metadata": {},
   "outputs": [],
   "source": [
    "# drop the previous index\n",
    "df = df.drop('Unnamed: 0', axis=1)"
   ]
  },
  {
   "cell_type": "code",
   "execution_count": 5,
   "id": "39056ade",
   "metadata": {},
   "outputs": [],
   "source": [
    "# add new ConstituentID column for bronbeek constituent\n",
    "df = df.assign(ConstituentID= None)"
   ]
  },
  {
   "cell_type": "code",
   "execution_count": 6,
   "id": "7a14357d",
   "metadata": {},
   "outputs": [],
   "source": [
    "df.to_csv(\"ground_truth_random_40.csv\", index = False)"
   ]
  },
  {
   "cell_type": "code",
   "execution_count": null,
   "id": "ea0ceff7",
   "metadata": {},
   "outputs": [],
   "source": []
  }
 ],
 "metadata": {
  "kernelspec": {
   "display_name": "Python (py39deezy)",
   "language": "python",
   "name": "py39deezy"
  },
  "language_info": {
   "codemirror_mode": {
    "name": "ipython",
    "version": 3
   },
   "file_extension": ".py",
   "mimetype": "text/x-python",
   "name": "python",
   "nbconvert_exporter": "python",
   "pygments_lexer": "ipython3",
   "version": "3.9.12"
  }
 },
 "nbformat": 4,
 "nbformat_minor": 5
}
