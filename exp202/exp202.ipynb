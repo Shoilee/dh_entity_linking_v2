{
 "cells": [
  {
   "cell_type": "markdown",
   "id": "12d89fa2",
   "metadata": {},
   "source": [
    "<ul>\n",
    "<li>Task: Given two dataset A and B, find correspondance A--> B, based on determinat variable \n",
    "    ($\\theta$) e.g., 'FullName' or 'surname' <li>\n",
    "<li> Input: A(x1, x2, ...xn) and B(y1, y2, ..., ym) </li>\n",
    "<li> Output: A-->B {(x1-->y1, x2-->y2), ... , (xn-->ym)} </li>\n",
    "    \n",
    "<li> we are looking for n to n relationship </li>\n",
    "</ul>"
   ]
  },
  {
   "cell_type": "code",
   "execution_count": 1,
   "id": "a29137b6",
   "metadata": {},
   "outputs": [],
   "source": [
    "import sys\n",
    "sys.path.append(\"..\") "
   ]
  },
  {
   "cell_type": "code",
   "execution_count": 2,
   "id": "c0d4faca",
   "metadata": {},
   "outputs": [],
   "source": [
    "import pandas, pickle"
   ]
  },
  {
   "cell_type": "markdown",
   "id": "441fbb3c",
   "metadata": {},
   "source": [
    "This script takes into consideration of all the NMVW constituent and all the bronbeek constituent and we are looking for n-to-n match. So, maximum number of possible match could be 39567$\\times$15382!\n",
    "\n",
    "Source --> NMVW (39567)\n",
    "\n",
    "Target --> Bronbeek (15382)"
   ]
  },
  {
   "cell_type": "code",
   "execution_count": 3,
   "id": "9170e8de",
   "metadata": {},
   "outputs": [],
   "source": [
    "df1 = pandas.read_pickle(\"../nmvw_data/person_names.pkl\")\n",
    "df2 = pandas.read_csv(\"../data/bronbeek_constituents.csv\", sep=\";\", index_col=0)"
   ]
  },
  {
   "cell_type": "code",
   "execution_count": 4,
   "id": "9e79737e",
   "metadata": {},
   "outputs": [
    {
     "name": "stdout",
     "output_type": "stream",
     "text": [
      "The shape of NMVW data: (39567, 6)\n",
      "The shape of Bronbeek data: (15382, 36)\n"
     ]
    }
   ],
   "source": [
    "print(f\"The shape of NMVW data: {df1.shape}\")\n",
    "print(f\"The shape of Bronbeek data: {df2.shape}\")"
   ]
  },
  {
   "cell_type": "markdown",
   "id": "fb861fe3",
   "metadata": {},
   "source": [
    "# Exact string matching"
   ]
  },
  {
   "cell_type": "code",
   "execution_count": null,
   "id": "744c721f",
   "metadata": {},
   "outputs": [],
   "source": [
    "from matchexactstring.match_exact_string import matchExactString\n",
    "\n",
    "result_exact = matchExactString(df1, df2)"
   ]
  },
  {
   "cell_type": "code",
   "execution_count": null,
   "id": "fed90ca2",
   "metadata": {},
   "outputs": [],
   "source": [
    "with open(\"results/ExactMatchResults.pkl\", \"wb\") as handle:\n",
    "    pickle.dump(result_exact, handle, protocol=pickle.HIGHEST_PROTOCOL)"
   ]
  },
  {
   "cell_type": "code",
   "execution_count": 6,
   "id": "e0e5ba15",
   "metadata": {},
   "outputs": [
    {
     "data": {
      "text/plain": [
       "(6, 27)"
      ]
     },
     "execution_count": 6,
     "metadata": {},
     "output_type": "execute_result"
    }
   ],
   "source": [
    "df = pandas.read_pickle(\"results/ExactMatchResults.pkl\")\n",
    "df.to_csv(\"results/ExactMatchResults.tsv\", sep=\"\\t\", index=True)\n",
    "df.shape"
   ]
  },
  {
   "cell_type": "markdown",
   "id": "097f7e18",
   "metadata": {},
   "source": [
    "# Abbreviation Matching"
   ]
  },
  {
   "cell_type": "code",
   "execution_count": null,
   "id": "9309cb5d",
   "metadata": {},
   "outputs": [],
   "source": [
    "from matchwithabbreviation.match_with_abbreviation import match_with_abbreviation\n",
    "result_abbreviation = match_with_abbreviation(df1, df2)"
   ]
  },
  {
   "cell_type": "code",
   "execution_count": null,
   "id": "ba72e64b",
   "metadata": {},
   "outputs": [],
   "source": [
    "with open(\"results/AbbreviationMatchResults.pkl\", \"wb\") as handle:\n",
    "    pickle.dump(result_abbreviation, handle, protocol=pickle.HIGHEST_PROTOCOL)"
   ]
  },
  {
   "cell_type": "code",
   "execution_count": 7,
   "id": "bcbc1d14",
   "metadata": {},
   "outputs": [
    {
     "data": {
      "text/plain": [
       "(1219, 43)"
      ]
     },
     "execution_count": 7,
     "metadata": {},
     "output_type": "execute_result"
    }
   ],
   "source": [
    "df = pandas.read_pickle(\"results/AbbreviationMatchResults.pkl\")\n",
    "df.to_csv(\"results/AbbreviationMatchResults.tsv\", sep=\"\\t\", index=True)\n",
    "df.shape"
   ]
  },
  {
   "cell_type": "markdown",
   "id": "32d16a71",
   "metadata": {},
   "source": [
    "# Surname Matching"
   ]
  },
  {
   "cell_type": "code",
   "execution_count": null,
   "id": "c3a06cab",
   "metadata": {},
   "outputs": [],
   "source": [
    "from matchsurname.match_surname import matchLastName\n",
    "result_surname = matchLastName(df1, df2)"
   ]
  },
  {
   "cell_type": "code",
   "execution_count": null,
   "id": "7c074835",
   "metadata": {},
   "outputs": [],
   "source": [
    "with open(\"results/SurnameMatchResults.pkl\", \"wb\") as handle:\n",
    "    pickle.dump(result_surname, handle, protocol=pickle.HIGHEST_PROTOCOL)"
   ]
  },
  {
   "cell_type": "code",
   "execution_count": 8,
   "id": "371c614c",
   "metadata": {},
   "outputs": [
    {
     "data": {
      "text/plain": [
       "(51376, 42)"
      ]
     },
     "execution_count": 8,
     "metadata": {},
     "output_type": "execute_result"
    }
   ],
   "source": [
    "df = pandas.read_pickle(\"results/SurnameMatchResults.pkl\")\n",
    "df.to_csv(\"results/SurnameMatchResults.tsv\", sep=\"\\t\", index=True)\n",
    "df.shape"
   ]
  },
  {
   "cell_type": "markdown",
   "id": "6ef8b309",
   "metadata": {},
   "source": [
    "# Fuzzy String Match"
   ]
  },
  {
   "cell_type": "code",
   "execution_count": null,
   "id": "3b891402",
   "metadata": {},
   "outputs": [],
   "source": [
    "from matchfuzzystring.match_fuzzy_string import match_fuzzy_string\n",
    "result_fuzzymatch = match_fuzzy_string(df1, df2, max_score=75)"
   ]
  },
  {
   "cell_type": "code",
   "execution_count": null,
   "id": "acfe6457",
   "metadata": {},
   "outputs": [],
   "source": [
    "with open(\"results/FuzzyStringMatchResults.pkl\", \"wb\") as handle:\n",
    "    pickle.dump(result_fuzzymatch, handle, protocol=pickle.HIGHEST_PROTOCOL)"
   ]
  },
  {
   "cell_type": "code",
   "execution_count": 9,
   "id": "f316a8dc",
   "metadata": {},
   "outputs": [
    {
     "data": {
      "text/plain": [
       "(1600121, 43)"
      ]
     },
     "execution_count": 9,
     "metadata": {},
     "output_type": "execute_result"
    }
   ],
   "source": [
    "df = pandas.read_pickle(\"results/FuzzyStringMatchResults.pkl\")\n",
    "df.to_csv(\"results/FuzzyStringMatchResults.tsv\", sep=\"\\t\", index=True)\n",
    "df.shape"
   ]
  },
  {
   "cell_type": "code",
   "execution_count": 10,
   "id": "66502084",
   "metadata": {},
   "outputs": [
    {
     "data": {
      "text/html": [
       "<div>\n",
       "<style scoped>\n",
       "    .dataframe tbody tr th:only-of-type {\n",
       "        vertical-align: middle;\n",
       "    }\n",
       "\n",
       "    .dataframe tbody tr th {\n",
       "        vertical-align: top;\n",
       "    }\n",
       "\n",
       "    .dataframe thead th {\n",
       "        text-align: right;\n",
       "    }\n",
       "</style>\n",
       "<table border=\"1\" class=\"dataframe\">\n",
       "  <thead>\n",
       "    <tr style=\"text-align: right;\">\n",
       "      <th></th>\n",
       "      <th>nmvw_uri</th>\n",
       "      <th>pref_label</th>\n",
       "      <th>birth_begin_time</th>\n",
       "      <th>birth_end_time</th>\n",
       "      <th>death_begin_time</th>\n",
       "      <th>death_end_time</th>\n",
       "      <th>score</th>\n",
       "      <th>ConstituentID</th>\n",
       "      <th>ConstituentTypeID</th>\n",
       "      <th>Active</th>\n",
       "      <th>...</th>\n",
       "      <th>Approved</th>\n",
       "      <th>PublicAccess</th>\n",
       "      <th>IsPrivate</th>\n",
       "      <th>DefaultNameID</th>\n",
       "      <th>SystemFlag</th>\n",
       "      <th>InternalStatus</th>\n",
       "      <th>DefaultDisplayBioID</th>\n",
       "      <th>BeginDateISO</th>\n",
       "      <th>EndDateISO</th>\n",
       "      <th>FullName</th>\n",
       "    </tr>\n",
       "  </thead>\n",
       "  <tbody>\n",
       "    <tr>\n",
       "      <th>0</th>\n",
       "      <td>https://hdl.handle.net/20.500.11840/pi49286</td>\n",
       "      <td>Ph. Curtin</td>\n",
       "      <td>None</td>\n",
       "      <td>None</td>\n",
       "      <td>None</td>\n",
       "      <td>None</td>\n",
       "      <td>100</td>\n",
       "      <td>5640</td>\n",
       "      <td>1</td>\n",
       "      <td>0</td>\n",
       "      <td>...</td>\n",
       "      <td>0</td>\n",
       "      <td>0</td>\n",
       "      <td>0</td>\n",
       "      <td>9018</td>\n",
       "      <td>0</td>\n",
       "      <td>0</td>\n",
       "      <td>-1</td>\n",
       "      <td>NaN</td>\n",
       "      <td>NaN</td>\n",
       "      <td>Hugo P</td>\n",
       "    </tr>\n",
       "    <tr>\n",
       "      <th>1</th>\n",
       "      <td>https://hdl.handle.net/20.500.11840/pi49286</td>\n",
       "      <td>Ph. Curtin</td>\n",
       "      <td>None</td>\n",
       "      <td>None</td>\n",
       "      <td>None</td>\n",
       "      <td>None</td>\n",
       "      <td>78</td>\n",
       "      <td>14404</td>\n",
       "      <td>1</td>\n",
       "      <td>0</td>\n",
       "      <td>...</td>\n",
       "      <td>0</td>\n",
       "      <td>0</td>\n",
       "      <td>0</td>\n",
       "      <td>15785</td>\n",
       "      <td>0</td>\n",
       "      <td>0</td>\n",
       "      <td>-1</td>\n",
       "      <td>NaN</td>\n",
       "      <td>NaN</td>\n",
       "      <td>C. Augustijn-Phielix</td>\n",
       "    </tr>\n",
       "    <tr>\n",
       "      <th>2</th>\n",
       "      <td>https://hdl.handle.net/20.500.11840/pi56093</td>\n",
       "      <td>Albrecht, H.</td>\n",
       "      <td>None</td>\n",
       "      <td>None</td>\n",
       "      <td>None</td>\n",
       "      <td>None</td>\n",
       "      <td>100</td>\n",
       "      <td>1077</td>\n",
       "      <td>1</td>\n",
       "      <td>0</td>\n",
       "      <td>...</td>\n",
       "      <td>0</td>\n",
       "      <td>0</td>\n",
       "      <td>0</td>\n",
       "      <td>1387</td>\n",
       "      <td>0</td>\n",
       "      <td>0</td>\n",
       "      <td>-1</td>\n",
       "      <td>NaN</td>\n",
       "      <td>NaN</td>\n",
       "      <td>R.N. Bär</td>\n",
       "    </tr>\n",
       "    <tr>\n",
       "      <th>3</th>\n",
       "      <td>https://hdl.handle.net/20.500.11840/pi56093</td>\n",
       "      <td>Albrecht, H.</td>\n",
       "      <td>None</td>\n",
       "      <td>None</td>\n",
       "      <td>None</td>\n",
       "      <td>None</td>\n",
       "      <td>100</td>\n",
       "      <td>1078</td>\n",
       "      <td>0</td>\n",
       "      <td>0</td>\n",
       "      <td>...</td>\n",
       "      <td>0</td>\n",
       "      <td>0</td>\n",
       "      <td>0</td>\n",
       "      <td>1386</td>\n",
       "      <td>0</td>\n",
       "      <td>0</td>\n",
       "      <td>-1</td>\n",
       "      <td>NaN</td>\n",
       "      <td>NaN</td>\n",
       "      <td>NaN</td>\n",
       "    </tr>\n",
       "    <tr>\n",
       "      <th>4</th>\n",
       "      <td>https://hdl.handle.net/20.500.11840/pi56093</td>\n",
       "      <td>Albrecht, H.</td>\n",
       "      <td>None</td>\n",
       "      <td>None</td>\n",
       "      <td>None</td>\n",
       "      <td>None</td>\n",
       "      <td>100</td>\n",
       "      <td>3601</td>\n",
       "      <td>1</td>\n",
       "      <td>0</td>\n",
       "      <td>...</td>\n",
       "      <td>0</td>\n",
       "      <td>0</td>\n",
       "      <td>0</td>\n",
       "      <td>1047</td>\n",
       "      <td>0</td>\n",
       "      <td>0</td>\n",
       "      <td>-1</td>\n",
       "      <td>NaN</td>\n",
       "      <td>NaN</td>\n",
       "      <td>NaN</td>\n",
       "    </tr>\n",
       "  </tbody>\n",
       "</table>\n",
       "<p>5 rows × 43 columns</p>\n",
       "</div>"
      ],
      "text/plain": [
       "                                      nmvw_uri    pref_label birth_begin_time  \\\n",
       "0  https://hdl.handle.net/20.500.11840/pi49286    Ph. Curtin             None   \n",
       "1  https://hdl.handle.net/20.500.11840/pi49286    Ph. Curtin             None   \n",
       "2  https://hdl.handle.net/20.500.11840/pi56093  Albrecht, H.             None   \n",
       "3  https://hdl.handle.net/20.500.11840/pi56093  Albrecht, H.             None   \n",
       "4  https://hdl.handle.net/20.500.11840/pi56093  Albrecht, H.             None   \n",
       "\n",
       "  birth_end_time death_begin_time death_end_time score ConstituentID  \\\n",
       "0           None             None           None   100          5640   \n",
       "1           None             None           None    78         14404   \n",
       "2           None             None           None   100          1077   \n",
       "3           None             None           None   100          1078   \n",
       "4           None             None           None   100          3601   \n",
       "\n",
       "  ConstituentTypeID Active  ... Approved PublicAccess IsPrivate DefaultNameID  \\\n",
       "0                 1      0  ...        0            0         0          9018   \n",
       "1                 1      0  ...        0            0         0         15785   \n",
       "2                 1      0  ...        0            0         0          1387   \n",
       "3                 0      0  ...        0            0         0          1386   \n",
       "4                 1      0  ...        0            0         0          1047   \n",
       "\n",
       "  SystemFlag InternalStatus DefaultDisplayBioID BeginDateISO EndDateISO  \\\n",
       "0          0              0                  -1          NaN        NaN   \n",
       "1          0              0                  -1          NaN        NaN   \n",
       "2          0              0                  -1          NaN        NaN   \n",
       "3          0              0                  -1          NaN        NaN   \n",
       "4          0              0                  -1          NaN        NaN   \n",
       "\n",
       "               FullName  \n",
       "0                Hugo P  \n",
       "1  C. Augustijn-Phielix  \n",
       "2              R.N. Bär  \n",
       "3                   NaN  \n",
       "4                   NaN  \n",
       "\n",
       "[5 rows x 43 columns]"
      ]
     },
     "execution_count": 10,
     "metadata": {},
     "output_type": "execute_result"
    }
   ],
   "source": [
    "df.head()"
   ]
  },
  {
   "cell_type": "markdown",
   "id": "1d3bdf68",
   "metadata": {},
   "source": [
    "Evaluation on the 16 expert given name can be found [here](evaluation.ipynb)"
   ]
  }
 ],
 "metadata": {
  "kernelspec": {
   "display_name": "Python (py39deezy)",
   "language": "python",
   "name": "py39deezy"
  },
  "language_info": {
   "codemirror_mode": {
    "name": "ipython",
    "version": 3
   },
   "file_extension": ".py",
   "mimetype": "text/x-python",
   "name": "python",
   "nbconvert_exporter": "python",
   "pygments_lexer": "ipython3",
   "version": "3.9.12"
  }
 },
 "nbformat": 4,
 "nbformat_minor": 5
}
