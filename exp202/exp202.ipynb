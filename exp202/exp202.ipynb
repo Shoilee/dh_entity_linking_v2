{
 "cells": [
  {
   "cell_type": "markdown",
   "id": "761b2df7",
   "metadata": {},
   "source": [
    "<ul>\n",
    "<li>Task: Given two dataset A and B, find correspondance A--> B, based on determinat variable \n",
    "    ($\\theta$) e.g., 'FullName' or 'surname' <li>\n",
    "<li> Input: A(x1, x2, ...xn) and B(y1, y2, ..., ym) </li>\n",
    "<li> Output: A-->B {(x1-->y1, x2-->y2), ... , (xn-->ym)} </li>\n",
    "<li> we are looking for n to n relationship </li>\n",
    "</ul>"
   ]
  },
  {
   "cell_type": "code",
   "execution_count": 1,
   "id": "37049d3b",
   "metadata": {},
   "outputs": [],
   "source": [
    "import sys\n",
    "sys.path.append(\"..\") "
   ]
  },
  {
   "cell_type": "code",
   "execution_count": 2,
   "id": "f34cfd29",
   "metadata": {},
   "outputs": [],
   "source": [
    "import pandas, pickle"
   ]
  },
  {
   "cell_type": "markdown",
   "id": "536fe4bb",
   "metadata": {},
   "source": [
    "Source --> NMVW\n",
    "\n",
    "Target --> Bronbeek"
   ]
  },
  {
   "cell_type": "code",
   "execution_count": null,
   "id": "2e732478",
   "metadata": {},
   "outputs": [],
   "source": [
    "df1 = pandas.read_pickle(\"../nmvw_data/person_names.pkl\")\n",
    "df2 = pandas.read_csv(\"../data/bronbeek_constituents.csv\", sep=\";\", index_col=0)"
   ]
  },
  {
   "cell_type": "markdown",
   "id": "90ca5fd9",
   "metadata": {},
   "source": [
    "# Exact string matching"
   ]
  },
  {
   "cell_type": "code",
   "execution_count": null,
   "id": "949c2db3",
   "metadata": {},
   "outputs": [],
   "source": [
    "from matchexactstring.match_exact_string import matchExactString\n",
    "\n",
    "result_exact = matchExactString(df1, df2)"
   ]
  },
  {
   "cell_type": "code",
   "execution_count": null,
   "id": "c92d0b69",
   "metadata": {},
   "outputs": [],
   "source": [
    "with open(\"results/ExactMatchResults.pkl\", \"wb\") as handle:\n",
    "    pickle.dump(result_exact, handle, protocol=pickle.HIGHEST_PROTOCOL)"
   ]
  },
  {
   "cell_type": "code",
   "execution_count": null,
   "id": "9e5f5673",
   "metadata": {},
   "outputs": [],
   "source": [
    "df = pandas.read_pickle(\"results/ExactMatchResults.pkl\")"
   ]
  },
  {
   "cell_type": "markdown",
   "id": "a8d465cc",
   "metadata": {},
   "source": [
    "# Surname Matching"
   ]
  },
  {
   "cell_type": "code",
   "execution_count": null,
   "id": "f31b8729",
   "metadata": {},
   "outputs": [],
   "source": [
    "from matchsurname.match_surname import matchLastName\n",
    "result_surname = matchLastName(df1, df2)"
   ]
  },
  {
   "cell_type": "code",
   "execution_count": null,
   "id": "809e51ff",
   "metadata": {},
   "outputs": [],
   "source": [
    "with open(\"results/SurnameMatchResults.pkl\", \"wb\") as handle:\n",
    "    pickle.dump(result_surname, handle, protocol=pickle.HIGHEST_PROTOCOL)"
   ]
  },
  {
   "cell_type": "code",
   "execution_count": null,
   "id": "eae7b42d",
   "metadata": {},
   "outputs": [],
   "source": [
    "df = pandas.read_pickle(\"results/SurnameMatchResults.pkl\")"
   ]
  },
  {
   "cell_type": "code",
   "execution_count": null,
   "id": "622fcea7",
   "metadata": {},
   "outputs": [],
   "source": [
    "df"
   ]
  },
  {
   "cell_type": "markdown",
   "id": "754d61fd",
   "metadata": {},
   "source": [
    "# Abbreviation Matching"
   ]
  },
  {
   "cell_type": "code",
   "execution_count": 4,
   "id": "25d5223e",
   "metadata": {},
   "outputs": [
    {
     "name": "stdout",
     "output_type": "stream",
     "text": [
      "32 workers are available\n"
     ]
    }
   ],
   "source": [
    "from matchwithabbreviation.match_with_abbreviation import match_with_abbreviation\n",
    "result_abbreviation = match_with_abbreviation(df1, df2)"
   ]
  },
  {
   "cell_type": "code",
   "execution_count": 5,
   "id": "1c8ac18a",
   "metadata": {},
   "outputs": [],
   "source": [
    "with open(\"results/bronbeekToNmvwAbbreviationMatchResults.pkl\", \"wb\") as handle:\n",
    "    pickle.dump(result_abbreviation, handle, protocol=pickle.HIGHEST_PROTOCOL)"
   ]
  },
  {
   "cell_type": "code",
   "execution_count": 6,
   "id": "fc8dca01",
   "metadata": {},
   "outputs": [],
   "source": [
    "df = pandas.read_pickle(\"results/bronbeekToNmvwAbbreviationMatchResults.pkl\")"
   ]
  },
  {
   "cell_type": "markdown",
   "id": "0cc51825",
   "metadata": {},
   "source": [
    "### Evaluation"
   ]
  },
  {
   "cell_type": "markdown",
   "id": "8122d8c7",
   "metadata": {},
   "source": [
    "Evaluation: precision and recall on [!ground_truth_16_expertsname.tsv](ground_truth_16_expertsname.tsv)"
   ]
  },
  {
   "cell_type": "code",
   "execution_count": 3,
   "id": "60517639",
   "metadata": {},
   "outputs": [],
   "source": [
    "df1 = pandas.read_csv(\"ground_truth_temp_expertsname.tsv\", sep=\"\\t\", index_col=0).iloc[:, 0:6]\n",
    "df2 = pandas.read_csv(\"ground_truth_temp_expertsname.tsv\", sep=\"\\t\", index_col=0).iloc[:, 5:]"
   ]
  },
  {
   "cell_type": "code",
   "execution_count": null,
   "id": "31fe0740",
   "metadata": {},
   "outputs": [],
   "source": []
  }
 ],
 "metadata": {
  "kernelspec": {
   "display_name": "Python (py39deezy)",
   "language": "python",
   "name": "py39deezy"
  },
  "language_info": {
   "codemirror_mode": {
    "name": "ipython",
    "version": 3
   },
   "file_extension": ".py",
   "mimetype": "text/x-python",
   "name": "python",
   "nbconvert_exporter": "python",
   "pygments_lexer": "ipython3",
   "version": "3.9.12"
  }
 },
 "nbformat": 4,
 "nbformat_minor": 5
}
